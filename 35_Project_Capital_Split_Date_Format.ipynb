{
  "nbformat": 4,
  "nbformat_minor": 0,
  "metadata": {
    "colab": {
      "provenance": [],
      "include_colab_link": true
    },
    "kernelspec": {
      "name": "python3",
      "display_name": "Python 3"
    }
  },
  "cells": [
    {
      "cell_type": "markdown",
      "metadata": {
        "id": "view-in-github",
        "colab_type": "text"
      },
      "source": [
        "<a href=\"https://colab.research.google.com/github/crazygovind/AI-Foundation-Whitehat-Jr/blob/master/35_Project_Capital_Split_Date_Format.ipynb\" target=\"_parent\"><img src=\"https://colab.research.google.com/assets/colab-badge.svg\" alt=\"Open In Colab\"/></a>"
      ]
    },
    {
      "cell_type": "markdown",
      "metadata": {
        "id": "YZnBY81YDCCr"
      },
      "source": [
        "### Instructions"
      ]
    },
    {
      "cell_type": "markdown",
      "metadata": {
        "id": "fIKnY8occu37"
      },
      "source": [
        "#### Goal of the Project\n",
        "\n",
        "This project is designed for you to practice and solve the activities that are based on the concepts covered in the following lessons:\n",
        "\n",
        "1. String Operations\n",
        "\n",
        "\n"
      ]
    },
    {
      "cell_type": "markdown",
      "metadata": {
        "id": "BBqkpH4_Doqe"
      },
      "source": [
        "---"
      ]
    },
    {
      "cell_type": "markdown",
      "metadata": {
        "id": "H0P9F3DUf8x2"
      },
      "source": [
        "### Activities\n",
        "\n",
        "\n",
        "  "
      ]
    },
    {
      "cell_type": "markdown",
      "metadata": {
        "id": "BVT9G_baB1aq"
      },
      "source": [
        "#### Activity 1: Capital Split\n",
        "\n",
        "Create a function (let's say `cap_space()`) which adds spaces before every capital letter in the word. Uncapitalize the whole string afterwards.\n",
        "\n",
        "**Constraint:**\n",
        "\n",
        "- The first letter will stay uncapitalized.\n",
        "\n",
        "**Examples:**\n",
        "```\n",
        "1. cap_space(\"helloWorld\") ➞ \"hello world\"\n",
        "\n",
        "2. cap_space(\"iLoveMyTeapot\") ➞ \"i love my teapot\"\n",
        "\n",
        "3. cap_space(\"stayIndoors\") ➞ \"stay indoors\"\n",
        "```\n",
        "\n",
        "**Hint:** Use `isupper()` and `lower()` functions.\n",
        "\n",
        "\n"
      ]
    },
    {
      "cell_type": "code",
      "metadata": {
        "id": "0pIGxKG9B3mb",
        "colab": {
          "base_uri": "https://localhost:8080/"
        },
        "outputId": "8d913cce-0208-4d81-ab4d-5eabb46a86ba"
      },
      "source": [
        "# Write your solution here\n",
        "def cap_space(word):\n",
        "  new_text = ''\n",
        "  for i,letter in enumerate(word):\n",
        "    if i and letter.isupper():\n",
        "        new_text += ' '\n",
        "\n",
        "    new_text += letter\n",
        "    new_text=new_text.lower()\n",
        "  print(new_text)\n",
        "\n",
        "word='stayIndoors'\n",
        "cap_space(word)"
      ],
      "execution_count": null,
      "outputs": [
        {
          "output_type": "stream",
          "name": "stdout",
          "text": [
            "stay indoors\n"
          ]
        }
      ]
    },
    {
      "cell_type": "markdown",
      "metadata": {
        "id": "IJIZASayCpEW"
      },
      "source": [
        "---"
      ]
    },
    {
      "cell_type": "markdown",
      "metadata": {
        "id": "5kBinzKxn3hd"
      },
      "source": [
        "#### Activity 2: Date Format\n",
        "\n",
        "Create a function that converts a date formatted as `MM/DD/YYYY` to `YYYYDDMM`.\n",
        "\n",
        "**Notes**:\n",
        "\n",
        "Return value should be a string.\n",
        "\n",
        "**Examples**\n",
        "```\n",
        "format_date(\"11/12/2019\") ➞ \"20191211\"\n",
        "\n",
        "format_date(\"12/31/2019\") ➞ \"20193112\"\n",
        "\n",
        "format_date(\"01/15/2019\") ➞ \"20191501\"\n",
        "```\n",
        "**Hint:** Use `split()`and `join()` functions."
      ]
    },
    {
      "cell_type": "code",
      "metadata": {
        "id": "4gjDvOhzn6TL",
        "colab": {
          "base_uri": "https://localhost:8080/"
        },
        "outputId": "9810241f-4573-4107-ea7f-f89f3da02bf9"
      },
      "source": [
        "# Write your solution here\n",
        "def date(date):\n",
        "  date=list(date)\n",
        "  x=date[6]+date[7]+date[8]+date[9]+date[3]+date[4]+date[0]+date[1]\n",
        "  print(x)\n",
        "date('11/12/2019')"
      ],
      "execution_count": null,
      "outputs": [
        {
          "output_type": "stream",
          "name": "stdout",
          "text": [
            "20191211\n"
          ]
        }
      ]
    },
    {
      "cell_type": "markdown",
      "metadata": {
        "id": "MWkPEALQn-lN"
      },
      "source": [
        "---"
      ]
    }
  ]
}