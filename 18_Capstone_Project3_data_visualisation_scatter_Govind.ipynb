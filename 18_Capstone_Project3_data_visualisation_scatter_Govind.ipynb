{
  "nbformat": 4,
  "nbformat_minor": 0,
  "metadata": {
    "colab": {
      "provenance": [],
      "collapsed_sections": [],
      "include_colab_link": true
    },
    "kernelspec": {
      "name": "python3",
      "display_name": "Python 3"
    }
  },
  "cells": [
    {
      "cell_type": "markdown",
      "metadata": {
        "id": "view-in-github",
        "colab_type": "text"
      },
      "source": [
        "<a href=\"https://colab.research.google.com/github/crazygovind/AI-Foundation-Whitehat-Jr/blob/master/18_Capstone_Project3_data_visualisation_scatter_Govind.ipynb\" target=\"_parent\"><img src=\"https://colab.research.google.com/assets/colab-badge.svg\" alt=\"Open In Colab\"/></a>"
      ]
    },
    {
      "cell_type": "markdown",
      "metadata": {
        "id": "zVCE_Pjc2nFj"
      },
      "source": [
        "# Capstone Project 3: Data Visualisation"
      ]
    },
    {
      "cell_type": "markdown",
      "metadata": {
        "id": "57AkT4b-2qsQ"
      },
      "source": [
        "### Overview\n",
        "\n",
        "In this project, you have to create a DataFrame for a synthesized dataset and perform some basic mathematical operations before on the dataset provided to you before you get your hands dirty on a real-life dataset in the subsequent classes.\n"
      ]
    },
    {
      "cell_type": "markdown",
      "metadata": {
        "id": "OYcXE-FyCBVu"
      },
      "source": [
        "---"
      ]
    },
    {
      "cell_type": "markdown",
      "metadata": {
        "id": "O1Md2QaOm5mD"
      },
      "source": [
        "### Project Requirements\n",
        "\n",
        "For this project, you have to do the following tasks:\n",
        "\n",
        "1. Create a DataFrame for a `csv` file which is available at the link: \n",
        "\n",
        "  https://s3-student-datasets-bucket.whjr.online/whitehat-ds-datasets/project-3/sample_csv_file.csv\n",
        "\n",
        "2. Display the first 5 rows of the DataFrame.\n",
        "\n",
        "3. Display the last 5 rows of the DataFrame. \n",
        "\n",
        "4. Find the number of rows and columns.\n",
        "\n",
        "5. Check for the missing values in the DataFrame.\n",
        "\n",
        "6. Create a scatter plot and a line plot between:\n",
        "  \n",
        "  - `y` and `x1`\n",
        "  \n",
        "  - `y` and `x2`\n",
        "  \n",
        "  - `y` and `x3`\n",
        "  \n",
        "  - `y` and `x4`\n",
        "  \n",
        "  - `y` and `2 * x1 + 3 * x2 + 4 * x3 + 5 * x4`\n",
        "  \n",
        "  such that the `y` values are plotted on the horizontal axis and `x1, x2, x3, 4` values are plotted on the vertical axis."
      ]
    },
    {
      "cell_type": "markdown",
      "metadata": {
        "id": "4JHqbf0Jsqnu"
      },
      "source": [
        "---"
      ]
    },
    {
      "cell_type": "markdown",
      "metadata": {
        "id": "a0APEzMjsr59"
      },
      "source": [
        "#### 1. Create a DataFrame\n",
        "\n",
        "Import the required modules. Create a DataFrame for the dataset for this project and store it in the `df` variable. Here's the link to the dataset:\n",
        "\n",
        "https://s3-student-datasets-bucket.whjr.online/whitehat-ds-datasets/project-3/sample_csv_file.csv"
      ]
    },
    {
      "cell_type": "code",
      "metadata": {
        "id": "7ELK9uLOKgUF"
      },
      "source": [
        "# Load the Dataset from the given link of the csv file\n",
        "# Import the 'pandas' and 'matplotlib.pyplot' modules\n",
        "import pandas as pd\n",
        "import matplotlib.pyplot as plt\n",
        "# Create the DataFrame using the 'read_csv()' function of the pandas module and store it in the 'df' variable\n",
        "df=pd.read_csv('https://s3-student-datasets-bucket.whjr.online/whitehat-ds-datasets/project-3/sample_csv_file.csv')"
      ],
      "execution_count": 1,
      "outputs": []
    },
    {
      "cell_type": "markdown",
      "metadata": {
        "id": "9TcWLR-EtAL5"
      },
      "source": [
        "---"
      ]
    },
    {
      "cell_type": "markdown",
      "metadata": {
        "id": "YknhZf9ktBLZ"
      },
      "source": [
        "#### 2. Display The First 5 Rows\n",
        "\n",
        "Here you have to display the first five rows of the `df` DataFrame."
      ]
    },
    {
      "cell_type": "code",
      "metadata": {
        "id": "lLJ6ItnzRJgS",
        "colab": {
          "base_uri": "https://localhost:8080/",
          "height": 206
        },
        "outputId": "996082d0-f781-4483-fcc0-fbe3f3522778"
      },
      "source": [
        "# Display the first 5 rows using the 'head()' function\n",
        "df.head()"
      ],
      "execution_count": 2,
      "outputs": [
        {
          "output_type": "execute_result",
          "data": {
            "text/plain": [
              "   y  x1  x2        x3        x4\n",
              "0  1   1   1  0.000000  0.841471\n",
              "1  2   2   4  0.693147  0.909297\n",
              "2  3   3   9  1.098612  0.141120\n",
              "3  4   4  16  1.386294 -0.756802\n",
              "4  5   5  25  1.609438 -0.958924"
            ],
            "text/html": [
              "\n",
              "  <div id=\"df-8eb2ee8a-7f6e-452c-84f5-99b1f3f15a1c\">\n",
              "    <div class=\"colab-df-container\">\n",
              "      <div>\n",
              "<style scoped>\n",
              "    .dataframe tbody tr th:only-of-type {\n",
              "        vertical-align: middle;\n",
              "    }\n",
              "\n",
              "    .dataframe tbody tr th {\n",
              "        vertical-align: top;\n",
              "    }\n",
              "\n",
              "    .dataframe thead th {\n",
              "        text-align: right;\n",
              "    }\n",
              "</style>\n",
              "<table border=\"1\" class=\"dataframe\">\n",
              "  <thead>\n",
              "    <tr style=\"text-align: right;\">\n",
              "      <th></th>\n",
              "      <th>y</th>\n",
              "      <th>x1</th>\n",
              "      <th>x2</th>\n",
              "      <th>x3</th>\n",
              "      <th>x4</th>\n",
              "    </tr>\n",
              "  </thead>\n",
              "  <tbody>\n",
              "    <tr>\n",
              "      <th>0</th>\n",
              "      <td>1</td>\n",
              "      <td>1</td>\n",
              "      <td>1</td>\n",
              "      <td>0.000000</td>\n",
              "      <td>0.841471</td>\n",
              "    </tr>\n",
              "    <tr>\n",
              "      <th>1</th>\n",
              "      <td>2</td>\n",
              "      <td>2</td>\n",
              "      <td>4</td>\n",
              "      <td>0.693147</td>\n",
              "      <td>0.909297</td>\n",
              "    </tr>\n",
              "    <tr>\n",
              "      <th>2</th>\n",
              "      <td>3</td>\n",
              "      <td>3</td>\n",
              "      <td>9</td>\n",
              "      <td>1.098612</td>\n",
              "      <td>0.141120</td>\n",
              "    </tr>\n",
              "    <tr>\n",
              "      <th>3</th>\n",
              "      <td>4</td>\n",
              "      <td>4</td>\n",
              "      <td>16</td>\n",
              "      <td>1.386294</td>\n",
              "      <td>-0.756802</td>\n",
              "    </tr>\n",
              "    <tr>\n",
              "      <th>4</th>\n",
              "      <td>5</td>\n",
              "      <td>5</td>\n",
              "      <td>25</td>\n",
              "      <td>1.609438</td>\n",
              "      <td>-0.958924</td>\n",
              "    </tr>\n",
              "  </tbody>\n",
              "</table>\n",
              "</div>\n",
              "      <button class=\"colab-df-convert\" onclick=\"convertToInteractive('df-8eb2ee8a-7f6e-452c-84f5-99b1f3f15a1c')\"\n",
              "              title=\"Convert this dataframe to an interactive table.\"\n",
              "              style=\"display:none;\">\n",
              "        \n",
              "  <svg xmlns=\"http://www.w3.org/2000/svg\" height=\"24px\"viewBox=\"0 0 24 24\"\n",
              "       width=\"24px\">\n",
              "    <path d=\"M0 0h24v24H0V0z\" fill=\"none\"/>\n",
              "    <path d=\"M18.56 5.44l.94 2.06.94-2.06 2.06-.94-2.06-.94-.94-2.06-.94 2.06-2.06.94zm-11 1L8.5 8.5l.94-2.06 2.06-.94-2.06-.94L8.5 2.5l-.94 2.06-2.06.94zm10 10l.94 2.06.94-2.06 2.06-.94-2.06-.94-.94-2.06-.94 2.06-2.06.94z\"/><path d=\"M17.41 7.96l-1.37-1.37c-.4-.4-.92-.59-1.43-.59-.52 0-1.04.2-1.43.59L10.3 9.45l-7.72 7.72c-.78.78-.78 2.05 0 2.83L4 21.41c.39.39.9.59 1.41.59.51 0 1.02-.2 1.41-.59l7.78-7.78 2.81-2.81c.8-.78.8-2.07 0-2.86zM5.41 20L4 18.59l7.72-7.72 1.47 1.35L5.41 20z\"/>\n",
              "  </svg>\n",
              "      </button>\n",
              "      \n",
              "  <style>\n",
              "    .colab-df-container {\n",
              "      display:flex;\n",
              "      flex-wrap:wrap;\n",
              "      gap: 12px;\n",
              "    }\n",
              "\n",
              "    .colab-df-convert {\n",
              "      background-color: #E8F0FE;\n",
              "      border: none;\n",
              "      border-radius: 50%;\n",
              "      cursor: pointer;\n",
              "      display: none;\n",
              "      fill: #1967D2;\n",
              "      height: 32px;\n",
              "      padding: 0 0 0 0;\n",
              "      width: 32px;\n",
              "    }\n",
              "\n",
              "    .colab-df-convert:hover {\n",
              "      background-color: #E2EBFA;\n",
              "      box-shadow: 0px 1px 2px rgba(60, 64, 67, 0.3), 0px 1px 3px 1px rgba(60, 64, 67, 0.15);\n",
              "      fill: #174EA6;\n",
              "    }\n",
              "\n",
              "    [theme=dark] .colab-df-convert {\n",
              "      background-color: #3B4455;\n",
              "      fill: #D2E3FC;\n",
              "    }\n",
              "\n",
              "    [theme=dark] .colab-df-convert:hover {\n",
              "      background-color: #434B5C;\n",
              "      box-shadow: 0px 1px 3px 1px rgba(0, 0, 0, 0.15);\n",
              "      filter: drop-shadow(0px 1px 2px rgba(0, 0, 0, 0.3));\n",
              "      fill: #FFFFFF;\n",
              "    }\n",
              "  </style>\n",
              "\n",
              "      <script>\n",
              "        const buttonEl =\n",
              "          document.querySelector('#df-8eb2ee8a-7f6e-452c-84f5-99b1f3f15a1c button.colab-df-convert');\n",
              "        buttonEl.style.display =\n",
              "          google.colab.kernel.accessAllowed ? 'block' : 'none';\n",
              "\n",
              "        async function convertToInteractive(key) {\n",
              "          const element = document.querySelector('#df-8eb2ee8a-7f6e-452c-84f5-99b1f3f15a1c');\n",
              "          const dataTable =\n",
              "            await google.colab.kernel.invokeFunction('convertToInteractive',\n",
              "                                                     [key], {});\n",
              "          if (!dataTable) return;\n",
              "\n",
              "          const docLinkHtml = 'Like what you see? Visit the ' +\n",
              "            '<a target=\"_blank\" href=https://colab.research.google.com/notebooks/data_table.ipynb>data table notebook</a>'\n",
              "            + ' to learn more about interactive tables.';\n",
              "          element.innerHTML = '';\n",
              "          dataTable['output_type'] = 'display_data';\n",
              "          await google.colab.output.renderOutput(dataTable, element);\n",
              "          const docLink = document.createElement('div');\n",
              "          docLink.innerHTML = docLinkHtml;\n",
              "          element.appendChild(docLink);\n",
              "        }\n",
              "      </script>\n",
              "    </div>\n",
              "  </div>\n",
              "  "
            ]
          },
          "metadata": {},
          "execution_count": 2
        }
      ]
    },
    {
      "cell_type": "markdown",
      "metadata": {
        "id": "77w83-ortGY8"
      },
      "source": [
        "---"
      ]
    },
    {
      "cell_type": "markdown",
      "metadata": {
        "id": "836Zdss_tOPi"
      },
      "source": [
        "#### 3. Display The Last 5 Rows\n",
        "\n",
        "Here you have to display the last five rows of the `df` DataFrame."
      ]
    },
    {
      "cell_type": "code",
      "metadata": {
        "id": "__DRgc_pPJau",
        "colab": {
          "base_uri": "https://localhost:8080/",
          "height": 206
        },
        "outputId": "6081e781-66f2-4d52-ec05-c05c31339428"
      },
      "source": [
        "# Display the last 5 rows using the 'tail()' function\n",
        "df.tail()"
      ],
      "execution_count": 3,
      "outputs": [
        {
          "output_type": "execute_result",
          "data": {
            "text/plain": [
              "       y   x1      x2        x3        x4\n",
              "494  495  495  245025  6.204558 -0.980234\n",
              "495  496  496  246016  6.206576 -0.363143\n",
              "496  497  497  247009  6.208590  0.587819\n",
              "497  498  498  248004  6.210600  0.998344\n",
              "498  499  499  249001  6.212606  0.490995"
            ],
            "text/html": [
              "\n",
              "  <div id=\"df-321c0e19-6cfa-4d8f-9741-8b1be3103386\">\n",
              "    <div class=\"colab-df-container\">\n",
              "      <div>\n",
              "<style scoped>\n",
              "    .dataframe tbody tr th:only-of-type {\n",
              "        vertical-align: middle;\n",
              "    }\n",
              "\n",
              "    .dataframe tbody tr th {\n",
              "        vertical-align: top;\n",
              "    }\n",
              "\n",
              "    .dataframe thead th {\n",
              "        text-align: right;\n",
              "    }\n",
              "</style>\n",
              "<table border=\"1\" class=\"dataframe\">\n",
              "  <thead>\n",
              "    <tr style=\"text-align: right;\">\n",
              "      <th></th>\n",
              "      <th>y</th>\n",
              "      <th>x1</th>\n",
              "      <th>x2</th>\n",
              "      <th>x3</th>\n",
              "      <th>x4</th>\n",
              "    </tr>\n",
              "  </thead>\n",
              "  <tbody>\n",
              "    <tr>\n",
              "      <th>494</th>\n",
              "      <td>495</td>\n",
              "      <td>495</td>\n",
              "      <td>245025</td>\n",
              "      <td>6.204558</td>\n",
              "      <td>-0.980234</td>\n",
              "    </tr>\n",
              "    <tr>\n",
              "      <th>495</th>\n",
              "      <td>496</td>\n",
              "      <td>496</td>\n",
              "      <td>246016</td>\n",
              "      <td>6.206576</td>\n",
              "      <td>-0.363143</td>\n",
              "    </tr>\n",
              "    <tr>\n",
              "      <th>496</th>\n",
              "      <td>497</td>\n",
              "      <td>497</td>\n",
              "      <td>247009</td>\n",
              "      <td>6.208590</td>\n",
              "      <td>0.587819</td>\n",
              "    </tr>\n",
              "    <tr>\n",
              "      <th>497</th>\n",
              "      <td>498</td>\n",
              "      <td>498</td>\n",
              "      <td>248004</td>\n",
              "      <td>6.210600</td>\n",
              "      <td>0.998344</td>\n",
              "    </tr>\n",
              "    <tr>\n",
              "      <th>498</th>\n",
              "      <td>499</td>\n",
              "      <td>499</td>\n",
              "      <td>249001</td>\n",
              "      <td>6.212606</td>\n",
              "      <td>0.490995</td>\n",
              "    </tr>\n",
              "  </tbody>\n",
              "</table>\n",
              "</div>\n",
              "      <button class=\"colab-df-convert\" onclick=\"convertToInteractive('df-321c0e19-6cfa-4d8f-9741-8b1be3103386')\"\n",
              "              title=\"Convert this dataframe to an interactive table.\"\n",
              "              style=\"display:none;\">\n",
              "        \n",
              "  <svg xmlns=\"http://www.w3.org/2000/svg\" height=\"24px\"viewBox=\"0 0 24 24\"\n",
              "       width=\"24px\">\n",
              "    <path d=\"M0 0h24v24H0V0z\" fill=\"none\"/>\n",
              "    <path d=\"M18.56 5.44l.94 2.06.94-2.06 2.06-.94-2.06-.94-.94-2.06-.94 2.06-2.06.94zm-11 1L8.5 8.5l.94-2.06 2.06-.94-2.06-.94L8.5 2.5l-.94 2.06-2.06.94zm10 10l.94 2.06.94-2.06 2.06-.94-2.06-.94-.94-2.06-.94 2.06-2.06.94z\"/><path d=\"M17.41 7.96l-1.37-1.37c-.4-.4-.92-.59-1.43-.59-.52 0-1.04.2-1.43.59L10.3 9.45l-7.72 7.72c-.78.78-.78 2.05 0 2.83L4 21.41c.39.39.9.59 1.41.59.51 0 1.02-.2 1.41-.59l7.78-7.78 2.81-2.81c.8-.78.8-2.07 0-2.86zM5.41 20L4 18.59l7.72-7.72 1.47 1.35L5.41 20z\"/>\n",
              "  </svg>\n",
              "      </button>\n",
              "      \n",
              "  <style>\n",
              "    .colab-df-container {\n",
              "      display:flex;\n",
              "      flex-wrap:wrap;\n",
              "      gap: 12px;\n",
              "    }\n",
              "\n",
              "    .colab-df-convert {\n",
              "      background-color: #E8F0FE;\n",
              "      border: none;\n",
              "      border-radius: 50%;\n",
              "      cursor: pointer;\n",
              "      display: none;\n",
              "      fill: #1967D2;\n",
              "      height: 32px;\n",
              "      padding: 0 0 0 0;\n",
              "      width: 32px;\n",
              "    }\n",
              "\n",
              "    .colab-df-convert:hover {\n",
              "      background-color: #E2EBFA;\n",
              "      box-shadow: 0px 1px 2px rgba(60, 64, 67, 0.3), 0px 1px 3px 1px rgba(60, 64, 67, 0.15);\n",
              "      fill: #174EA6;\n",
              "    }\n",
              "\n",
              "    [theme=dark] .colab-df-convert {\n",
              "      background-color: #3B4455;\n",
              "      fill: #D2E3FC;\n",
              "    }\n",
              "\n",
              "    [theme=dark] .colab-df-convert:hover {\n",
              "      background-color: #434B5C;\n",
              "      box-shadow: 0px 1px 3px 1px rgba(0, 0, 0, 0.15);\n",
              "      filter: drop-shadow(0px 1px 2px rgba(0, 0, 0, 0.3));\n",
              "      fill: #FFFFFF;\n",
              "    }\n",
              "  </style>\n",
              "\n",
              "      <script>\n",
              "        const buttonEl =\n",
              "          document.querySelector('#df-321c0e19-6cfa-4d8f-9741-8b1be3103386 button.colab-df-convert');\n",
              "        buttonEl.style.display =\n",
              "          google.colab.kernel.accessAllowed ? 'block' : 'none';\n",
              "\n",
              "        async function convertToInteractive(key) {\n",
              "          const element = document.querySelector('#df-321c0e19-6cfa-4d8f-9741-8b1be3103386');\n",
              "          const dataTable =\n",
              "            await google.colab.kernel.invokeFunction('convertToInteractive',\n",
              "                                                     [key], {});\n",
              "          if (!dataTable) return;\n",
              "\n",
              "          const docLinkHtml = 'Like what you see? Visit the ' +\n",
              "            '<a target=\"_blank\" href=https://colab.research.google.com/notebooks/data_table.ipynb>data table notebook</a>'\n",
              "            + ' to learn more about interactive tables.';\n",
              "          element.innerHTML = '';\n",
              "          dataTable['output_type'] = 'display_data';\n",
              "          await google.colab.output.renderOutput(dataTable, element);\n",
              "          const docLink = document.createElement('div');\n",
              "          docLink.innerHTML = docLinkHtml;\n",
              "          element.appendChild(docLink);\n",
              "        }\n",
              "      </script>\n",
              "    </div>\n",
              "  </div>\n",
              "  "
            ]
          },
          "metadata": {},
          "execution_count": 3
        }
      ]
    },
    {
      "cell_type": "markdown",
      "metadata": {
        "id": "hbrf-qnYtXHL"
      },
      "source": [
        "---"
      ]
    },
    {
      "cell_type": "markdown",
      "metadata": {
        "id": "5Vc16dIwtYEC"
      },
      "source": [
        "#### 4. Display Number Of Rows & Columns\n",
        "\n",
        "Now, display the number of rows and columns that are present in the `df` DataFrame."
      ]
    },
    {
      "cell_type": "code",
      "metadata": {
        "id": "BchpHm6DQ22n",
        "colab": {
          "base_uri": "https://localhost:8080/"
        },
        "outputId": "a4501065-ed55-468a-bb3e-af48c3005118"
      },
      "source": [
        "# Display the number of rows and columns using the 'shape' keyword\n",
        "df.shape"
      ],
      "execution_count": 4,
      "outputs": [
        {
          "output_type": "execute_result",
          "data": {
            "text/plain": [
              "(499, 5)"
            ]
          },
          "metadata": {},
          "execution_count": 4
        }
      ]
    },
    {
      "cell_type": "markdown",
      "metadata": {
        "id": "t6l5BJ0otgRO"
      },
      "source": [
        "---"
      ]
    },
    {
      "cell_type": "markdown",
      "metadata": {
        "id": "noovqesBthVM"
      },
      "source": [
        "#### 5. Check For The Missing Values\n",
        "\n",
        "Check whether the `df` DataFrame contains the missing values."
      ]
    },
    {
      "cell_type": "code",
      "metadata": {
        "id": "fcCJ0AzhQ4T0",
        "colab": {
          "base_uri": "https://localhost:8080/"
        },
        "outputId": "b1b6cc33-96d1-4945-b710-53a766e0bd7c"
      },
      "source": [
        "# Check for the missing values using the 'isnull()' function.\n",
        "df.isnull().sum()"
      ],
      "execution_count": 5,
      "outputs": [
        {
          "output_type": "execute_result",
          "data": {
            "text/plain": [
              "y     0\n",
              "x1    0\n",
              "x2    0\n",
              "x3    0\n",
              "x4    0\n",
              "dtype: int64"
            ]
          },
          "metadata": {},
          "execution_count": 5
        }
      ]
    },
    {
      "cell_type": "markdown",
      "metadata": {
        "id": "HJCwQiJAEEWF"
      },
      "source": [
        "**Hint**: Use the `sum()` function on top of the `isnull()` to find the total number of `True` values in each column."
      ]
    },
    {
      "cell_type": "markdown",
      "metadata": {
        "id": "3RiKE8vUz9IX"
      },
      "source": [
        "---"
      ]
    },
    {
      "cell_type": "markdown",
      "metadata": {
        "id": "5fKVN1TYz92o"
      },
      "source": [
        "#### 6. Scatter & Line Plots\n",
        "\n",
        "Now you have to create the scatter plots and line plots between the following columns:\n",
        "\n",
        "1. `y` and `x1`\n",
        "\n",
        "2. `y` and `x2`\n",
        "\n",
        "3. `y` and `x3`\n",
        "\n",
        "4. `y` and `x4`\n",
        "\n",
        "5. `y1` and `2 * x1 + 3 * x2 + 4 * x3 + 5 * x4`\n"
      ]
    },
    {
      "cell_type": "code",
      "metadata": {
        "id": "INB2sNXkb7zA",
        "colab": {
          "base_uri": "https://localhost:8080/",
          "height": 265
        },
        "outputId": "0cb4a12e-eb6a-4b08-b6c9-065440d34ee9"
      },
      "source": [
        "# Scatter plot between y and x1.\n",
        "# Pass 'df['y']' and 'df['x1']' inside the 'scatter()' function of the 'matplotlib.pyplot' module\n",
        "plt.scatter(df['y'],df['x1'])\n",
        "# Display the plot in the output using the 'show()' function of the 'matplotlib.pyplot' module\n",
        "plt.show()"
      ],
      "execution_count": 6,
      "outputs": [
        {
          "output_type": "display_data",
          "data": {
            "text/plain": [
              "<Figure size 432x288 with 1 Axes>"
            ],
            "image/png": "[encoded data removed]"
          },
          "metadata": {
            "needs_background": "light"
          }
        }
      ]
    },
    {
      "cell_type": "code",
      "metadata": {
        "id": "0-f6QGyQcCqp",
        "colab": {
          "base_uri": "https://localhost:8080/",
          "height": 265
        },
        "outputId": "1bb6e57a-449f-4fcf-f603-1bb8322c743a"
      },
      "source": [
        "# Line plot between y and x1.\n",
        "# Pass 'df['y']' and 'df['x1']' inside the 'plot()' function of the 'matplotlib.pyplot' module\n",
        "plt.plot(df['y'],df['x1'])\n",
        "plt.show()"
      ],
      "execution_count": 7,
      "outputs": [
        {
          "output_type": "display_data",
          "data": {
            "text/plain": [
              "<Figure size 432x288 with 1 Axes>"
            ],
            "image/png": "[encoded data removed]"
          },
          "metadata": {
            "needs_background": "light"
          }
        }
      ]
    },
    {
      "cell_type": "code",
      "metadata": {
        "id": "8QbZWktDcFxc",
        "colab": {
          "base_uri": "https://localhost:8080/",
          "height": 282
        },
        "outputId": "178a06b4-cb61-4bc9-fe16-4d302ed3ad54"
      },
      "source": [
        "# Scatter plot between y and x2.\n",
        "# Write your code here.\n",
        "plt.scatter(df['y'],df['x2'])"
      ],
      "execution_count": 8,
      "outputs": [
        {
          "output_type": "execute_result",
          "data": {
            "text/plain": [
              "<matplotlib.collections.PathCollection at 0x7f7d049de410>"
            ]
          },
          "metadata": {},
          "execution_count": 8
        },
        {
          "output_type": "display_data",
          "data": {
            "text/plain": [
              "<Figure size 432x288 with 1 Axes>"
            ],
            "image/png": "[encoded data removed]"
          },
          "metadata": {
            "needs_background": "light"
          }
        }
      ]
    },
    {
      "cell_type": "code",
      "metadata": {
        "id": "K0Z7s3nycIU2",
        "colab": {
          "base_uri": "https://localhost:8080/",
          "height": 282
        },
        "outputId": "27c61998-f012-4940-c7eb-9eae2a43ded6"
      },
      "source": [
        "# Line plot between y and x2.\n",
        "# Write your code here.\n",
        "plt.plot(df['y'],df['x2'])"
      ],
      "execution_count": 9,
      "outputs": [
        {
          "output_type": "execute_result",
          "data": {
            "text/plain": [
              "[<matplotlib.lines.Line2D at 0x7f7d0490f350>]"
            ]
          },
          "metadata": {},
          "execution_count": 9
        },
        {
          "output_type": "display_data",
          "data": {
            "text/plain": [
              "<Figure size 432x288 with 1 Axes>"
            ],
            "image/png": "[encoded data removed]"
          },
          "metadata": {
            "needs_background": "light"
          }
        }
      ]
    },
    {
      "cell_type": "code",
      "metadata": {
        "id": "djwL88fNjNBQ",
        "colab": {
          "base_uri": "https://localhost:8080/",
          "height": 265
        },
        "outputId": "7e9337e5-b0ec-4824-c1ce-6a070da457ce"
      },
      "source": [
        "# Scatter plot between y and x3.\n",
        "# Write your code here.\n",
        "plt.scatter(df['y'],df['x3'])\n",
        "plt.show()"
      ],
      "execution_count": 10,
      "outputs": [
        {
          "output_type": "display_data",
          "data": {
            "text/plain": [
              "<Figure size 432x288 with 1 Axes>"
            ],
            "image/png": "[encoded data removed]"
          },
          "metadata": {
            "needs_background": "light"
          }
        }
      ]
    },
    {
      "cell_type": "code",
      "metadata": {
        "id": "rQ_Kcw7ikwpt",
        "colab": {
          "base_uri": "https://localhost:8080/",
          "height": 282
        },
        "outputId": "87ce6ef1-652a-4a01-9b1d-d94fbb864f3b"
      },
      "source": [
        "# Line plot between y and x3.\n",
        "# Write your code here.\n",
        "plt.plot(df['y'],df['x3'])"
      ],
      "execution_count": 11,
      "outputs": [
        {
          "output_type": "execute_result",
          "data": {
            "text/plain": [
              "[<matplotlib.lines.Line2D at 0x7f7d0485ef50>]"
            ]
          },
          "metadata": {},
          "execution_count": 11
        },
        {
          "output_type": "display_data",
          "data": {
            "text/plain": [
              "<Figure size 432x288 with 1 Axes>"
            ],
            "image/png": "[encoded data removed]"
          },
          "metadata": {
            "needs_background": "light"
          }
        }
      ]
    },
    {
      "cell_type": "code",
      "metadata": {
        "id": "oFY-C9pG1ofU",
        "colab": {
          "base_uri": "https://localhost:8080/",
          "height": 282
        },
        "outputId": "dccc7d67-1a80-4312-b265-00acba6861f8"
      },
      "source": [
        "# Scatter plot between y and x4.\n",
        "# Write your code here.\n",
        "plt.scatter(df['y'],df['x4'])"
      ],
      "execution_count": 12,
      "outputs": [
        {
          "output_type": "execute_result",
          "data": {
            "text/plain": [
              "<matplotlib.collections.PathCollection at 0x7f7d04833210>"
            ]
          },
          "metadata": {},
          "execution_count": 12
        },
        {
          "output_type": "display_data",
          "data": {
            "text/plain": [
              "<Figure size 432x288 with 1 Axes>"
            ],
            "image/png": "[encoded data removed]"
          },
          "metadata": {
            "needs_background": "light"
          }
        }
      ]
    },
    {
      "cell_type": "code",
      "metadata": {
        "id": "V7OJ1Cam1sMS",
        "colab": {
          "base_uri": "https://localhost:8080/",
          "height": 265
        },
        "outputId": "236578d7-23ce-4a4e-db02-105624a687a0"
      },
      "source": [
        "# Line plot between y and x4.\n",
        "# Write your code here.\n",
        "plt.plot(df['y'],df['x4'])\n",
        "plt.show()"
      ],
      "execution_count": 13,
      "outputs": [
        {
          "output_type": "display_data",
          "data": {
            "text/plain": [
              "<Figure size 432x288 with 1 Axes>"
            ],
            "image/png": "[encoded data removed]"
          },
          "metadata": {
            "needs_background": "light"
          }
        }
      ]
    },
    {
      "cell_type": "code",
      "metadata": {
        "id": "NF6HV0ij1yPT",
        "colab": {
          "base_uri": "https://localhost:8080/",
          "height": 265
        },
        "outputId": "6d1b7113-75e3-4c21-d98f-c2c1e8e1e3c1"
      },
      "source": [
        "# Scatter plot between y and 2 * x1 + 3 * x2 + 4 * x3 + 5 * x4.\n",
        "# Write your code here.\n",
        "\n",
        "import matplotlib.pyplot as plt\n",
        "\n",
        "plt.scatter(df['y'], (2 * df['x1'] + 3 * df['x2'] + 4 * df['x3'] + 5 * df['x4']))\n",
        "plt.show()"
      ],
      "execution_count": 14,
      "outputs": [
        {
          "output_type": "display_data",
          "data": {
            "text/plain": [
              "<Figure size 432x288 with 1 Axes>"
            ],
            "image/png": "[encoded data removed]"
          },
          "metadata": {
            "needs_background": "light"
          }
        }
      ]
    },
    {
      "cell_type": "code",
      "metadata": {
        "id": "qcezxtHf2Qe3",
        "colab": {
          "base_uri": "https://localhost:8080/",
          "height": 265
        },
        "outputId": "08808728-3ca7-4fcc-b5b8-9a5fea39e65d"
      },
      "source": [
        "# Line plot between y and 2 * x1 + 3 * x2 + 4 * x3 + 5 * x4.\n",
        "# Write your code here.\n",
        "plt.plot(df['y'],(2*df['x1']+3*df['x2']+4*df['x3']+5*df['x4']))\n",
        "plt.show()"
      ],
      "execution_count": 15,
      "outputs": [
        {
          "output_type": "display_data",
          "data": {
            "text/plain": [
              "<Figure size 432x288 with 1 Axes>"
            ],
            "image/png": "[encoded data removed]"
          },
          "metadata": {
            "needs_background": "light"
          }
        }
      ]
    },
    {
      "cell_type": "markdown",
      "metadata": {
        "id": "PzQcuhZ0B_MJ"
      },
      "source": [
        "---"
      ]
    },
    {
      "cell_type": "markdown",
      "metadata": {
        "id": "pUBojwKdBeKa"
      },
      "source": [
        "### Fun Facts\n",
        "\n",
        "#### 1. Cumulative Frequency\n",
        "\n",
        "The cumulative frequency is the sum of the current and the previous frequencies. \n",
        "\n",
        "Suppose there are 50 students in your class. The table below shows the distribution of the number of students secured marks out of 100 in a Math test in a particular range.\n",
        "\n",
        "|Interval|Frequency|\n",
        "|-|-|\n",
        "|40-50|5|\n",
        "|50-60|11|\n",
        "|60-70|13|\n",
        "|70-80|11|\n",
        "|80-90|8|\n",
        "|90-100|2|\n",
        "\n",
        "So, there are\n",
        "\n",
        "- 5 students who have secured marks between 40 and 50 (excluding 50)\n",
        "\n",
        "- 11 students who have secured marks between 50 and 60 (excluding 60)\n",
        "\n",
        "- 13 students who have secured marks between 60 and 70 (excluding 70)\n",
        "\n",
        "- 11 students who have secured marks between 70 and 80 (excluding 80)\n",
        "\n",
        "- 8 students who have secured marks between 80 and 90 (excluding 90)\n",
        "\n",
        "- 2 students who have secured marks between 90 and 100 (**including** 100)\n",
        "\n",
        "The cumulative frequency table for the above table is:\n",
        "\n",
        "|Interval|Frequency|Cumulative Frequency|\n",
        "|-|-|-|\n",
        "|40-50|5|5|\n",
        "|50-60|11|5 + 11 = 16|\n",
        "|60-70|13|16 + 13 = 29|\n",
        "|70-80|11|29 + 11 = 40|\n",
        "|80-90|8|40 + 8 = 48|\n",
        "|90-100|2|48 + 2 = 50|\n",
        "\n",
        "So, the cumulative frequency table tells us that there are\n",
        "\n",
        "- 5 students who have secured marks between 40 and 50 (excluding 50)\n",
        "\n",
        "- 16 students who have secured marks between 40 and 60 (excluding 60)\n",
        "\n",
        "- 29 students who have secured marks between 40 and 70 (excluding 70)\n",
        "\n",
        "- 40 students who have secured marks between 40 and 80 (excluding 80)\n",
        "\n",
        "- 48 students who have secured marks between 40 and 90 (excluding 90)\n",
        "\n",
        "- 50 students who have secured marks between 40 and 100 (**including** 100)"
      ]
    },
    {
      "cell_type": "code",
      "metadata": {
        "id": "WrC4fyRUW4vA",
        "colab": {
          "base_uri": "https://localhost:8080/"
        },
        "outputId": "c6d06887-f89a-4ffd-b130-6d80bb47e093"
      },
      "source": [
        "# Step 1: Create an empty list and store it in a variable 'cum_freq_x1'\n",
        "cum_freq_x1 = []\n",
        "# Step 2: Initialize a variable 'cum' with initial value as '0'.\n",
        "cum = 0\n",
        "# Step 3: Create a 'for' loop that will iterate in a range of 'df.shape[0]'  \n",
        "for i in range(df.shape[0]):\n",
        "  # Inside the 'for' loop\n",
        "  # Calculate the cumulative frequency of 'x1' column using 'cum + df['x1'][i]' and store the result in variable 'cum'\n",
        "  cum = cum + df['x1'][i]\n",
        "  # Append the value of 'cum' inside the 'cum_freq_x1' list \n",
        "  cum_freq_x1.append(cum)\n",
        "\n",
        "# Step 4: Convert the 'cum_freq_x1' list into a pandas series using the 'Series()' function\n",
        "cum_freq_x1 = pd.Series(cum_freq_x1)\n",
        "\n",
        "print(type(cum_freq_x1))\n",
        "cum_freq_x1.head(10)"
      ],
      "execution_count": 16,
      "outputs": [
        {
          "output_type": "stream",
          "name": "stdout",
          "text": [
            "<class 'pandas.core.series.Series'>\n"
          ]
        },
        {
          "output_type": "execute_result",
          "data": {
            "text/plain": [
              "0     1\n",
              "1     3\n",
              "2     6\n",
              "3    10\n",
              "4    15\n",
              "5    21\n",
              "6    28\n",
              "7    36\n",
              "8    45\n",
              "9    55\n",
              "dtype: int64"
            ]
          },
          "metadata": {},
          "execution_count": 16
        }
      ]
    },
    {
      "cell_type": "markdown",
      "metadata": {
        "id": "MEl84MtkBoDD"
      },
      "source": [
        "---"
      ]
    },
    {
      "cell_type": "markdown",
      "metadata": {
        "id": "6qa0CN4dysEr"
      },
      "source": [
        "#### 2. Minimum, Maximum, Mean And Median Values\n",
        "\n",
        "Now, you can print the minumum, maximum, mean and median values by using the `min()`, `max()`, `mean()` and `median()` functions."
      ]
    },
    {
      "cell_type": "code",
      "metadata": {
        "id": "hlVuv70Nbupg",
        "colab": {
          "base_uri": "https://localhost:8080/"
        },
        "outputId": "ae58f253-c1ef-4713-db81-f9184eacd9d4"
      },
      "source": [
        "# Write your code here.\n",
        "print(\"Minimum:\", cum_freq_x1.min())\n",
        "print(\"Maximum:\", cum_freq_x1.max())\n",
        "print(\"Mean:\", cum_freq_x1.mean())\n",
        "print(\"Median:\", cum_freq_x1.median())"
      ],
      "execution_count": 17,
      "outputs": [
        {
          "output_type": "stream",
          "name": "stdout",
          "text": [
            "Minimum: 1\n",
            "Maximum: 124750\n",
            "Mean: 41750.0\n",
            "Median: 31375.0\n"
          ]
        }
      ]
    },
    {
      "cell_type": "markdown",
      "metadata": {
        "id": "NEao6VtHBubd"
      },
      "source": [
        "---"
      ]
    }
  ]
}