{
  "nbformat": 4,
  "nbformat_minor": 0,
  "metadata": {
    "colab": {
      "provenance": [],
      "include_colab_link": true
    },
    "kernelspec": {
      "name": "python3",
      "display_name": "Python 3"
    }
  },
  "cells": [
    {
      "cell_type": "markdown",
      "metadata": {
        "id": "view-in-github",
        "colab_type": "text"
      },
      "source": [
        "<a href=\"https://colab.research.google.com/github/crazygovind/AI-Foundation-Whitehat-Jr/blob/master/48_Project_OOP_ENCAPSULATION_I_06_02_2022.ipynb\" target=\"_parent\"><img src=\"https://colab.research.google.com/assets/colab-badge.svg\" alt=\"Open In Colab\"/></a>"
      ]
    },
    {
      "cell_type": "markdown",
      "metadata": {
        "id": "UYmMpXkNw9I6"
      },
      "source": [
        "### Instructions"
      ]
    },
    {
      "cell_type": "markdown",
      "metadata": {
        "id": "64Zy490qzVsZ"
      },
      "source": [
        "#### Goal of the Project\n",
        "\n",
        "This project is designed for you to practice and solve the activities that are based on the concepts covered in the following lessons:\n",
        "\n",
        " 1. Python Dictionary\n",
        "\n",
        " 2. Classes and Objects\n",
        "\n",
        " 3. Encapsulation"
      ]
    },
    {
      "cell_type": "markdown",
      "metadata": {
        "id": "dSRd3do_m_M4"
      },
      "source": [
        "---"
      ]
    },
    {
      "cell_type": "markdown",
      "metadata": {
        "id": "2i36Yv3-MPY5"
      },
      "source": [
        "### Problem Statement \n",
        "\n",
        "\n",
        "In this project, create a small Hospital Management application using the concept of **Object Oriented Programming**. \n",
        "\n",
        "Ask the user to enter a number from 1, 2, 3, 4, or 9. These numbers indicate the following options: \n",
        "\n",
        "  - **1: Display List of all Doctors** $\\Longrightarrow$ Displays a list of all the doctors in the hospital and their specialty.\n",
        "\n",
        "  - **2: Display List of all Patients** $\\Longrightarrow$ Displays a list of all the patients in the hospital and the disease from which they are suffering.\n",
        "\n",
        "  - **3: Add a Doctor** $\\Longrightarrow$ Adds a new doctor.\n",
        "\n",
        "  - **4: Add a Patient** $\\Longrightarrow$ Adds a new patient. \n",
        "    \n",
        "  - **9: Quit** $\\Longrightarrow$ Quits the application.\n",
        "\n",
        "\n",
        "  "
      ]
    },
    {
      "cell_type": "markdown",
      "metadata": {
        "id": "YUVCq0gkq1BZ"
      },
      "source": [
        "---"
      ]
    },
    {
      "cell_type": "markdown",
      "metadata": {
        "id": "toeLx5LJpIV-"
      },
      "source": [
        "### List of Activities\n",
        "\n",
        "**Activity 1:** Create a class `Doctor`.\n",
        "\n",
        "**Activity 2:** Create a class `Patient`.\n",
        "\n",
        "**Activity 3:** Create Objects and Call the Functions\n",
        "\n",
        "\n"
      ]
    },
    {
      "cell_type": "markdown",
      "metadata": {
        "id": "seBJxEBPq3PV"
      },
      "source": [
        "---"
      ]
    },
    {
      "cell_type": "markdown",
      "metadata": {
        "id": "j5RcICzZlJeZ"
      },
      "source": [
        "#### Activity 1: Create a class `Doctor`\n",
        "\n",
        "1. Create a class `Doctor`. Inside this class, create a dictionary to store the name of doctors (as key) and their specialisations (as its value). \n",
        "\n",
        "2. The constructor of the class `Doctor` must initialise the following **private** variables:\n",
        "\n",
        "  - `emp_id`: Employee id of the doctor.\n",
        "\n",
        "  - `name`: Name of the doctor.\n",
        "\n",
        "  - `salary`: Salary of the doctor.\n",
        "\n",
        "  - `specialisation`: Specialisation of the doctor.\n",
        "\n",
        "2. The constructor should also call a **class method** `add_doctor()` which will add the newly created object of `Doctor` class to the dictionary.\n",
        "   \n",
        "3. Add getter functions for each of the private variables and 1 setter function to update the salary.\n",
        "\n",
        "4. Add one more class method to simply display the list of doctors and their specialisations by displaying the contents of the dictionary.\n",
        "\n"
      ]
    },
    {
      "cell_type": "code",
      "metadata": {
        "id": "g0LB4jijVd3l"
      },
      "source": [
        "#  Create class 'Doctor'. Add constructor, getter functions and class methods\n",
        "class Doctor:\n",
        "  doctors={}\n",
        "  def __init__(self,emp_id,name,salary,specialisation):\n",
        "\n",
        "    self.__emp_id=__emp_id\n",
        "    self.__name=__name\n",
        "    self.__salary=__salary\n",
        "    self.__specialisation=__specialisation\n",
        "  @classmethod\n",
        "  def add_doctor(cls,name,specialisation):\n",
        "    cls.doctors[name]=specialisation\n",
        "  @classmethod\n",
        "  def display_doctors(cls):\n",
        "    print(cls.doctors)\n",
        "  "
      ],
      "execution_count": 25,
      "outputs": []
    },
    {
      "cell_type": "markdown",
      "metadata": {
        "id": "ZdXklYTDrKFS"
      },
      "source": [
        "---"
      ]
    },
    {
      "cell_type": "markdown",
      "metadata": {
        "id": "WCmI9RJ5nhkA"
      },
      "source": [
        "####Activity 2: Create a class `Patient`\n",
        "\n",
        "1. Create a class `Patient`.  Inside this class, create a dictionary to store the name of patients (as key) and their disease (as its value). \n",
        "\n",
        "2. The constructor of the class `Patient` must initialise the following **private** variables:\n",
        "\n",
        "  - `name`: Name of the patient.\n",
        "\n",
        "  - `age`: Age of the patient.\n",
        "\n",
        "  - `disease`: Disease of the patient.\n",
        "\n",
        "3. The constructor should also call a **class method** `add_patient()` which will add the newly created object of `Patient` class to the dictionary.\n",
        "   \n",
        "3. Add getter functions for each of the private variables.\n",
        "\n",
        "4. Add one more class method to simply display the list of patients and their disease by displaying the contents of the dictionary."
      ]
    },
    {
      "cell_type": "code",
      "metadata": {
        "id": "uV_EvB_kYm3Y"
      },
      "source": [
        "#  Create class 'Patient'. Add constructor and functions\n",
        "class Patient:\n",
        "  patient={}\n",
        "  def __init__(self,name,age,disease):\n",
        "    self.__name=__name\n",
        "    self.__age=__age\n",
        "    self.__disease=__disease\n",
        "  @classmethod\n",
        "  def add_patient(cls,name,disease):\n",
        "      cls.patient[name]=disease\n",
        "  @classmethod\n",
        "  def display_patients(cls):\n",
        "      print(cls.patient)"
      ],
      "execution_count": 33,
      "outputs": []
    },
    {
      "cell_type": "markdown",
      "metadata": {
        "id": "knB5aLw3rMQ6"
      },
      "source": [
        "---"
      ]
    },
    {
      "cell_type": "markdown",
      "metadata": {
        "id": "rl-1j6RYQsYb"
      },
      "source": [
        "#### Activity 3: Create Objects and Call the Functions\n",
        "\n",
        "Initialise a variable `empid` with any value of your choice. Create an infinite `while` loop. Inside this `while` loop perform the following tasks:\n",
        "1. Display the following list of choices:\n",
        "\n",
        "```\n",
        "Enter :\n",
        "        1 to Display all the Doctors and their Specialisations\n",
        "        2 to Display the list of patients and their disease\n",
        "        3 to Add a Doctor \n",
        "        4 to Add a Patient \n",
        "        9 to QUIT the application\n",
        "```\n",
        "\n",
        "2. Take user input and store it in a variable `user_choice`. Check whether the user entered any input other than 1, 2, 3, 4 or 9. If yes, then display a message \"Please enter a valid option\" and keep on asking for user input unless the user enters a valid choice.\n",
        "\n",
        "3. Now using the `if-elif-else` statement, check user input and perform the following tasks:\n",
        "\n",
        "  - If `user_choice==1`, call the class method of `Doctor` class which displays the list of doctors along with their specialisation.\n",
        "\n",
        "  - If `user_choice==2`, call the class method of `Patient` class which displays the list of patients along with their disease.\n",
        "\n",
        "  - If `user_choice==3`, ask the user to enter the name, salary, specialisation of the doctor and create an object of `Doctor` class by passing the entered details. Also increment the value of the `empid` variable and pass it while creating the object of `Doctor` class.\n",
        "      * Print the data of the newly created object using getter functions of `Doctor` class.\n",
        "      * Ask the user if it wishes to update the salary of the doctor. If yes, then call the setter function of the private variable `salary` to modify the salary of the doctor.\n",
        " \n",
        "  - If `user_choice==4`, ask the user to enter the name, age, disease of the patient and create an object of `Patient` class by passing the entered details. Print the data of the newly created object using getter functions of the `Patient` class.\n",
        "  - If `user_choice==9`, break the infinite while loop using the `break` statement.\n",
        "\n"
      ]
    },
    {
      "cell_type": "code",
      "metadata": {
        "id": "mpqUjEJ-c60B",
        "colab": {
          "base_uri": "https://localhost:8080/"
        },
        "outputId": "35b39637-118f-4da4-ebbe-21309852db12"
      },
      "source": [
        "# Create infinite while loop\n",
        "while True:\n",
        "  print(''' 1 to Display all the Doctors and their Specialisations \\n\n",
        "            2 to Display the list of patients and their disease \\n\n",
        "            3 to Add a Doctor \\n\n",
        "            4 to Add a Patient \\n\n",
        "            9 to QUIT the application''')  \n",
        "  user_choice=input('Enter your choice: ')\n",
        "  if user_choice not in ['1','2','3','4','9']:\n",
        "    print('please enter a valid input')\n",
        "    user_choice=input('Enter your choice: ')\n",
        "  elif user_choice=='1':\n",
        "      Doctor.display_doctors()\n",
        "  elif user_choice=='2':\n",
        "      Patient.display_patients()\n",
        "  elif user_choice =='3':\n",
        "      name=input('Enter doctor name: ')\n",
        "      specialisation=input('Enter specialisation: ')\n",
        "      Doctor.add_doctor(name,specialisation)\n",
        "  elif user_choice =='4':\n",
        "      name=input('Enter name of patient: ')\n",
        "      disease=input('Enter name of disease: ')\n",
        "      Patient.add_patient(name,disease)\n",
        "  elif user_choice=='9':\n",
        "      break\n",
        "\n",
        "    "
      ],
      "execution_count": 36,
      "outputs": [
        {
          "name": "stdout",
          "output_type": "stream",
          "text": [
            " 1 to Display all the Doctors and their Specialisations \n",
            "\n",
            "            2 to Display the list of patients and their disease \n",
            "\n",
            "            3 to Add a Doctor \n",
            "\n",
            "            4 to Add a Patient \n",
            "\n",
            "            9 to QUIT the application\n",
            "Enter your choice: 3\n",
            "Enter doctor name: Ram\n",
            "Enter specialisation: MBBS\n",
            " 1 to Display all the Doctors and their Specialisations \n",
            "\n",
            "            2 to Display the list of patients and their disease \n",
            "\n",
            "            3 to Add a Doctor \n",
            "\n",
            "            4 to Add a Patient \n",
            "\n",
            "            9 to QUIT the application\n",
            "Enter your choice: 4\n",
            "Enter name of patient: Yash\n",
            "Enter name of disease: Dengue\n",
            " 1 to Display all the Doctors and their Specialisations \n",
            "\n",
            "            2 to Display the list of patients and their disease \n",
            "\n",
            "            3 to Add a Doctor \n",
            "\n",
            "            4 to Add a Patient \n",
            "\n",
            "            9 to QUIT the application\n",
            "Enter your choice: 4\n",
            "Enter name of patient: Prasad\n",
            "Enter name of disease: Maleria\n",
            " 1 to Display all the Doctors and their Specialisations \n",
            "\n",
            "            2 to Display the list of patients and their disease \n",
            "\n",
            "            3 to Add a Doctor \n",
            "\n",
            "            4 to Add a Patient \n",
            "\n",
            "            9 to QUIT the application\n",
            "Enter your choice: 1\n",
            "{'ram': 'mbbs', 'Ram': 'MBBS'}\n",
            " 1 to Display all the Doctors and their Specialisations \n",
            "\n",
            "            2 to Display the list of patients and their disease \n",
            "\n",
            "            3 to Add a Doctor \n",
            "\n",
            "            4 to Add a Patient \n",
            "\n",
            "            9 to QUIT the application\n",
            "Enter your choice: 2\n",
            "{'yash': 'dengue', 'Yash': 'Dengue', 'Prasad': 'Maleria'}\n",
            " 1 to Display all the Doctors and their Specialisations \n",
            "\n",
            "            2 to Display the list of patients and their disease \n",
            "\n",
            "            3 to Add a Doctor \n",
            "\n",
            "            4 to Add a Patient \n",
            "\n",
            "            9 to QUIT the application\n",
            "Enter your choice: 9\n"
          ]
        }
      ]
    },
    {
      "cell_type": "markdown",
      "metadata": {
        "id": "gJ49xrTorOiU"
      },
      "source": [
        "---"
      ]
    }
  ]
}