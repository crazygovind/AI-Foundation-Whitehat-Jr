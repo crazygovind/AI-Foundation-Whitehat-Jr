{
  "nbformat": 4,
  "nbformat_minor": 0,
  "metadata": {
    "colab": {
      "provenance": [],
      "collapsed_sections": [],
      "include_colab_link": true
    },
    "kernelspec": {
      "name": "python3",
      "display_name": "Python 3"
    }
  },
  "cells": [
    {
      "cell_type": "markdown",
      "metadata": {
        "id": "view-in-github",
        "colab_type": "text"
      },
      "source": [
        "<a href=\"https://colab.research.google.com/github/crazygovind/AI-Foundation-Whitehat-Jr/blob/master/30_Project_tuple_operations.ipynb\" target=\"_parent\"><img src=\"https://colab.research.google.com/assets/colab-badge.svg\" alt=\"Open In Colab\"/></a>"
      ]
    },
    {
      "cell_type": "markdown",
      "metadata": {
        "id": "YZnBY81YDCCr"
      },
      "source": [
        "### Instructions"
      ]
    },
    {
      "cell_type": "markdown",
      "metadata": {
        "id": "fIKnY8occu37"
      },
      "source": [
        "#### Goal of the Project\n",
        "\n",
        "This project is designed for you to practice and solve the activities that are based on the concepts covered in the following lesson:\n",
        "\n",
        "1. Python Tuples II\n",
        "\n",
        "\n",
        "\n"
      ]
    },
    {
      "cell_type": "markdown",
      "metadata": {
        "id": "BBqkpH4_Doqe"
      },
      "source": [
        "---"
      ]
    },
    {
      "cell_type": "markdown",
      "metadata": {
        "id": "H0P9F3DUf8x2"
      },
      "source": [
        "### Activities\n",
        "\n",
        "\n",
        "  "
      ]
    },
    {
      "cell_type": "markdown",
      "metadata": {
        "id": "BVT9G_baB1aq"
      },
      "source": [
        "#### Activity 1: Changing Tuple Items\n",
        "\n",
        "Given a few random names stored in the `names_tup` tuple, write a code to remove `raj` from the `names_tup` tuple and then print the tuple after reversing the order of names stored in the `names_tup` tuple.\n",
        "\n",
        "`names_tup = ('kevin', 'kamal', 'raj', 'prashant', 'albert', 'daniel', 'rahul')`"
      ]
    },
    {
      "cell_type": "code",
      "metadata": {
        "id": "0pIGxKG9B3mb",
        "colab": {
          "base_uri": "https://localhost:8080/"
        },
        "outputId": "7841a3d9-0edd-4fea-8acb-7be0923ef828"
      },
      "source": [
        "# Tuple of random names.\n",
        "names_tup = ('kevin', 'kamal', 'raj', 'prashant', 'albert', 'daniel', 'rahul')\n",
        "\n",
        "# Print the contents of the 'names_tup' tuple.\n",
        "print(names_tup)\n",
        "\n",
        "names=list(names_tup)\n",
        "\n",
        "names.remove('raj')\n",
        "\n",
        "names_tup=tuple(names)\n",
        "\n",
        "print(names_tup)"
      ],
      "execution_count": 5,
      "outputs": [
        {
          "output_type": "stream",
          "name": "stdout",
          "text": [
            "('kevin', 'kamal', 'raj', 'prashant', 'albert', 'daniel', 'rahul')\n",
            "('kevin', 'kamal', 'prashant', 'albert', 'daniel', 'rahul')\n"
          ]
        }
      ]
    },
    {
      "cell_type": "markdown",
      "metadata": {
        "id": "sjopsg2KPDU_"
      },
      "source": [
        "As we cannot change the contents of a tuple, first we need to convert the tuple into a list, then change the contents of the list and finally change the list back into a tuple.\n",
        "\n"
      ]
    },
    {
      "cell_type": "markdown",
      "metadata": {
        "id": "IJIZASayCpEW"
      },
      "source": [
        "---"
      ]
    },
    {
      "cell_type": "markdown",
      "metadata": {
        "id": "5kBinzKxn3hd"
      },
      "source": [
        "#### Activity 2: Adding Labels to Tuples\n",
        "\n",
        "Given a few random numbers stored in the `rand_num` tuple, write a code to sort the values in descending order and add labels to the values in the tuple."
      ]
    },
    {
      "cell_type": "code",
      "metadata": {
        "id": "4gjDvOhzn6TL",
        "colab": {
          "base_uri": "https://localhost:8080/"
        },
        "outputId": "faf7db37-b003-475e-bdcc-d75194e82a93"
      },
      "source": [
        "# Tuple containing 30 random integers ranging between 100 and 250.\n",
        "import random\n",
        "\n",
        "rand_num = tuple([random.randint(100, 250) for i in range(31)])\n",
        "rand_num"
      ],
      "execution_count": 26,
      "outputs": [
        {
          "output_type": "execute_result",
          "data": {
            "text/plain": [
              "(109,\n",
              " 179,\n",
              " 145,\n",
              " 197,\n",
              " 250,\n",
              " 153,\n",
              " 126,\n",
              " 242,\n",
              " 237,\n",
              " 167,\n",
              " 216,\n",
              " 195,\n",
              " 198,\n",
              " 155,\n",
              " 204,\n",
              " 197,\n",
              " 226,\n",
              " 209,\n",
              " 183,\n",
              " 142,\n",
              " 242,\n",
              " 248,\n",
              " 113,\n",
              " 182,\n",
              " 218,\n",
              " 125,\n",
              " 199,\n",
              " 106,\n",
              " 201,\n",
              " 138,\n",
              " 226)"
            ]
          },
          "metadata": {},
          "execution_count": 26
        }
      ]
    },
    {
      "cell_type": "code",
      "metadata": {
        "id": "uA85A_STQ9Xa",
        "colab": {
          "base_uri": "https://localhost:8080/"
        },
        "outputId": "c13301ba-e11e-48fb-ab0a-36b75f82fb43"
      },
      "source": [
        "# Display the items of the 'rand_num' tuple in the descending order using the 'sorted()' function.\n",
        "rand_num=sorted(rand_num,reverse=True)\n",
        "rand_num"
      ],
      "execution_count": 28,
      "outputs": [
        {
          "output_type": "execute_result",
          "data": {
            "text/plain": [
              "[250,\n",
              " 248,\n",
              " 242,\n",
              " 242,\n",
              " 237,\n",
              " 226,\n",
              " 226,\n",
              " 218,\n",
              " 216,\n",
              " 209,\n",
              " 204,\n",
              " 201,\n",
              " 199,\n",
              " 198,\n",
              " 197,\n",
              " 197,\n",
              " 195,\n",
              " 183,\n",
              " 182,\n",
              " 179,\n",
              " 167,\n",
              " 155,\n",
              " 153,\n",
              " 145,\n",
              " 142,\n",
              " 138,\n",
              " 126,\n",
              " 125,\n",
              " 113,\n",
              " 109,\n",
              " 106]"
            ]
          },
          "metadata": {},
          "execution_count": 28
        }
      ]
    },
    {
      "cell_type": "code",
      "metadata": {
        "id": "JPbXsLnAR6sw",
        "colab": {
          "base_uri": "https://localhost:8080/"
        },
        "outputId": "9e01ebae-805e-4260-b675-d484ae03a682"
      },
      "source": [
        "# Add Labels to the 'rand_num' tuple. \n",
        "# Apply the 'tuple()' function on top of the 'enumerate()' function to add labels.\n",
        "rand_num=enumerate(rand_num)\n",
        "tuple(rand_num)\n"
      ],
      "execution_count": 32,
      "outputs": [
        {
          "output_type": "execute_result",
          "data": {
            "text/plain": [
              "((0, 250),\n",
              " (1, 248),\n",
              " (2, 242),\n",
              " (3, 242),\n",
              " (4, 237),\n",
              " (5, 226),\n",
              " (6, 226),\n",
              " (7, 218),\n",
              " (8, 216),\n",
              " (9, 209),\n",
              " (10, 204),\n",
              " (11, 201),\n",
              " (12, 199),\n",
              " (13, 198),\n",
              " (14, 197),\n",
              " (15, 197),\n",
              " (16, 195),\n",
              " (17, 183),\n",
              " (18, 182),\n",
              " (19, 179),\n",
              " (20, 167),\n",
              " (21, 155),\n",
              " (22, 153),\n",
              " (23, 145),\n",
              " (24, 142),\n",
              " (25, 138),\n",
              " (26, 126),\n",
              " (27, 125),\n",
              " (28, 113),\n",
              " (29, 109),\n",
              " (30, 106))"
            ]
          },
          "metadata": {},
          "execution_count": 32
        }
      ]
    },
    {
      "cell_type": "markdown",
      "metadata": {
        "id": "MWkPEALQn-lN"
      },
      "source": [
        "---"
      ]
    }
  ]
}