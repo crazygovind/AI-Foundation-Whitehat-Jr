{
  "nbformat": 4,
  "nbformat_minor": 0,
  "metadata": {
    "colab": {
      "provenance": [],
      "collapsed_sections": [],
      "include_colab_link": true
    },
    "kernelspec": {
      "name": "python3",
      "display_name": "Python 3"
    }
  },
  "cells": [
    {
      "cell_type": "markdown",
      "metadata": {
        "id": "view-in-github",
        "colab_type": "text"
      },
      "source": [
        "<a href=\"https://colab.research.google.com/github/crazygovind/AI-Foundation-Whitehat-Jr/blob/master/32_Project_Match_Words_Govind.ipynb\" target=\"_parent\"><img src=\"https://colab.research.google.com/assets/colab-badge.svg\" alt=\"Open In Colab\"/></a>"
      ]
    },
    {
      "cell_type": "markdown",
      "metadata": {
        "id": "YZnBY81YDCCr"
      },
      "source": [
        "### Instructions"
      ]
    },
    {
      "cell_type": "markdown",
      "metadata": {
        "id": "fIKnY8occu37"
      },
      "source": [
        "#### Goal of the Project\n",
        "\n",
        "This project is designed for you to practice and solve the activities that are based on the concepts covered in the following lessons:\n",
        "\n",
        "1. Python Dictionary\n",
        "\n",
        "2. Python Lists\n",
        "\n",
        "3. String Operations\n"
      ]
    },
    {
      "cell_type": "markdown",
      "metadata": {
        "id": "yPZGW0_xDUOy"
      },
      "source": [
        "---"
      ]
    },
    {
      "cell_type": "markdown",
      "metadata": {
        "id": "H0P9F3DUf8x2"
      },
      "source": [
        "### Activities\n",
        "\n",
        "\n",
        "  "
      ]
    },
    {
      "cell_type": "markdown",
      "metadata": {
        "id": "BVT9G_baB1aq"
      },
      "source": [
        "#### Activity 1: Match Words\n",
        "\n",
        "Write a function to count the number of words whose length is 2 or more and the first and last character are the same from a given list of words.\n",
        "\n",
        "`list_of_words = ['civic', 'organ', 'trust', 'rigid', 'erase', 'right']`\n",
        "\n",
        "**Hint**: Use `for` loop and list indexing.\n"
      ]
    },
    {
      "cell_type": "code",
      "metadata": {
        "id": "0pIGxKG9B3mb",
        "colab": {
          "base_uri": "https://localhost:8080/"
        },
        "outputId": "d06d0fbf-b135-4e54-da4d-0107cc5415a8"
      },
      "source": [
        "# Solution\n",
        "# Define a function which accepts a list as input\n",
        "def match(list1):\n",
        " \n",
        "  count=0\n",
        "\n",
        "  for i in list1:\n",
        "    if len(i)>=2 and i[0]==i[-1]:\n",
        "      count+=1\n",
        "  print(count)\n",
        "\n",
        "\n",
        "list_of_words = ['civic', 'organ', 'trust', 'rigid', 'erase', 'right']\n",
        "# Call the function and pass this list as parameter\n",
        "match(list_of_words)"
      ],
      "execution_count": null,
      "outputs": [
        {
          "output_type": "stream",
          "name": "stdout",
          "text": [
            "3\n"
          ]
        }
      ]
    },
    {
      "cell_type": "markdown",
      "metadata": {
        "id": "IJIZASayCpEW"
      },
      "source": [
        "---"
      ]
    },
    {
      "cell_type": "markdown",
      "metadata": {
        "id": "BlwuesUU2VEE"
      },
      "source": [
        "#### Activity 2: Print Expensive orders\n",
        "\n",
        "Write a function that returns all orders whose price is strictly more than `avg_val`, where `avg_val` will be an average price that will be passed in the function as a second parameter. The function will look like:\n",
        "\n",
        "`expensive_orders(d, avg_val)`, where `d` is the dictionary with the item name as `key` and the price of the item as `value` and the `avg_val` is the average price of orders.\n",
        "\n",
        "**Examples**\n",
        "```\n",
        "1. expensive_orders({ \"a\": 3000,\n",
        "                      \"b\": 200, \n",
        "                      \"c\": 1050 }, 1000) ➞ { \"a\": 3000, \"c\": 1050 }\n",
        " \n",
        "2. expensive_orders({ \"Gucci Fur\": 24600, \n",
        "                      \"Teak Dining Table\": 3200, \n",
        "                      \"Louis Vutton Bag\": 5550, \"Dolce Gabana Heels\": 4000 }, 20000) ➞ { \"Gucci Fur\": 24600 }\n",
        "\n",
        "3. expensive_orders({ \"Deluxe Burger\": 35, \n",
        "                      \"Icecream Shake\": 4, \n",
        "                      \"Fries\": 5 }, 40) ➞ {}\n",
        "```\n",
        "\n",
        "Follow the steps given below to achieve the desired result:\n",
        "\n",
        "- **Step 1**: Create a function, say `expensive_orders()` and pass the dictionary holding the items `d` and the average value `avg_value` as parameters inside this function.\n",
        "\n",
        "- **Step 2**: Define an empty dictionary and store it in variable let's say `result{}`. \n",
        "\n",
        "- **Step 3**: Iterate through all the `key` and `values` in `d{}` using the `items()` function in a `for` loop. Inside this loop, check whether the value of the prices of each item is greater than the `avg_val` using an `if` condition. \n",
        "\n",
        "- **Step 4**: If the value is greater, then add that item and its value in the `result{}` dictionary using `result[key] = value`. "
      ]
    },
    {
      "cell_type": "code",
      "metadata": {
        "id": "zbVRgU5s4Zuj",
        "colab": {
          "base_uri": "https://localhost:8080/"
        },
        "outputId": "df8ef2c3-4838-4b26-f326-589b6556b5de"
      },
      "source": [
        "# Write a function to print the expensive orders\n",
        "def expensive_orders(d, avg_value):\n",
        "  result={}\n",
        "  key=list(d.keys())\n",
        "  value=list(d.values())\n",
        "  for i in d.values():\n",
        "    if i >avg_value:\n",
        "      j=list(d.values()).index(i)\n",
        "      result[key[j]]=value[j]\n",
        "  print(result)\n",
        "\n",
        "expensive_orders({ \"Gucci Fur\": 24600, \n",
        "                   \"Teak Dining Table\": 3200, \n",
        "                   \"Louis Vutton Bag\": 5550,\n",
        "                  \"Dolce Gabana Heels\": 4000 }, 20000)"
      ],
      "execution_count": 7,
      "outputs": [
        {
          "output_type": "stream",
          "name": "stdout",
          "text": [
            "{'Gucci Fur': 24600}\n"
          ]
        }
      ]
    },
    {
      "cell_type": "markdown",
      "metadata": {
        "id": "2KRIcLMoDmPS"
      },
      "source": [
        "---"
      ]
    }
  ]
}