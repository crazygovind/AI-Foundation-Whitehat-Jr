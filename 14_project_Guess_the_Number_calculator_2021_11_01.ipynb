{
  "nbformat": 4,
  "nbformat_minor": 0,
  "metadata": {
    "colab": {
      "provenance": [],
      "collapsed_sections": [],
      "include_colab_link": true
    },
    "kernelspec": {
      "name": "python3",
      "display_name": "Python 3"
    }
  },
  "cells": [
    {
      "cell_type": "markdown",
      "metadata": {
        "id": "view-in-github",
        "colab_type": "text"
      },
      "source": [
        "<a href=\"https://colab.research.google.com/github/crazygovind/AI-Foundation-Whitehat-Jr/blob/master/14_project_Guess_the_Number_calculator_2021_11_01.ipynb\" target=\"_parent\"><img src=\"https://colab.research.google.com/assets/colab-badge.svg\" alt=\"Open In Colab\"/></a>"
      ]
    },
    {
      "cell_type": "markdown",
      "metadata": {
        "id": "YZnBY81YDCCr"
      },
      "source": [
        "### Instructions"
      ]
    },
    {
      "cell_type": "markdown",
      "metadata": {
        "id": "fIKnY8occu37"
      },
      "source": [
        "#### Goal of the Project\n",
        "\n",
        "This project is designed for you to practice and solve the activities that are based on the concepts covered in the following lessons:\n",
        "\n",
        "1. While Loop, Data-Type Conversion and Conditional Statements.\n",
        "\n",
        "2. Improving the Algorithm (Functions).\n"
      ]
    },
    {
      "cell_type": "markdown",
      "metadata": {
        "id": "BBqkpH4_Doqe"
      },
      "source": [
        "---"
      ]
    },
    {
      "cell_type": "markdown",
      "metadata": {
        "id": "H0P9F3DUf8x2"
      },
      "source": [
        "### Activities\n",
        "\n",
        "\n",
        "  "
      ]
    },
    {
      "cell_type": "markdown",
      "metadata": {
        "id": "qA-b1CdeofKc"
      },
      "source": [
        "#### Activity 1: Guess the Number\n",
        "\n",
        "Create a function which takes a random number $n$ between `10` and `20` (including both) and checks whether the player has guessed the number correctly or not.\n",
        "\n",
        "**For example:** \n",
        "\n",
        "- For random number $n = 10$, \n",
        "    \n",
        "    - If the player guesses a number less than `n`, Print `You guessed small!, The number is 10`.\n",
        "\n",
        "    - If the player guesses a number greater `n`, Print `You guessed high!, The number is 10`.\n",
        "\n",
        "    - If the player guesses a number equal to `n`, Print `Correct Guess!, The number is 10`. \n",
        "\n",
        "\n",
        "Follow the steps given below to achieve the desired result:\n",
        "\n",
        "- **Step 1**: Create a function, let's say `num_guess()` and pass $n$ as a parameter in this function, where $n$ is a random number between `10` and `20`.\n",
        "\n",
        "- **Step 2**: Inside the function,\n",
        "\n",
        "    - Ask the user to enter a number between `10` and `20`. Convert the data type of user input to integer and then store it in a variable `user_guess`.\n",
        "\n",
        "    - If `user_guess` is greater than $n$, return `You guessed high!, The number is 'n'`.\n",
        "\n",
        "    - Elif `user_guess` is less than $n$, return `You guessed small!, The number is 'n'`.\n",
        "\n",
        "    - Elif `user_guess` is equal to $n$, return `Correct Guess!, The number is 'n'`.  \n",
        "\n",
        "- **Step 4**: Generate a random integer between `10` and `20` using the `randint()` function of the `random` module and store this in a variable `rand_num`.\n",
        "\n",
        "-  **Step 5**: Call the function `num_guess()` and pass `rand_num` as a parameter inside this function."
      ]
    },
    {
      "cell_type": "code",
      "metadata": {
        "id": "AtvPTG3kpBoS",
        "colab": {
          "base_uri": "https://localhost:8080/"
        },
        "outputId": "4555bc02-aef4-40c6-e7ad-c65568d14deb"
      },
      "source": [
        "\n",
        "# Import random module\n",
        "import random\n",
        "\n",
        "# Create the 'num_guess()' function and pass  𝑛  as a parameter\n",
        "def num_guess(n):\n",
        "  # Ask the user to enter a number between 10 and 20 and store it in a variable 'user_guess'.\n",
        "  user_guess=int(input('Enter a number between 10 to 20  '))\n",
        "  # If 'user_guess' is greater than  𝑛 , return 'You guessed high!' and 'n'.\n",
        "  if user_guess > n:\n",
        "    return'you guessed high!, The number is ',n\n",
        "  # If 'user_guess' is lower than  𝑛 , return 'You guessed small!' and 'n'.\n",
        "  if user_guess < n:\n",
        "    return'you guessed small!, The number is ',n\n",
        "  # If 'user_guess' is equal to  𝑛 , return 'Correct Guess!' and 'n'.\n",
        "  if user_guess ==n:\n",
        "    return'Correct guess!'\n",
        "\n",
        "# Generate a random integer between 10 and 20 using randint() function and store it in a variable 'rand_num'\n",
        "n=random.randint(10,20)\n",
        "# Call the function num_guess() and pass 'rand_num' as a parameter inside this function\n",
        "num_guess(n)"
      ],
      "execution_count": null,
      "outputs": [
        {
          "name": "stdout",
          "output_type": "stream",
          "text": [
            "Enter a number between 10 to 20  5\n"
          ]
        },
        {
          "output_type": "execute_result",
          "data": {
            "text/plain": [
              "('you guessed small!, The number is ', 13)"
            ]
          },
          "metadata": {},
          "execution_count": 13
        }
      ]
    },
    {
      "cell_type": "markdown",
      "metadata": {
        "id": "KOVBiUSMzut1"
      },
      "source": [
        "---"
      ]
    },
    {
      "cell_type": "markdown",
      "metadata": {
        "id": "-CJUWg6xGhSI"
      },
      "source": [
        "#### Activity 2: Calculator\n",
        "\n",
        "Create a function which lets user to input the choice of arithmetic operation they want to perform on a pair of numerical values and returns the appropriate result.\n",
        "\n",
        "Follow the steps given below to achieve the desired result:\n",
        "\n",
        "  - **Step 1**: Create a function `calculator()` which takes two inputs `num1` and `num2`.\n",
        "\n",
        "  - **Step 2**: Ask the user to input the operation that the user wants to perform by printing the following choices:\n",
        "```\n",
        "  Enter 1 for Addition.\n",
        "  Enter 2 for Subtraction.\n",
        "  Enter 3 for Multiplication.\n",
        "  Enter 4 for Division.\n",
        "```\n",
        "\n",
        "  - **Step 3**: Store the number entered by user in a variable `choice`.\n",
        "  \n",
        "  - **Step 4**: Use `if-else` statements to check user input. If `choice == \"1\"`, then perform addition and print the result using `print(num1 + num2)`. \n",
        "  \n",
        "   Else if `choice == \"2\"`, perform subtraction and print the result using `print(num1 - num2)`. Perform similar activity for multiplication and division.\n",
        "\n",
        "  - **Step 5:** Call the `calculator()` function by passing two integers.\n"
      ]
    },
    {
      "cell_type": "code",
      "metadata": {
        "id": "TxPTttbejfMm",
        "colab": {
          "base_uri": "https://localhost:8080/"
        },
        "outputId": "525f79c0-a0de-4694-b4f5-e360c6b91da5"
      },
      "source": [
        "# Step 1: Define function 'calculator()'\n",
        "def calculator():\n",
        "  \n",
        "  num1=int(input('Enter num1  '))\n",
        "  num2=int(input('Enter num2  '))\n",
        "\n",
        "  # Step 2: Ask user input\n",
        "  choice=input('Enter 1 for Addition'\n",
        "                 'Enter 2 for Subtraction'\n",
        "                 'Enter 3 for Multiplication'\n",
        "                 'Enter 4 for Division    ')\n",
        "    # Step 3: Store user input in a variable 'choice'\n",
        "    \n",
        "    # Step 4: Use if-else statement to check the value of 'choice' variable\n",
        "  if  choice == '1':\n",
        "    print(num1+num2)\n",
        "  elif choice == '2':\n",
        "    print(num1 -num2)\n",
        "  elif choice == '3':\n",
        "    print(num1*num2)\n",
        "  else:\n",
        "    print(num1/num2)\n",
        "\n",
        "# Call the function by passing two integers. for e.g: calculator(4,5)\n",
        "calculator()"
      ],
      "execution_count": null,
      "outputs": [
        {
          "output_type": "stream",
          "name": "stdout",
          "text": [
            "Enter num1  78\n",
            "Enter num2  18\n",
            "Enter 1 for AdditionEnter 2 for SubtractionEnter 3 for MultiplicationEnter 4 for Division    2\n",
            "60\n"
          ]
        }
      ]
    },
    {
      "cell_type": "markdown",
      "metadata": {
        "id": "gdRuWpBDGghH"
      },
      "source": [
        "---"
      ]
    }
  ]
}