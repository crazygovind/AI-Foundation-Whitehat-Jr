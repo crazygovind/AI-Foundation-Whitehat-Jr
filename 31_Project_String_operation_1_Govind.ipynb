{
  "nbformat": 4,
  "nbformat_minor": 0,
  "metadata": {
    "colab": {
      "provenance": [],
      "collapsed_sections": [],
      "include_colab_link": true
    },
    "kernelspec": {
      "name": "python3",
      "display_name": "Python 3"
    }
  },
  "cells": [
    {
      "cell_type": "markdown",
      "metadata": {
        "id": "view-in-github",
        "colab_type": "text"
      },
      "source": [
        "<a href=\"https://colab.research.google.com/github/crazygovind/AI-Foundation-Whitehat-Jr/blob/master/31_Project_String_operation_1_Govind.ipynb\" target=\"_parent\"><img src=\"https://colab.research.google.com/assets/colab-badge.svg\" alt=\"Open In Colab\"/></a>"
      ]
    },
    {
      "cell_type": "markdown",
      "metadata": {
        "id": "YZnBY81YDCCr"
      },
      "source": [
        "### Instructions"
      ]
    },
    {
      "cell_type": "markdown",
      "metadata": {
        "id": "bEyBzxYRhrLG"
      },
      "source": [
        "#### Goal of the Project\n",
        "\n",
        "This project is designed for you to practice and solve the activities that are based on the concepts covered in the following lesson:\n",
        "\n",
        "1. String Operations I\n",
        "\n",
        "2. Python Dictionary Operations I\n",
        "\n",
        "\n",
        "\n"
      ]
    },
    {
      "cell_type": "markdown",
      "metadata": {
        "id": "DPOFIO3EHncO"
      },
      "source": [
        "---"
      ]
    },
    {
      "cell_type": "markdown",
      "metadata": {
        "id": "8f6-uc0r9Q4h"
      },
      "source": [
        "### Activities"
      ]
    },
    {
      "cell_type": "markdown",
      "metadata": {
        "id": "q4fH06mIjuK3"
      },
      "source": [
        "#### Activity 1: Reverse the string  \n",
        "\n",
        "Given a few motivational quotes in reverse format, stored in `my_quote` dictionary, write a program to get the quotes back in its original readable format.\n",
        "\n",
        "**Reversed Quote**:\n",
        "\n",
        "```\n",
        "my_quote = {1 : 'worromot rof epoH ,yadot rof eviL ,yadretsey morf nraeL',\n",
        "            2 : 'elbissop si gnihtyreve dna flesruoy ni eveileB',\n",
        "            3 : 'selcatsbo ton ,slaog no sucof ot si sseccus ot yek ehT',\n",
        "            4 : 'selcatsbo ton ,slaog no sucof ot si sseccus ot yek ehT',\n",
        "            5 : 'tnaw uoy worromoT eht dliub ot ytinutroppo eht si yadoT'}\n",
        "```\n"
      ]
    },
    {
      "cell_type": "code",
      "metadata": {
        "id": "4EAoTskqg041",
        "colab": {
          "base_uri": "https://localhost:8080/"
        },
        "outputId": "4cff47f3-5c5e-4960-82b1-7736dd645cdf"
      },
      "source": [
        "my_quote = {1 : 'worromot rof epoH ,yadot rof eviL ,yadretsey morf nraeL',\n",
        "            2 : 'elbissop si gnihtyreve dna flesruoy ni eveileB',\n",
        "            3 : 'selcatsbo ton ,slaog no sucof ot si sseccus ot yek ehT',\n",
        "            4 : 'selcatsbo ton ,slaog no sucof ot si sseccus ot yek ehT',\n",
        "            5 : 'tnaw uoy worromoT eht dliub ot ytinutroppo eht si yadoT'}\n",
        "\n",
        "# Write your code to reverse the quotes and display them in readable format\n",
        "for i in my_quote.values():\n",
        "  print(i[::-1])\n",
        "  "
      ],
      "execution_count": null,
      "outputs": [
        {
          "output_type": "stream",
          "name": "stdout",
          "text": [
            "Learn from yesterday, Live for today, Hope for tomorrow\n",
            "Believe in yourself and everything is possible\n",
            "The key to success is to focus on goals, not obstacles\n",
            "The key to success is to focus on goals, not obstacles\n",
            "Today is the opportunity to build the Tomorrow you want\n"
          ]
        }
      ]
    },
    {
      "cell_type": "markdown",
      "metadata": {
        "id": "9U80SJmphnn0"
      },
      "source": [
        "**Hints**: \n",
        "\n",
        "1. You can access the values of `my_quote` dictionary using the `values()` function.\n",
        "2. You can reverse the sentence by using the slicing technique. "
      ]
    },
    {
      "cell_type": "markdown",
      "metadata": {
        "id": "3GZA0ocrke5Y"
      },
      "source": [
        "---"
      ]
    },
    {
      "cell_type": "markdown",
      "metadata": {
        "id": "qA-b1CdeofKc"
      },
      "source": [
        "#### Activity 2: Number Triangle\n",
        "\n",
        "Write a code to print the below shown triangle in the output.\n",
        "\n",
        "```\n",
        "1\n",
        "22\n",
        "333\n",
        "4444\n",
        "55555\n",
        "```"
      ]
    },
    {
      "cell_type": "code",
      "metadata": {
        "id": "KB8cEYmCaMun",
        "colab": {
          "base_uri": "https://localhost:8080/"
        },
        "outputId": "a0f47104-0aa9-4f57-8c4a-cddf238af115"
      },
      "source": [
        "# Write your code here:\n",
        "# Initiate a 'for()' loop in 'range(1,6)' \n",
        "for i in range(1,6):\n",
        "  print(str(i)*i)\n",
        "  # Convert the temporary variable into a string using the 'str()' function and multiply it with itself.\n"
      ],
      "execution_count": null,
      "outputs": [
        {
          "output_type": "stream",
          "name": "stdout",
          "text": [
            "1\n",
            "22\n",
            "333\n",
            "4444\n",
            "55555\n"
          ]
        }
      ]
    },
    {
      "cell_type": "markdown",
      "metadata": {
        "id": "KOVBiUSMzut1"
      },
      "source": [
        "---"
      ]
    }
  ]
}