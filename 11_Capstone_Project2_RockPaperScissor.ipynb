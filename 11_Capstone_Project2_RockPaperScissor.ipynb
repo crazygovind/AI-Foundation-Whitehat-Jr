{
  "nbformat": 4,
  "nbformat_minor": 0,
  "metadata": {
    "colab": {
      "provenance": [],
      "collapsed_sections": [],
      "include_colab_link": true
    },
    "kernelspec": {
      "name": "python3",
      "display_name": "Python 3"
    }
  },
  "cells": [
    {
      "cell_type": "markdown",
      "metadata": {
        "id": "view-in-github",
        "colab_type": "text"
      },
      "source": [
        "<a href=\"https://colab.research.google.com/github/crazygovind/AI-Foundation-Whitehat-Jr/blob/master/11_Capstone_Project2_RockPaperScissor.ipynb\" target=\"_parent\"><img src=\"https://colab.research.google.com/assets/colab-badge.svg\" alt=\"Open In Colab\"/></a>"
      ]
    },
    {
      "cell_type": "markdown",
      "metadata": {
        "id": "e4QGT0wEyPzI"
      },
      "source": [
        "# Capstone Project 2: The Rock-Paper-Scissors Game"
      ]
    },
    {
      "cell_type": "markdown",
      "metadata": {
        "id": "HlBg2Ru0eNFF"
      },
      "source": [
        "---"
      ]
    },
    {
      "cell_type": "markdown",
      "metadata": {
        "id": "L7UdXXKRkGZb"
      },
      "source": [
        "### Overview\n",
        "\n",
        "In this project, you have to create a ROCK-PAPER-SCISSORS game in which a player plays either 'Rock', 'Paper' or 'Scissors' and a computer tries to beat the player based on the player's previous moves. This game is generally played between two people. The rules of this game are:\n",
        "\n",
        "1. Rock beats scissors.\n",
        "\n",
        "2. Scissors beat paper.\n",
        "\n",
        "3. Paper beats rock.\n",
        "\n",
        "\n",
        "<img src=\"https://s3-whjr-v2-prod-bucket.whjr.online/b5ceb1fc-1760-4cd4-ae6c-ea600e577899.svg\"/>\n",
        "\n",
        "*Image Credits: https://commons.wikimedia.org/wiki/*\n",
        "\n",
        "\n",
        "Click on the link provided below to know how the game is played between two players in real life.\n",
        "\n",
        "[How to Play Rock-Paper-Scissors](https://www.wikihow.com/Video/Play-Rock,-Paper,-Scissors)\n",
        "\n",
        "For every move, either a human player gets 1 point or the computer gets 1 point. The game runs till either a human player or the computer reaches a score of 10 points. \n",
        "\n",
        "**Player Input Format**\n",
        "\n",
        "A player should play his/her move by entering the numbers 0, 1 and 2 where- \n",
        "\n",
        "- 0 denotes ROCK.\n",
        "\n",
        "- 1 denotes PAPER.\n",
        "\n",
        "- 2 denotes SCISSORS.\n"
      ]
    },
    {
      "cell_type": "markdown",
      "metadata": {
        "id": "CtDFzWSsvovW"
      },
      "source": [
        "---"
      ]
    },
    {
      "cell_type": "markdown",
      "metadata": {
        "id": "9Q0M0oH0vn8W"
      },
      "source": [
        "### The Algorithm\n",
        "\n",
        "In the algorithm, the computer should keep a count of player moves (i.e., the counts for 0, 1 and 2) in three separate variables - `count_rock`, `count_paper` and `count_scissors`. The algorithm should decide the computer's move based on the following possibilities:\n",
        "\n",
        "- If  `count_rock` $\\\\>$ `count_paper` and `count_rock` $\\\\>$ `count_scissors`, then the computer's move should be ROCK.\n",
        "\n",
        "\n",
        "- If  `count_paper` $\\\\>$ `count_rock` and `count_paper` $\\\\>$ `count_scissors`, then the computer's move should be PAPER.\n",
        "\n",
        "- If  `count_scissors` $\\\\>$ `count_rock` and `count_scissors` $\\\\>$ `count_paper`, then the computer's move should be SCISSORS.\n",
        "\n",
        "- In all other cases, the computer should play ROCK, PAPER and SCISSORS randomly.\n"
      ]
    },
    {
      "cell_type": "markdown",
      "metadata": {
        "id": "fQa66ZmKvjbh"
      },
      "source": [
        "---"
      ]
    },
    {
      "cell_type": "markdown",
      "metadata": {
        "id": "Ckavby9cyCYx"
      },
      "source": [
        "### Game Requirements and Flowchart\n",
        "\n",
        "To make this game, you have to create five variables, one list and three functions.\n",
        "\n",
        "**Flowchart:**\n",
        "\n",
        "<img src=\"https://s3-whjr-v2-prod-bucket.whjr.online/ec033af4-e842-4ddc-b0f0-f9599bcec7b3.jpg\"/>\n",
        "\n",
        "\n"
      ]
    },
    {
      "cell_type": "markdown",
      "metadata": {
        "id": "wTPPusbHePv6"
      },
      "source": [
        "---"
      ]
    },
    {
      "cell_type": "markdown",
      "metadata": {
        "id": "-8TquayTxmCK"
      },
      "source": [
        "#### Import the `random` Module and Create the Count Variables\n",
        "\n",
        "- As a first step to create this game, import the `random` module.\n",
        "\n",
        "- Create the `count_rock`, `count_paper` and `count_scissors` variables and set their initial values equal to `0`."
      ]
    },
    {
      "cell_type": "code",
      "metadata": {
        "id": "tVGefK0W7XYm"
      },
      "source": [
        "# Import the random module in the next line.\n",
        "import random\n",
        "\n",
        "# Create count_rock, count_paper and count_scissors variables and set their initial values equal to 0.\n",
        "count_rock=0\n",
        "count_paper=0\n",
        "count_scissors=0"
      ],
      "execution_count": null,
      "outputs": []
    },
    {
      "cell_type": "markdown",
      "metadata": {
        "id": "CLkrMirEd-J3"
      },
      "source": [
        "---"
      ]
    },
    {
      "cell_type": "markdown",
      "metadata": {
        "id": "wPiSv3iXyuPY"
      },
      "source": [
        "#### Create The `update_counts()` Function\n",
        "\n",
        "Now create a function and name it `update_counts()`. It should take `user_input` variable as input and update the count variables based on the following logic.\n",
        "\n",
        "- If the player plays ROCK (or `user_input == 0`), then increase the value of `count_rock` variable.\n",
        "\n",
        "- Else if the player plays PAPER (or `user_input == 1`), then increase the value of `count_paper` variable.\n",
        "\n",
        "- Else if the player plays SCISSORS (or `user_input == 2`), then increase the value of `count_scissors` variable.\n",
        "\n",
        "The `update_counts()` function should not return anything. In other words, it should not contain the `return` statement. It should only perform the actions prescribed above. Make sure that you add the `global` keyword before the `count_rock`, `count_paper` and `count_scissors` variables before incrementing their values. Without it you will face an error while running the game."
      ]
    },
    {
      "cell_type": "code",
      "metadata": {
        "id": "aRXQ7Psmyc88"
      },
      "source": [
        "# Create the update_counts() function.\n",
        "def update_counts(user_input):\n",
        "  global count_rock,count_paper,count_scissors\n",
        "  if user_input==0:\n",
        "    count_rock = count_rock +1\n",
        "  elif user_input==1:\n",
        "    count_paper= count_paper +1\n",
        "  elif user_input==2:\n",
        "    count_scissors= count_scissors +1\n",
        "    \n"
      ],
      "execution_count": null,
      "outputs": []
    },
    {
      "cell_type": "markdown",
      "metadata": {
        "id": "d13rhawzeBL_"
      },
      "source": [
        "---"
      ]
    },
    {
      "cell_type": "markdown",
      "metadata": {
        "id": "lQNablFj2R2f"
      },
      "source": [
        "#### Create The `predict()` Function\n",
        "\n",
        "Next, you need to create a function called `predict()` which should return -\n",
        "\n",
        "- ROCK (or `0`), if the value of the `count_rock` variable is greater than the values of the `count_paper` and `count_scissors` variables.\n",
        "\n",
        "- PAPER (or `1`), if the value of the `count_paper` variable is greater than the values of the `count_rock` and `count_scissors` variables.\n",
        "\n",
        "- SCISSORS (or `2`), if the value of the `count_scissors` variable is greater than the values of the `count_rock` and `count_paper` variables.\n",
        "\n",
        "- `0, 1` or `2` randomly if the values of all the three variables i.e. `count_rock, count_paper` and `count_scissors` are equal.\n",
        "\n",
        "Use the `and` keyword to check two conditions simultaneously. For example, the code below should return `True` because  5 is less than 8 and 5 is less than 10."
      ]
    },
    {
      "cell_type": "code",
      "metadata": {
        "id": "M5HlFFbx7Nj0",
        "colab": {
          "base_uri": "https://localhost:8080/"
        },
        "outputId": "dcef22ae-57b9-4ed8-b33b-364ea7d0dcb5"
      },
      "source": [
        "5 < 8 and 5 < 10"
      ],
      "execution_count": null,
      "outputs": [
        {
          "output_type": "execute_result",
          "data": {
            "text/plain": [
              "True"
            ]
          },
          "metadata": {},
          "execution_count": 7
        }
      ]
    },
    {
      "cell_type": "markdown",
      "metadata": {
        "id": "KcScMMWn7a8V"
      },
      "source": [
        "The code below should return `False` because 5 is less than 13."
      ]
    },
    {
      "cell_type": "code",
      "metadata": {
        "id": "l1_3WPBT77PL",
        "colab": {
          "base_uri": "https://localhost:8080/"
        },
        "outputId": "7645564d-97bd-46ce-e51d-486e79c0fd8e"
      },
      "source": [
        "5 > 13 and 5 < 10"
      ],
      "execution_count": null,
      "outputs": [
        {
          "output_type": "execute_result",
          "data": {
            "text/plain": [
              "False"
            ]
          },
          "metadata": {},
          "execution_count": 8
        }
      ]
    },
    {
      "cell_type": "markdown",
      "metadata": {
        "id": "KqotpZqk8SG2"
      },
      "source": [
        "The statement, `condition1 and condition2` is `True` if and only if both the conditions are `True`. If at least one of them is `False`, then the whole statement becomes `False`.\n",
        "\n",
        "\n",
        "Now, create the `predict()` function."
      ]
    },
    {
      "cell_type": "code",
      "metadata": {
        "id": "mZx0NTuy2l2f"
      },
      "source": [
        "# Create the predict() function.\n",
        "def predict():\n",
        "\n",
        "  if count_rock > count_paper and count_rock > count_scissors:\n",
        "    pred = 1\n",
        "  elif count_paper > count_rock and count_paper > count_scissors:\n",
        "    pred = 2\n",
        "  elif count_scissors > count_rock and count_scissors > count_paper:\n",
        "    pred = 0\n",
        "  else:\n",
        "    pred = random.randint(0, 2)\n",
        "\n",
        "  return pred"
      ],
      "execution_count": null,
      "outputs": []
    },
    {
      "cell_type": "markdown",
      "metadata": {
        "id": "is9vbO8KeDg8"
      },
      "source": [
        "---"
      ]
    },
    {
      "cell_type": "markdown",
      "metadata": {
        "id": "X-z3Zc89DIdh"
      },
      "source": [
        "#### Scores\n",
        "Now, create two variables `player_score` and `comp_score` to keep a track of the points secured by a player and a computer, respectively. Set their initial values equal to 0.  "
      ]
    },
    {
      "cell_type": "code",
      "metadata": {
        "id": "kmTRqKuBDiVw"
      },
      "source": [
        "# Create the player_score and comp_score variables.\n",
        "player_score=0\n",
        "comp_score=0"
      ],
      "execution_count": null,
      "outputs": []
    },
    {
      "cell_type": "markdown",
      "metadata": {
        "id": "bUyVtX_QeE-G"
      },
      "source": [
        "---"
      ]
    },
    {
      "cell_type": "markdown",
      "metadata": {
        "id": "lhW2U1tRCJj_"
      },
      "source": [
        "#### The `update_scores()` Function\n",
        "\n",
        "Create a function and name it `update_scores()`. It should take the `user_input` variable as input and update the scores of the computer and a player. For every player input, there are 3 possible responses from the computer. \n",
        "\n",
        "**In total, there are 9 possible situations:**\n",
        "\n",
        "1. Player plays ROCK, computer plays ROCK, resulting in a tie.\n",
        "\n",
        "2. Player plays ROCK, computer plays PAPER, the computer wins.\n",
        "\n",
        "3. Player plays ROCK, computer plays SCISSORS, the player wins.\n",
        "\n",
        "4. Player plays PAPER, computer plays PAPER, resulting in a tie.\n",
        "\n",
        "5. Player plays PAPER, computer plays ROCK, the player wins.\n",
        "\n",
        "6. Player plays PAPER, computer plays SCISSORS, the computer wins.\n",
        "\n",
        "7. Player plays SCISSORS, computer plays SCISSORS, resulting in a tie.\n",
        "\n",
        "8. Player plays SCISSORS, computer plays ROCK, the computer wins.\n",
        "\n",
        "9. Player plays SCISSORS, computer plays PAPER, the player wins.\n",
        "\n",
        "This function needs to cover all the 9 possible situations to update the scores. To correctly create this function, do the following tasks:\n",
        "\n",
        "1. Write the `global` keyword before the `player_score` and `comp_score` variables.\n",
        "\n",
        "2. Create a variable called `pred` and store the value returned by the `predict()` function.\n",
        "\n",
        "3. Write an `if` statement to cover the first 3 possible situations. The code for this part has been provided to you already as a reference to enable you to write the remaining statements.\n",
        "\n",
        "4. Write an `elif` statement to cover the next 3 possible situations.\n",
        "\n",
        "5. Write the `else` statement to cover the remaining 3 possible situations.\n",
        "\n",
        "6. For every possible situation you must print the following:\n",
        "\n",
        "  - `You played X, computer played Y.`\n",
        "\n",
        "  - `Computer Score:`\n",
        "  \n",
        "  - `Your Score:`\n",
        "  \n",
        "  Here, `X` is either `ROCK, PAPER` or `SCISSORS` and `Y` is also either `ROCK, PAPER` or `SCISSORS`. \n",
        "\n",
        "**Note:** The `\\n` is called the **newline** character. It adds an empty newline at the beginning if placed it is before a string or at the end if it is place after a string. Refer to the code shown below.\n",
        "\n"
      ]
    },
    {
      "cell_type": "code",
      "metadata": {
        "id": "GFcDtsfD4QuW",
        "colab": {
          "base_uri": "https://localhost:8080/"
        },
        "outputId": "743d8efd-aa2e-465a-86ba-57764e937c5e"
      },
      "source": [
        "# Placing \\n before a string.\n",
        "print(\"\\nPlacing the newline character before the string.\")"
      ],
      "execution_count": null,
      "outputs": [
        {
          "output_type": "stream",
          "name": "stdout",
          "text": [
            "\n",
            "Placing the newline character before the string.\n"
          ]
        }
      ]
    },
    {
      "cell_type": "markdown",
      "metadata": {
        "id": "GpTKrUxe4R24"
      },
      "source": [
        "As you can see, an empty new line is added before the string."
      ]
    },
    {
      "cell_type": "code",
      "metadata": {
        "id": "HDyHXJWv4XbG",
        "colab": {
          "base_uri": "https://localhost:8080/"
        },
        "outputId": "fa6f9a8f-5bfa-4d32-9b15-2e409cad82ab"
      },
      "source": [
        "# Placing \\n after a string.\n",
        "print(\"Placing the newline character before the string.\\n\")"
      ],
      "execution_count": null,
      "outputs": [
        {
          "output_type": "stream",
          "name": "stdout",
          "text": [
            "Placing the newline character before the string.\n",
            "\n"
          ]
        }
      ]
    },
    {
      "cell_type": "markdown",
      "metadata": {
        "id": "ujasuQ8s4YI3"
      },
      "source": [
        "As you can see, an empty new line is added after the string.\n",
        "\n",
        "Now, create the `update_scores()` function."
      ]
    },
    {
      "cell_type": "code",
      "metadata": {
        "id": "2T3NfNyB-BXO"
      },
      "source": [
        "# Create the update_scores() function.\n",
        "def update_scores(user_input):\n",
        "  global player_score, comp_score\n",
        "  \n",
        "  # Rock wins over scissors, scissors win over paper and paper wins over rock.\n",
        "  pred = predict()\n",
        "\n",
        "  # Code for Situation 1, 2 and 3.\n",
        "  if user_input == 0:\n",
        "    if pred == 0:\n",
        "      print(\"\\nYou played ROCK, computer played ROCK.\")\n",
        "      print(\"\\nComputer Score: \", comp_score, \"\\nYour Score: \", player_score)\n",
        "    elif pred == 1:\n",
        "      print(\"\\nYou played ROCK, computer played PAPER.\")\n",
        "      comp_score += 1\n",
        "      print(\"\\nComputer Score: \", comp_score, \"\\nYour Score: \", player_score)\n",
        "    else:\n",
        "      print(\"\\nYou played ROCK, computer played SCISSORS.\")\n",
        "      player_score += 1\n",
        "      print(\"\\nComputer Score: \", comp_score, \"\\nYour Score: \", player_score)\n",
        "  \n",
        "  # Code for Situation 4, 5 and 6.\n",
        "  elif user_input == 1:\n",
        "    if pred == 1:\n",
        "      print(\"\\nYou played PAPER, computer played PAPER.\")\n",
        "      print(\"\\nComputer Score: \", comp_score, \"\\nYour Score: \", player_score)\n",
        "    elif pred == 0:\n",
        "      print(\"\\nYou played PAPER, computer played ROCK.\")\n",
        "      player_score += 1\n",
        "      print(\"\\nComputer Score: \", comp_score, \"\\nYour Score: \", player_score)\n",
        "    else:\n",
        "      print(\"\\nYou played PAPER, computer played SCISSORS.\")\n",
        "      comp_score += 1\n",
        "      print(\"\\nComputer Score: \", comp_score, \"\\nYour Score: \", player_score)\n",
        "\n",
        "  else:\n",
        "    if pred == 2:\n",
        "      print(\"\\nYou played SCISSORS, computer played SCISSORS.\")\n",
        "      print(\"\\nComputer Score: \", comp_score, \"\\nYour Score: \", player_score)\n",
        "    elif pred == 0:\n",
        "      print(\"\\nYou played SCISSORS, computer played ROCK.\")\n",
        "      comp_score += 1\n",
        "      print(\"\\nComputer Score: \", comp_score, \"\\nYour Score: \", player_score)\n",
        "    else:\n",
        "      print(\"\\nYou played SCISSORS, computer played PAPER.\")\n",
        "      player_score += 1\n",
        "      print(\"\\nComputer Score: \", comp_score, \"\\nYour Score: \", player_score)\n",
        "\n",
        "    # (Write the code for else statement to cover situation 7,8 and 9.)"
      ],
      "execution_count": null,
      "outputs": []
    },
    {
      "cell_type": "markdown",
      "metadata": {
        "id": "U8fwzPIXeHEA"
      },
      "source": [
        "---"
      ]
    },
    {
      "cell_type": "markdown",
      "metadata": {
        "id": "u-R8rU6fK3EW"
      },
      "source": [
        "#### Gameplay\n",
        "\n",
        "Now, it is time to run the game. \n",
        "\n",
        "1. Create a list: `['0', '1', '2']` and store it in the variable called `valid_entries`, i.e, `valid_entries = ['0', '1', '2']`.\n",
        "\n",
        "2. Create an infinite `while` loop. Inside the loop, create a variable called `user_input` to store the input taken by the player.\n",
        "\n",
        "3. Use the `input()` function to take input from a player. Inside the `input()` function, write the `Enter 0 for ROCK, 1 for PAPER and 2 for SCISSORS: ` statement to show it as a message to a player.\n",
        "\n",
        "4. Write another `while` loop to check whether the input provided by a player exists in the `valid_entries` list or not.\n",
        "\n",
        "5. If the input provided by a player does not exist in the `valid_entries` list, then print `Invalid Input!` message. In the next line, rewrite the `user_input = input(\"Enter 0 for ROCK, 1 for PAPER and 2 for SCISSORS: \")` statement.\n",
        "\n",
        "6. Now, outside the inner `while` loop, convert the `user_input` value to an integer value using the `int()` function.\n",
        "\n",
        "7. Call the `update_scores()` function with the `user_input` as an input to update the scores of the computer and the player.\n",
        "\n",
        "8. Call the `update_counts()` function with the `user_input` as an input to update the counts of the inputs provided by the player.\n",
        "\n",
        "9. Write an `if` statement to check if the score is 10 for any of the player. If the `comp_score == 10`, then print the `Computer Won!` message and break the loop. Else if the `player_score == 10`, then print the `You won!` message and break the loop.\n",
        "\n",
        "After writing code for the gameplay, the game should run smoothly till either the computer or the human player has reached a score of 10 points."
      ]
    },
    {
      "cell_type": "code",
      "metadata": {
        "id": "XunWo6pKe7jg",
        "colab": {
          "base_uri": "https://localhost:8080/",
          "height": 1000
        },
        "outputId": "f574b268-4ca5-42fe-e452-fcb7cb4295fe"
      },
      "source": [
        "# 1. Create a list: ['0', '1', '2'] and store it in the variable called valid_entries, i.e, valid_entries = ['0', '1', '2']\n",
        "valid_entries = ['0', '1', '2']\n",
        "\n",
        "# 2. Create an infinite while loop. Inside the loop, create a variable called user_input to store the input taken by the player.\n",
        "while True:\n",
        "  # 3. Use the input() function to take input from a player. \n",
        "  # Inside the input() function, write the Enter 0 for ROCK, 1 for PAPER and 2 for SCISSORS: statement to show it as a message to a player.\n",
        "  user_input = input(\"Enter 0 for ROCK, 1 for PAPER and 2 for SCISSORS: \")\n",
        "  # 4. Write another while loop to check whether the input provided by a player exists in the valid_entries list or not.\n",
        "  while user_input not in valid_entries:\n",
        "    # 5. If the input provided by a player does not exist in the valid_entries list, then print Invalid Input! message. \n",
        "    # In the next line, rewrite the user_input = input(\"Enter 0 for ROCK, 1 for PAPER and 2 for SCISSORS: \") statement.\n",
        "    print(\"\\nInvalid Input!\")\n",
        "    user_input = input(\"Enter 0 for ROCK, 1 for PAPER and 2 for SCISSORS: \")\n",
        "\n",
        "  # 6. Now, outside the inner while loop, convert the user_input value to an integer value using the int() function. \n",
        "  user_input = int(user_input)\n",
        "  # 7. Call the update_scores() function with the user_input as an input to update the scores of the computer and the player.\n",
        "  update_scores(user_input)\n",
        "  # 8. Call the update_counts() function with the user_input as an input to update the counts of the inputs provided by the player.\n",
        "  update_counts(user_input)\n",
        "\n",
        "  # (write the code for Step 9)\n",
        "  # 9. Write an if statement to check if the score is 10 for any of the player. \n",
        "  # If the comp_score == 10, then print the Computer Won! message and break the loop. \n",
        "  # Else if the player_score == 10, then print the You won! message and break the loop.\n",
        "  \n",
        "\n",
        "\n"
      ],
      "execution_count": null,
      "outputs": [
        {
          "output_type": "stream",
          "name": "stdout",
          "text": [
            "Enter 0 for ROCK, 1 for PAPER and 2 for SCISSORS: 2\n",
            "\n",
            "You played SCISSORS, computer played PAPER.\n",
            "\n",
            "Computer Score:  4 \n",
            "Your Score:  6\n",
            "Enter 0 for ROCK, 1 for PAPER and 2 for SCISSORS: 1\n",
            "\n",
            "You played PAPER, computer played PAPER.\n",
            "\n",
            "Computer Score:  4 \n",
            "Your Score:  6\n",
            "Enter 0 for ROCK, 1 for PAPER and 2 for SCISSORS: 3\n",
            "\n",
            "Invalid Input!\n",
            "Enter 0 for ROCK, 1 for PAPER and 2 for SCISSORS: 0\n",
            "\n",
            "You played ROCK, computer played PAPER.\n",
            "\n",
            "Computer Score:  5 \n",
            "Your Score:  6\n",
            "Enter 0 for ROCK, 1 for PAPER and 2 for SCISSORS: 1\n",
            "\n",
            "You played PAPER, computer played PAPER.\n",
            "\n",
            "Computer Score:  5 \n",
            "Your Score:  6\n",
            "Enter 0 for ROCK, 1 for PAPER and 2 for SCISSORS: 1\n",
            "\n",
            "You played PAPER, computer played PAPER.\n",
            "\n",
            "Computer Score:  5 \n",
            "Your Score:  6\n",
            "Enter 0 for ROCK, 1 for PAPER and 2 for SCISSORS: 2\n",
            "\n",
            "You played SCISSORS, computer played PAPER.\n",
            "\n",
            "Computer Score:  5 \n",
            "Your Score:  7\n",
            "Enter 0 for ROCK, 1 for PAPER and 2 for SCISSORS: 2\n",
            "\n",
            "You played SCISSORS, computer played PAPER.\n",
            "\n",
            "Computer Score:  5 \n",
            "Your Score:  8\n",
            "Enter 0 for ROCK, 1 for PAPER and 2 for SCISSORS: 2\n",
            "\n",
            "You played SCISSORS, computer played ROCK.\n",
            "\n",
            "Computer Score:  6 \n",
            "Your Score:  8\n",
            "Enter 0 for ROCK, 1 for PAPER and 2 for SCISSORS: 2\n",
            "\n",
            "You played SCISSORS, computer played ROCK.\n",
            "\n",
            "Computer Score:  7 \n",
            "Your Score:  8\n",
            "Enter 0 for ROCK, 1 for PAPER and 2 for SCISSORS: 1\n",
            "\n",
            "You played PAPER, computer played ROCK.\n",
            "\n",
            "Computer Score:  7 \n",
            "Your Score:  9\n",
            "Enter 0 for ROCK, 1 for PAPER and 2 for SCISSORS: 1\n",
            "\n",
            "You played PAPER, computer played ROCK.\n",
            "\n",
            "Computer Score:  7 \n",
            "Your Score:  10\n",
            "Enter 0 for ROCK, 1 for PAPER and 2 for SCISSORS: 2\n",
            "\n",
            "You played SCISSORS, computer played ROCK.\n",
            "\n",
            "Computer Score:  8 \n",
            "Your Score:  10\n",
            "Enter 0 for ROCK, 1 for PAPER and 2 for SCISSORS: 0\n",
            "\n",
            "You played ROCK, computer played ROCK.\n",
            "\n",
            "Computer Score:  8 \n",
            "Your Score:  10\n",
            "Enter 0 for ROCK, 1 for PAPER and 2 for SCISSORS: 2\n",
            "\n",
            "You played SCISSORS, computer played ROCK.\n",
            "\n",
            "Computer Score:  9 \n",
            "Your Score:  10\n",
            "Enter 0 for ROCK, 1 for PAPER and 2 for SCISSORS: 1\n",
            "\n",
            "You played PAPER, computer played ROCK.\n",
            "\n",
            "Computer Score:  9 \n",
            "Your Score:  11\n"
          ]
        },
        {
          "output_type": "error",
          "ename": "KeyboardInterrupt",
          "evalue": "ignored",
          "traceback": [
            "\u001b[0;31m---------------------------------------------------------------------------\u001b[0m",
            "\u001b[0;31mKeyboardInterrupt\u001b[0m                         Traceback (most recent call last)",
            "\u001b[0;32m/usr/local/lib/python3.7/dist-packages/ipykernel/kernelbase.py\u001b[0m in \u001b[0;36m_input_request\u001b[0;34m(self, prompt, ident, parent, password)\u001b[0m\n\u001b[1;32m    728\u001b[0m             \u001b[0;32mtry\u001b[0m\u001b[0;34m:\u001b[0m\u001b[0;34m\u001b[0m\u001b[0;34m\u001b[0m\u001b[0m\n\u001b[0;32m--> 729\u001b[0;31m                 \u001b[0mident\u001b[0m\u001b[0;34m,\u001b[0m \u001b[0mreply\u001b[0m \u001b[0;34m=\u001b[0m \u001b[0mself\u001b[0m\u001b[0;34m.\u001b[0m\u001b[0msession\u001b[0m\u001b[0;34m.\u001b[0m\u001b[0mrecv\u001b[0m\u001b[0;34m(\u001b[0m\u001b[0mself\u001b[0m\u001b[0;34m.\u001b[0m\u001b[0mstdin_socket\u001b[0m\u001b[0;34m,\u001b[0m \u001b[0;36m0\u001b[0m\u001b[0;34m)\u001b[0m\u001b[0;34m\u001b[0m\u001b[0;34m\u001b[0m\u001b[0m\n\u001b[0m\u001b[1;32m    730\u001b[0m             \u001b[0;32mexcept\u001b[0m \u001b[0mException\u001b[0m\u001b[0;34m:\u001b[0m\u001b[0;34m\u001b[0m\u001b[0;34m\u001b[0m\u001b[0m\n",
            "\u001b[0;32m/usr/local/lib/python3.7/dist-packages/jupyter_client/session.py\u001b[0m in \u001b[0;36mrecv\u001b[0;34m(self, socket, mode, content, copy)\u001b[0m\n\u001b[1;32m    802\u001b[0m         \u001b[0;32mtry\u001b[0m\u001b[0;34m:\u001b[0m\u001b[0;34m\u001b[0m\u001b[0;34m\u001b[0m\u001b[0m\n\u001b[0;32m--> 803\u001b[0;31m             \u001b[0mmsg_list\u001b[0m \u001b[0;34m=\u001b[0m \u001b[0msocket\u001b[0m\u001b[0;34m.\u001b[0m\u001b[0mrecv_multipart\u001b[0m\u001b[0;34m(\u001b[0m\u001b[0mmode\u001b[0m\u001b[0;34m,\u001b[0m \u001b[0mcopy\u001b[0m\u001b[0;34m=\u001b[0m\u001b[0mcopy\u001b[0m\u001b[0;34m)\u001b[0m\u001b[0;34m\u001b[0m\u001b[0;34m\u001b[0m\u001b[0m\n\u001b[0m\u001b[1;32m    804\u001b[0m         \u001b[0;32mexcept\u001b[0m \u001b[0mzmq\u001b[0m\u001b[0;34m.\u001b[0m\u001b[0mZMQError\u001b[0m \u001b[0;32mas\u001b[0m \u001b[0me\u001b[0m\u001b[0;34m:\u001b[0m\u001b[0;34m\u001b[0m\u001b[0;34m\u001b[0m\u001b[0m\n",
            "\u001b[0;32m/usr/local/lib/python3.7/dist-packages/zmq/sugar/socket.py\u001b[0m in \u001b[0;36mrecv_multipart\u001b[0;34m(self, flags, copy, track)\u001b[0m\n\u001b[1;32m    726\u001b[0m         \"\"\"\n\u001b[0;32m--> 727\u001b[0;31m         \u001b[0mparts\u001b[0m \u001b[0;34m=\u001b[0m \u001b[0;34m[\u001b[0m\u001b[0mself\u001b[0m\u001b[0;34m.\u001b[0m\u001b[0mrecv\u001b[0m\u001b[0;34m(\u001b[0m\u001b[0mflags\u001b[0m\u001b[0;34m,\u001b[0m \u001b[0mcopy\u001b[0m\u001b[0;34m=\u001b[0m\u001b[0mcopy\u001b[0m\u001b[0;34m,\u001b[0m \u001b[0mtrack\u001b[0m\u001b[0;34m=\u001b[0m\u001b[0mtrack\u001b[0m\u001b[0;34m)\u001b[0m\u001b[0;34m]\u001b[0m\u001b[0;34m\u001b[0m\u001b[0;34m\u001b[0m\u001b[0m\n\u001b[0m\u001b[1;32m    728\u001b[0m         \u001b[0;31m# have first part already, only loop while more to receive\u001b[0m\u001b[0;34m\u001b[0m\u001b[0;34m\u001b[0m\u001b[0;34m\u001b[0m\u001b[0m\n",
            "\u001b[0;32mzmq/backend/cython/socket.pyx\u001b[0m in \u001b[0;36mzmq.backend.cython.socket.Socket.recv\u001b[0;34m()\u001b[0m\n",
            "\u001b[0;32mzmq/backend/cython/socket.pyx\u001b[0m in \u001b[0;36mzmq.backend.cython.socket.Socket.recv\u001b[0;34m()\u001b[0m\n",
            "\u001b[0;32mzmq/backend/cython/socket.pyx\u001b[0m in \u001b[0;36mzmq.backend.cython.socket._recv_copy\u001b[0;34m()\u001b[0m\n",
            "\u001b[0;32m/usr/local/lib/python3.7/dist-packages/zmq/backend/cython/checkrc.pxd\u001b[0m in \u001b[0;36mzmq.backend.cython.checkrc._check_rc\u001b[0;34m()\u001b[0m\n",
            "\u001b[0;31mKeyboardInterrupt\u001b[0m: ",
            "\nDuring handling of the above exception, another exception occurred:\n",
            "\u001b[0;31mKeyboardInterrupt\u001b[0m                         Traceback (most recent call last)",
            "\u001b[0;32m<ipython-input-18-ae293b092c5e>\u001b[0m in \u001b[0;36m<module>\u001b[0;34m()\u001b[0m\n\u001b[1;32m      6\u001b[0m   \u001b[0;31m# 3. Use the input() function to take input from a player.\u001b[0m\u001b[0;34m\u001b[0m\u001b[0;34m\u001b[0m\u001b[0;34m\u001b[0m\u001b[0m\n\u001b[1;32m      7\u001b[0m   \u001b[0;31m# Inside the input() function, write the Enter 0 for ROCK, 1 for PAPER and 2 for SCISSORS: statement to show it as a message to a player.\u001b[0m\u001b[0;34m\u001b[0m\u001b[0;34m\u001b[0m\u001b[0;34m\u001b[0m\u001b[0m\n\u001b[0;32m----> 8\u001b[0;31m   \u001b[0muser_input\u001b[0m \u001b[0;34m=\u001b[0m \u001b[0minput\u001b[0m\u001b[0;34m(\u001b[0m\u001b[0;34m\"Enter 0 for ROCK, 1 for PAPER and 2 for SCISSORS: \"\u001b[0m\u001b[0;34m)\u001b[0m\u001b[0;34m\u001b[0m\u001b[0;34m\u001b[0m\u001b[0m\n\u001b[0m\u001b[1;32m      9\u001b[0m   \u001b[0;31m# 4. Write another while loop to check whether the input provided by a player exists in the valid_entries list or not.\u001b[0m\u001b[0;34m\u001b[0m\u001b[0;34m\u001b[0m\u001b[0;34m\u001b[0m\u001b[0m\n\u001b[1;32m     10\u001b[0m   \u001b[0;32mwhile\u001b[0m \u001b[0muser_input\u001b[0m \u001b[0;32mnot\u001b[0m \u001b[0;32min\u001b[0m \u001b[0mvalid_entries\u001b[0m\u001b[0;34m:\u001b[0m\u001b[0;34m\u001b[0m\u001b[0;34m\u001b[0m\u001b[0m\n",
            "\u001b[0;32m/usr/local/lib/python3.7/dist-packages/ipykernel/kernelbase.py\u001b[0m in \u001b[0;36mraw_input\u001b[0;34m(self, prompt)\u001b[0m\n\u001b[1;32m    702\u001b[0m             \u001b[0mself\u001b[0m\u001b[0;34m.\u001b[0m\u001b[0m_parent_ident\u001b[0m\u001b[0;34m,\u001b[0m\u001b[0;34m\u001b[0m\u001b[0;34m\u001b[0m\u001b[0m\n\u001b[1;32m    703\u001b[0m             \u001b[0mself\u001b[0m\u001b[0;34m.\u001b[0m\u001b[0m_parent_header\u001b[0m\u001b[0;34m,\u001b[0m\u001b[0;34m\u001b[0m\u001b[0;34m\u001b[0m\u001b[0m\n\u001b[0;32m--> 704\u001b[0;31m             \u001b[0mpassword\u001b[0m\u001b[0;34m=\u001b[0m\u001b[0;32mFalse\u001b[0m\u001b[0;34m,\u001b[0m\u001b[0;34m\u001b[0m\u001b[0;34m\u001b[0m\u001b[0m\n\u001b[0m\u001b[1;32m    705\u001b[0m         )\n\u001b[1;32m    706\u001b[0m \u001b[0;34m\u001b[0m\u001b[0m\n",
            "\u001b[0;32m/usr/local/lib/python3.7/dist-packages/ipykernel/kernelbase.py\u001b[0m in \u001b[0;36m_input_request\u001b[0;34m(self, prompt, ident, parent, password)\u001b[0m\n\u001b[1;32m    732\u001b[0m             \u001b[0;32mexcept\u001b[0m \u001b[0mKeyboardInterrupt\u001b[0m\u001b[0;34m:\u001b[0m\u001b[0;34m\u001b[0m\u001b[0;34m\u001b[0m\u001b[0m\n\u001b[1;32m    733\u001b[0m                 \u001b[0;31m# re-raise KeyboardInterrupt, to truncate traceback\u001b[0m\u001b[0;34m\u001b[0m\u001b[0;34m\u001b[0m\u001b[0;34m\u001b[0m\u001b[0m\n\u001b[0;32m--> 734\u001b[0;31m                 \u001b[0;32mraise\u001b[0m \u001b[0mKeyboardInterrupt\u001b[0m\u001b[0;34m\u001b[0m\u001b[0;34m\u001b[0m\u001b[0m\n\u001b[0m\u001b[1;32m    735\u001b[0m             \u001b[0;32melse\u001b[0m\u001b[0;34m:\u001b[0m\u001b[0;34m\u001b[0m\u001b[0;34m\u001b[0m\u001b[0m\n\u001b[1;32m    736\u001b[0m                 \u001b[0;32mbreak\u001b[0m\u001b[0;34m\u001b[0m\u001b[0;34m\u001b[0m\u001b[0m\n",
            "\u001b[0;31mKeyboardInterrupt\u001b[0m: "
          ]
        }
      ]
    },
    {
      "cell_type": "markdown",
      "metadata": {
        "id": "6i4qUgiVdhgP"
      },
      "source": [
        "---"
      ]
    }
  ]
}