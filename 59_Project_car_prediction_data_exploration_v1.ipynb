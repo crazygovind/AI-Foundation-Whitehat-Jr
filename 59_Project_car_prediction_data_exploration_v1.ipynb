{
  "nbformat": 4,
  "nbformat_minor": 0,
  "metadata": {
    "colab": {
      "provenance": [],
      "include_colab_link": true
    },
    "kernelspec": {
      "name": "python3",
      "display_name": "Python 3"
    }
  },
  "cells": [
    {
      "cell_type": "markdown",
      "metadata": {
        "id": "view-in-github",
        "colab_type": "text"
      },
      "source": [
        "<a href=\"https://colab.research.google.com/github/crazygovind/AI-Foundation-Whitehat-Jr/blob/master/59_Project_car_prediction_data_exploration_v1.ipynb\" target=\"_parent\"><img src=\"https://colab.research.google.com/assets/colab-badge.svg\" alt=\"Open In Colab\"/></a>"
      ]
    },
    {
      "cell_type": "markdown",
      "metadata": {
        "id": "aQIDTCSIwTP3"
      },
      "source": [
        "### Instructions"
      ]
    },
    {
      "cell_type": "markdown",
      "metadata": {
        "id": "F_IP6BNb3Ne1"
      },
      "source": [
        "---"
      ]
    },
    {
      "cell_type": "markdown",
      "metadata": {
        "id": "azReToS7wWX3"
      },
      "source": [
        "#### Goal of the Project\n",
        "\n",
        "This project is designed for you to practice and solve the activities that are based on the concepts covered in the following lessons:\n",
        "\n",
        " 1. Multiple linear regression - Introduction\n",
        " 2. Car Prediction - Data exploration\n",
        " \n",
        " \n",
        " "
      ]
    },
    {
      "cell_type": "markdown",
      "metadata": {
        "id": "llwKuOyIwnA_"
      },
      "source": [
        "---"
      ]
    },
    {
      "cell_type": "markdown",
      "metadata": {
        "id": "fR_SN7K6475D"
      },
      "source": [
        "### Problem Statement\n",
        "\n",
        "The most important factor for an Insurance Company is to determine what premium charges must be paid by an individual. The charges depend on various factors like age, gender, income, etc. \n",
        "\n",
        "Build a model that is capable of predicting the insurance charges a person has to pay depending on the given features using multiple linear regression. "
      ]
    },
    {
      "cell_type": "markdown",
      "metadata": {
        "id": "lN1iCMJ4Oy1N"
      },
      "source": [
        "---"
      ]
    },
    {
      "cell_type": "markdown",
      "metadata": {
        "id": "L3zN-iv-wpjm"
      },
      "source": [
        "### List of Activities\n",
        " \n",
        "**Activity 1:** Analysing the Dataset\n",
        "\n",
        "**Activity 2:** Feature Encoding\n",
        "\n",
        "**Activity 3:** Exploratory Data Analysis\n",
        "\n",
        "**Activity 4:** Train-Test Split\n",
        " \n",
        "**Activity 5:** Model Training using `statsmodels.api`\n",
        "\n",
        "\n",
        "\n",
        " \n"
      ]
    },
    {
      "cell_type": "markdown",
      "metadata": {
        "id": "jLudEnlPO0FF"
      },
      "source": [
        "---"
      ]
    },
    {
      "cell_type": "markdown",
      "metadata": {
        "id": "lZt4yKiJwrUs"
      },
      "source": [
        "\n",
        "#### Activity 1:  Analysing the Dataset\n",
        "\n",
        "- Create a Pandas DataFrame for **Insurance** dataset using the below link. This dataset consists of following columns:\n",
        "\n",
        "|Field|Description|\n",
        "|---:|:---|\n",
        "|age|Age of primary beneficiary|\n",
        "|sex|Insurance contractor gender, female or male|\n",
        "|bmi|Body mass index|\n",
        "|children|Number of children covered by health insurance/number of dependents|\n",
        "|region|Beneficiary's residential area in the US, northeast, southeast, southwest, northwest|\n",
        "|charges|Individual medical costs billed by health insurance|\n",
        "\n",
        "\n",
        "  **Dataset Link:** https://student-datasets-bucket.s3.ap-south-1.amazonaws.com/whitehat-ds-datasets/insurance_dataset.csv\n",
        "\n",
        "- Print the first five rows of the dataset. Check for null values and treat them accordingly.\n",
        "\n",
        "- Create a regression plot with `age` on X-axis and `charges` on Y-axis to identify the relationship between these two attributes.\n",
        "\n",
        "\n"
      ]
    },
    {
      "cell_type": "code",
      "metadata": {
        "id": "6U6NaAy4WQgs",
        "colab": {
          "base_uri": "https://localhost:8080/",
          "height": 206
        },
        "outputId": "52fda49f-1338-481f-e093-260f97480d83"
      },
      "source": [
        "# Import modules\n",
        "import pandas as pd \n",
        "import matplotlib.pyplot as plt\n",
        "import seaborn as sns\n",
        "# Load the dataset\n",
        "df = pd.read_csv('https://student-datasets-bucket.s3.ap-south-1.amazonaws.com/whitehat-ds-datasets/insurance_dataset.csv')\n",
        "# Print first five rows using head() function\n",
        "df.head()"
      ],
      "execution_count": 15,
      "outputs": [
        {
          "output_type": "execute_result",
          "data": {
            "text/plain": [
              "   age     sex     bmi  children     region      charges\n",
              "0   18    male  33.770         1  southeast   1725.55230\n",
              "1   28    male  33.000         3  southeast   4449.46200\n",
              "2   33    male  22.705         0  northwest  21984.47061\n",
              "3   32    male  28.880         0  northwest   3866.85520\n",
              "4   31  female  25.740         0  southeast   3756.62160"
            ],
            "text/html": [
              "\n",
              "  <div id=\"df-9e3310d7-c164-42f3-a6af-c24589e9bbe7\">\n",
              "    <div class=\"colab-df-container\">\n",
              "      <div>\n",
              "<style scoped>\n",
              "    .dataframe tbody tr th:only-of-type {\n",
              "        vertical-align: middle;\n",
              "    }\n",
              "\n",
              "    .dataframe tbody tr th {\n",
              "        vertical-align: top;\n",
              "    }\n",
              "\n",
              "    .dataframe thead th {\n",
              "        text-align: right;\n",
              "    }\n",
              "</style>\n",
              "<table border=\"1\" class=\"dataframe\">\n",
              "  <thead>\n",
              "    <tr style=\"text-align: right;\">\n",
              "      <th></th>\n",
              "      <th>age</th>\n",
              "      <th>sex</th>\n",
              "      <th>bmi</th>\n",
              "      <th>children</th>\n",
              "      <th>region</th>\n",
              "      <th>charges</th>\n",
              "    </tr>\n",
              "  </thead>\n",
              "  <tbody>\n",
              "    <tr>\n",
              "      <th>0</th>\n",
              "      <td>18</td>\n",
              "      <td>male</td>\n",
              "      <td>33.770</td>\n",
              "      <td>1</td>\n",
              "      <td>southeast</td>\n",
              "      <td>1725.55230</td>\n",
              "    </tr>\n",
              "    <tr>\n",
              "      <th>1</th>\n",
              "      <td>28</td>\n",
              "      <td>male</td>\n",
              "      <td>33.000</td>\n",
              "      <td>3</td>\n",
              "      <td>southeast</td>\n",
              "      <td>4449.46200</td>\n",
              "    </tr>\n",
              "    <tr>\n",
              "      <th>2</th>\n",
              "      <td>33</td>\n",
              "      <td>male</td>\n",
              "      <td>22.705</td>\n",
              "      <td>0</td>\n",
              "      <td>northwest</td>\n",
              "      <td>21984.47061</td>\n",
              "    </tr>\n",
              "    <tr>\n",
              "      <th>3</th>\n",
              "      <td>32</td>\n",
              "      <td>male</td>\n",
              "      <td>28.880</td>\n",
              "      <td>0</td>\n",
              "      <td>northwest</td>\n",
              "      <td>3866.85520</td>\n",
              "    </tr>\n",
              "    <tr>\n",
              "      <th>4</th>\n",
              "      <td>31</td>\n",
              "      <td>female</td>\n",
              "      <td>25.740</td>\n",
              "      <td>0</td>\n",
              "      <td>southeast</td>\n",
              "      <td>3756.62160</td>\n",
              "    </tr>\n",
              "  </tbody>\n",
              "</table>\n",
              "</div>\n",
              "      <button class=\"colab-df-convert\" onclick=\"convertToInteractive('df-9e3310d7-c164-42f3-a6af-c24589e9bbe7')\"\n",
              "              title=\"Convert this dataframe to an interactive table.\"\n",
              "              style=\"display:none;\">\n",
              "        \n",
              "  <svg xmlns=\"http://www.w3.org/2000/svg\" height=\"24px\"viewBox=\"0 0 24 24\"\n",
              "       width=\"24px\">\n",
              "    <path d=\"M0 0h24v24H0V0z\" fill=\"none\"/>\n",
              "    <path d=\"M18.56 5.44l.94 2.06.94-2.06 2.06-.94-2.06-.94-.94-2.06-.94 2.06-2.06.94zm-11 1L8.5 8.5l.94-2.06 2.06-.94-2.06-.94L8.5 2.5l-.94 2.06-2.06.94zm10 10l.94 2.06.94-2.06 2.06-.94-2.06-.94-.94-2.06-.94 2.06-2.06.94z\"/><path d=\"M17.41 7.96l-1.37-1.37c-.4-.4-.92-.59-1.43-.59-.52 0-1.04.2-1.43.59L10.3 9.45l-7.72 7.72c-.78.78-.78 2.05 0 2.83L4 21.41c.39.39.9.59 1.41.59.51 0 1.02-.2 1.41-.59l7.78-7.78 2.81-2.81c.8-.78.8-2.07 0-2.86zM5.41 20L4 18.59l7.72-7.72 1.47 1.35L5.41 20z\"/>\n",
              "  </svg>\n",
              "      </button>\n",
              "      \n",
              "  <style>\n",
              "    .colab-df-container {\n",
              "      display:flex;\n",
              "      flex-wrap:wrap;\n",
              "      gap: 12px;\n",
              "    }\n",
              "\n",
              "    .colab-df-convert {\n",
              "      background-color: #E8F0FE;\n",
              "      border: none;\n",
              "      border-radius: 50%;\n",
              "      cursor: pointer;\n",
              "      display: none;\n",
              "      fill: #1967D2;\n",
              "      height: 32px;\n",
              "      padding: 0 0 0 0;\n",
              "      width: 32px;\n",
              "    }\n",
              "\n",
              "    .colab-df-convert:hover {\n",
              "      background-color: #E2EBFA;\n",
              "      box-shadow: 0px 1px 2px rgba(60, 64, 67, 0.3), 0px 1px 3px 1px rgba(60, 64, 67, 0.15);\n",
              "      fill: #174EA6;\n",
              "    }\n",
              "\n",
              "    [theme=dark] .colab-df-convert {\n",
              "      background-color: #3B4455;\n",
              "      fill: #D2E3FC;\n",
              "    }\n",
              "\n",
              "    [theme=dark] .colab-df-convert:hover {\n",
              "      background-color: #434B5C;\n",
              "      box-shadow: 0px 1px 3px 1px rgba(0, 0, 0, 0.15);\n",
              "      filter: drop-shadow(0px 1px 2px rgba(0, 0, 0, 0.3));\n",
              "      fill: #FFFFFF;\n",
              "    }\n",
              "  </style>\n",
              "\n",
              "      <script>\n",
              "        const buttonEl =\n",
              "          document.querySelector('#df-9e3310d7-c164-42f3-a6af-c24589e9bbe7 button.colab-df-convert');\n",
              "        buttonEl.style.display =\n",
              "          google.colab.kernel.accessAllowed ? 'block' : 'none';\n",
              "\n",
              "        async function convertToInteractive(key) {\n",
              "          const element = document.querySelector('#df-9e3310d7-c164-42f3-a6af-c24589e9bbe7');\n",
              "          const dataTable =\n",
              "            await google.colab.kernel.invokeFunction('convertToInteractive',\n",
              "                                                     [key], {});\n",
              "          if (!dataTable) return;\n",
              "\n",
              "          const docLinkHtml = 'Like what you see? Visit the ' +\n",
              "            '<a target=\"_blank\" href=https://colab.research.google.com/notebooks/data_table.ipynb>data table notebook</a>'\n",
              "            + ' to learn more about interactive tables.';\n",
              "          element.innerHTML = '';\n",
              "          dataTable['output_type'] = 'display_data';\n",
              "          await google.colab.output.renderOutput(dataTable, element);\n",
              "          const docLink = document.createElement('div');\n",
              "          docLink.innerHTML = docLinkHtml;\n",
              "          element.appendChild(docLink);\n",
              "        }\n",
              "      </script>\n",
              "    </div>\n",
              "  </div>\n",
              "  "
            ]
          },
          "metadata": {},
          "execution_count": 15
        }
      ]
    },
    {
      "cell_type": "code",
      "metadata": {
        "id": "jg7hAMJ4jKC5",
        "colab": {
          "base_uri": "https://localhost:8080/"
        },
        "outputId": "ce1717f7-28e2-4416-9011-3633d3a8f6d0"
      },
      "source": [
        "# Check if there are any null values. If any column has null values, treat them accordingly\n",
        "df.isnull().sum()"
      ],
      "execution_count": 16,
      "outputs": [
        {
          "output_type": "execute_result",
          "data": {
            "text/plain": [
              "age         0\n",
              "sex         0\n",
              "bmi         0\n",
              "children    0\n",
              "region      0\n",
              "charges     0\n",
              "dtype: int64"
            ]
          },
          "metadata": {},
          "execution_count": 16
        }
      ]
    },
    {
      "cell_type": "code",
      "metadata": {
        "id": "ixNcqn5UBcwt",
        "colab": {
          "base_uri": "https://localhost:8080/"
        },
        "outputId": "90897846-2559-4c0e-db8c-68dd9a2998cd"
      },
      "source": [
        "# Print the information about the dataset\n",
        "df.info()"
      ],
      "execution_count": 17,
      "outputs": [
        {
          "output_type": "stream",
          "name": "stdout",
          "text": [
            "<class 'pandas.core.frame.DataFrame'>\n",
            "RangeIndex: 1064 entries, 0 to 1063\n",
            "Data columns (total 6 columns):\n",
            " #   Column    Non-Null Count  Dtype  \n",
            "---  ------    --------------  -----  \n",
            " 0   age       1064 non-null   int64  \n",
            " 1   sex       1064 non-null   object \n",
            " 2   bmi       1064 non-null   float64\n",
            " 3   children  1064 non-null   int64  \n",
            " 4   region    1064 non-null   object \n",
            " 5   charges   1064 non-null   float64\n",
            "dtypes: float64(2), int64(2), object(2)\n",
            "memory usage: 50.0+ KB\n"
          ]
        }
      ]
    },
    {
      "cell_type": "markdown",
      "metadata": {
        "id": "2BDQniyBzlTk"
      },
      "source": [
        "----"
      ]
    },
    {
      "cell_type": "markdown",
      "metadata": {
        "id": "FA5J-y1wzmmb"
      },
      "source": [
        "#### Activity 2 : Feature Encoding\n",
        "\n",
        "The `sex` and `region` columns are categorical attributes. Convert these attributes into numerical ones so that they can be used for linear regression analysis using `map()` function. \n",
        "\n",
        "- Map the following values for the `sex` column:\n",
        "\n",
        "  - `male` to `0`\n",
        "  - `female` to `1`\n",
        "\n",
        "- Map the following values for the `region` column:\n",
        "\n",
        " - `southeast` to `1`\n",
        " - `southwest` to `2`\n",
        " - `northeast` to `3`\n",
        " - `northwest` to `4`\n"
      ]
    },
    {
      "cell_type": "code",
      "metadata": {
        "id": "1IUaNIbw0Gh9",
        "colab": {
          "base_uri": "https://localhost:8080/"
        },
        "outputId": "e1e9b2a0-f750-4164-8887-322dd4489e57"
      },
      "source": [
        "# Count the occurrence of each value in the 'sex' column.\n",
        "df['sex'].value_counts()"
      ],
      "execution_count": 18,
      "outputs": [
        {
          "output_type": "execute_result",
          "data": {
            "text/plain": [
              "female    547\n",
              "male      517\n",
              "Name: sex, dtype: int64"
            ]
          },
          "metadata": {},
          "execution_count": 18
        }
      ]
    },
    {
      "cell_type": "code",
      "metadata": {
        "id": "_2c_ds7907ph",
        "colab": {
          "base_uri": "https://localhost:8080/"
        },
        "outputId": "8b538c7e-3e08-4459-db13-7a5cc14d08bc"
      },
      "source": [
        "# Use the 'map()' function to replace values in 'sex' column to their corresponding numeric values.\n",
        "\n",
        "\n",
        "df['sex']=df['sex'].replace({'male':0,'female':1})\n",
        "df['sex']"
      ],
      "execution_count": 19,
      "outputs": [
        {
          "output_type": "execute_result",
          "data": {
            "text/plain": [
              "0       0\n",
              "1       0\n",
              "2       0\n",
              "3       0\n",
              "4       1\n",
              "       ..\n",
              "1059    1\n",
              "1060    0\n",
              "1061    1\n",
              "1062    1\n",
              "1063    1\n",
              "Name: sex, Length: 1064, dtype: int64"
            ]
          },
          "metadata": {},
          "execution_count": 19
        }
      ]
    },
    {
      "cell_type": "code",
      "metadata": {
        "id": "TjUJOLl91rgf",
        "colab": {
          "base_uri": "https://localhost:8080/"
        },
        "outputId": "7a2bc716-7197-4338-99bd-9257b76b759d"
      },
      "source": [
        "# Again count the occurrence of each value in the 'sex' column to verify whether all values are correctly mapped\n",
        "df['sex'].value_counts()"
      ],
      "execution_count": 20,
      "outputs": [
        {
          "output_type": "execute_result",
          "data": {
            "text/plain": [
              "1    547\n",
              "0    517\n",
              "Name: sex, dtype: int64"
            ]
          },
          "metadata": {},
          "execution_count": 20
        }
      ]
    },
    {
      "cell_type": "code",
      "metadata": {
        "id": "YFlYUSlr1462",
        "colab": {
          "base_uri": "https://localhost:8080/"
        },
        "outputId": "dc40ef61-410e-4cf7-f3ba-5d3daf0b2db0"
      },
      "source": [
        "# Count the occurrence of each value in the 'region' column.\n",
        "df['region'].value_counts()"
      ],
      "execution_count": 21,
      "outputs": [
        {
          "output_type": "execute_result",
          "data": {
            "text/plain": [
              "southeast    273\n",
              "northwest    267\n",
              "southwest    267\n",
              "northeast    257\n",
              "Name: region, dtype: int64"
            ]
          },
          "metadata": {},
          "execution_count": 21
        }
      ]
    },
    {
      "cell_type": "code",
      "metadata": {
        "id": "lK-Hi9xl2QPH",
        "colab": {
          "base_uri": "https://localhost:8080/"
        },
        "outputId": "efb109be-319e-4846-a0ad-96c5d007e412"
      },
      "source": [
        "# Use the 'map()' function to replace a value in the 'region' column to their corresponding numeric values.\n",
        "\n",
        "\n",
        "df['region']=df['region'].replace({'southeast':1,'southwest':2,'northeast':3,'northwest':4})\n",
        "df['region']"
      ],
      "execution_count": 22,
      "outputs": [
        {
          "output_type": "execute_result",
          "data": {
            "text/plain": [
              "0       1\n",
              "1       1\n",
              "2       4\n",
              "3       4\n",
              "4       1\n",
              "       ..\n",
              "1059    2\n",
              "1060    4\n",
              "1061    3\n",
              "1062    1\n",
              "1063    2\n",
              "Name: region, Length: 1064, dtype: int64"
            ]
          },
          "metadata": {},
          "execution_count": 22
        }
      ]
    },
    {
      "cell_type": "code",
      "metadata": {
        "id": "Cj86TrR82QPS",
        "colab": {
          "base_uri": "https://localhost:8080/"
        },
        "outputId": "ca8161e5-7f2e-4a8d-8390-ae7484e86b8f"
      },
      "source": [
        "# Again count the occurrence of each value in the 'region' column to verify whether all values are correctly mapped\n",
        "df['region'].value_counts()"
      ],
      "execution_count": 23,
      "outputs": [
        {
          "output_type": "execute_result",
          "data": {
            "text/plain": [
              "1    273\n",
              "4    267\n",
              "2    267\n",
              "3    257\n",
              "Name: region, dtype: int64"
            ]
          },
          "metadata": {},
          "execution_count": 23
        }
      ]
    },
    {
      "cell_type": "markdown",
      "metadata": {
        "id": "Z5oGrPHV0VDu"
      },
      "source": [
        "---"
      ]
    },
    {
      "cell_type": "markdown",
      "metadata": {
        "id": "qqG2ooNsKHlA"
      },
      "source": [
        "#### Activity 3: Exploratory Data Analysis\n",
        "\n",
        "\n",
        "Create the heat-map to look into the correlation of the features"
      ]
    },
    {
      "cell_type": "code",
      "metadata": {
        "id": "4qmyNiuSOMRW",
        "colab": {
          "base_uri": "https://localhost:8080/",
          "height": 378
        },
        "outputId": "dac5354a-51c5-4d2c-f2fc-edcaf729acef"
      },
      "source": [
        "# Draw a correlation heatmap between the features.\n",
        "plt.figure(figsize=(10,6))\n",
        "sns.heatmap(df.corr(),annot=True)\n",
        "plt.show()"
      ],
      "execution_count": 24,
      "outputs": [
        {
          "output_type": "display_data",
          "data": {
            "text/plain": [
              "<Figure size 720x432 with 2 Axes>"
            ],
            "image/png": "[encoded data removed]"
          },
          "metadata": {
            "needs_background": "light"
          }
        }
      ]
    },
    {
      "cell_type": "markdown",
      "metadata": {
        "id": "cfLOeRHz4EpJ"
      },
      "source": [
        "---"
      ]
    },
    {
      "cell_type": "markdown",
      "metadata": {
        "id": "FZe5uj2sFsmt"
      },
      "source": [
        "#### Activity 4: Train-Test Split\n",
        "\n",
        "\n",
        "Split the dataset into training set and test set such that the training set contains 67% of the instances and the remaining instances will become the test set and keep the `charges` as the target variables."
      ]
    },
    {
      "cell_type": "code",
      "metadata": {
        "id": "a1cyzv_TgcOx",
        "colab": {
          "base_uri": "https://localhost:8080/"
        },
        "outputId": "d9e5afa9-f08e-4713-97f9-6931be7fccca"
      },
      "source": [
        "# Split the 'df' Dataframe into the train and test sets.\n",
        "from sklearn.model_selection import train_test_split\n",
        "\n",
        "features=list(df.columns)\n",
        "features.remove('charges')\n",
        "print(features)\n",
        "\n",
        "X=df[features]\n",
        "y=df['charges']\n",
        "X_train,X_test,y_train,y_test=train_test_split(X,y,test_size=0.33,random_state=42)"
      ],
      "execution_count": 25,
      "outputs": [
        {
          "output_type": "stream",
          "name": "stdout",
          "text": [
            "['age', 'sex', 'bmi', 'children', 'region']\n"
          ]
        }
      ]
    },
    {
      "cell_type": "code",
      "metadata": {
        "id": "u_dZ28wcNhiM"
      },
      "source": [
        "# Create separate data-frames for the feature and target variables for both the train and test sets."
      ],
      "execution_count": null,
      "outputs": []
    },
    {
      "cell_type": "markdown",
      "metadata": {
        "id": "NSmN2VEa4d-3"
      },
      "source": [
        "---"
      ]
    },
    {
      "cell_type": "markdown",
      "metadata": {
        "id": "u7bWq9hZHikZ"
      },
      "source": [
        "#### Activity 5: Model Training using `statsmodels.api`\n",
        "\n",
        "Now build a multiple linear regression model using the `statsmodels.api` module.\n",
        "Also, print the summary of the linear regression model built."
      ]
    },
    {
      "cell_type": "code",
      "metadata": {
        "id": "mAAdCmH5g3iQ",
        "colab": {
          "base_uri": "https://localhost:8080/"
        },
        "outputId": "545e4d11-b387-4cbf-d374-977633757d49"
      },
      "source": [
        "#  Build a linear regression model using all the features to predict insurance charges.\n",
        "import statsmodels.api as sm\n",
        "from sklearn.linear_model import LinearRegression\n",
        "\n",
        "lr=LinearRegression()\n",
        "\n",
        "X_train_sm=sm.add_constant(X_train)\n",
        "lr=sm.OLS(y_train,X_train_sm).fit()\n",
        "lr.params"
      ],
      "execution_count": 26,
      "outputs": [
        {
          "output_type": "stream",
          "name": "stderr",
          "text": [
            "/usr/local/lib/python3.8/dist-packages/statsmodels/tsa/tsatools.py:142: FutureWarning: In a future version of pandas all arguments of concat except for the argument 'objs' will be keyword-only\n",
            "  x = pd.concat(x[::order], 1)\n"
          ]
        },
        {
          "output_type": "execute_result",
          "data": {
            "text/plain": [
              "const      -4516.804753\n",
              "age          255.783127\n",
              "sex          596.474438\n",
              "bmi           32.531515\n",
              "children     591.431434\n",
              "region       347.830037\n",
              "dtype: float64"
            ]
          },
          "metadata": {},
          "execution_count": 26
        }
      ]
    },
    {
      "cell_type": "code",
      "metadata": {
        "id": "rrD285FNg551",
        "colab": {
          "base_uri": "https://localhost:8080/"
        },
        "outputId": "939bd3d5-0dab-4a8a-a92f-a0b3b0f27ad7"
      },
      "source": [
        "# Print the summary of the linear regression report.\n",
        "print(lr.summary())"
      ],
      "execution_count": 28,
      "outputs": [
        {
          "output_type": "stream",
          "name": "stdout",
          "text": [
            "                            OLS Regression Results                            \n",
            "==============================================================================\n",
            "Dep. Variable:                charges   R-squared:                       0.396\n",
            "Model:                            OLS   Adj. R-squared:                  0.392\n",
            "Method:                 Least Squares   F-statistic:                     92.65\n",
            "Date:                Fri, 09 Dec 2022   Prob (F-statistic):           5.67e-75\n",
            "Time:                        19:30:14   Log-Likelihood:                -7018.7\n",
            "No. Observations:                 712   AIC:                         1.405e+04\n",
            "Df Residuals:                     706   BIC:                         1.408e+04\n",
            "Df Model:                           5                                         \n",
            "Covariance Type:            nonrobust                                         \n",
            "==============================================================================\n",
            "                 coef    std err          t      P>|t|      [0.025      0.975]\n",
            "------------------------------------------------------------------------------\n",
            "const      -4516.8048   1165.545     -3.875      0.000   -6805.154   -2228.455\n",
            "age          255.7831     12.446     20.551      0.000     231.347     280.219\n",
            "sex          596.4744    348.509      1.712      0.087     -87.764    1280.713\n",
            "bmi           32.5315     29.604      1.099      0.272     -25.590      90.653\n",
            "children     591.4314    144.919      4.081      0.000     306.908     875.955\n",
            "region       347.8300    158.539      2.194      0.029      36.567     659.094\n",
            "==============================================================================\n",
            "Omnibus:                      508.940   Durbin-Watson:                   2.014\n",
            "Prob(Omnibus):                  0.000   Jarque-Bera (JB):             4590.774\n",
            "Skew:                           3.351   Prob(JB):                         0.00\n",
            "Kurtosis:                      13.480   Cond. No.                         346.\n",
            "==============================================================================\n",
            "\n",
            "Notes:\n",
            "[1] Standard Errors assume that the covariance matrix of the errors is correctly specified.\n"
          ]
        }
      ]
    },
    {
      "cell_type": "markdown",
      "metadata": {
        "id": "FoZY5rNpHzf1"
      },
      "source": [
        "\n",
        "\n",
        "\n",
        "**Q:** What is the $R^2$ value?\n",
        "\n",
        "**A:** 0.396\n",
        "\n",
        "\n",
        "**Q:** Is there multicollinearity in the model?\n",
        "\n",
        "**A:** No\n",
        "\n",
        "\n"
      ]
    },
    {
      "cell_type": "markdown",
      "metadata": {
        "id": "uG9YxYbpjgVG"
      },
      "source": [
        "---"
      ]
    }
  ]
}