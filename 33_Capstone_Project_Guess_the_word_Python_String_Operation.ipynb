{
  "nbformat": 4,
  "nbformat_minor": 0,
  "metadata": {
    "colab": {
      "provenance": [],
      "collapsed_sections": [],
      "include_colab_link": true
    },
    "kernelspec": {
      "name": "python3",
      "display_name": "Python 3"
    }
  },
  "cells": [
    {
      "cell_type": "markdown",
      "metadata": {
        "id": "view-in-github",
        "colab_type": "text"
      },
      "source": [
        "<a href=\"https://colab.research.google.com/github/crazygovind/AI-Foundation-Whitehat-Jr/blob/master/33_Capstone_Project_Guess_the_word_Python_String_Operation.ipynb\" target=\"_parent\"><img src=\"https://colab.research.google.com/assets/colab-badge.svg\" alt=\"Open In Colab\"/></a>"
      ]
    },
    {
      "cell_type": "markdown",
      "metadata": {
        "id": "UYmMpXkNw9I6"
      },
      "source": [
        "# Capstone Project 9: Guess the word - Python String Operation"
      ]
    },
    {
      "cell_type": "markdown",
      "metadata": {
        "id": "PaanjkTewd2U"
      },
      "source": [
        "---"
      ]
    },
    {
      "cell_type": "markdown",
      "metadata": {
        "id": "x9vfVAsbslya"
      },
      "source": [
        "### Context\n",
        "\n",
        "A spelling bee is a competition in which contestants are asked to spell a broad selection of words, usually with a varying degree of difficulty. To compete, contestants must memorize the spellings of words as written in dictionaries, and recite them accordingly. Click on the link provided below to watch a short video on spelling bee contest:\n",
        "\n",
        "https://www.youtube.com/watch?v=G_yW6j2gN1w\n",
        "\n",
        "\n",
        "Drawing inspiration from the spelling bee contest, you need to create a Python-based computer game prototype which allows a player to guess the correct word through observing the jumbled letters of a word."
      ]
    },
    {
      "cell_type": "markdown",
      "metadata": {
        "id": "G9pdov_M0nzo"
      },
      "source": [
        "---"
      ]
    },
    {
      "cell_type": "markdown",
      "metadata": {
        "id": "2i36Yv3-MPY5"
      },
      "source": [
        "### Problem Statement \n",
        "\n",
        "In this project, you have to write a computer program to create an interactive game application called **Guess the Word**. The game must have the following major components:\n",
        "\n",
        "1. A repository of English words.\n",
        "\n",
        "2. A function to jumble the letters of the English words. \n",
        "\n",
        "3. Display a word such that its letters are jumbled, its part of speech and its meaning. Then prompt the player to guess the word one-by-one.  \n",
        "\n",
        "6. Check whether the player had guessed the correct word.\n",
        "\n",
        "7. Keep a count of the player's correct guesses. \n"
      ]
    },
    {
      "cell_type": "markdown",
      "metadata": {
        "id": "y9owukOqg1lw"
      },
      "source": [
        "---"
      ]
    },
    {
      "cell_type": "markdown",
      "metadata": {
        "id": "toeLx5LJpIV-"
      },
      "source": [
        "### Project Requirements\n",
        "\n",
        "1. Create the `my_words` tuple which should contain the following 10 words,\n",
        "\n",
        "<img src='https://student-datasets-bucket.s3.ap-south-1.amazonaws.com/images/project10_words_list.png'>\n",
        "\n",
        "2. Create the `score` variable with initial value as `0`, to store the counts of the player's guess.\n",
        "\n",
        "2. Create the `shuffler()` function which returns a string having jumbled letters of a word.\n",
        "\n",
        "4. Create a `for` to run the game.\n",
        "\n",
        "5. Once the player has completed guessing all the words, display `Game Over!` message along with the final score.\n",
        "  ```\n",
        "  Game Over!\n",
        "  Kakashi, Your score is 6.\n",
        "  ```"
      ]
    },
    {
      "cell_type": "markdown",
      "metadata": {
        "id": "5JRlGIBRqCGl"
      },
      "source": [
        "---"
      ]
    },
    {
      "cell_type": "markdown",
      "metadata": {
        "id": "UCusTfW0tcxe"
      },
      "source": [
        "#### 1. Words & Score\n",
        "\n",
        "- Create the `my_words` tuple containing the given 10 words,\n",
        "    ```\n",
        "    my_words = ('questionnaire', 'unconscious', 'precocious', 'liaison', 'surveillance', 'malfeasance', 'irascible', 'idiosyncrasy', 'foudroyant', 'eudemonic')\n",
        "    ```\n",
        "\n",
        "- Create the `score` variable with initial value as `0`, to store the counts of the player's guess."
      ]
    },
    {
      "cell_type": "code",
      "metadata": {
        "id": "6RL71w3ntzcH"
      },
      "source": [
        "# Create the 'my_words' tuple and the 'score' variable.\n",
        "my_words = ('questionnaire', 'unconscious', 'precocious', 'liaison', 'surveillance', 'malfeasance', 'irascible', 'idiosyncrasy', 'foudroyant', 'eudemonic')\n",
        "score=0\n"
      ],
      "execution_count": 1,
      "outputs": []
    },
    {
      "cell_type": "markdown",
      "metadata": {
        "id": "RETr5Tv1JBls"
      },
      "source": [
        "---"
      ]
    },
    {
      "cell_type": "markdown",
      "metadata": {
        "id": "0_OEabQbGQcP"
      },
      "source": [
        "#### 2. The `shuffler()` Function\n",
        "\n",
        "- Create the `shuffler()` function which returns a string containing the jumbled letters of a word. E.g., The `shuffler()` function must return either `wims` or `mwsi` or `imsw` etc. for the word `swim`.\n",
        "\n",
        "- Convert the word into a list of letters using the `list()` function. \n",
        "\n",
        "- Use the `shuffle()` function of the `random` module to shuffle the letters from a word. It reorders the items in a Python list. E.g., if a list contains `['s', 'w', 'i', 'm']` items, then the `shuffle()` function will reorder the items as either `['w', 's', 'i', 'm']`, or `['s', 'w', 'm', 'i']` or `['i', 's', 'm', 'w']` etc.\n",
        "\n",
        "  **Syntax** : `random.shuffle(letters)`, where letters is the variable holding the list of letters.\n",
        "\n",
        "- Use the `join()` function to convert a list of jumbled letters into a word.\n",
        "\n",
        "  **Syntax**: `''.join(letters)`, where letters is the variable holding the list of letters.\n",
        "\n",
        "**Note:** The `random.shuffle()` function does not return a new output. It applies the operation on the original value. Hence, the updated value will replace the original value contained in a variable."
      ]
    },
    {
      "cell_type": "code",
      "metadata": {
        "id": "mROhcvIy0ML6",
        "colab": {
          "base_uri": "https://localhost:8080/",
          "height": 35
        },
        "outputId": "0ee94630-615a-4e14-ca82-bb7c5a70c449"
      },
      "source": [
        "# The 'shuffler()' function to to jumble the letters of a word and form a jumbled word.\n",
        "import random\n",
        "\n",
        "def shuffler(word):\n",
        "  letters = list(word)\n",
        "  random.shuffle(letters)\n",
        "  shuffled_word = ''.join(letters)\n",
        "  return(shuffled_word)\n",
        "\n",
        "shuffler('swim')"
      ],
      "execution_count": 8,
      "outputs": [
        {
          "output_type": "execute_result",
          "data": {
            "text/plain": [
              "'iswm'"
            ],
            "application/vnd.google.colaboratory.intrinsic+json": {
              "type": "string"
            }
          },
          "metadata": {},
          "execution_count": 8
        }
      ]
    },
    {
      "cell_type": "markdown",
      "metadata": {
        "id": "aJJT0ojPGPcd"
      },
      "source": [
        "---"
      ]
    },
    {
      "cell_type": "markdown",
      "metadata": {
        "id": "rZsDogK8LaOW"
      },
      "source": [
        "#### 3. The Remaining Components\n",
        "\n",
        "Before creating the `for` loop, print the title of the game. Here's the expected output:\n",
        "\n",
        "```\n",
        "-----------------------------GUESS A WORD GAME--------------------------------\n",
        "```\n",
        "\n",
        "The title is centre justified and the total length of the string is 120.\n",
        "\n",
        "Prompt a player to enter their name. You should also tell the player, to enter `s` as an input to stop the game midway. \n",
        "\n",
        "Then create a `for` loop which should do the following:\n",
        "\n",
        "1. Display the jumbled letters of a word in uppercase, the part of speech for the word in uppercase and the meaning of the word in uppercase. Here's an example of the expected output:\n",
        "\n",
        "   `Jumbled Letters: UQSTOAEREIINN`\n",
        "\n",
        "2. Take input from the user (the guessed word) and convert it into uppercase.\n",
        "\n",
        "3. If the player's input is `s`, terminate the loop using the `break` keyword.\n",
        "\n",
        "4. Else if the player's guess is correct, show the `CORRECT!` message and increase player's guess count stored in `score` variable by 1.\n",
        "\n",
        "5. Else, show the `WRONG!` message. Also, display the correct word. Here's an example of the expected output:\n",
        "\n",
        "   ```\n",
        "   Guess the word:\n",
        "   mealfeseance\n",
        "\n",
        "   WRONG! \n",
        "   Correct word is MALFEASANCE \n",
        "   ```\n",
        "\n",
        "6. Once the player has completed guessing all the words, display `Game Over!` message along with the final score.\n",
        "  ```\n",
        "  Game Over!\n",
        "  Kakashi, Your score is 6.\n",
        "  ```\n",
        " "
      ]
    },
    {
      "cell_type": "code",
      "metadata": {
        "id": "8HV3cY6O9LeE",
        "colab": {
          "base_uri": "https://localhost:8080/"
        },
        "outputId": "9365f47d-5404-4527-fecb-582bfadd60ff"
      },
      "source": [
        "# Check whether player's guess is correct or not\n",
        "# Printing the title 'GUESS A WORD GAME' center aligned\n",
        "just_len = 100\n",
        "print(\"guess a word game\".upper().center(just_len, '-'))\n",
        "\n",
        "# Get the player's name and store in a variable\n",
        "player_name = input(\"\\nWhat's your name?\\n\")\n",
        "\n",
        "# Printing the terminate message 'Type 's' to stop the game at any time.'\n",
        "print(f\"\\nType 's' to stop the game at any time.\\n{'#' * just_len}\") \n",
        "\n",
        "# Creating the 'for' loop to shuffle the words in 'my_words' tuple and check the player's guess \n",
        "for word in my_words:\n",
        "  shuffled_word = shuffler(word)\n",
        "  while shuffled_word == word:\n",
        "    shuffled_word = shuffler(word)\n",
        "\n",
        "  # Asking the user to 'Guess the word:' and store the word in a variable\n",
        "  player_guess = input(f\"Guess the correct Word : {shuffled_word.upper()} \\n\")\n",
        "  \n",
        "  # Convert the player guess to upper case using the 'upper()' function. \n",
        "  # store the result in a variable 'player_guess_upper'\n",
        "  # Write your code here\n",
        "\n",
        "  # If player enters 's' then terminate the 'for' loop using 'break' keyword  \n",
        "  # Write your code here\n",
        "  if player_guess=='s':\n",
        "    break\n",
        "  elif player_guess==word.upper():\n",
        "    print('Correct!!')\n",
        "    score+=1\n",
        "  else :\n",
        "    print('Wrong.')\n",
        "\n",
        "  # 'if player_guess_upper == word.upper():' print 'Correct!!' and increase the 'score' by 1.\n",
        "  # Write your code here\n",
        "  \n",
        "  # Else print 'WRONG! Correct word is (correct_word)'\n",
        "  # Write your code here  \n",
        "  "
      ],
      "execution_count": 11,
      "outputs": [
        {
          "output_type": "stream",
          "name": "stdout",
          "text": [
            "-----------------------------------------GUESS A WORD GAME------------------------------------------\n",
            "\n",
            "What's your name?\n",
            "govind\n",
            "\n",
            "Type 's' to stop the game at any time.\n",
            "####################################################################################################\n",
            "Guess the correct Word : SROUEITQINEAN \n",
            "aer\n",
            "Wrong\n",
            "Guess the correct Word : SCONSIUCUNO \n",
            "unconscious\n",
            "Wrong\n",
            "Guess the correct Word : PSORICUCEO \n",
            "PRECONCIOUS\n",
            "Wrong\n",
            "Guess the correct Word : IAOINLS \n",
            "LIAISON\n",
            "Correct!!\n",
            "Guess the correct Word : LCEERSVUNILA \n",
            "DF\n",
            "Wrong\n",
            "Guess the correct Word : FALMENEACSA \n",
            "FD\n",
            "Wrong\n",
            "Guess the correct Word : ELICISBRA \n",
            "FEW\n",
            "Wrong\n",
            "Guess the correct Word : DNSYRYISAICO \n",
            "VDZ\n",
            "Wrong\n",
            "Guess the correct Word : DONRFUTOYA \n",
            "DV\n",
            "Wrong\n",
            "Guess the correct Word : EIMNCUOED \n",
            "WR\n",
            "Wrong\n"
          ]
        }
      ]
    },
    {
      "cell_type": "markdown",
      "metadata": {
        "id": "gdgW4-R6LVB3"
      },
      "source": [
        "---"
      ]
    },
    {
      "cell_type": "markdown",
      "metadata": {
        "id": "NyHSsEwEoEvH"
      },
      "source": [
        "#### 4. Final score\n",
        "\n",
        "Finally, show `Game Over!` after player has completed guessing the 10 words and show the final score stored in `score` variable.\n",
        "\n",
        "For Example, if the player had guessed 3 correct words you should be displaying the final score message as,\n",
        "```\n",
        "  Game Over!\n",
        "  Kakashi, Your score is 3.\n",
        "  ```"
      ]
    },
    {
      "cell_type": "code",
      "metadata": {
        "id": "-QAIIkM1qCNr",
        "colab": {
          "base_uri": "https://localhost:8080/"
        },
        "outputId": "ca425c4d-bdb5-4d10-96da-448bf73e082b"
      },
      "source": [
        "# Display 'Game Over' and Final score to the player\n",
        "print(f\"Game Over! \\n{player_name}, Your score is {score}.\")    "
      ],
      "execution_count": 12,
      "outputs": [
        {
          "output_type": "stream",
          "name": "stdout",
          "text": [
            "Game Over! \n",
            "govind, Your score is 1.\n"
          ]
        }
      ]
    },
    {
      "cell_type": "markdown",
      "metadata": {
        "id": "4qIsQMIj-Is3"
      },
      "source": [
        "---"
      ]
    }
  ]
}