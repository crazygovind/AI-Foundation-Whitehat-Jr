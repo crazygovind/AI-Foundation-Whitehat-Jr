{
  "nbformat": 4,
  "nbformat_minor": 0,
  "metadata": {
    "colab": {
      "provenance": [],
      "collapsed_sections": [],
      "include_colab_link": true
    },
    "kernelspec": {
      "display_name": "Python 3",
      "language": "python",
      "name": "python3"
    },
    "language_info": {
      "codemirror_mode": {
        "name": "ipython",
        "version": 3
      },
      "file_extension": ".py",
      "mimetype": "text/x-python",
      "name": "python",
      "nbconvert_exporter": "python",
      "pygments_lexer": "ipython3",
      "version": "3.7.3"
    }
  },
  "cells": [
    {
      "cell_type": "markdown",
      "metadata": {
        "id": "view-in-github",
        "colab_type": "text"
      },
      "source": [
        "<a href=\"https://colab.research.google.com/github/crazygovind/AI-Foundation-Whitehat-Jr/blob/master/08__Capstone_Project_1_Dice_Roll_Game_2021_10_21_Govind.ipynb\" target=\"_parent\"><img src=\"https://colab.research.google.com/assets/colab-badge.svg\" alt=\"Open In Colab\"/></a>"
      ]
    },
    {
      "cell_type": "markdown",
      "metadata": {
        "id": "e4QGT0wEyPzI"
      },
      "source": [
        "# Capstone Project 1: Dice Roll Game"
      ]
    },
    {
      "cell_type": "markdown",
      "metadata": {
        "id": "qRULC69vWjOK"
      },
      "source": [
        "---"
      ]
    },
    {
      "cell_type": "markdown",
      "metadata": {
        "id": "L7UdXXKRkGZb"
      },
      "source": [
        "### Overview\n",
        "\n",
        "In this project, you have to create a Dice Roll game in which two players will roll the dice one after another for 10 rounds. In each round, if the number on dice face for player 1 is greater than that for player 2, player 1 scores a point else player 2 will score a point. After 10 rounds, the player having the highest score is declared as the winner."
      ]
    },
    {
      "cell_type": "markdown",
      "metadata": {
        "id": "CtDFzWSsvovW"
      },
      "source": [
        "---"
      ]
    },
    {
      "cell_type": "markdown",
      "metadata": {
        "id": "-z-ouy6Gb8HE"
      },
      "source": [
        "### The Algorithm\n",
        "\n",
        "In the algorithm, two players will compete with each other by rolling the die one after another.<br/>\n",
        "- One turn each from both players is called a round.<br/>\n",
        "- After each round one of the player will be declared as winner of the said round as they progress to the next.\n",
        "- 10 rounds will be played in a similar fashion.\n",
        "- After round 10, the player with more round wins will be declared as the winner of the game.\n",
        "\n",
        "\n",
        "**The output should look like this:**\n",
        "\n",
        "```\n",
        "Round:  1\n",
        "Player 1 Roll:  2\n",
        "Player 2 Roll:  4\n",
        "Player 2 wins!\n",
        "Round:  2\n",
        "Player 1 Roll:  1\n",
        "Player 2 Roll:  3\n",
        "Player 2 wins!\n",
        "...\n",
        "...\n",
        "Round:  10\n",
        "Player 1 Roll:  5\n",
        "Player 2 Roll:  4\n",
        "Player 1 wins!\n",
        "Final Winner: Player 1- Rounds Won:  6\n",
        "```\n",
        "\n",
        "**Note:** The game is not accepting any user input. So no need of using `input()` function."
      ]
    },
    {
      "cell_type": "markdown",
      "metadata": {
        "id": "C236Zb7YcEyL"
      },
      "source": [
        "___"
      ]
    },
    {
      "cell_type": "markdown",
      "metadata": {
        "id": "xJgFXPgFWIy8"
      },
      "source": [
        "#### Import the `random` Module and Create the required variables\n",
        "\n",
        "- Import the `random` module."
      ]
    },
    {
      "cell_type": "code",
      "metadata": {
        "id": "gJ0Bi5wWWIy9"
      },
      "source": [
        "# Import the random module in the next line.\n",
        "import random "
      ],
      "execution_count": null,
      "outputs": []
    },
    {
      "cell_type": "markdown",
      "metadata": {
        "id": "83_aZr2maqpV"
      },
      "source": [
        "___"
      ]
    },
    {
      "cell_type": "markdown",
      "metadata": {
        "id": "bkjFPSCAWIy9"
      },
      "source": [
        "#### Create the `dice_roll()` Function\n",
        "\n",
        "Next, create a function called `dice_roll()`. Inside this function,\n",
        "- Generate a random integer between 1 to 6 using `randint()` function and store this in a variable `dice_roll`\n",
        "- Return this variable.\n",
        "\n",
        "\n"
      ]
    },
    {
      "cell_type": "code",
      "metadata": {
        "id": "4nB5W-40WIy-"
      },
      "source": [
        "# Create the dice_roll() function.\n",
        "def dice_roll():\n",
        "  dice_roll = random.randint(1, 6)\n",
        "  return dice_roll"
      ],
      "execution_count": null,
      "outputs": []
    },
    {
      "cell_type": "markdown",
      "metadata": {
        "id": "Ls05fsTWam5-"
      },
      "source": [
        "___"
      ]
    },
    {
      "cell_type": "markdown",
      "metadata": {
        "id": "TC7XPKJuWIy-"
      },
      "source": [
        "#### Create the `main()` Function\n",
        "\n"
      ]
    },
    {
      "cell_type": "markdown",
      "metadata": {
        "id": "TCAoDtY3WIzC"
      },
      "source": [
        "Now, create a function `main()` and perform the following tasks inside this function:\n",
        "\n",
        "1. Create the `player1`, `player1_score`, `player2` and `player2_score` variables and set their initial values equal to `0`. Create a `rounds` variable and assign the value of `1` to it.\n",
        "2. Create a `while` loop which runs unless `rounds` equal to `10` i.e., till `rounds != 11`. Inside the `while` loop, perform the following tasks:\n",
        "  - Print current round using `print()` function, passing the `\"Rounds \"` string as well as `rounds` variable.\n",
        "  - Call `dice_roll()` function for Player 1 and Player 2 and store the return value in `player1` and `player2` variables respectively.\n",
        "  - Print the value of `player1` and `player2` variables.\n",
        "  - Using `if-else` statement, compare the values of `player1` and `player2` variables.\n",
        "     - If `player1 == player2`, print `Draw!`.\n",
        "     - Else if `player1 > player2`, increase the value of `player1_score` variable by `1` and print `Player 1 wins!`.\n",
        "     - Else increase `player2_score` by `1` and print `Player 2 wins!`.\n",
        " - Increase `rounds` variable value by `1`.\n",
        "\n",
        "3. Outside the `while` loop, compare the score of both the players obtained after 10 rounds by comparing the values of the variables `player1_score` and `player2_score`.\n",
        "\n",
        "  - If `player1_score == player2_score` then print `Draw!`.\n",
        "  - Else if `player1_score > player2_score` then print: \n",
        "  \n",
        "    `\"Final Winner: Player 1 - Rounds Won: \", player1_score` \n",
        "  \n",
        "  where `player1_score` contains the number of rounds won by player1.\n",
        "  \n",
        "  - Else print:\n",
        "    \n",
        "    `\"Final Winner: Player 2 - Rounds Won: \", player2_score` \n",
        "  \n",
        "   where `player2_score` contains the number of rounds won by player2.\n"
      ]
    },
    {
      "cell_type": "code",
      "metadata": {
        "id": "2XMA1KdpWIzD"
      },
      "source": [
        "# Create main() function\n",
        "def main():\n",
        "\n",
        "    # Create required variables\n",
        "    player1=0\n",
        "    player1_score=0\n",
        "    player2=0\n",
        "    player2_score=0\n",
        "    rounds=1\n",
        "    # Create a while loop which runs till rounds != 11\n",
        "    while rounds != 11:\n",
        "        # print current round number using print() function as print(\"Round: \", rounds)\n",
        "      print('Round: ',rounds)\n",
        "        # Call dice_roll() function for Player 1 and Player 2 and store the return value in player1 and player2 respectively.\n",
        "      player1=dice_roll() \n",
        "      player2=dice_roll()\n",
        "      \n",
        "        # print the outcomes of Player 1 & 2\n",
        "      print(\"Player 1:  \",player1)\n",
        "      print(\"Player 2:  \",player2)\n",
        "\n",
        "        # Check if, player1 value equals that of player2. If it does, print Draw!.\n",
        "      if player1==player2:\n",
        "        print('Draw')\n",
        "        # check if player1 is greater than player2. If yes, increase player1_score by 1 and print Player 1 wins!\n",
        "      elif player1>player2:\n",
        "        player1_score=player1_score+1\n",
        "        print(\"Player 1 Wins!\")\n",
        "\n",
        "        # else increase player2_score by 1 and print Player 2 wins!.\n",
        "      else :\n",
        "\n",
        "        player2_score=player2_score+1\n",
        "        print(\"Player 2 Wins!\")\n",
        "        # Increse rounds by 1.\n",
        "        rounds=rounds+1\n",
        "    # Outside while loop check if, player1_score value equals that of player2_score, print Draw!\n",
        "    if player1_score==player2_score:\n",
        "      print(\"Draw\")\n",
        "\n",
        "    # check whether player1_score is greater than player2_score.\n",
        "    # If yes, print(\"Final Winner: Player 1- Rounds Won: \", player1_score)\n",
        "    if player1_score>player2_score:\n",
        "      print(\"Final Winner: Player 1- Rounds Won\",player1_score)\n",
        "    else:\n",
        "      print(\"Final Winner:Player 2 - Rounds won: \",player2_score)\n",
        "\n",
        "    # Otherwise print(\"Final Winner: Player 2 - Rounds Won: \", player2_score)\n",
        "   "
      ],
      "execution_count": null,
      "outputs": []
    },
    {
      "cell_type": "markdown",
      "metadata": {
        "id": "fGZ3Tccua7NL"
      },
      "source": [
        "___"
      ]
    },
    {
      "cell_type": "markdown",
      "metadata": {
        "id": "ZbL1qb2IWIzD"
      },
      "source": [
        "#### Call the `main()` function"
      ]
    },
    {
      "cell_type": "code",
      "metadata": {
        "id": "B1yCTn4bIlo7",
        "colab": {
          "base_uri": "https://localhost:8080/"
        },
        "outputId": "8ad7de3d-be1a-4262-c96b-1156fff03db3"
      },
      "source": [
        "# Call the 'main()' function\n",
        "main()"
      ],
      "execution_count": null,
      "outputs": [
        {
          "output_type": "stream",
          "name": "stdout",
          "text": [
            "Round:  1 \n",
            "Player 1:   2\n",
            "Player 2:   2\n",
            "Draw\n",
            "Round:  1 \n",
            "Player 1:   4\n",
            "Player 2:   6\n",
            "Player 2 Wins!\n",
            "Round:  2 \n",
            "Player 1:   6\n",
            "Player 2:   2\n",
            "Player 1 Wins!\n",
            "Round:  2 \n",
            "Player 1:   3\n",
            "Player 2:   5\n",
            "Player 2 Wins!\n",
            "Round:  3 \n",
            "Player 1:   3\n",
            "Player 2:   6\n",
            "Player 2 Wins!\n",
            "Round:  4 \n",
            "Player 1:   6\n",
            "Player 2:   4\n",
            "Player 1 Wins!\n",
            "Round:  4 \n",
            "Player 1:   2\n",
            "Player 2:   3\n",
            "Player 2 Wins!\n",
            "Round:  5 \n",
            "Player 1:   2\n",
            "Player 2:   5\n",
            "Player 2 Wins!\n",
            "Round:  6 \n",
            "Player 1:   5\n",
            "Player 2:   1\n",
            "Player 1 Wins!\n",
            "Round:  6 \n",
            "Player 1:   6\n",
            "Player 2:   6\n",
            "Draw\n",
            "Round:  6 \n",
            "Player 1:   3\n",
            "Player 2:   6\n",
            "Player 2 Wins!\n",
            "Round:  7 \n",
            "Player 1:   1\n",
            "Player 2:   2\n",
            "Player 2 Wins!\n",
            "Round:  8 \n",
            "Player 1:   5\n",
            "Player 2:   5\n",
            "Draw\n",
            "Round:  8 \n",
            "Player 1:   2\n",
            "Player 2:   2\n",
            "Draw\n",
            "Round:  8 \n",
            "Player 1:   4\n",
            "Player 2:   6\n",
            "Player 2 Wins!\n",
            "Round:  9 \n",
            "Player 1:   1\n",
            "Player 2:   5\n",
            "Player 2 Wins!\n",
            "Round:  10 \n",
            "Player 1:   4\n",
            "Player 2:   1\n",
            "Player 1 Wins!\n",
            "Round:  10 \n",
            "Player 1:   2\n",
            "Player 2:   4\n",
            "Player 2 Wins!\n",
            "Final Winner:Player 2 - Rounds won:  10\n"
          ]
        }
      ]
    },
    {
      "cell_type": "markdown",
      "metadata": {
        "id": "pU3gppd9Im0Z"
      },
      "source": [
        "---"
      ]
    }
  ]
}