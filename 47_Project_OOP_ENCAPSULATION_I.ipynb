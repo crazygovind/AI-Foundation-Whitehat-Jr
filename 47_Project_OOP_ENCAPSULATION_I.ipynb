{
  "nbformat": 4,
  "nbformat_minor": 0,
  "metadata": {
    "colab": {
      "provenance": [],
      "include_colab_link": true
    },
    "kernelspec": {
      "name": "python3",
      "display_name": "Python 3"
    }
  },
  "cells": [
    {
      "cell_type": "markdown",
      "metadata": {
        "id": "view-in-github",
        "colab_type": "text"
      },
      "source": [
        "<a href=\"https://colab.research.google.com/github/crazygovind/AI-Foundation-Whitehat-Jr/blob/master/47_Project_OOP_ENCAPSULATION_I.ipynb\" target=\"_parent\"><img src=\"https://colab.research.google.com/assets/colab-badge.svg\" alt=\"Open In Colab\"/></a>"
      ]
    },
    {
      "cell_type": "markdown",
      "metadata": {
        "id": "UYmMpXkNw9I6"
      },
      "source": [
        "### Instructions"
      ]
    },
    {
      "cell_type": "markdown",
      "metadata": {
        "id": "PaanjkTewd2U"
      },
      "source": [
        "---"
      ]
    },
    {
      "cell_type": "markdown",
      "metadata": {
        "id": "64Zy490qzVsZ"
      },
      "source": [
        "#### Goal of the Project\n",
        "\n",
        "This project is designed for you to practice and solve the activities that are based on the concepts covered in the following lessons:\n",
        "\n",
        " 1. Classes and Objects \n",
        "\n",
        " 2. Inheritance"
      ]
    },
    {
      "cell_type": "markdown",
      "metadata": {
        "id": "8BgExNKi1khe"
      },
      "source": [
        "---"
      ]
    },
    {
      "cell_type": "markdown",
      "metadata": {
        "id": "2i36Yv3-MPY5"
      },
      "source": [
        "### Problem Statement \n",
        "\n",
        "\n",
        "From the stone age till the electronic age we have used numerous ways of distance communication, one of them being **Mail Service**.\n",
        "\n",
        "Let's say you are building a Mailing Service Application which will allow you to send mails. These mails can be emails, physical mails, fax, etc.\n",
        "\n",
        "Every mail will have four things in common: \n",
        "1. Sender’s Address\n",
        "2. Receiver’s Address\n",
        "3. Subject\n",
        "4. Message \n",
        "\n",
        "Every type of mail possess some unique attributes like:\n",
        "* In a courier, you need the weight of the parcel.\n",
        "* In an email, you may have an Attachment.\n",
        "\n",
        "Let's build this application using Inheritance. "
      ]
    },
    {
      "cell_type": "markdown",
      "metadata": {
        "id": "vYChcL-WMRFV"
      },
      "source": [
        "---"
      ]
    },
    {
      "cell_type": "markdown",
      "metadata": {
        "id": "toeLx5LJpIV-"
      },
      "source": [
        "### List of Activities\n",
        "\n",
        "**Activity 1:** Create a parent class `Mail`.\n",
        "\n",
        "  \n",
        "**Activity 2:** Create an object of the class `Mail`\n",
        "\n",
        "**Activity 3:** Create a child class `Post` which inherits from the parent class `Mail`.\n",
        "\n",
        "**Activity 4:** Create a child class `Email ` which inherits from its parent class `Mail`.\n"
      ]
    },
    {
      "cell_type": "markdown",
      "metadata": {
        "id": "5JRlGIBRqCGl"
      },
      "source": [
        "---"
      ]
    },
    {
      "cell_type": "markdown",
      "metadata": {
        "id": "j5RcICzZlJeZ"
      },
      "source": [
        "#### Activity 1: Create Parent Class `Mail`\n",
        "\n",
        "\n",
        "1. Create a class `Mail`. The constructor of this class must initialise the following variables:\n",
        "\n",
        " - `sender_add`: Address of the sender.\n",
        "\n",
        " - `receiver_add`: Address of the receiver.\n",
        "\n",
        " - `subject`: Context of the mail.\n",
        "\n",
        " - `message`: Message which needs to be communicated.\n",
        "\n",
        "\n",
        "2. Create a `__repr__()` function to print the above variables in a format as given in the example below:\n",
        "\n",
        "```\n",
        "To:     \tPrime Minister\n",
        "From:   \tState Minister\n",
        "Subject:\tHealth Policy\n",
        "Message:\tThis is regarding the Health Policy 2020\n",
        "```\n"
      ]
    },
    {
      "cell_type": "code",
      "metadata": {
        "id": "6RL71w3ntzcH"
      },
      "source": [
        "#  Create class 'Mail'. Add constructor \n",
        "class Mail:\n",
        "  def __init__(self,sender_add,reciever_add,subject,messege):\n",
        "    self.sender_add=sender_add\n",
        "    self.reciever_add=reciever_add\n",
        "    self.subject=subject\n",
        "    self.messege=messege\n",
        "      \n",
        "  # Create a __repr__ to return the properties of a mail\n",
        "  def __repr__(self):\n",
        "    return self.sender_add\n",
        "    self.reciever_add\n",
        "    self.subject\n",
        "    self.messege\n",
        "\n"
      ],
      "execution_count": 1,
      "outputs": []
    },
    {
      "cell_type": "markdown",
      "metadata": {
        "id": "RETr5Tv1JBls"
      },
      "source": [
        "---"
      ]
    },
    {
      "cell_type": "markdown",
      "metadata": {
        "id": "z1v1uCgTXOj0"
      },
      "source": [
        "#### Activity 2: Create an Object of `Mail` Class\n",
        "\n",
        "Create an object of `Mail` class and display the attributes  using the object"
      ]
    },
    {
      "cell_type": "code",
      "metadata": {
        "id": "cHEBBL8JOymV"
      },
      "source": [
        "# Create an object of 'Mail' class and print its properties\n",
        "official=Mail('Chief minister','Govind','Finanace policy','This is regarding finance policy 2022')\n",
        "  \n"
      ],
      "execution_count": 2,
      "outputs": []
    },
    {
      "cell_type": "markdown",
      "metadata": {
        "id": "TjVfq3s_G8Z8"
      },
      "source": [
        "---"
      ]
    },
    {
      "cell_type": "markdown",
      "metadata": {
        "id": "J2x0URlDJrZH"
      },
      "source": [
        "#### Activity 3: Create a Child Class `Post`\n",
        "\n",
        "\n",
        "1. Create a child class `Post` which inherits from the parent class `Mail`. In addition to the properties of the parent class, the constructor of this class must initialise the following properties:\n",
        "\n",
        "  - `mode_of_transit`: Transport method. It can have only one of the three values:\n",
        "\n",
        "     * Waterways\n",
        "     * Roadways\n",
        "     * Airways\n",
        "\n",
        "  - `delivery_time`: Time taken to deliver the post. It is initially set to `None`.\n",
        "\n",
        "  \n",
        "2. Create the following function inside the child class:\n",
        "\n",
        "  -  `calculate_delivery_time()`: This function determines the `delivery_time` based on the following conditions:\n",
        "\n",
        "     * If `mode_of_transit` is Airways, then `delivery_time` will be \"In 5 working days\".\n",
        "     * If `mode_of_transit` is Roadways, then `delivery_time` will be \"In 15 working days\".\n",
        "     * If `mode_of_transit` is Waterways, then `delivery_time` will be \"In 10-15 working days\".\n",
        "\n",
        "      .\n",
        "\n",
        "  - Create a `__repr__()` function to print the message in a format as given in the example below:\n",
        "```\n",
        "To:     \t      Prime Minister\n",
        "From:   \t      State Minister\n",
        "Subject:\t      Health Policy\n",
        "Message:\t      This is regarding the Health Policy 2020\n",
        "Transit Mode: \tAirways\n",
        "Delivery Time: \tIn 5 working days\n",
        "```\n",
        "3. Create an object of this class and pass the desired values as parameters to its constructor."
      ]
    },
    {
      "cell_type": "code",
      "metadata": {
        "id": "IjwoVwylMHpY",
        "colab": {
          "base_uri": "https://localhost:8080/"
        },
        "outputId": "6fd02fa9-0b20-401c-8bf9-3fa7b8247399"
      },
      "source": [
        "# Create child class 'Post' of the parent class 'Mail' and create the object of the child class and determine the delivery time\n",
        "class Post(Mail):\n",
        "  def __init__(self,sender_add,reciever_add,subject,messege,mode_of_transit=('Waterways','Roadways','Airways'),delivery_time=None):\n",
        "    super().__init__(sender_add,reciever_add,subject,messege)\n",
        "    self.mode_of_transit=mode_of_transit\n",
        "    self.delivery_time=delivery_time\n",
        "  def calculate_delivery_time(self,mode_of_transit):\n",
        "    if mode_of_transit== 'Airways':\n",
        "      return 'time=5 working days'\n",
        "    if mode_of_transit== 'Roadways':\n",
        "      return 'time=\"In 15 working days\"'\n",
        "    if mode_of_transit=='Waterways':\n",
        "      return 'time=\"In 10-15 working days\"'\n",
        "  def __repr__(self):\n",
        "    return (f\"To: \\t{self.reciever_add}\\nFrom: \\t{self.sender_add}\\nSubject: \\t{self.subject}\\nMessage:\\t{self.messege}\\nTransit Mode: \\t{self.mode_of_transit}\\nDelivery Time:\\t{self.delivery_time}\")\n",
        "  \n",
        "p1=Post('Govind','Chief Minister','Finance policy','This is about Finance policy 2022')\n",
        "p1.calculate_delivery_time('Roadways')\n",
        "p1\n",
        "\n"
      ],
      "execution_count": 3,
      "outputs": [
        {
          "output_type": "execute_result",
          "data": {
            "text/plain": [
              "To: \tChief Minister\n",
              "From: \tGovind\n",
              "Subject: \tFinance policy\n",
              "Message:\tThis is about Finance policy 2022\n",
              "Transit Mode: \t('Waterways', 'Roadways', 'Airways')\n",
              "Delivery Time:\tNone"
            ]
          },
          "metadata": {},
          "execution_count": 3
        }
      ]
    },
    {
      "cell_type": "markdown",
      "metadata": {
        "id": "lBZS4GAudWGJ"
      },
      "source": [
        "---"
      ]
    },
    {
      "cell_type": "markdown",
      "metadata": {
        "id": "gvjSeGubj4X5"
      },
      "source": [
        "#### Activity 4: Create a Child Class `Email`\n",
        "\n",
        "\n",
        "1. Create a child class `Email` which inherits from the parent class `Mail`. In addition to the properties of the parent class, the constructor of this class must initialise the following properties:\n",
        "\n",
        "  - `status`: The status of the sent email. It can have any one of the following values:\n",
        "  \n",
        "    * Draft\n",
        "    * Sent\n",
        "\n",
        " \n",
        "\n",
        "  \n",
        "2. Create the following functions inside the child class:\n",
        "\n",
        "  - `update_message()`: A function which will update the `message` variable. If the `status` of the email is `Draft`, then update the `message` variable with the new message passed as a parameter to this function else print **\"Message already sent. Update not possible\"**\n",
        "\n",
        " 2. Create a `__repr__()` function to print the message in a format as given in the example below:\n",
        "```\n",
        "To:     \tPrime Minister\n",
        "From:   \tState Minister\n",
        "Subject:\tHealth Policy\n",
        "Message:\tPolicy 2020\n",
        "Status: \tDraft\n",
        "```\n",
        "3. Create an object of this class and pass the desired values as parameters to its constructor."
      ]
    },
    {
      "cell_type": "code",
      "metadata": {
        "id": "fhZrarNohg47",
        "colab": {
          "base_uri": "https://localhost:8080/"
        },
        "outputId": "efdefa11-f5b8-4563-f9a9-8893e9f6caf2"
      },
      "source": [
        "# Create child class 'Email' of the parent class 'Mail'. Create the object of the child class and update an existing draft.\n",
        "class Email(Mail):\n",
        "  def __init__(self,sender_add,reciever_add,subject,messege,status=('Draft','Sent')):\n",
        "    super().__init__(sender_add,reciever_add,subject,messege)\n",
        "    self.status=status\n",
        "  def update_messege(self,status,messege):\n",
        "    if status== 'Draft':\n",
        "      self.messege=messege\n",
        "    else:\n",
        "      print( \"Message already sent. Update not possible\")\n",
        "  def __repr__(self):\n",
        "    return (f\"To: \\t{self.reciever_add}\\nFrom: \\t{self.sender_add}\\nSubject:\\t{self.subject}\\nMessage:\\t{self.messege}\\nStatus: \\t{self.status}\")\n",
        "  \n",
        "m1=Email('Govind','Jay','Lectures',\"about attending lectures\",'Draft')\n",
        "m1.update_messege('Draft','Hello')\n",
        "print(m1)\n",
        "\n"
      ],
      "execution_count": 4,
      "outputs": [
        {
          "output_type": "stream",
          "name": "stdout",
          "text": [
            "To: \tJay\n",
            "From: \tGovind\n",
            "Subject:\tLectures\n",
            "Message:\tHello\n",
            "Status: \tDraft\n"
          ]
        }
      ]
    },
    {
      "cell_type": "markdown",
      "metadata": {
        "id": "RUsA5NIJatRo"
      },
      "source": [
        "---"
      ]
    }
  ]
}