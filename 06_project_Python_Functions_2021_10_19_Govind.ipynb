{
  "nbformat": 4,
  "nbformat_minor": 0,
  "metadata": {
    "colab": {
      "provenance": [],
      "collapsed_sections": [],
      "include_colab_link": true
    },
    "kernelspec": {
      "name": "python3",
      "display_name": "Python 3"
    }
  },
  "cells": [
    {
      "cell_type": "markdown",
      "metadata": {
        "id": "view-in-github",
        "colab_type": "text"
      },
      "source": [
        "<a href=\"https://colab.research.google.com/github/crazygovind/AI-Foundation-Whitehat-Jr/blob/master/06_project_Python_Functions_2021_10_19_Govind.ipynb\" target=\"_parent\"><img src=\"https://colab.research.google.com/assets/colab-badge.svg\" alt=\"Open In Colab\"/></a>"
      ]
    },
    {
      "cell_type": "markdown",
      "metadata": {
        "id": "YZnBY81YDCCr"
      },
      "source": [
        "### Instructions"
      ]
    },
    {
      "cell_type": "markdown",
      "metadata": {
        "id": "bEyBzxYRhrLG"
      },
      "source": [
        "#### Goal of the Project\n",
        "\n",
        "This project is designed for you to practice and solve the activities that are based on the concepts covered in the following lessons:\n",
        "\n",
        " 1.  While Loop, Data-Type Conversion and Conditional Statements.\n",
        " \n",
        " 2.  Improving The Algorithm\n"
      ]
    },
    {
      "cell_type": "markdown",
      "metadata": {
        "id": "DPOFIO3EHncO"
      },
      "source": [
        "---"
      ]
    },
    {
      "cell_type": "markdown",
      "metadata": {
        "id": "qA-b1CdeofKc"
      },
      "source": [
        "#### Activity 1: Increment a Number by 50.\n",
        "\n",
        "Write a function to increment a number by 50.\n",
        "\n",
        "For example: if the number entered is 12 then expected output is: 12 + 50 = 62.\n",
        "\n",
        "Follow the steps given below to achieve the desired result:\n",
        "\n",
        "- **Step 1:** Ask the user to enter a number. Convert the data type of user input to integer and then store it in a variable `num`.\n",
        "\n",
        "- **Step 2:** Create a function (using the `def` keyword) and name it `increment()` which takes one input, `n`.\n",
        "\n",
        "- **Step 3:** Inside the function, add the input parameter `n` with `50` using the `+` operator and store the result in a variable `result`.\n",
        "\n",
        "- **Step 4:** Print the result in the output using the `return` keyword. If you don't write the `return` statement, then this function will only add the numbers but won't give any output.\n",
        "\n",
        "- **Step 5:** Call the `increment()` function (outside the function) and pass the variables `num` (the variable which holds the user input) as an input to this function.\n"
      ]
    },
    {
      "cell_type": "code",
      "metadata": {
        "id": "AtvPTG3kpBoS",
        "colab": {
          "base_uri": "https://localhost:8080/"
        },
        "outputId": "3c8ae720-60b8-4250-eb7d-90ccc931ca0f"
      },
      "source": [
        "# Write your code to increment a number by 50.\n",
        "# Step 1: Ask the user to enter the first number as an integer and then store it in a variable num.\n",
        "num =int(input('Enter your number  ')) \n",
        "\n",
        "# Step 2: Create a function and name it 'increment()' which takes one input 'n'.\n",
        "def increment(n) :\n",
        "  # Step 3: Add the input parameter 'n' with 50 using the '+' operator and store the result in a variable.\n",
        "  result = n + 50\n",
        "  # Step 5: Print the result in the output using the 'return' keyword.\n",
        "  return result\n",
        "\t  \n",
        "# Step 5: Call the 'increment()' function and pass the variable 'num' as an input.\n",
        "  \n",
        "increment(num) \n"
      ],
      "execution_count": null,
      "outputs": [
        {
          "name": "stdout",
          "output_type": "stream",
          "text": [
            "Enter your number  5\n"
          ]
        },
        {
          "output_type": "execute_result",
          "data": {
            "text/plain": [
              "55"
            ]
          },
          "metadata": {},
          "execution_count": 21
        }
      ]
    },
    {
      "cell_type": "markdown",
      "metadata": {
        "id": "KOVBiUSMzut1"
      },
      "source": [
        "---"
      ]
    },
    {
      "cell_type": "markdown",
      "metadata": {
        "id": "0mKpho8wtJVG"
      },
      "source": [
        "#### Activity 2: Multiplication of Two Numbers\n",
        "\n",
        "Write a function to print the multiplication of two numbers.\n",
        "\n",
        "For example, if `num_1 = 5` and `num2 = 15`, then result = 5 * 15 = 75\n",
        "\n",
        "Follow the steps given below to achieve the desired result:\n",
        "\n",
        "  - **Step 1:** Ask the user to enter the first number. Convert the data type of user input to integer using the `int()` function and then store it in a variable `num_1`.\n",
        "\n",
        "  - **Step 2:** Ask the user to enter the second number. Convert the data type of user input to integer using the `int()` function and then store it in a variable `num_2`. \n",
        "\n",
        "  - **Step 3:** Create a function (using the `def` keyword) and name it `multiplier()` which takes two inputs, `num1` and `num2`. \n",
        "\n",
        "  - **Step 4:** Inside the function, multiply the input parameters `num1` and `num2` using the `*` operator and store the result in a variable `result`.\n",
        "\n",
        "  - **Step 5:** Print the result in the output using the `return` keyword. If you don't write the `return` statement, then this function will only add the numbers but won't give any output.\n",
        "\n",
        "  - **Step 6:** Now call the `multiplier()` function (outside the function) and pass the variables `num_1` and `num_2` (the variable which holds the user input) as an input to this function."
      ]
    },
    {
      "cell_type": "code",
      "metadata": {
        "id": "NPzmqitTtMJv",
        "colab": {
          "base_uri": "https://localhost:8080/"
        },
        "outputId": "6200ac3c-0534-42eb-cd69-50787213a824"
      },
      "source": [
        "# Write your code to multiply two numbers\n",
        "# Step 1: Ask the user to enter the first number as an integer and then store it in a variable 'num_1'.\n",
        "num_1 =int(input('enter first number  '))\n",
        "\n",
        "# Step 2: Ask the user to enter the second number as an integer and then store it in a variable 'num_2'.\n",
        "num_2 =int(input('enter second number  '))\n",
        "\n",
        "# Step 3: Create a function and name it 'multiplier()' which takes two inputs, 'num1' and 'num2'.\n",
        "def multiplier(num_1,num_2) :\n",
        "  result = num_1 * num_2\n",
        "  # Step 4: Multiply the input parameters using the '*' operator and store the result in a variable.\n",
        "  # Step 5: Print the result in the output using the 'return' keyword. \n",
        "  return result\n",
        "# Step 6: Call the 'multiplier()' function and pass the variables 'num_1' and 'num_2' as an input.\n",
        "multiplier(num_1,num_2)\n"
      ],
      "execution_count": null,
      "outputs": [
        {
          "name": "stdout",
          "output_type": "stream",
          "text": [
            "enter first number  5\n",
            "enter second number  6\n"
          ]
        },
        {
          "output_type": "execute_result",
          "data": {
            "text/plain": [
              "30"
            ]
          },
          "metadata": {},
          "execution_count": 3
        }
      ]
    },
    {
      "cell_type": "markdown",
      "metadata": {
        "id": "MJ_BhADjtOCs"
      },
      "source": [
        "---"
      ]
    }
  ]
}