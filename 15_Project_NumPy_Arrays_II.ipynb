{
  "nbformat": 4,
  "nbformat_minor": 0,
  "metadata": {
    "colab": {
      "provenance": [],
      "collapsed_sections": [],
      "include_colab_link": true
    },
    "kernelspec": {
      "name": "python3",
      "display_name": "Python 3"
    }
  },
  "cells": [
    {
      "cell_type": "markdown",
      "metadata": {
        "id": "view-in-github",
        "colab_type": "text"
      },
      "source": [
        "<a href=\"https://colab.research.google.com/github/crazygovind/AI-Foundation-Whitehat-Jr/blob/master/15_Project_NumPy_Arrays_II.ipynb\" target=\"_parent\"><img src=\"https://colab.research.google.com/assets/colab-badge.svg\" alt=\"Open In Colab\"/></a>"
      ]
    },
    {
      "cell_type": "markdown",
      "metadata": {
        "id": "YZnBY81YDCCr"
      },
      "source": [
        "### Instructions"
      ]
    },
    {
      "cell_type": "markdown",
      "metadata": {
        "id": "bEyBzxYRhrLG"
      },
      "source": [
        "#### Goal of the Project\n",
        "\n",
        "This project is designed for you to practice and solve the activities that are based on the concepts covered in the following lessons:\n",
        "\n",
        "1. Python Lists \n",
        "\n",
        "2. List Comprehension\n",
        "\n",
        "3. NumPy Arrays\n",
        "\n"
      ]
    },
    {
      "cell_type": "markdown",
      "metadata": {
        "id": "m1LornzlHT2V"
      },
      "source": [
        "---"
      ]
    },
    {
      "cell_type": "markdown",
      "metadata": {
        "id": "q4fH06mIjuK3"
      },
      "source": [
        "#### Activity 1: Create and update a null NumPy array \n",
        "\n",
        "Create a null NumPy array of size 10 and update the sixth value to 11.\n",
        "\n",
        "A null array is basically an array with all elements as `0`.\n",
        "\n",
        "Follow the steps given below to achieve the desired result:\n",
        "\n",
        "- **Step 1:** Import the Numpy module as `np`.\n",
        "\n",
        "- **Step 2**: Create a null array by passing the size i.e. `10` inside the `np.zeros()` function and store it in a variable `null_arr`. \n",
        "\n",
        "- **Step 3**: Print the null array.\n",
        "\n",
        "- **Step 4**: Now update the sixth element of the array by using **list indexing** method. As you need to update the sixth element, the index must be `5`.\n",
        "\n",
        "- **Step 5**: Print the updated array in the output.\n",
        "\n"
      ]
    },
    {
      "cell_type": "code",
      "metadata": {
        "id": "4EAoTskqg041",
        "colab": {
          "base_uri": "https://localhost:8080/"
        },
        "outputId": "fba902f1-f855-4bf9-a1a8-9c384f05fc21"
      },
      "source": [
        "# Write a program to create Null array of size 10 and update the sixth value to 11.\n",
        "import numpy as np \n",
        "null_array=np.zeros(10)\n",
        "print(null_array)\n",
        "null_array[5]=6\n",
        "print(null_array)"
      ],
      "execution_count": null,
      "outputs": [
        {
          "output_type": "stream",
          "name": "stdout",
          "text": [
            "[0. 0. 0. 0. 0. 0. 0. 0. 0. 0.]\n",
            "[0. 0. 0. 0. 0. 6. 0. 0. 0. 0.]\n"
          ]
        }
      ]
    },
    {
      "cell_type": "markdown",
      "metadata": {
        "id": "xJlPs9X9oeRw"
      },
      "source": [
        "---"
      ]
    },
    {
      "cell_type": "markdown",
      "metadata": {
        "id": "qA-b1CdeofKc"
      },
      "source": [
        "#### Activity 2: Populate a number list\n",
        "\n",
        "Write a program that populates a list by numbers that lie in the range of 0 to 49 and are also divisible by 5. Use the **List Comprehension** method.\n",
        "\n",
        "**Output**: `[0, 5, 10, 15, 20, 25, 30, 35, 40, 45]`\n",
        "\n",
        "\n"
      ]
    },
    {
      "cell_type": "code",
      "metadata": {
        "id": "AtvPTG3kpBoS",
        "colab": {
          "base_uri": "https://localhost:8080/"
        },
        "outputId": "79fc3b6e-cf8f-4393-fb94-3b39c5b32464"
      },
      "source": [
        "# Write a program to populate a number list divisible by 5 in a range of 0 - 49\n",
        "number_list=np.arange(0,50,5)\n",
        "print(number_list)"
      ],
      "execution_count": null,
      "outputs": [
        {
          "output_type": "stream",
          "name": "stdout",
          "text": [
            "[ 0  5 10 15 20 25 30 35 40 45]\n"
          ]
        }
      ]
    },
    {
      "cell_type": "markdown",
      "metadata": {
        "id": "KOVBiUSMzut1"
      },
      "source": [
        "---"
      ]
    },
    {
      "cell_type": "markdown",
      "metadata": {
        "id": "qgy1vfpsGZ8s"
      },
      "source": [
        "#### Activity 3: Convert a list into an array \n",
        "\n",
        "Write a program to convert a list of numeric values into a one-dimensional NumPy array.\n",
        "\n",
        "**For Example:**\n",
        "\n",
        "**Input**: `lst = [12.23, 13.32, 100, 36.32]`\n",
        "\n",
        "Data type of `lst` = `list`\n",
        "\n",
        "**Output**: `numpy_array = [12.23, 13.32, 100, 36.32]`\n",
        "\n",
        "Data type of `numpy_array` = `numpy.ndarray`"
      ]
    },
    {
      "cell_type": "code",
      "metadata": {
        "id": "J46QNv6bGbs-",
        "colab": {
          "base_uri": "https://localhost:8080/"
        },
        "outputId": "567a4d6b-30c8-461b-c9d5-3f6899dd2aa3"
      },
      "source": [
        "# Write a program to convert a list into one dimensional NumPy array\n",
        "first=[12.23, 13.32, 100, 36.32]\n",
        "numpy_array=np.array(first)\n",
        "print(numpy_array)"
      ],
      "execution_count": null,
      "outputs": [
        {
          "output_type": "stream",
          "name": "stdout",
          "text": [
            "[ 12.23  13.32 100.    36.32]\n"
          ]
        }
      ]
    },
    {
      "cell_type": "markdown",
      "metadata": {
        "id": "1CbaU38eGnx1"
      },
      "source": [
        "---"
      ]
    }
  ]
}