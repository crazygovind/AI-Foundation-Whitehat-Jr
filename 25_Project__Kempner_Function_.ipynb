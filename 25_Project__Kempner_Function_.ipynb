{
  "nbformat": 4,
  "nbformat_minor": 0,
  "metadata": {
    "colab": {
      "provenance": [],
      "collapsed_sections": [],
      "include_colab_link": true
    },
    "kernelspec": {
      "name": "python3",
      "display_name": "Python 3"
    }
  },
  "cells": [
    {
      "cell_type": "markdown",
      "metadata": {
        "id": "view-in-github",
        "colab_type": "text"
      },
      "source": [
        "<a href=\"https://colab.research.google.com/github/crazygovind/AI-Foundation-Whitehat-Jr/blob/master/25_Project__Kempner_Function_.ipynb\" target=\"_parent\"><img src=\"https://colab.research.google.com/assets/colab-badge.svg\" alt=\"Open In Colab\"/></a>"
      ]
    },
    {
      "cell_type": "markdown",
      "metadata": {
        "id": "YZnBY81YDCCr"
      },
      "source": [
        "### Instructions"
      ]
    },
    {
      "cell_type": "markdown",
      "metadata": {
        "id": "fIKnY8occu37"
      },
      "source": [
        "#### Goal of the Project\n",
        "\n",
        "This project is designed for you to practice and solve the activities that are based on the concepts covered in the following lessons:\n",
        "\n",
        "1. Python List II (`for` loop).\n",
        "\n",
        "2. Annotated Bar Graphs.\n",
        "\n",
        "\n"
      ]
    },
    {
      "cell_type": "markdown",
      "metadata": {
        "id": "XejoZL-88AKO"
      },
      "source": [
        "---"
      ]
    },
    {
      "cell_type": "markdown",
      "metadata": {
        "id": "H0P9F3DUf8x2"
      },
      "source": [
        "### Activities\n",
        "\n",
        "\n",
        "  "
      ]
    },
    {
      "cell_type": "markdown",
      "metadata": {
        "id": "BVT9G_baB1aq"
      },
      "source": [
        "#### Activity 1: Annotate bars in the count plot\n",
        "\n",
        "Create a gender wise annotated count plot using the below link which has the dataset of Tips taken on the total bill amount in restaurants in the CSV format: \n",
        "\n",
        "**Dataset** : https://raw.githubusercontent.com/narayanan225/datasets/main/tips.csv\n"
      ]
    },
    {
      "cell_type": "code",
      "metadata": {
        "id": "0pIGxKG9B3mb",
        "colab": {
          "base_uri": "https://localhost:8080/",
          "height": 388
        },
        "outputId": "f113f164-8ed2-4798-936d-601a5fbee855"
      },
      "source": [
        "# Create Pandas DataFrame for Tips Dataset\n",
        "import pandas as pd\n",
        "import seaborn as sns\n",
        "import matplotlib.pyplot as plt\n",
        "# Create a gender wise annotated count plot\n",
        "df=pd.read_csv('https://raw.githubusercontent.com/narayanan225/datasets/main/tips.csv')\n",
        "plt.figure(figsize=(12,6))\n",
        "sns.countplot(x='sex',data=df)\n",
        "plt.show()"
      ],
      "execution_count": null,
      "outputs": [
        {
          "output_type": "display_data",
          "data": {
            "image/png": "[encoded data removed]",
            "text/plain": [
              "<Figure size 864x432 with 1 Axes>"
            ]
          },
          "metadata": {
            "needs_background": "light"
          }
        }
      ]
    },
    {
      "cell_type": "markdown",
      "metadata": {
        "id": "B6aHFM6csIWt"
      },
      "source": [
        "**Q** : How many number of Males are there in the dataset?\n",
        "\n",
        "**A** : "
      ]
    },
    {
      "cell_type": "markdown",
      "metadata": {
        "id": "IJIZASayCpEW"
      },
      "source": [
        "---"
      ]
    },
    {
      "cell_type": "markdown",
      "metadata": {
        "id": "5kBinzKxn3hd"
      },
      "source": [
        "#### Activity 2: Find Kempner \n",
        "\n",
        "The **Kempner Function**, applied to a number, will find the smallest integer greater than zero whose factorial is exactly divisible by that number. \n",
        "\n",
        "You can get a clear idea of **Kempner Function** in the below example.\n",
        "\n",
        "**Explanation:**\n",
        "```\n",
        "  1. kempner(6) ➞ 3\n",
        "\n",
        "1! = 1 % 6 > 0\n",
        "2! = 2 % 6 > 0\n",
        "3! = 6 % 6 == 0          # (3! % 6==0) , so the Kempner of 6 is equal to 3. \n",
        "\n",
        "  2. kempner(10) ➞ 5\n",
        "\n",
        "1! = 1 % 10 > 0\n",
        "2! = 2 % 10 > 0\n",
        "3! = 6 % 10 > 0\n",
        "4! = 24 % 10 > 0\n",
        "5! = 120 % 10 === 0      # (5! % 10==0) , so the Kempner of 10 is equal to 5.\n",
        "```\n",
        "\n",
        "**Constraint:**\n",
        "\n",
        "A Kempner Function applied to a prime number will always return the prime number itself.\n",
        "```\n",
        "kempner(2) ➞ 2\n",
        "\n",
        "kempner(5) ➞ 5\n",
        "```\n",
        "Given an integer n, implement a Kempner Function.\n"
      ]
    },
    {
      "cell_type": "code",
      "metadata": {
        "id": "4gjDvOhzn6TL",
        "outputId": "bb55c58d-2f9e-490f-9a66-ab3ff4f169ed",
        "colab": {
          "base_uri": "https://localhost:8080/"
        }
      },
      "source": [
        "# Write a program to find kempner of n\n",
        "def kempner(n):\n",
        "  mult=1\n",
        "  for i in range(1,n+1):\n",
        "    mult=mult*i\n",
        "    if(mult%n==0):\n",
        "      return i\n",
        "kempner(6)"
      ],
      "execution_count": null,
      "outputs": [
        {
          "output_type": "execute_result",
          "data": {
            "text/plain": [
              "3"
            ]
          },
          "metadata": {},
          "execution_count": 5
        }
      ]
    },
    {
      "cell_type": "markdown",
      "metadata": {
        "id": "_AEgTRFO8dTb"
      },
      "source": [
        "---"
      ]
    }
  ]
}