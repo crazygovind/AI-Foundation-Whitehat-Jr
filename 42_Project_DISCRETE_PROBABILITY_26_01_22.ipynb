{
  "nbformat": 4,
  "nbformat_minor": 0,
  "metadata": {
    "colab": {
      "provenance": [],
      "include_colab_link": true
    },
    "kernelspec": {
      "name": "python3",
      "display_name": "Python 3"
    }
  },
  "cells": [
    {
      "cell_type": "markdown",
      "metadata": {
        "id": "view-in-github",
        "colab_type": "text"
      },
      "source": [
        "<a href=\"https://colab.research.google.com/github/crazygovind/AI-Foundation-Whitehat-Jr/blob/master/42_Project_DISCRETE_PROBABILITY_26_01_22.ipynb\" target=\"_parent\"><img src=\"https://colab.research.google.com/assets/colab-badge.svg\" alt=\"Open In Colab\"/></a>"
      ]
    },
    {
      "cell_type": "markdown",
      "metadata": {
        "id": "YZnBY81YDCCr"
      },
      "source": [
        "### Instructions"
      ]
    },
    {
      "cell_type": "markdown",
      "metadata": {
        "id": "fIKnY8occu37"
      },
      "source": [
        "#### Goal of the Project\n",
        "\n",
        "This project is designed for you to practice and solve the activities that are based on the concepts covered in the following lesson:\n",
        "\n",
        "1. Probability"
      ]
    },
    {
      "cell_type": "markdown",
      "metadata": {
        "id": "BBqkpH4_Doqe"
      },
      "source": [
        "---"
      ]
    },
    {
      "cell_type": "markdown",
      "metadata": {
        "id": "H0P9F3DUf8x2"
      },
      "source": [
        "### Activities\n",
        "\n",
        "\n",
        "  "
      ]
    },
    {
      "cell_type": "markdown",
      "metadata": {
        "id": "0dG-Pm9-UpYh"
      },
      "source": [
        "#### Activity 1: Probability\n",
        "\n",
        "There are 63 patients admitted in a hospital and of those 63 patients, 5 patients are covid positive patients (which doctors are not aware of). Write a program to calculate the probability of picking the covid patients.\n",
        "\n"
      ]
    },
    {
      "cell_type": "code",
      "metadata": {
        "id": "yYlWfTFxUx8C",
        "outputId": "b8d40ce8-a382-46fa-e862-2a9150786fb2",
        "colab": {
          "base_uri": "https://localhost:8080/"
        }
      },
      "source": [
        "# Store the Sample Space in a variable (let's say patients)\n",
        "patients=(63)\n",
        "# Event Outcomes (covid_patients)\n",
        "covid_patients=(5)\n",
        "# Divide possible outcomes by the sample set\n",
        "prob=covid_patients/patients\n",
        "# Print probability rounded to two decimal places\n",
        "prob"
      ],
      "execution_count": null,
      "outputs": [
        {
          "output_type": "execute_result",
          "data": {
            "text/plain": [
              "0.07936507936507936"
            ]
          },
          "metadata": {},
          "execution_count": 4
        }
      ]
    },
    {
      "cell_type": "markdown",
      "metadata": {
        "id": "PLSY4nu0UzCj"
      },
      "source": [
        "\n",
        "**Hint:** To know the probability of picking the covid patient, you'll divide the number of possible event outcomes (5), by the sample space (63)."
      ]
    },
    {
      "cell_type": "markdown",
      "metadata": {
        "id": "ftOXrP5NUzsZ"
      },
      "source": [
        "---"
      ]
    },
    {
      "cell_type": "markdown",
      "metadata": {
        "id": "BVT9G_baB1aq"
      },
      "source": [
        "There are 52 cards In a standard deck of cards and of those 52 cards, \n",
        "\n",
        " - 13 cards are Spade,\n",
        "\n",
        " - 13 cards are heart,\n",
        "\n",
        " - 13 cards are diamond and\n",
        "\n",
        " - 13 cards are Club.\n",
        "\n",
        "Each group of card have 3 face cards (such as Jack, Queen and a King). Write a program to calculate the probability of drawing a face card from the deck of cards.\n",
        "\n"
      ]
    },
    {
      "cell_type": "code",
      "metadata": {
        "id": "0pIGxKG9B3mb",
        "outputId": "9c9a80cc-e5ae-4ad4-ef37-d16520f5a981",
        "colab": {
          "base_uri": "https://localhost:8080/"
        }
      },
      "source": [
        "# Store the Sample Space in a variable (cards)\n",
        "cards=(52)\n",
        "# Event Outcomes (face_cards)\n",
        "face_cards=(3*4)\n",
        "# Divide possible outcomes by the sample set\n",
        "prob_card=face_cards/cards\n",
        "# Print probability rounded to two decimal places\n",
        "prob_card"
      ],
      "execution_count": null,
      "outputs": [
        {
          "output_type": "execute_result",
          "data": {
            "text/plain": [
              "0.23076923076923078"
            ]
          },
          "metadata": {},
          "execution_count": 1
        }
      ]
    },
    {
      "cell_type": "markdown",
      "metadata": {
        "id": "IJIZASayCpEW"
      },
      "source": [
        "---"
      ]
    }
  ]
}