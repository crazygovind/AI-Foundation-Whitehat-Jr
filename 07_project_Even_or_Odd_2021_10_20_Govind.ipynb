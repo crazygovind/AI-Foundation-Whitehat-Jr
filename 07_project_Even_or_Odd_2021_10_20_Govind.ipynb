{
  "nbformat": 4,
  "nbformat_minor": 0,
  "metadata": {
    "colab": {
      "provenance": [],
      "collapsed_sections": [],
      "include_colab_link": true
    },
    "kernelspec": {
      "name": "python3",
      "display_name": "Python 3"
    }
  },
  "cells": [
    {
      "cell_type": "markdown",
      "metadata": {
        "id": "view-in-github",
        "colab_type": "text"
      },
      "source": [
        "<a href=\"https://colab.research.google.com/github/crazygovind/AI-Foundation-Whitehat-Jr/blob/master/07_project_Even_or_Odd_2021_10_20_Govind.ipynb\" target=\"_parent\"><img src=\"https://colab.research.google.com/assets/colab-badge.svg\" alt=\"Open In Colab\"/></a>"
      ]
    },
    {
      "cell_type": "markdown",
      "metadata": {
        "id": "YZnBY81YDCCr"
      },
      "source": [
        "### Instructions"
      ]
    },
    {
      "cell_type": "markdown",
      "metadata": {
        "id": "bEyBzxYRhrLG"
      },
      "source": [
        "#### Goal of the Project\n",
        "\n",
        "This project is designed for you to practice and solve the activities that are based on the concepts covered in the following lessons:\n",
        "\n",
        " 1. While Loop, Data-Type Conversion and Conditional Statements\n",
        " \n",
        " 2.  Improving the Algorithm\n",
        "\n"
      ]
    },
    {
      "cell_type": "markdown",
      "metadata": {
        "id": "DPOFIO3EHncO"
      },
      "source": [
        "---"
      ]
    },
    {
      "cell_type": "markdown",
      "metadata": {
        "id": "8f6-uc0r9Q4h"
      },
      "source": [
        "### Activities"
      ]
    },
    {
      "cell_type": "markdown",
      "metadata": {
        "id": "q4fH06mIjuK3"
      },
      "source": [
        "#### Activity 1: Even or Odd \n",
        "\n",
        "Accept a number from the user and check whether it is even or odd.\n",
        " \n",
        "For Example:\n",
        "\n",
        "**Input**:  24\n",
        "\n",
        "**Ouput**: Even number\n",
        "\n",
        "\n",
        "Follow the steps given below to achieve the desired result:\n",
        "\n",
        "  - **Step 1**: Ask the user to enter a number. \n",
        "  \n",
        "  - **Step 2**: Convert the data type of user input to integer and then store it in a variable `num`.\n",
        "\n",
        "  - **Step 3**: Use `if` statement to determine whether the entered number is odd or even. For this, use modulo division (%). The result of a modulo division is the `remainder` of an integer division. If the number is completely divisible by 2, then print `Even number` else print `Odd number`.\n",
        "\n",
        "   "
      ]
    },
    {
      "cell_type": "code",
      "metadata": {
        "id": "4EAoTskqg041",
        "colab": {
          "base_uri": "https://localhost:8080/"
        },
        "outputId": "42289b39-bbf2-426d-c558-f075aaf937d1"
      },
      "source": [
        "# Write your code here\n",
        "# Step 1: Accept a number from the user. Convert it into an integer and then store it in a variable num\n",
        "\n",
        "num= int(input('Enter a number : '))\n",
        "# Step 2: Use if condition to check whether the number is even or odd using (%) operator\n",
        "\n",
        "if num%2== 0 :\n",
        "  print('Even Number')\n",
        "else :\n",
        "  print('Odd Number')"
      ],
      "execution_count": null,
      "outputs": [
        {
          "output_type": "stream",
          "name": "stdout",
          "text": [
            "Enter a number : 6\n",
            "Even Number\n"
          ]
        }
      ]
    },
    {
      "cell_type": "markdown",
      "metadata": {
        "id": "xJlPs9X9oeRw"
      },
      "source": [
        "---"
      ]
    },
    {
      "cell_type": "markdown",
      "metadata": {
        "id": "b4aeCDi0pkJz"
      },
      "source": [
        "#### Activity 2: Multiplication table\n",
        "\n",
        "Take input from the user and display the multiplication table.\n",
        "\n",
        "For example: if the number entered is 12 then expected output is: \n",
        "\n",
        "  12 x 1 = 12\n",
        "\n",
        "  12 x 2 = 24\n",
        "\n",
        "  ....\n",
        "  \n",
        "  12 x 10 = 120\n",
        "\n",
        "Follow the steps given below to achieve the desired result:\n",
        "\n",
        "- **Step 1:** Ask the user to enter a number. Convert the data type of user input to integer and then store it in a variable `num`.\n",
        "\n",
        "- **Step 2:** Initialize a variable `i=1` (This variable is to make sure that the `while` loop is executed only upto 10, starting from 1). \n",
        "\n",
        "- **Step 3:** Create a `while` loop. This loop will be executed 10 times. So, the condition for `while` loop will be `i < 11`. \n",
        "\n",
        "- **Step 4:** Multiply every value of the `i` variable with the value of the `num` variable and store in the `multiply` variable. \n",
        "\n",
        "- **Step 5**: Print the result stored in the `multiply` variable using the `print()` function and increment the value of `i` by 1 inside the `while` loop. The execution stops once the condition for `while` loop becomes invalid.\n"
      ]
    },
    {
      "cell_type": "code",
      "metadata": {
        "id": "c2M6dPYFX3L2",
        "colab": {
          "base_uri": "https://localhost:8080/"
        },
        "outputId": "8eb9a9bd-4dff-49d7-84bc-48d781210c97"
      },
      "source": [
        "# Write your code here\n",
        "# Step 1: Get the user input\n",
        "num= int(input('Enter a number  '))\n",
        "# Step 2: Initialize variable 'i' with value '1'\n",
        "i=1\n",
        "# Step 3: Execute a 'while' loop 10 times \n",
        "while i<11 :\n",
        "  # Step 4: Multiply the 'num' variable with 'i' variable and store in 'multiply' variable.\n",
        "  multiply = num*i\n",
        "  print(multiply)\n",
        "  i =i+1 \n",
        "\t# Print the result stored in the `multiply` variable \n",
        "\n",
        "  # Increment the value of 'i' by 1"
      ],
      "execution_count": null,
      "outputs": [
        {
          "output_type": "stream",
          "name": "stdout",
          "text": [
            "Enter a number  15\n",
            "15\n",
            "30\n",
            "45\n",
            "60\n",
            "75\n",
            "90\n",
            "105\n",
            "120\n",
            "135\n",
            "150\n"
          ]
        }
      ]
    },
    {
      "cell_type": "markdown",
      "metadata": {
        "id": "HSz7jRSlGxIO"
      },
      "source": [
        "---"
      ]
    }
  ]
}