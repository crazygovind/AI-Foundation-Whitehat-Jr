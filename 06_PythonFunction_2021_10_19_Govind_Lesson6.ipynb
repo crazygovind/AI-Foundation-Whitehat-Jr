{
  "nbformat": 4,
  "nbformat_minor": 0,
  "metadata": {
    "colab": {
      "provenance": [],
      "collapsed_sections": [],
      "include_colab_link": true
    },
    "kernelspec": {
      "name": "python3",
      "display_name": "Python 3"
    }
  },
  "cells": [
    {
      "cell_type": "markdown",
      "metadata": {
        "id": "view-in-github",
        "colab_type": "text"
      },
      "source": [
        "<a href=\"https://colab.research.google.com/github/crazygovind/Projects-on-Python-Fundamentals/blob/master/06_PythonFunction_2021_10_19_Govind_Lesson6.ipynb\" target=\"_parent\"><img src=\"https://colab.research.google.com/assets/colab-badge.svg\" alt=\"Open In Colab\"/></a>"
      ]
    },
    {
      "cell_type": "markdown",
      "metadata": {
        "id": "36AnVJBlmWqU"
      },
      "source": [
        "# Lesson 6 - Python Functions"
      ]
    },
    {
      "cell_type": "markdown",
      "metadata": {
        "id": "6JCr4gwYmgiK"
      },
      "source": [
        "---"
      ]
    },
    {
      "cell_type": "markdown",
      "metadata": {
        "id": "QLYAW7dsZp8M"
      },
      "source": [
        "### Teacher-Student Tasks\n",
        "\n",
        "\n",
        "\n",
        "In this class, we are going to improve our Mind Reader algorithm so that it can make better predictions instead of making predictions randomly.\n",
        "\n",
        "In this new algorithm, we will perform the following tasks:\n",
        "\n",
        "1. Store the count of the player's inputs i.e keep a count of 0 and 1.\n",
        "\n",
        "2. At every player input, we will check which count value is greater.\n",
        "  - If the count of 0 is greater, the computer will predict 0.\n",
        "\n",
        "  - If the count of 1 is greater, the computer will predict 1.\n",
        "\n",
        "  - If the count values are the same, the computer will predict 0 or 1 randomly.\n",
        "\n",
        "\n",
        "\n",
        "Let's start creating the improved version of the Mind Reader algorithm.\n"
      ]
    },
    {
      "cell_type": "markdown",
      "metadata": {
        "id": "PVzucGhM5-M-"
      },
      "source": [
        "---"
      ]
    },
    {
      "cell_type": "markdown",
      "metadata": {
        "id": "T8h_6DdeM8nm"
      },
      "source": [
        "#### Task 1: Initialise the Variables\n",
        "Let's create four variables: \n",
        "\n",
        "- `count_zero` - To store the count of the number of times a player has entered `0`.\n",
        "    \n",
        "- `count_one` - To store the count of the number of times a player has entered `1`.\n",
        "\n",
        "- `player_score` - To keep the score of a player.\n",
        "\n",
        "- `computer_score` - To keep the score of the computer."
      ]
    },
    {
      "cell_type": "code",
      "metadata": {
        "id": "W4LxntSS4TLQ"
      },
      "source": [
        "# S1.1: Create the 'count_zero', 'count_one', 'player_score' and 'computer_score' variables. Set their initial values equal to 0.\n",
        "count_zero=0\n",
        "count_one=0\n",
        "player_score=0\n",
        "computer_score=0\n"
      ],
      "execution_count": null,
      "outputs": []
    },
    {
      "cell_type": "markdown",
      "metadata": {
        "id": "WkZeL-yUcCfV"
      },
      "source": [
        "In the above code, we created four different variables and initialized them with `0`. Let us create the functions for our Mind Reader algorithm."
      ]
    },
    {
      "cell_type": "markdown",
      "metadata": {
        "id": "QEV4jQkV4MDR"
      },
      "source": [
        "---"
      ]
    },
    {
      "cell_type": "markdown",
      "metadata": {
        "id": "oA5obgxNw79x"
      },
      "source": [
        "#### Task 2: Functions\n",
        "\n",
        "Now we need to create four functions: \n",
        "\n",
        "- The `prediction()` function to predict `0` or `1`.\n",
        "\n",
        "- The `update_counts()` function to update the `count_zero` and `count_one` values. \n",
        "\n",
        "- The `update_scores()` function to update the `player_score` and `computer_score` values.\n",
        "\n",
        "- The `gameplay()` function to run the game.\n",
        "\n",
        "Unfortunately, we don't have a ready-made function (like the `print()` and `input()` functions) to do this. Hence, we need to create these four functions by ourselves.\n",
        "\n",
        "So before creating these functions, first let's learn the **Python functions** in detail.\n",
        "\n",
        "------------\n",
        "<h4><b>Python Functions</h4></b>\n",
        "\n",
        "A function is like a machine that takes some input (not always needed) and gives some output. For example, an ATM is a function that takes your debit card and your PIN as inputs and returns the cash as an output.\n",
        "\n",
        "<center>\n",
        "<img src=\"https://s3-whjr-v2-prod-bucket.whjr.online/11a4d5fa-317e-4cde-840c-1e84f2340ebb.gif\"/></center>\n",
        "\n",
        "\n",
        "\n",
        "\n",
        "To create a user-defined function, we first use a keyword called `def` then the name of the function after that common brackets, and lastly the colon `(:)` symbol. \n",
        "\n",
        "The input(s) to the function is/are provided within the common brackets.\n",
        "\n",
        "The syntax for creating a user-defined function is\n",
        "\n",
        "`def function_name(input1, input2, ..., inputN):`\n",
        "\n",
        "**Note**:\n",
        "\n",
        "1. The function attributes must be written in the subsequent lines after leaving two blank spaces between the code cell and the code. To exit the function, remove the blank spaces between the code cell and the code in the subsequent lines.\n",
        "\n",
        "2. The function name must begin with a lowercase letter.\n",
        "\n",
        "\n",
        "\n",
        "\n",
        "\n"
      ]
    },
    {
      "cell_type": "markdown",
      "metadata": {
        "id": "VhNVuL4g9O0q"
      },
      "source": [
        "##### **Categories of User-Defined Functions**\n",
        "\n",
        "**1. Function which takes input and returns output:**\n",
        "\n",
        "   Let's create a function that takes  two numbers as inputs and   returns their addition as an output:"
      ]
    },
    {
      "cell_type": "code",
      "metadata": {
        "id": "pLGmknOMVy4R"
      },
      "source": [
        "# S2.1: Write a function which adds two numbers and returns their addition as an output.\n",
        "def add_numbers(a, b):\n",
        "  result=a+b \n",
        "  return result"
      ],
      "execution_count": null,
      "outputs": []
    },
    {
      "cell_type": "markdown",
      "metadata": {
        "id": "Yj1dViu2A5is"
      },
      "source": [
        "Here:\n",
        "\n",
        "1. The `add_numbers()` is a function that takes two inputs, `num1` and `num2`. You can provide any name of your choice to the function. However, some of the function names are reserved for the ready-made functions in Python. So, you need to avoid those names for naming a function such as `print(), input(), sum(),` etc. \n",
        "\n",
        "2. The `+` operator adds the values stored in the `num1` and `num2` variables. \n",
        "\n",
        "3. The variable `result` stores the sum of the values stored in the `num1` and `num2` variables.\n",
        "\n",
        "4. The `return` keyword returns the output. If you don't write the `return` statement, then this function will only add the numbers but won't give any output.\n",
        "\n",
        "5. While creating a function, make sure that you follow indentation, i.e., after declaring the function, leave two blank spaces between the code cell and the code in the subsequent lines. Otherwise, your code will throw the `IndentationError` at the time of its execution like this:\n",
        "\n",
        "  <img src=\"https://s3-whjr-v2-prod-bucket.whjr.online/7c30e8ed-41a4-4317-9d57-c784c4ad05d8.PNG\"/>\n",
        "\n",
        "6. To exit from the function, remove the blank spaces between the code cell and the code in the subsequent lines.\n",
        "\n",
        "When we run the above code, we do not get anything in the output. This is because to use a function, you need to **call** the function.\n",
        "\n",
        "**Calling a function:**\n",
        "\n",
        "You can call a function by using the function name followed by the inputs in the parenthesis. As the `add_number()` function needs two inputs, let's call this function by passing two integers as input: "
      ]
    },
    {
      "cell_type": "code",
      "metadata": {
        "id": "5cxxcDE8FHyc",
        "colab": {
          "base_uri": "https://localhost:8080/"
        },
        "outputId": "43a20d24-1f9e-4918-bee2-98e9b2ce7f13"
      },
      "source": [
        "#  S2.2: Call the add_numbers() function and pass two numbers as input.\n",
        "add_numbers(6,5)"
      ],
      "execution_count": null,
      "outputs": [
        {
          "output_type": "execute_result",
          "data": {
            "text/plain": [
              "11"
            ]
          },
          "metadata": {},
          "execution_count": 3
        }
      ]
    },
    {
      "cell_type": "markdown",
      "metadata": {
        "id": "Uzb6fz5bJ_8k"
      },
      "source": [
        "**2. Function which takes input but does not return any output:**\n",
        "\n",
        "For some problem statements, a function may take one or more inputs, but it may not return any output. \n",
        "\n",
        "Let's create a function that takes two numbers as inputs and   stores their sum in a variable, but does not return any output:"
      ]
    },
    {
      "cell_type": "code",
      "metadata": {
        "id": "p4dmZJytKDhU",
        "colab": {
          "base_uri": "https://localhost:8080/"
        },
        "outputId": "d21732e7-e56d-4f4d-a861-8b2924b3e807"
      },
      "source": [
        "# S2.3: Write a function which adds two numbers but does not returns their addition as an output.\n",
        "def add_numbers(a,b):\n",
        "  result= a+b \n",
        "  return   result\n",
        "add_numbers(4,9)"
      ],
      "execution_count": null,
      "outputs": [
        {
          "output_type": "execute_result",
          "data": {
            "text/plain": [
              "13"
            ]
          },
          "metadata": {},
          "execution_count": 2
        }
      ]
    },
    {
      "cell_type": "markdown",
      "metadata": {
        "id": "hm8OPJl_-vOu"
      },
      "source": [
        "**3. Function which does not take any input but returns output:**\n",
        "\n",
        "For some problem statements, a function does not take any input, yet it produces the output. \n",
        "\n",
        "Let's create a function that returns `\"WhiteHat Jr\"` whenever you call it:"
      ]
    },
    {
      "cell_type": "code",
      "metadata": {
        "id": "N5A0HxDHuQIm",
        "colab": {
          "base_uri": "https://localhost:8080/",
          "height": 52
        },
        "outputId": "b0fbe8ca-55ac-49d4-d932-dc9bda0a1992"
      },
      "source": [
        "# S2.4: Create a function and name it \"no_input()\". It should not take any input and should return \"WhiteHat Jr\" as an output.\n",
        "def no_input():\n",
        "  return('whitehat jr') \n",
        "print(no_input())\n",
        "no_input()"
      ],
      "execution_count": null,
      "outputs": [
        {
          "output_type": "stream",
          "name": "stdout",
          "text": [
            "whitehat jr\n"
          ]
        },
        {
          "output_type": "execute_result",
          "data": {
            "application/vnd.google.colaboratory.intrinsic+json": {
              "type": "string"
            },
            "text/plain": [
              "'whitehat jr'"
            ]
          },
          "metadata": {},
          "execution_count": 12
        }
      ]
    },
    {
      "cell_type": "markdown",
      "metadata": {
        "id": "k_HyzsvRtpY1"
      },
      "source": [
        "As you can see, we called the `no_input()` function thrice and it returned an output thrice without taking an input.\n"
      ]
    },
    {
      "cell_type": "markdown",
      "metadata": {
        "id": "tGJrr9P9Fih1"
      },
      "source": [
        "Now we are in the position to create the four functions. Let's start with the `prediction()` function."
      ]
    },
    {
      "cell_type": "markdown",
      "metadata": {
        "id": "CqCzEbrLWWJv"
      },
      "source": [
        "---"
      ]
    },
    {
      "cell_type": "markdown",
      "metadata": {
        "id": "ut_QJ8MgCrit"
      },
      "source": [
        "#### Task 3: The `prediction()` Function\n",
        "\n",
        "The `prediction()` function should predict `0` or `1` as output by comparing the values stored in the `count_zero` and `count_one` variables.\n",
        "\n",
        "- If `count_zero > count_one`, the function should return `0`.\n",
        "\n",
        "- Else if `count_one > count_zero`, the function should return `1`. \n",
        "\n",
        "- Else if `count_zero == count_one`, the function should return `0` or `1` randomly.\n"
      ]
    },
    {
      "cell_type": "code",
      "metadata": {
        "id": "3qhYChiwG0XG"
      },
      "source": [
        "# S3.1: Create the 'prediction()' function. It should not take any input and should return the prediction value as an output.\n",
        "import random\n",
        "def prediction():\n",
        "  if count_zero > count_one:\n",
        "    predict=0\n",
        "  elif count_one > count_zero :\n",
        "    predict=1\n",
        "  elif count_zero == count_one :\n",
        "    predict = random.randint(0,1)\n",
        "  return predict \n"
      ],
      "execution_count": null,
      "outputs": []
    },
    {
      "cell_type": "markdown",
      "metadata": {
        "id": "Dkl9RHcuHfvs"
      },
      "source": [
        "Currently, since both the `count_zero` and `count_one` values are `0` (or equal), the `prediction()` function will return `0` or `1` randomly. Run the above code again and again to observe the function behavior.\n",
        "\n",
        "Now, let's create the `update_count()` function."
      ]
    },
    {
      "cell_type": "markdown",
      "metadata": {
        "id": "zbiqUd30JH3j"
      },
      "source": [
        "---"
      ]
    },
    {
      "cell_type": "markdown",
      "metadata": {
        "id": "RSRhb-AKHz2l"
      },
      "source": [
        "#### Task 4: The `update_counts()` Function and the `global` Keyword\n",
        "\n",
        "The `update_counts()` function should update the values stored in the `count_zero` and `count_one` variables based on the player inputs.\n",
        "\n",
        "- If the `player_input == 0`, the `count_zero` value should increase by `1`.\n",
        "\n",
        "- Else if the `player_input == 1`, the `count_one` value should increase by `1`.\n",
        "\n",
        "The `update_counts()` function should not return anything. It should just update the values stored in the `count_zero` and `count_one` variables.\n",
        "\n",
        "Now we are going to modify the `count_zero` and `count_one` variables using the `update_counts()` function. But, `count_zero` and `count_one` are global variables.\n",
        "\n",
        "**What do you mean by global variables?**\n",
        "\n",
        "- The variables declared outside user-defined functions are called global variables.\n",
        "- The`count_zero` and `count_one` are **global variables** as they were already declared outside the `update_counts()` function.\n",
        "- Now, we need to the update value of these global variables inside the `update_counts()` function. But, you cannot do this directly.\n",
        "- Thus, to modify the value stored in a global variable using a user-defined function, we need to declare that variable with the `global` keyword inside the function.\n",
        "\n",
        "\n",
        "In this case, we are going to modify the `count_zero` and `count_one` values using the `update_counts()` function. Hence, we need to add the `global count_zero, count_one` statement inside the function:\n",
        "\n",
        "\n"
      ]
    },
    {
      "cell_type": "code",
      "metadata": {
        "id": "SzOH8m_2Iyls"
      },
      "source": [
        "# S4.1: Create the 'update_counts' function. It should take 'player_input' variable as input and should not return anything.\n",
        "def update_counts(player_input):\n",
        "  global count_zero,count_one\n",
        "  if player_input == 0:\n",
        "    count_zero=count_zero+1\n",
        "  else :\n",
        "    count_one=count_one+1\n",
        "    \n"
      ],
      "execution_count": null,
      "outputs": []
    },
    {
      "cell_type": "markdown",
      "metadata": {
        "id": "JzRet-WyMP06"
      },
      "source": [
        "In the above code, the `update_counts()` function will update `count_zero` and `count_one` variables based on player's input. \n",
        "\n",
        "Similarly, let's create the `update_scores()` function."
      ]
    },
    {
      "cell_type": "markdown",
      "metadata": {
        "id": "eYNIikrpD2XO"
      },
      "source": [
        "**Q:** Can you guess why there is a need of creating the `update_scores()` function?\n",
        "\n",
        "**A:** We are creating the `update_scores()` function to update the scores of both player and computer. Without updating the scores, the game cannot proceed and the winner cannot be declared."
      ]
    },
    {
      "cell_type": "markdown",
      "metadata": {
        "id": "ig1UGSn1MWy_"
      },
      "source": [
        "---"
      ]
    },
    {
      "cell_type": "markdown",
      "metadata": {
        "id": "z_qOozBHMYz-"
      },
      "source": [
        "#### Task 5: The `update_scores()` Function\n",
        "\n",
        "The `update_scores()` function should take the `predicted` and `player_input` values as inputs and should update the `player_scores` and the `computer_scores` by comparing the `predicted` value with the `player_input` value.\n",
        "\n",
        "- If the predicted value is the same as the `player_input` value, increase the `computer_score` by `1`.\n",
        "\n",
        "- Else, increase the `player_score` by `1`.\n",
        "\n",
        "The predicted value is obtained from the `prediction()` function. Immediately after updating the scores, the `update_scores()` function must print the updated values stored in the `player_score` and `computer_score` variables.\n",
        "\n",
        "**Note:** To modify the value stored in a variable using a user-defined function, we need to declare that variable with the `global` keyword inside the function.\n",
        "\n",
        "In this case, we are going to modify the `player_score` and `computer_score` values using the `update_scores()` function. Hence, we need to add the `global player_score, computer_score` statement inside the `update_scores()` function:"
      ]
    },
    {
      "cell_type": "code",
      "metadata": {
        "id": "0kmauZcVVDEK"
      },
      "source": [
        "# S5.1: Create the 'update_scores()' function. It should take the 'predicted' and 'player_input' variables as inputs.\n",
        "# It should update the 'player_score' and 'computer_score' values and should print them. It should not return anything.\n",
        "def update_score(predicted,player_input):\n",
        "  global player_score,computer_score\n",
        "  if predicted==player_input:\n",
        "    computer_score=computer_score+1\n",
        "    print('computer score=',computer_score)\n",
        "    print('player score',player_score)\n",
        "  else :\n",
        "    player_score=player_score+1\n",
        "    print('computer score=',computer_score)\n",
        "    print('player score',player_score)"
      ],
      "execution_count": null,
      "outputs": []
    },
    {
      "cell_type": "markdown",
      "metadata": {
        "id": "RNS0iVQ5g6z-"
      },
      "source": [
        "Thus, we created the `update_scores()` function which will update the values of `player_score` and `computer_score` variables based on the result of prediction.\n"
      ]
    },
    {
      "cell_type": "markdown",
      "metadata": {
        "id": "0Yx8iBZ7GwIq"
      },
      "source": [
        "**Q:** Why `global` keyword is used with `player_score` and  `computer_score` variables and not with `predicted` and `player_input` variables?\n",
        "\n",
        "**A:** \n"
      ]
    },
    {
      "cell_type": "markdown",
      "metadata": {
        "id": "rtl5rq7QGt6r"
      },
      "source": [
        "\n",
        "Now, let's create the `gameplay()` function."
      ]
    },
    {
      "cell_type": "markdown",
      "metadata": {
        "id": "SYoZZ9t7ufNC"
      },
      "source": [
        "---"
      ]
    },
    {
      "cell_type": "markdown",
      "metadata": {
        "id": "vXBQ-FmRhgAh"
      },
      "source": [
        "#### Task 6: The `gameplay()` Function\n",
        "\n",
        "\n",
        "The `gameplay()` function will run the game. \n",
        "\n",
        "**Note:** Half of this function will be provided to you. The remaining half you will have to code.\n",
        "\n",
        "In this function, you have to code a few of the functional requirements. They are as follows:\n",
        "\n",
        "1. Get the predicted value using the `prediction()` function and store it in the `predicted` variable.\n",
        "\n",
        "2. Take input from a player using the `input()` function and store it in the `player_input` variable. Print `\"Enter either 0 or 1: \"` while taking the input.\n",
        "\n",
        "3. Convert the `player_input` value to an integer value.\n",
        "\n",
        "4. Update the values stored in the `count_zero` and `count_one` variables using the `update_counts()` function.\n",
        "\n",
        "5. Update the values stored in the `player_score` and `computer_score` variables using the `update_scores()` function."
      ]
    },
    {
      "cell_type": "code",
      "metadata": {
        "id": "_Ih-2w4qj-cq",
        "colab": {
          "base_uri": "https://localhost:8080/",
          "height": 128
        },
        "outputId": "4dcb69a1-a5f1-4be0-fafd-581dc8ab221d"
      },
      "source": [
        "# S6.1: Create the 'gameplay()' function.\n",
        "def gameplay():\n",
        "    # Get the predicted value and store it in the 'predicted' variable.\n",
        "    predicted = prediction\n",
        "\n",
        "    # Take input from the player and store it in the 'player_input' variable.\n",
        "    while True :\n",
        "      player_input = input('enter eighter 0 or 1')\n",
        "\n",
        "    # Convert the 'player_input' value to an integer value.\n",
        "      player_input=int(player_input)\n",
        "    # Update the 'count_zero' and 'count_one' values using the 'update_counts()' function.\n",
        " \n",
        "def update_score(predicted,player_input):\n",
        "  global player_score,computer_score\n",
        "  if predicted==player_input:\n",
        "     computer_score=computer_score+1\n",
        "     print('computer score=',computer_score)\n",
        "     print('player score',player_score)\n",
        "  else :\n",
        "    player_score=player_score+1\n",
        "    print('computer score=',computer_score)\n",
        "    print('player score',player_score)\n",
        "\n",
        "    # Update the 'player_score' and 'computer_score' values using the 'update_scores()' function.\n",
        "   def update_counts(player_input):\n",
        "  global count_zero,count_one\n",
        "  if player_input == 0:\n",
        "    count_zero=count_zero+1\n",
        "  else :\n",
        "    count_one=count_one+1\n"
      ],
      "execution_count": null,
      "outputs": [
        {
          "output_type": "error",
          "ename": "IndentationError",
          "evalue": "ignored",
          "traceback": [
            "\u001b[0;36m  File \u001b[0;32m\"<ipython-input-25-e6fb5d063d52>\"\u001b[0;36m, line \u001b[0;32m14\u001b[0m\n\u001b[0;31m    def update_score(predicted,player_input):\u001b[0m\n\u001b[0m                                             ^\u001b[0m\n\u001b[0;31mIndentationError\u001b[0m\u001b[0;31m:\u001b[0m unindent does not match any outer indentation level\n"
          ]
        }
      ]
    },
    {
      "cell_type": "markdown",
      "metadata": {
        "id": "hc20Xx1hEt4H"
      },
      "source": [
        "**Q:** Is the `prediction()` function performing random prediction?\n",
        "\n",
        "**A:** \n"
      ]
    },
    {
      "cell_type": "markdown",
      "metadata": {
        "id": "SCNwvrfbkFNq"
      },
      "source": [
        "Now, test the game by putting everything together in one place."
      ]
    },
    {
      "cell_type": "markdown",
      "metadata": {
        "id": "0Zt0_-Wbkh5T"
      },
      "source": [
        "---"
      ]
    },
    {
      "cell_type": "markdown",
      "metadata": {
        "id": "APuw2qqzkWDz"
      },
      "source": [
        "#### Task 7: Running The Game\n",
        "\n",
        "Let's run the game using the `gameplay()` function. We will run this game only until either the computer or the player has reached a score of `10`. Otherwise, the testing will take a very long time. \n",
        "\n",
        "**Note:** It will take more time to test the game for a score of `50`. You can replace `10` with `50` after testing the game."
      ]
    },
    {
      "cell_type": "code",
      "metadata": {
        "id": "QzObGx2Etry5"
      },
      "source": [
        "# S7.1: Run the game by calling the 'gameplay()' function at the end of the code cell.\n",
        "gameplay()\n",
        "\n"
      ],
      "execution_count": null,
      "outputs": []
    },
    {
      "cell_type": "markdown",
      "metadata": {
        "id": "ThOKbgdrd3Ub"
      },
      "source": [
        "We will stop here. Thus in  this class, we learned how to create user-defined functions and improved the prediction capability of our Mind Reader algorithm.\n",
        "\n",
        "In the upcoming class, we will be working on the `gameplay()` function and will further unravel the mystery behind the `valid_entries`."
      ]
    },
    {
      "cell_type": "markdown",
      "metadata": {
        "id": "apcHWj3NvWUf"
      },
      "source": [
        "---"
      ]
    }
  ]
}