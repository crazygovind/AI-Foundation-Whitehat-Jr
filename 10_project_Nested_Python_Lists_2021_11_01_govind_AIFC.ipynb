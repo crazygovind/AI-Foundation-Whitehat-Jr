{
  "nbformat": 4,
  "nbformat_minor": 0,
  "metadata": {
    "colab": {
      "provenance": [],
      "collapsed_sections": [],
      "include_colab_link": true
    },
    "kernelspec": {
      "name": "python3",
      "display_name": "Python 3"
    }
  },
  "cells": [
    {
      "cell_type": "markdown",
      "metadata": {
        "id": "view-in-github",
        "colab_type": "text"
      },
      "source": [
        "<a href=\"https://colab.research.google.com/github/crazygovind/AI-Foundation-Whitehat-Jr/blob/master/10_project_Nested_Python_Lists_2021_11_01_govind_AIFC.ipynb\" target=\"_parent\"><img src=\"https://colab.research.google.com/assets/colab-badge.svg\" alt=\"Open In Colab\"/></a>"
      ]
    },
    {
      "cell_type": "markdown",
      "metadata": {
        "id": "YZnBY81YDCCr"
      },
      "source": [
        "### Instructions"
      ]
    },
    {
      "cell_type": "markdown",
      "metadata": {
        "id": "bEyBzxYRhrLG"
      },
      "source": [
        "#### Goal of the Project\n",
        "\n",
        "This project is designed for you to practice and solve the activities that are based on the concepts covered in the following lessons:\n",
        "\n",
        " 1. Variables and Data-Types\n",
        " 2. Python Lists II"
      ]
    },
    {
      "cell_type": "markdown",
      "metadata": {
        "id": "DPOFIO3EHncO"
      },
      "source": [
        "---"
      ]
    },
    {
      "cell_type": "markdown",
      "metadata": {
        "id": "KKTxMWpSFOvT"
      },
      "source": [
        "### Activities"
      ]
    },
    {
      "cell_type": "markdown",
      "metadata": {
        "id": "q4fH06mIjuK3"
      },
      "source": [
        "#### Activity 1: Swapping numbers\n",
        "\n",
        "Accept two numbers from the user. Store these numbers in two variables and swap the values of these variables.\n",
        " \n",
        "**Example**:\n",
        "\n",
        "```\n",
        "num1: 10\n",
        "num2: 25\n",
        "Value of num1 after swapping:  25\n",
        "Value of num2 after swapping:  10\n",
        "```\n",
        "\n",
        "Follow the steps given below to achieve the desired result:\n",
        "\n",
        "  - **Step 1**: Ask the user to enter two different numbers and store them in variables `num1` and `num2` respectively.\n",
        "\n",
        "  - **Step 2**: Declare one more variable `temp` which will be used to swap the values between `num1` and `num2`. Assign the value of `num1` variable to the `temp` variable.\n",
        "\n",
        "  - **Step 3**: Assign the value of `num2` variable to `num1` variable.\n",
        "\n",
        "  - **Step 4**: Assign the value of `temp` variable to `num2` variable.\n",
        "\n",
        "  - **Step 5**: Print the values of `num1` and `num2` variables obtained after swapping."
      ]
    },
    {
      "cell_type": "code",
      "metadata": {
        "id": "4EAoTskqg041",
        "colab": {
          "base_uri": "https://localhost:8080/"
        },
        "outputId": "6101596c-9faf-45b6-dd29-04be082e121f"
      },
      "source": [
        "# Write your code here\n",
        "# Step 1: Accept two numbers from the user and store them 'num1' and 'num2' variables\n",
        "num1=int(input('Enter a number'))\n",
        "num2=int(input('Enter second number'))\n",
        "# Swapping values of variables begins\n",
        "# Step 2: Declare a temporary variable 'temp' and assign the value of 'num1' to it\n",
        "temp=num1\n",
        "# Step 3: Assign value of 'num2' to 'num1'\n",
        "num1=num2\n",
        "# Step 4: Assign value of 'temp' to 'num2'\n",
        "num2=temp\n",
        "# Step 5: Print the values of 'num1' and 'num2' after swapping\n",
        "print('num1',num1,    'num2',num2)"
      ],
      "execution_count": null,
      "outputs": [
        {
          "output_type": "stream",
          "name": "stdout",
          "text": [
            "Enter a number5\n",
            "Enter second number6\n",
            "num1 6 num2 5\n"
          ]
        }
      ]
    },
    {
      "cell_type": "markdown",
      "metadata": {
        "id": "xJlPs9X9oeRw"
      },
      "source": [
        "---"
      ]
    },
    {
      "cell_type": "markdown",
      "metadata": {
        "id": "b4aeCDi0pkJz"
      },
      "source": [
        "#### Activity 2: Multiplying numbers of the list\n",
        "\n",
        "Create a list which contains some numbers and multiply all the numbers in the list. \n",
        " \n",
        "**Constraint:** The list should not be empty.\n",
        "\n",
        "For Example:\n",
        "\n",
        "```\n",
        "list[1,2,3] will give '6'\n",
        "list[2,3,7] will give '42'\n",
        "```\n",
        "\n",
        "Follow the steps given below to achieve the desired result:\n",
        "\n",
        "  - **Step 1**: Declare a list `num_list` containing some numbers.\n",
        "\n",
        "  - **Step 2**: Use `len()` function to find the length of the list and store it in `length` variable.\n",
        "\n",
        "  - **Step 3**: Initialize two variables: \n",
        "\n",
        "    1. `i = 0` (To hold index number needed for list indexing. As index always starts with `0`, that is why this variable is initialized to `0`.)\n",
        "    \n",
        "    2. `result = 1` (To store the product of numbers)\n",
        "\n",
        "  - **Step 4**: Use a `while` loop. This loop continues to iterate till all the numbers of the list are multiplied i.e. the condition for `while` loop to iterate is `i<length`. \n",
        "\n",
        "  - **Step 5**: Inside this `while` loop, perform the following tasks:\n",
        "      1.  Multiply the value stored in `result` variable with each element of the list. To access each number of the list, use list indexing.\n",
        "      2. Increment the value of variable `i` by `1`.\n",
        "\n",
        "  - **Step 6**: Print the result."
      ]
    },
    {
      "cell_type": "code",
      "metadata": {
        "id": "d5ufKLNYzsIl",
        "colab": {
          "base_uri": "https://localhost:8080/"
        },
        "outputId": "d07498a8-ca20-48e0-985e-b04c25edb1e3"
      },
      "source": [
        "# Write your code here\n",
        "# Step 1: Define a list with some random numbers \n",
        "num_list=[3,2,5]\n",
        "# Step 2: Get the length of the list using 'len()' function \n",
        "length=len(num_list)\n",
        "# Step 3: Initialize two variables 'i' and 'result' \n",
        "i=0\n",
        "result=1\n",
        "# Step 4: Iterate while loop till the length of the list\n",
        "while i<length:\n",
        "  # Step 5: Multiply the 'result' variable with each element of the list. Use list indexing\n",
        "  result=num_list[0]*num_list[1]*num_list[2]\n",
        "  # Increment 'i' variable\n",
        "  i = i +1\n",
        "# Step 6: Print the result\n",
        "print(result)"
      ],
      "execution_count": null,
      "outputs": [
        {
          "output_type": "stream",
          "name": "stdout",
          "text": [
            "30\n"
          ]
        }
      ]
    },
    {
      "cell_type": "markdown",
      "metadata": {
        "id": "Owpfe6z4zQqa"
      },
      "source": [
        "---"
      ]
    }
  ]
}