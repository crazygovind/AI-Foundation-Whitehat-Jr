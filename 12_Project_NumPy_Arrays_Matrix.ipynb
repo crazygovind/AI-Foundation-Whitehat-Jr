{
  "nbformat": 4,
  "nbformat_minor": 0,
  "metadata": {
    "colab": {
      "provenance": [],
      "collapsed_sections": [],
      "include_colab_link": true
    },
    "kernelspec": {
      "name": "python3",
      "display_name": "Python 3"
    }
  },
  "cells": [
    {
      "cell_type": "markdown",
      "metadata": {
        "id": "view-in-github",
        "colab_type": "text"
      },
      "source": [
        "<a href=\"https://colab.research.google.com/github/crazygovind/AI-Foundation-Whitehat-Jr/blob/master/12_Project_NumPy_Arrays_Matrix.ipynb\" target=\"_parent\"><img src=\"https://colab.research.google.com/assets/colab-badge.svg\" alt=\"Open In Colab\"/></a>"
      ]
    },
    {
      "cell_type": "markdown",
      "metadata": {
        "id": "YZnBY81YDCCr"
      },
      "source": [
        "### Instructions"
      ]
    },
    {
      "cell_type": "markdown",
      "metadata": {
        "id": "bEyBzxYRhrLG"
      },
      "source": [
        "#### Goal of the Project\n",
        "\n",
        "This project is designed for you to practice and solve the activities that are based on the concepts covered in the following lessons:\n",
        "\n",
        " 1. Python Lists I\n",
        "\n",
        " 2. NumPy Arrays I"
      ]
    },
    {
      "cell_type": "markdown",
      "metadata": {
        "id": "DPOFIO3EHncO"
      },
      "source": [
        "---"
      ]
    },
    {
      "cell_type": "markdown",
      "metadata": {
        "id": "q4fH06mIjuK3"
      },
      "source": [
        "#### Activity 1: Create a 3 X 3 Matrix\n",
        "\n",
        "To create a 3x3 matrix with values ranging from 2 to 10.\n",
        "\n",
        "**For Example**:\n",
        "\n",
        "```\n",
        "[[ 2  3  4]\n",
        " [ 5  6  7]\n",
        " [ 8  9 10]]\n",
        "```\n",
        "\n",
        "Follow the steps given below to achieve the desired result:\n",
        "\n",
        "  - **Step 1**: Import `numpy` module.\n",
        "\n",
        "  - **Step 2**: Use `arange()` function to create array of numbers from 2 to 10 and `reshape()` function to reshape your array into another array having 3 rows and 3 columns. Store this reshaped array in a variable `x`.\n",
        "\n",
        "  - **Step 3**: Print variable `x` to get the output.\n",
        "\n",
        " "
      ]
    },
    {
      "cell_type": "code",
      "metadata": {
        "id": "4EAoTskqg041",
        "colab": {
          "base_uri": "https://localhost:8080/"
        },
        "outputId": "8984dc1a-ac85-4fe2-852f-5c9dc4627c22"
      },
      "source": [
        "# Write your code here\n",
        "# Step 1: Import numpy module \n",
        "import numpy as np\n",
        "# Step 2: Declare a variable 'x' to store the result and use 'arange()' and 'reshape()' functions\n",
        "x= np.arange(2,11).reshape(3,3)\n",
        "# Step 3: Print the variable 'x' to see the output\n",
        "print(x)"
      ],
      "execution_count": null,
      "outputs": [
        {
          "output_type": "stream",
          "name": "stdout",
          "text": [
            "[[ 2  3  4]\n",
            " [ 5  6  7]\n",
            " [ 8  9 10]]\n"
          ]
        }
      ]
    },
    {
      "cell_type": "markdown",
      "metadata": {
        "id": "xJlPs9X9oeRw"
      },
      "source": [
        "---"
      ]
    },
    {
      "cell_type": "markdown",
      "metadata": {
        "id": "qA-b1CdeofKc"
      },
      "source": [
        "#### Activity 2: Change Dimension of an Array and Convert the NumPy Array into a List\n",
        "\n",
        "Write a program to change the dimension of an array (say `my_arr =[1, 2, 3, 4, 5, 6, 7, 8, 9]`) into a 3 X 3 (3 rows and 3 columns) array and convert this NumPy array into a list.\n",
        "\n",
        "**For Example:**\n",
        "```\n",
        "Original array is [1 2 3 4 5 6 7 8 9]\n",
        "Dimension is (9,)\n",
        "Change array shape to (3, 3) -> 3 rows and 3 columns \n",
        "[[1 2 3]\n",
        " [4 5 6]\n",
        " [7 8 9]]\n",
        "\n",
        "The data type of the converted variable is \n",
        " list\n",
        "```\n"
      ]
    },
    {
      "cell_type": "code",
      "metadata": {
        "id": "AtvPTG3kpBoS",
        "colab": {
          "base_uri": "https://localhost:8080/"
        },
        "outputId": "de7eb912-1908-4d6e-9287-5237b0741612"
      },
      "source": [
        "# Write your code here\n",
        "# Import numpy module \n",
        "import numpy as np\n",
        "# Create a NumPy array containing a list of numbers\n",
        "num_array=np.arange(1,10)\n",
        "# Print the dimension of the array \n",
        "print(num_array.ndim)\n",
        "# Change the dimension of the array into a 3 X 3\n",
        "num_array=num_array.reshape(3,3)\n",
        "# Print the array \n",
        "print(num_array)\n",
        "# Convert the NumPy array into a Python list \n",
        "num_array=list(num_array)\n",
        "# Use type() function to verify the conversion\n",
        "type(num_array)"
      ],
      "execution_count": null,
      "outputs": [
        {
          "output_type": "stream",
          "name": "stdout",
          "text": [
            "1\n",
            "[[1 2 3]\n",
            " [4 5 6]\n",
            " [7 8 9]]\n"
          ]
        },
        {
          "output_type": "execute_result",
          "data": {
            "text/plain": [
              "list"
            ]
          },
          "metadata": {},
          "execution_count": 8
        }
      ]
    },
    {
      "cell_type": "markdown",
      "metadata": {
        "id": "KOVBiUSMzut1"
      },
      "source": [
        "---"
      ]
    },
    {
      "cell_type": "markdown",
      "metadata": {
        "id": "b4aeCDi0pkJz"
      },
      "source": [
        "#### Activity 3: Find Square Root and Calculate the value of $c$ \n",
        "\n",
        "Write a program to perform following two tasks:\n",
        "-  Print the square root of numbers in the list.\n",
        "- Compute the value of $c$ in the equation $c=\\sqrt(a^2 + b^2)$. \n",
        "\n",
        "**For Example**:\n",
        "\n",
        "```\n",
        "list1 = [4, 16, 9, 1, 25]\n",
        "[2   4    3   1    5 ]\n",
        "If a=27\n",
        "   b=39\n",
        "The value of c =  47.43416490252569\n",
        "```\n",
        "**Hint:** Use `np.sqrt()` function.\n",
        " "
      ]
    },
    {
      "cell_type": "code",
      "source": [
        "list1 = [4, 16, 9, 1, 25]\n",
        "\n",
        "for i in list1:\n",
        "  x=np.sqrt(i)\n",
        "  print(x)\n",
        "  \n",
        "a=27\n",
        "b=39\n",
        "\n",
        "c=np.sqrt((a**2)+(b**2))\n",
        "print('The value of c =  ',c)\n"
      ],
      "metadata": {
        "colab": {
          "base_uri": "https://localhost:8080/"
        },
        "id": "OKNRtgeGIz_W",
        "outputId": "a40180e9-3bc8-42db-bdb4-592f1f35d1c8"
      },
      "execution_count": null,
      "outputs": [
        {
          "output_type": "stream",
          "name": "stdout",
          "text": [
            "2.0\n",
            "4.0\n",
            "3.0\n",
            "1.0\n",
            "5.0\n",
            "The value of c =   47.43416490252569\n"
          ]
        }
      ]
    },
    {
      "cell_type": "markdown",
      "metadata": {
        "id": "EuzS4rnHjIyn"
      },
      "source": [
        "---"
      ]
    }
  ]
}