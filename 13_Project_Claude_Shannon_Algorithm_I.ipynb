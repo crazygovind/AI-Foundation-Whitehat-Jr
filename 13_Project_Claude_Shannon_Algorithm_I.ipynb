{
  "nbformat": 4,
  "nbformat_minor": 0,
  "metadata": {
    "colab": {
      "provenance": [],
      "collapsed_sections": [],
      "include_colab_link": true
    },
    "kernelspec": {
      "name": "python3",
      "display_name": "Python 3"
    }
  },
  "cells": [
    {
      "cell_type": "markdown",
      "metadata": {
        "id": "view-in-github",
        "colab_type": "text"
      },
      "source": [
        "<a href=\"https://colab.research.google.com/github/crazygovind/AI-Foundation-Whitehat-Jr/blob/master/13_Project_Claude_Shannon_Algorithm_I.ipynb\" target=\"_parent\"><img src=\"https://colab.research.google.com/assets/colab-badge.svg\" alt=\"Open In Colab\"/></a>"
      ]
    },
    {
      "cell_type": "markdown",
      "metadata": {
        "id": "YZnBY81YDCCr"
      },
      "source": [
        "### Instructions"
      ]
    },
    {
      "cell_type": "markdown",
      "metadata": {
        "id": "bEyBzxYRhrLG"
      },
      "source": [
        "#### Goal of the Project\n",
        "\n",
        "This project is designed for you to practice and solve the activities that are based on the concepts covered in the following lessons:\n",
        "\n",
        "  1.  Claude Shannon Algorithm I"
      ]
    },
    {
      "cell_type": "markdown",
      "metadata": {
        "id": "DPOFIO3EHncO"
      },
      "source": [
        "---"
      ]
    },
    {
      "cell_type": "markdown",
      "metadata": {
        "id": "8f6-uc0r9Q4h"
      },
      "source": [
        "### Activities"
      ]
    },
    {
      "cell_type": "markdown",
      "metadata": {
        "id": "Q-lznbvtXO87"
      },
      "source": [
        "#### Activity 1: 3D NumPy array\n",
        "\n",
        "Write a program to create a three-dimensional NumPy array which has 4 blocks, 4 rows and 4 columns such that all the initial items are `0`.\n",
        "\n",
        "Follow the steps given below to achieve the desired result:\n",
        "\n",
        "  - **Step 1**: Import `numpy` module.\n",
        "\n",
        "  - **Step 2**: Pass `(4, 4, 4 )` inside the `shape` attribute of the `zeros()` function to create a 3D NumPy array of size (4, 4, 4) whose all the elements are 0. Store the array in a variable `three_d_arr`."
      ]
    },
    {
      "cell_type": "code",
      "metadata": {
        "id": "YgDGsBFjXSs4",
        "outputId": "4c6af90c-fb80-435f-da81-1a341379db8e",
        "colab": {
          "base_uri": "https://localhost:8080/"
        }
      },
      "source": [
        "# Create a 3D NumPy array of size (4, 4, 4) whose all the elements are 0.\n",
        "# Step 1: Import numpy module.\n",
        "import numpy as np\n",
        "# Step 2: Pass '(4, 4, 4 )' inside the 'shape' attribute of the 'zeros()' function\n",
        "three_d_arr=np.zeros(shape=(4,4,4),dtype=int)\n",
        "three_d_arr"
      ],
      "execution_count": 2,
      "outputs": [
        {
          "output_type": "execute_result",
          "data": {
            "text/plain": [
              "array([[[0, 0, 0, 0],\n",
              "        [0, 0, 0, 0],\n",
              "        [0, 0, 0, 0],\n",
              "        [0, 0, 0, 0]],\n",
              "\n",
              "       [[0, 0, 0, 0],\n",
              "        [0, 0, 0, 0],\n",
              "        [0, 0, 0, 0],\n",
              "        [0, 0, 0, 0]],\n",
              "\n",
              "       [[0, 0, 0, 0],\n",
              "        [0, 0, 0, 0],\n",
              "        [0, 0, 0, 0],\n",
              "        [0, 0, 0, 0]],\n",
              "\n",
              "       [[0, 0, 0, 0],\n",
              "        [0, 0, 0, 0],\n",
              "        [0, 0, 0, 0],\n",
              "        [0, 0, 0, 0]]])"
            ]
          },
          "metadata": {},
          "execution_count": 2
        }
      ]
    },
    {
      "cell_type": "markdown",
      "metadata": {
        "id": "AfHAWZNAXPt3"
      },
      "source": [
        "---"
      ]
    },
    {
      "cell_type": "markdown",
      "metadata": {
        "id": "qA-b1CdeofKc"
      },
      "source": [
        "#### Activity 2: Accessing elements in a 3D array.\n",
        "\n",
        "Given a 3D NumPy array of size (2, 2, 2) whose all the elements are 0,\n",
        "\n",
        "```\n",
        "three_d_arr = [[[0 0],\n",
        "               [0 0]],\n",
        "\n",
        "              [[0 0],\n",
        "              [0 0]]]\n",
        "```\n",
        "\n",
        "write a program to generate a random number between 10 and 50 at (0, 1, 1) position of the `three_d_arr`. If the random number generated is greater than 20 then, update the 1st element (`update_needed` in the below array) as `50`, else, update it as `20`.\n",
        "\n",
        "```\n",
        "three_d_arr = [[[0 update_required],\n",
        "               [0 random_number]],\n",
        "\n",
        "              [[0 0],\n",
        "              [0 0]]]\n",
        "```\n",
        "\n",
        "Follow the steps given below to achieve the desired result:\n",
        "\n",
        "  - **Step 1**: Import the `random` module.\n",
        "\n",
        "  - **Step 2**: Update the `(0, 1, 1)` position of the `three_d_arr` with a random number between `10` and `50` (including both).\n",
        "\n",
        "  - **Step 3**: Check whether the random number generated is greater than `20` using an `if` condition. \n",
        "\n",
        "     - If the condition is `True`, update the `0` at `(0, 0, 1)` i.e. `update_required` position with `50`.\n",
        "\n",
        "     - Else, update it as `20`."
      ]
    },
    {
      "cell_type": "code",
      "metadata": {
        "colab": {
          "base_uri": "https://localhost:8080/"
        },
        "id": "NgRnTUplydg1",
        "outputId": "c08fcbdf-62ba-4e68-8423-16fa58f0eba9"
      },
      "source": [
        "# 3D NumPy array of size (2, 2, 2) whose all the elements are 0.\n",
        "import numpy as np\n",
        "\n",
        "three_d_arr = np.zeros(shape=(2, 2, 2), dtype=int)\n",
        "three_d_arr"
      ],
      "execution_count": 3,
      "outputs": [
        {
          "output_type": "execute_result",
          "data": {
            "text/plain": [
              "array([[[0, 0],\n",
              "        [0, 0]],\n",
              "\n",
              "       [[0, 0],\n",
              "        [0, 0]]])"
            ]
          },
          "metadata": {},
          "execution_count": 3
        }
      ]
    },
    {
      "cell_type": "code",
      "metadata": {
        "id": "AtvPTG3kpBoS",
        "outputId": "1462dd56-2c37-43ce-e9c0-a93fe424a4cf",
        "colab": {
          "base_uri": "https://localhost:8080/"
        }
      },
      "source": [
        "# Write your code here to generate a random number between 10 and 50 at (0,1,1)\n",
        "import random\n",
        "random_number=random.randint(10,50)\n",
        "print(random_number)"
      ],
      "execution_count": 7,
      "outputs": [
        {
          "output_type": "stream",
          "name": "stdout",
          "text": [
            "30\n"
          ]
        }
      ]
    },
    {
      "cell_type": "code",
      "metadata": {
        "id": "_oETQ6Ah0HTS",
        "colab": {
          "base_uri": "https://localhost:8080/"
        },
        "outputId": "0df595f2-a37d-49a5-ddb7-f4ed9e1e1b37"
      },
      "source": [
        "# Check whether the random number generated is greater than 20\n",
        "if random_number > 20:\n",
        "  three_d_arr[0,0,1]=50\n",
        "  # If the condition is 'True', update the '0' at '(0, 0, 1)' position with '50'.\n",
        "\n",
        "# print the resultant 'three_d_array' array\n",
        "three_d_arr"
      ],
      "execution_count": 8,
      "outputs": [
        {
          "output_type": "execute_result",
          "data": {
            "text/plain": [
              "array([[[ 0, 50],\n",
              "        [ 0,  0]],\n",
              "\n",
              "       [[ 0,  0],\n",
              "        [ 0,  0]]])"
            ]
          },
          "metadata": {},
          "execution_count": 8
        }
      ]
    },
    {
      "cell_type": "markdown",
      "metadata": {
        "id": "KOVBiUSMzut1"
      },
      "source": [
        "---"
      ]
    }
  ]
}