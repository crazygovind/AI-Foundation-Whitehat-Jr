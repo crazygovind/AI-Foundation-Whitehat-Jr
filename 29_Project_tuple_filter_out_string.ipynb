{
  "nbformat": 4,
  "nbformat_minor": 0,
  "metadata": {
    "colab": {
      "provenance": [],
      "collapsed_sections": [],
      "include_colab_link": true
    },
    "kernelspec": {
      "name": "python3",
      "display_name": "Python 3"
    }
  },
  "cells": [
    {
      "cell_type": "markdown",
      "metadata": {
        "id": "view-in-github",
        "colab_type": "text"
      },
      "source": [
        "<a href=\"https://colab.research.google.com/github/crazygovind/AI-Foundation-Whitehat-Jr/blob/master/29_Project_tuple_filter_out_string.ipynb\" target=\"_parent\"><img src=\"https://colab.research.google.com/assets/colab-badge.svg\" alt=\"Open In Colab\"/></a>"
      ]
    },
    {
      "cell_type": "markdown",
      "metadata": {
        "id": "YZnBY81YDCCr"
      },
      "source": [
        "### Instructions"
      ]
    },
    {
      "cell_type": "markdown",
      "metadata": {
        "id": "bEyBzxYRhrLG"
      },
      "source": [
        "#### Goal of the Project\n",
        "\n",
        "This project is designed for you to practice and solve the activities that are based on the concepts covered in the following lessons:\n",
        "\n",
        "  1.  While Loop, Data-Type Conversion and Conditional Statements\n",
        "  2.  Python Lists\n",
        "  3.  List Comprehension\n",
        "  5.  Python Tuples I"
      ]
    },
    {
      "cell_type": "markdown",
      "metadata": {
        "id": "DPOFIO3EHncO"
      },
      "source": [
        "---"
      ]
    },
    {
      "cell_type": "markdown",
      "metadata": {
        "id": "q4fH06mIjuK3"
      },
      "source": [
        "#### Activity 1: Filter out Strings\n",
        "\n",
        "Given a list which contains both integer and string values, create a function that returns a new list without the strings using List comprehension method.\n",
        "\n",
        "**Constraint**:\n",
        "\n",
        "- Consider only non-negative integers\n",
        "\n",
        "**Examples**\n",
        "```\n",
        "[1, 2, \"a\", \"b\"] ➞ [1, 2]\n",
        "\n",
        "[1, \"a\", \"b\", 0, 15] ➞ [1, 0, 15]\n",
        "\n",
        "[1, 2, \"aasf\", \"1\", \"123\", 123] ➞ [1, 2, 123]\n",
        "```\n",
        "**Hint:** Use `type()` function to check the data type of all the elements of the list."
      ]
    },
    {
      "cell_type": "code",
      "metadata": {
        "id": "4EAoTskqg041",
        "colab": {
          "base_uri": "https://localhost:8080/"
        },
        "outputId": "fca39dc5-8d6c-445a-d0ad-f756774514a0"
      },
      "source": [
        "# Write your code here\n",
        "# Define a function which will take list as a parameter\n",
        "def filter(list):\n",
        "  for i in list:\n",
        "    list1=[]\n",
        "    if type(i)==int:\n",
        "      list1.append(i)\n",
        "      print(list1)\n",
        "      \n",
        "  # This function returns only those items of list whose type is int. Specify this using list comprehension.\n",
        "\n",
        "filter([1, 2, \"aasf\", \"1\", \"123\", 123])\n",
        "  \n",
        "#Call the function"
      ],
      "execution_count": 13,
      "outputs": [
        {
          "output_type": "stream",
          "name": "stdout",
          "text": [
            "[1]\n",
            "[2]\n",
            "[123]\n"
          ]
        }
      ]
    },
    {
      "cell_type": "markdown",
      "metadata": {
        "id": "xJlPs9X9oeRw"
      },
      "source": [
        "---"
      ]
    },
    {
      "cell_type": "markdown",
      "metadata": {
        "id": "qA-b1CdeofKc"
      },
      "source": [
        "#### Activity 2: Transform into a List with No Duplicates\n",
        "\n",
        "Given a list of elements, write a program to print a new sorted list with no duplicate values.\n",
        "\n",
        "**Examples:**\n",
        "```\n",
        "[3, 3, 1, 5, 5] ➞ [1, 3, 5]\n",
        "\n",
        "[5, 7, 8, 15, 10, 9] ➞ [5, 7, 8, 9, 10, 15]\n",
        "\n",
        "['a', 'c', 'b', 'c', 'd'] ➞ [a, b, c, d]\n",
        "\n",
        "[3, 3, 3, 2, 1] ➞ [1, 2, 3]\n",
        "```\n",
        "**Hint:** Use `append()` and `sort()` functions. The `sort()` function is used to sort the elements of a list. The syntax of `sort()` function is:\n",
        "\n",
        "`list_name.sort()`\n",
        "\n",
        " where, `list_name` is the list whose elements are to be sorted."
      ]
    },
    {
      "cell_type": "code",
      "metadata": {
        "id": "AtvPTG3kpBoS",
        "colab": {
          "base_uri": "https://localhost:8080/"
        },
        "outputId": "4c169b9f-688d-44ca-ca07-ffafe4edfc0a"
      },
      "source": [
        "# Write your code here\n",
        "# Create a function which takes a list as parameter.\n",
        "def repeater(list1):\n",
        "\n",
        "\t# Create an empty list\n",
        "\tlist2=[]\n",
        "\tfor i in list1:\n",
        "\t\tif i not in list2:\n",
        "\t\t\tlist2.append(i)\n",
        "\tlist2.sort()\n",
        "\tprint(list2)\n",
        "\n",
        "# call the function\n",
        "print(repeater(['a', 'c', 'b', 'c', 'd']))\n",
        "print(repeater([5, 7, 8, 15, 10, 9]))\n",
        "print(repeater([3, 3, 3, 2, 1]))\n",
        "repeater([3, 3, 1, 5, 5])\n"
      ],
      "execution_count": 20,
      "outputs": [
        {
          "output_type": "stream",
          "name": "stdout",
          "text": [
            "['a', 'b', 'c', 'd']\n",
            "None\n",
            "[5, 7, 8, 9, 10, 15]\n",
            "None\n",
            "[1, 2, 3]\n",
            "None\n",
            "[1, 3, 5]\n"
          ]
        }
      ]
    },
    {
      "cell_type": "markdown",
      "metadata": {
        "id": "KOVBiUSMzut1"
      },
      "source": [
        "---"
      ]
    },
    {
      "cell_type": "markdown",
      "metadata": {
        "id": "b4aeCDi0pkJz"
      },
      "source": [
        "#### Activity 3: Reverse the elements of a Tuple\n",
        "\n",
        "Given `n` elements of different types in a tuple, write a program to print the elements of that tuple in a reverse order using negative indexing.\n",
        "\n",
        "**Example**:\n",
        "\n",
        "```\n",
        "Original tuple:  (1, 3, 5.78, 7.56, 'Python')\n",
        "Tuple is reverse order : \n",
        "Python\n",
        "7.56\n",
        "5.78\n",
        "3\n",
        "1\n",
        "``` "
      ]
    },
    {
      "cell_type": "code",
      "metadata": {
        "id": "d5ufKLNYzsIl",
        "colab": {
          "base_uri": "https://localhost:8080/"
        },
        "outputId": "769499c2-dc69-4ae7-c248-72b350eba4e7"
      },
      "source": [
        "# Write your code here\n",
        "tuple1=(1, 3, 5.78, 7.56, 'Python')\n",
        "tuple1[::-1]"
      ],
      "execution_count": 23,
      "outputs": [
        {
          "output_type": "execute_result",
          "data": {
            "text/plain": [
              "('Python', 7.56, 5.78, 3, 1)"
            ]
          },
          "metadata": {},
          "execution_count": 23
        }
      ]
    },
    {
      "cell_type": "markdown",
      "metadata": {
        "id": "HSz7jRSlGxIO"
      },
      "source": [
        "---"
      ]
    }
  ]
}