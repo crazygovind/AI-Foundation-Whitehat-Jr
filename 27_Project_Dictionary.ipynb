{
  "nbformat": 4,
  "nbformat_minor": 0,
  "metadata": {
    "colab": {
      "provenance": [],
      "collapsed_sections": [],
      "include_colab_link": true
    },
    "kernelspec": {
      "name": "python3",
      "display_name": "Python 3"
    }
  },
  "cells": [
    {
      "cell_type": "markdown",
      "metadata": {
        "id": "view-in-github",
        "colab_type": "text"
      },
      "source": [
        "<a href=\"https://colab.research.google.com/github/crazygovind/AI-Foundation-Whitehat-Jr/blob/master/27_Project_Dictionary.ipynb\" target=\"_parent\"><img src=\"https://colab.research.google.com/assets/colab-badge.svg\" alt=\"Open In Colab\"/></a>"
      ]
    },
    {
      "cell_type": "markdown",
      "metadata": {
        "id": "YZnBY81YDCCr"
      },
      "source": [
        "### Instructions"
      ]
    },
    {
      "cell_type": "markdown",
      "metadata": {
        "id": "fIKnY8occu37"
      },
      "source": [
        "#### Goal of the Project\n",
        "\n",
        "This project is designed for you to practice and solve the activities that are based on the concepts covered in the following lessons:\n",
        "\n",
        "1. Python Lists\n",
        "\n",
        "2. Python Dictionary \n",
        "\n",
        "\n",
        "\n",
        "\n"
      ]
    },
    {
      "cell_type": "markdown",
      "metadata": {
        "id": "b57XkewxxpTC"
      },
      "source": [
        "---"
      ]
    },
    {
      "cell_type": "markdown",
      "metadata": {
        "id": "H0P9F3DUf8x2"
      },
      "source": [
        "### Activities\n",
        "\n",
        "\n",
        "  "
      ]
    },
    {
      "cell_type": "markdown",
      "metadata": {
        "id": "BVT9G_baB1aq"
      },
      "source": [
        "#### Activity 1: Dictionary of Student Names\n",
        "\n",
        "Create a function that takes a dictionary of student names as parameters and returns a list containing those student names.\n",
        "\n",
        "**Example:**\n",
        "```\n",
        "get_student_names({\n",
        "  \"Student 1\" : \"Steve\",\n",
        "  \"Student 2\" : \"Becky\",\n",
        "  \"Student 3\" : \"John\"\n",
        "})\n",
        "➞ [\"Steve\", \"Becky\", \"John\"]\n",
        "```\n",
        "\n",
        "**Hint:** Use `list()` function to create a list of dictionary values."
      ]
    },
    {
      "cell_type": "code",
      "metadata": {
        "id": "0pIGxKG9B3mb",
        "colab": {
          "base_uri": "https://localhost:8080/"
        },
        "outputId": "f6e5e094-f94d-483f-a2bf-a02d43cbcd64"
      },
      "source": [
        "# Write your solution here\n",
        "def get_students_name(students_dict):\n",
        "\n",
        "    print(list(students_dict.values()))\n",
        "\n",
        "get_students_name({'std1':'govind',\n",
        "                   'std2':'anurag',\n",
        "                   'std3':'yash'})"
      ],
      "execution_count": 10,
      "outputs": [
        {
          "output_type": "stream",
          "name": "stdout",
          "text": [
            "['govind', 'anurag', 'yash']\n"
          ]
        }
      ]
    },
    {
      "cell_type": "markdown",
      "metadata": {
        "id": "IJIZASayCpEW"
      },
      "source": [
        "---"
      ]
    },
    {
      "cell_type": "markdown",
      "metadata": {
        "id": "g5ojkSnpCnQg"
      },
      "source": [
        "#### Activity 2: Simon Says \n",
        "\n",
        "Given two lists as an input, create a function that returns `True` if the second list follows first list by one element. \n",
        "\n",
        "In other words, determine if the second list is the first list shifted to right by `1`.\n",
        "\n",
        "**For example:**\n",
        "\n",
        "Consider two lists: `list1 = [1, 2, 3, 4, 5]` and `list2 = [0, 1, 2, 3, 4]`\n",
        "\n",
        "Then,\n",
        "\n",
        "`simon_says([[1, 2, 3, 4, 5], [0, 1, 2, 3, 4])` ➞ **True**, because:\n",
        "  - first element of `list1` = second element of `list2`\n",
        "  - second element of `list1` = third element of `list2`\n",
        "  - third element of `list1` = fourth element of `list2`\n",
        "and so on.\n",
        "\n",
        "In other words, `list2` is same as `list1` shifted to right by 1. (Ignore the first element of `list2` and last element of `list1`)\n",
        "\n",
        "**Constraints**:\n",
        "\n",
        "- Both input lists must be of the same length with minimum length of `2`.\n",
        "\n",
        "- Ignore the first element of the second list and the last element of the first list.\n",
        "\n",
        "**Input Format**\n",
        "```\n",
        "Two python lists of equal length passed as parameters to a function.\n",
        "```\n",
        "\n",
        "**Output Format**\n",
        "```\n",
        "Return True if the second list is the first list shifted to the right by `1`, otherwise return False.\n",
        "```\n",
        "\n",
        "**Examples**\n",
        "```\n",
        "simon_says([1, 2], [5, 1]) ➞ True\n",
        "\n",
        "simon_says([1, 2], [5, 5]) ➞ False\n",
        "\n",
        "simon_says([[1, 2, 3, 4, 5], [0, 1, 2, 3, 4]) ➞ True\n",
        "\n",
        "simon_says([1, 2, 3, 4, 5], [5, 5, 1, 2, 3]) ➞ False\n",
        "```"
      ]
    },
    {
      "cell_type": "code",
      "metadata": {
        "id": "UlGejEowCtAE",
        "colab": {
          "base_uri": "https://localhost:8080/"
        },
        "outputId": "9fe98f8f-5afc-4f77-8732-c76a27027563"
      },
      "source": [
        "# Write your solution here\n",
        "def simon_says(list1,list2):\n",
        "  if len(list1)==len(list2):\n",
        "      n=0\n",
        "      if list1[n]==list2[n+1]:\n",
        "        return True\n",
        "      else:\n",
        "        return False\n",
        "  else:\n",
        "    print('Length of both lists are not equal')\n",
        "\n",
        "print(simon_says([1, 2], [5, 1]))\n",
        "print(simon_says([1, 2, 3, 4, 5], [5, 5, 1, 2, 3, 4]))\n",
        "print(simon_says([1, 2], [5, 5]))\n",
        "print(simon_says([1, 2, 3, 4, 5], [0, 1, 2, 3, 4]))\n",
        "print(simon_says([1, 2, 3, 4, 5], [5, 5, 1, 2, 3]))\n"
      ],
      "execution_count": 17,
      "outputs": [
        {
          "output_type": "stream",
          "name": "stdout",
          "text": [
            "True\n",
            "Length of both lists are not equal\n",
            "None\n",
            "False\n",
            "True\n",
            "False\n"
          ]
        }
      ]
    },
    {
      "cell_type": "markdown",
      "metadata": {
        "id": "MWkPEALQn-lN"
      },
      "source": [
        "---"
      ]
    }
  ]
}