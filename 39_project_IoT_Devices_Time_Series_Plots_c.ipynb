{
  "nbformat": 4,
  "nbformat_minor": 0,
  "metadata": {
    "colab": {
      "provenance": [],
      "include_colab_link": true
    },
    "kernelspec": {
      "name": "python3",
      "display_name": "Python 3"
    }
  },
  "cells": [
    {
      "cell_type": "markdown",
      "metadata": {
        "id": "view-in-github",
        "colab_type": "text"
      },
      "source": [
        "<a href=\"https://colab.research.google.com/github/crazygovind/AI-Foundation-Whitehat-Jr/blob/master/39_project_IoT_Devices_Time_Series_Plots_c.ipynb\" target=\"_parent\"><img src=\"https://colab.research.google.com/assets/colab-badge.svg\" alt=\"Open In Colab\"/></a>"
      ]
    },
    {
      "cell_type": "markdown",
      "metadata": {
        "id": "OocTROo-irrt"
      },
      "source": [
        "#  IoT Devices - Time Series Plots\n"
      ]
    },
    {
      "cell_type": "markdown",
      "metadata": {
        "id": "wOmN35jdQO68"
      },
      "source": [
        "### Context\n",
        "\n",
        "IoT devices have been around for quite a while now. They are used to collect data through different kinds of sensors such as \n",
        "Motion sensors: These use a visual sensor to detect a change in apparent temperature of surroundings  or when someone comes in the field of view of a camera.\n",
        "Heat sensors: These are used in trucks which carry perishable goods like fish and milk where changes in a temperature lower the shelf life of the produce. These are also used to detect forest fires.\n",
        "\n",
        "Vibration sensors: These are used in car crash tests and detecting if someone is trying to cut a tree.  \n",
        "\n",
        "A lot of people are using smartwatches and fitness watches to track their daily physical activities, calories burnt, average resting heart rates, sleep cycle so that they lead a fit life. Such wearables are equipped with laser sensors to collect data.\n",
        "\n",
        "Heat Index (temperature + humidity ) is one common data recorded on these IoT readers. The frequency of the upcoming data is very fast. The sensor reads hundreds to millions of data per second. There is a huge and versatile application of this data in real-world like agriculture, weather forecasting, soil monitoring and treatment, enterprise maintenance etc.\n",
        "\n",
        "Heat stress index of India.\n",
        "\n",
        "<img src='https://student-datasets-bucket.s3.ap-south-1.amazonaws.com/images/heat_index_india.png' width=600>\n"
      ]
    },
    {
      "cell_type": "markdown",
      "metadata": {
        "id": "DiBKzIYpWCzp"
      },
      "source": [
        "---"
      ]
    },
    {
      "cell_type": "markdown",
      "metadata": {
        "id": "zTSyVg4PqLI3"
      },
      "source": [
        "### Problem Statement\n",
        "\n",
        "Put yourself in the shoes of a quality analyst whose task is to test the efficacy of new IoT devices. You need to create time-series plots for daily temperature variation for the given duration and find any inconsistencies in the temperature readings (if there are any). \n",
        "\n",
        "In case the data collected through the device is correct, find the percentages of the yellow, orange and red zones. "
      ]
    },
    {
      "cell_type": "markdown",
      "metadata": {
        "id": "5AyRRYmTR3N7"
      },
      "source": [
        "---"
      ]
    },
    {
      "cell_type": "markdown",
      "metadata": {
        "id": "OvuklseNQkid"
      },
      "source": [
        "### Data Description\n",
        "\n",
        "This dataset contains the temperature readings from an IoT device installed outside and inside of an anonymous room (labelled as admin room) to test the device. The readings were taken between 11 January 2018 and 10 December 2018. Additionally, it was uninstalled or taken down quite frequently during the entire reading period. There are 5 columns and 97,605 rows in the dataset.\n",
        "\n",
        "1. `id` - unique IDs for each reading\n",
        "\n",
        "2. `room_id/id` - room id in which device was installed (inside and/or outside). In this dataset, only `Room Admin` label is used as a `room_id` for example purpose.\n",
        "\n",
        "3. `noted_date` - date and time of reading\n",
        "\n",
        "4. `temp` - temperature readings\n",
        "\n",
        "5. `out/in` - whether the reading was taken from a device installed inside or outside of the room?\n",
        "\n",
        "Here's the dataset link:\n",
        "\n",
        "https://student-datasets-bucket.s3.ap-south-1.amazonaws.com/whitehat-ds-datasets/iot-devices/IoT-device.csv"
      ]
    },
    {
      "cell_type": "markdown",
      "metadata": {
        "id": "wmta0mCwWB0e"
      },
      "source": [
        "---"
      ]
    },
    {
      "cell_type": "markdown",
      "metadata": {
        "id": "Djd0X9oJQogj"
      },
      "source": [
        "### Things To Do\n",
        "\n",
        "- What is the trend in the variation in daily indoor and outdoor temperatures?\n",
        "\n",
        "- What is the trend in the variation in monthly median indoor and outdoor temperatures?\n",
        "\n",
        "- Find out the hottest and coldest month(s).\n",
        "\n",
        "- Find the maximum and minimum temperatures recorded for each month.\n",
        "\n",
        "- Find the hottest and coldest days for each month along with the temperatures."
      ]
    },
    {
      "cell_type": "markdown",
      "metadata": {
        "id": "1_0f8iFLVzir"
      },
      "source": [
        "---"
      ]
    },
    {
      "cell_type": "markdown",
      "metadata": {
        "id": "bQT8lQviaQwX"
      },
      "source": [
        "#### 1. Import Modules & Load Dataset"
      ]
    },
    {
      "cell_type": "code",
      "metadata": {
        "id": "Y62VnVV3SjwN",
        "colab": {
          "base_uri": "https://localhost:8080/",
          "height": 206
        },
        "outputId": "490661ca-f0da-4dd5-d9a5-7132b7998626"
      },
      "source": [
        "# Import the required modules and load the dataset.\n",
        "import numpy as np\n",
        "import pandas as pd\n",
        "import matplotlib.pyplot as plt\n",
        "import seaborn as sns\n",
        "\n",
        "df=pd.read_csv('https://student-datasets-bucket.s3.ap-south-1.amazonaws.com/whitehat-ds-datasets/iot-devices/IoT-device.csv')\n",
        "df.head()"
      ],
      "execution_count": null,
      "outputs": [
        {
          "output_type": "execute_result",
          "data": {
            "text/plain": [
              "                                    id  room_id/id        noted_date  temp  \\\n",
              "0  __export__.temp_log_196134_bd201015  Room Admin  08-12-2018 09:30    29   \n",
              "1  __export__.temp_log_196131_7bca51bc  Room Admin  08-12-2018 09:30    29   \n",
              "2  __export__.temp_log_196127_522915e3  Room Admin  08-12-2018 09:29    41   \n",
              "3  __export__.temp_log_196128_be0919cf  Room Admin  08-12-2018 09:29    41   \n",
              "4  __export__.temp_log_196126_d30b72fb  Room Admin  08-12-2018 09:29    31   \n",
              "\n",
              "  out/in  \n",
              "0     In  \n",
              "1     In  \n",
              "2    Out  \n",
              "3    Out  \n",
              "4     In  "
            ],
            "text/html": [
              "\n",
              "  <div id=\"df-e084e292-6c78-4c51-bc14-555e37c2e209\">\n",
              "    <div class=\"colab-df-container\">\n",
              "      <div>\n",
              "<style scoped>\n",
              "    .dataframe tbody tr th:only-of-type {\n",
              "        vertical-align: middle;\n",
              "    }\n",
              "\n",
              "    .dataframe tbody tr th {\n",
              "        vertical-align: top;\n",
              "    }\n",
              "\n",
              "    .dataframe thead th {\n",
              "        text-align: right;\n",
              "    }\n",
              "</style>\n",
              "<table border=\"1\" class=\"dataframe\">\n",
              "  <thead>\n",
              "    <tr style=\"text-align: right;\">\n",
              "      <th></th>\n",
              "      <th>id</th>\n",
              "      <th>room_id/id</th>\n",
              "      <th>noted_date</th>\n",
              "      <th>temp</th>\n",
              "      <th>out/in</th>\n",
              "    </tr>\n",
              "  </thead>\n",
              "  <tbody>\n",
              "    <tr>\n",
              "      <th>0</th>\n",
              "      <td>__export__.temp_log_196134_bd201015</td>\n",
              "      <td>Room Admin</td>\n",
              "      <td>08-12-2018 09:30</td>\n",
              "      <td>29</td>\n",
              "      <td>In</td>\n",
              "    </tr>\n",
              "    <tr>\n",
              "      <th>1</th>\n",
              "      <td>__export__.temp_log_196131_7bca51bc</td>\n",
              "      <td>Room Admin</td>\n",
              "      <td>08-12-2018 09:30</td>\n",
              "      <td>29</td>\n",
              "      <td>In</td>\n",
              "    </tr>\n",
              "    <tr>\n",
              "      <th>2</th>\n",
              "      <td>__export__.temp_log_196127_522915e3</td>\n",
              "      <td>Room Admin</td>\n",
              "      <td>08-12-2018 09:29</td>\n",
              "      <td>41</td>\n",
              "      <td>Out</td>\n",
              "    </tr>\n",
              "    <tr>\n",
              "      <th>3</th>\n",
              "      <td>__export__.temp_log_196128_be0919cf</td>\n",
              "      <td>Room Admin</td>\n",
              "      <td>08-12-2018 09:29</td>\n",
              "      <td>41</td>\n",
              "      <td>Out</td>\n",
              "    </tr>\n",
              "    <tr>\n",
              "      <th>4</th>\n",
              "      <td>__export__.temp_log_196126_d30b72fb</td>\n",
              "      <td>Room Admin</td>\n",
              "      <td>08-12-2018 09:29</td>\n",
              "      <td>31</td>\n",
              "      <td>In</td>\n",
              "    </tr>\n",
              "  </tbody>\n",
              "</table>\n",
              "</div>\n",
              "      <button class=\"colab-df-convert\" onclick=\"convertToInteractive('df-e084e292-6c78-4c51-bc14-555e37c2e209')\"\n",
              "              title=\"Convert this dataframe to an interactive table.\"\n",
              "              style=\"display:none;\">\n",
              "        \n",
              "  <svg xmlns=\"http://www.w3.org/2000/svg\" height=\"24px\"viewBox=\"0 0 24 24\"\n",
              "       width=\"24px\">\n",
              "    <path d=\"M0 0h24v24H0V0z\" fill=\"none\"/>\n",
              "    <path d=\"M18.56 5.44l.94 2.06.94-2.06 2.06-.94-2.06-.94-.94-2.06-.94 2.06-2.06.94zm-11 1L8.5 8.5l.94-2.06 2.06-.94-2.06-.94L8.5 2.5l-.94 2.06-2.06.94zm10 10l.94 2.06.94-2.06 2.06-.94-2.06-.94-.94-2.06-.94 2.06-2.06.94z\"/><path d=\"M17.41 7.96l-1.37-1.37c-.4-.4-.92-.59-1.43-.59-.52 0-1.04.2-1.43.59L10.3 9.45l-7.72 7.72c-.78.78-.78 2.05 0 2.83L4 21.41c.39.39.9.59 1.41.59.51 0 1.02-.2 1.41-.59l7.78-7.78 2.81-2.81c.8-.78.8-2.07 0-2.86zM5.41 20L4 18.59l7.72-7.72 1.47 1.35L5.41 20z\"/>\n",
              "  </svg>\n",
              "      </button>\n",
              "      \n",
              "  <style>\n",
              "    .colab-df-container {\n",
              "      display:flex;\n",
              "      flex-wrap:wrap;\n",
              "      gap: 12px;\n",
              "    }\n",
              "\n",
              "    .colab-df-convert {\n",
              "      background-color: #E8F0FE;\n",
              "      border: none;\n",
              "      border-radius: 50%;\n",
              "      cursor: pointer;\n",
              "      display: none;\n",
              "      fill: #1967D2;\n",
              "      height: 32px;\n",
              "      padding: 0 0 0 0;\n",
              "      width: 32px;\n",
              "    }\n",
              "\n",
              "    .colab-df-convert:hover {\n",
              "      background-color: #E2EBFA;\n",
              "      box-shadow: 0px 1px 2px rgba(60, 64, 67, 0.3), 0px 1px 3px 1px rgba(60, 64, 67, 0.15);\n",
              "      fill: #174EA6;\n",
              "    }\n",
              "\n",
              "    [theme=dark] .colab-df-convert {\n",
              "      background-color: #3B4455;\n",
              "      fill: #D2E3FC;\n",
              "    }\n",
              "\n",
              "    [theme=dark] .colab-df-convert:hover {\n",
              "      background-color: #434B5C;\n",
              "      box-shadow: 0px 1px 3px 1px rgba(0, 0, 0, 0.15);\n",
              "      filter: drop-shadow(0px 1px 2px rgba(0, 0, 0, 0.3));\n",
              "      fill: #FFFFFF;\n",
              "    }\n",
              "  </style>\n",
              "\n",
              "      <script>\n",
              "        const buttonEl =\n",
              "          document.querySelector('#df-e084e292-6c78-4c51-bc14-555e37c2e209 button.colab-df-convert');\n",
              "        buttonEl.style.display =\n",
              "          google.colab.kernel.accessAllowed ? 'block' : 'none';\n",
              "\n",
              "        async function convertToInteractive(key) {\n",
              "          const element = document.querySelector('#df-e084e292-6c78-4c51-bc14-555e37c2e209');\n",
              "          const dataTable =\n",
              "            await google.colab.kernel.invokeFunction('convertToInteractive',\n",
              "                                                     [key], {});\n",
              "          if (!dataTable) return;\n",
              "\n",
              "          const docLinkHtml = 'Like what you see? Visit the ' +\n",
              "            '<a target=\"_blank\" href=https://colab.research.google.com/notebooks/data_table.ipynb>data table notebook</a>'\n",
              "            + ' to learn more about interactive tables.';\n",
              "          element.innerHTML = '';\n",
              "          dataTable['output_type'] = 'display_data';\n",
              "          await google.colab.output.renderOutput(dataTable, element);\n",
              "          const docLink = document.createElement('div');\n",
              "          docLink.innerHTML = docLinkHtml;\n",
              "          element.appendChild(docLink);\n",
              "        }\n",
              "      </script>\n",
              "    </div>\n",
              "  </div>\n",
              "  "
            ]
          },
          "metadata": {},
          "execution_count": 2
        }
      ]
    },
    {
      "cell_type": "code",
      "metadata": {
        "id": "2eDUrqpvTIZv",
        "colab": {
          "base_uri": "https://localhost:8080/"
        },
        "outputId": "bfac8a73-d688-49ab-92d0-5b90c4cca152"
      },
      "source": [
        "# Get the information on DataFrame.\n",
        "df.info()"
      ],
      "execution_count": null,
      "outputs": [
        {
          "output_type": "stream",
          "name": "stdout",
          "text": [
            "<class 'pandas.core.frame.DataFrame'>\n",
            "RangeIndex: 97606 entries, 0 to 97605\n",
            "Data columns (total 5 columns):\n",
            " #   Column      Non-Null Count  Dtype \n",
            "---  ------      --------------  ----- \n",
            " 0   id          97606 non-null  object\n",
            " 1   room_id/id  97606 non-null  object\n",
            " 2   noted_date  97606 non-null  object\n",
            " 3   temp        97606 non-null  int64 \n",
            " 4   out/in      97606 non-null  object\n",
            "dtypes: int64(1), object(4)\n",
            "memory usage: 3.7+ MB\n"
          ]
        }
      ]
    },
    {
      "cell_type": "markdown",
      "metadata": {
        "id": "EWiqsKkOnT7J"
      },
      "source": [
        "---"
      ]
    },
    {
      "cell_type": "markdown",
      "metadata": {
        "id": "wmUC8gulmsu8"
      },
      "source": [
        "#### 2. Missing Values Check\n",
        "\n",
        "Check for the null values in the DataFrame."
      ]
    },
    {
      "cell_type": "code",
      "metadata": {
        "id": "jn-YY72GnaGz",
        "colab": {
          "base_uri": "https://localhost:8080/"
        },
        "outputId": "39e89949-11c4-4536-ac27-29dfb0efbcd5"
      },
      "source": [
        "# Check for the null values in the DataFrame.\n",
        "df.isnull().sum()"
      ],
      "execution_count": null,
      "outputs": [
        {
          "output_type": "execute_result",
          "data": {
            "text/plain": [
              "id            0\n",
              "room_id/id    0\n",
              "noted_date    0\n",
              "temp          0\n",
              "out/in        0\n",
              "dtype: int64"
            ]
          },
          "metadata": {},
          "execution_count": 4
        }
      ]
    },
    {
      "cell_type": "markdown",
      "metadata": {
        "id": "lHaX4i4Gni7R"
      },
      "source": [
        "**Q:** Are there any columns in the DataFrame containing the missing values? If yes, then provide the column names.\n",
        "\n",
        "**A:**"
      ]
    },
    {
      "cell_type": "markdown",
      "metadata": {
        "id": "-gNsMM1pn4Dl"
      },
      "source": [
        "---"
      ]
    },
    {
      "cell_type": "markdown",
      "metadata": {
        "id": "rLDsqxRtn2Td"
      },
      "source": [
        "#### 3. Drop Unnecessary Columns\n",
        "\n",
        "\n",
        "Find out if there are unnecessary columns in the DataFrame. If there are any, then drop them from the DataFrame."
      ]
    },
    {
      "cell_type": "code",
      "metadata": {
        "id": "vWdxA_1KStHT"
      },
      "source": [
        "# Find out if there are unnecessary columns in the DataFrame. If there are any, then drop them from the DataFrame. \n"
      ],
      "execution_count": null,
      "outputs": []
    },
    {
      "cell_type": "markdown",
      "metadata": {
        "id": "7fVWyg-noVyy"
      },
      "source": [
        "---"
      ]
    },
    {
      "cell_type": "markdown",
      "metadata": {
        "id": "iRyZRBgBoXEj"
      },
      "source": [
        "#### 4. Get `datetime` Objects\n",
        "\n",
        "Convert the values contained in the `noted_date` column into the `datetime` objects."
      ]
    },
    {
      "cell_type": "code",
      "metadata": {
        "id": "WYSZvAx7S_JE"
      },
      "source": [
        "# Convert the values contained in the 'noted_date' column into the 'datetime' objects.\n",
        "df['noted_date']=pd.to_datetime(df['noted_date'])"
      ],
      "execution_count": null,
      "outputs": []
    },
    {
      "cell_type": "code",
      "metadata": {
        "id": "oc7F-m5TTKbZ",
        "colab": {
          "base_uri": "https://localhost:8080/"
        },
        "outputId": "8259959b-354a-4d62-ae83-f5760c453ddb"
      },
      "source": [
        "# Verify whether the conversion is successful or not.\n",
        "df.info()"
      ],
      "execution_count": null,
      "outputs": [
        {
          "output_type": "stream",
          "name": "stdout",
          "text": [
            "<class 'pandas.core.frame.DataFrame'>\n",
            "RangeIndex: 97606 entries, 0 to 97605\n",
            "Data columns (total 5 columns):\n",
            " #   Column      Non-Null Count  Dtype         \n",
            "---  ------      --------------  -----         \n",
            " 0   id          97606 non-null  object        \n",
            " 1   room_id/id  97606 non-null  object        \n",
            " 2   noted_date  97606 non-null  datetime64[ns]\n",
            " 3   temp        97606 non-null  int64         \n",
            " 4   out/in      97606 non-null  object        \n",
            "dtypes: datetime64[ns](1), int64(1), object(3)\n",
            "memory usage: 3.7+ MB\n"
          ]
        }
      ]
    },
    {
      "cell_type": "markdown",
      "metadata": {
        "id": "Dt2AYygJo_VV"
      },
      "source": [
        "---"
      ]
    },
    {
      "cell_type": "markdown",
      "metadata": {
        "id": "PRvYhIdro_84"
      },
      "source": [
        "#### 5. Sort The DataFrame\n",
        "\n",
        "Sort the DataFrame in the chronological order."
      ]
    },
    {
      "cell_type": "code",
      "metadata": {
        "id": "mO9zU3_Oaent",
        "colab": {
          "base_uri": "https://localhost:8080/",
          "height": 206
        },
        "outputId": "2a5d59a7-fc7c-4e47-9944-7361955b231d"
      },
      "source": [
        "# Sort the DataFrame in the increasing order of dates and time.\n",
        "df.sort_values(by='noted_date',ascending=True,inplace=True)\n",
        "df.head()"
      ],
      "execution_count": null,
      "outputs": [
        {
          "output_type": "execute_result",
          "data": {
            "text/plain": [
              "                                        id  room_id/id          noted_date  \\\n",
              "16218  __export__.temp_log_126924_cb744837  Room Admin 2018-01-11 00:06:00   \n",
              "16217  __export__.temp_log_146101_e61c18d4  Room Admin 2018-01-11 00:07:00   \n",
              "16216  __export__.temp_log_111262_7b3ed086  Room Admin 2018-01-11 00:09:00   \n",
              "16215  __export__.temp_log_147650_344507e9  Room Admin 2018-01-11 00:13:00   \n",
              "16214  __export__.temp_log_139505_cd77d7f9  Room Admin 2018-01-11 00:23:00   \n",
              "\n",
              "       temp out/in  \n",
              "16218    32     In  \n",
              "16217    40    Out  \n",
              "16216    39    Out  \n",
              "16215    40    Out  \n",
              "16214    40    Out  "
            ],
            "text/html": [
              "\n",
              "  <div id=\"df-ca2db2c2-c2c0-45dc-9088-f8d7f4ab2c64\">\n",
              "    <div class=\"colab-df-container\">\n",
              "      <div>\n",
              "<style scoped>\n",
              "    .dataframe tbody tr th:only-of-type {\n",
              "        vertical-align: middle;\n",
              "    }\n",
              "\n",
              "    .dataframe tbody tr th {\n",
              "        vertical-align: top;\n",
              "    }\n",
              "\n",
              "    .dataframe thead th {\n",
              "        text-align: right;\n",
              "    }\n",
              "</style>\n",
              "<table border=\"1\" class=\"dataframe\">\n",
              "  <thead>\n",
              "    <tr style=\"text-align: right;\">\n",
              "      <th></th>\n",
              "      <th>id</th>\n",
              "      <th>room_id/id</th>\n",
              "      <th>noted_date</th>\n",
              "      <th>temp</th>\n",
              "      <th>out/in</th>\n",
              "    </tr>\n",
              "  </thead>\n",
              "  <tbody>\n",
              "    <tr>\n",
              "      <th>16218</th>\n",
              "      <td>__export__.temp_log_126924_cb744837</td>\n",
              "      <td>Room Admin</td>\n",
              "      <td>2018-01-11 00:06:00</td>\n",
              "      <td>32</td>\n",
              "      <td>In</td>\n",
              "    </tr>\n",
              "    <tr>\n",
              "      <th>16217</th>\n",
              "      <td>__export__.temp_log_146101_e61c18d4</td>\n",
              "      <td>Room Admin</td>\n",
              "      <td>2018-01-11 00:07:00</td>\n",
              "      <td>40</td>\n",
              "      <td>Out</td>\n",
              "    </tr>\n",
              "    <tr>\n",
              "      <th>16216</th>\n",
              "      <td>__export__.temp_log_111262_7b3ed086</td>\n",
              "      <td>Room Admin</td>\n",
              "      <td>2018-01-11 00:09:00</td>\n",
              "      <td>39</td>\n",
              "      <td>Out</td>\n",
              "    </tr>\n",
              "    <tr>\n",
              "      <th>16215</th>\n",
              "      <td>__export__.temp_log_147650_344507e9</td>\n",
              "      <td>Room Admin</td>\n",
              "      <td>2018-01-11 00:13:00</td>\n",
              "      <td>40</td>\n",
              "      <td>Out</td>\n",
              "    </tr>\n",
              "    <tr>\n",
              "      <th>16214</th>\n",
              "      <td>__export__.temp_log_139505_cd77d7f9</td>\n",
              "      <td>Room Admin</td>\n",
              "      <td>2018-01-11 00:23:00</td>\n",
              "      <td>40</td>\n",
              "      <td>Out</td>\n",
              "    </tr>\n",
              "  </tbody>\n",
              "</table>\n",
              "</div>\n",
              "      <button class=\"colab-df-convert\" onclick=\"convertToInteractive('df-ca2db2c2-c2c0-45dc-9088-f8d7f4ab2c64')\"\n",
              "              title=\"Convert this dataframe to an interactive table.\"\n",
              "              style=\"display:none;\">\n",
              "        \n",
              "  <svg xmlns=\"http://www.w3.org/2000/svg\" height=\"24px\"viewBox=\"0 0 24 24\"\n",
              "       width=\"24px\">\n",
              "    <path d=\"M0 0h24v24H0V0z\" fill=\"none\"/>\n",
              "    <path d=\"M18.56 5.44l.94 2.06.94-2.06 2.06-.94-2.06-.94-.94-2.06-.94 2.06-2.06.94zm-11 1L8.5 8.5l.94-2.06 2.06-.94-2.06-.94L8.5 2.5l-.94 2.06-2.06.94zm10 10l.94 2.06.94-2.06 2.06-.94-2.06-.94-.94-2.06-.94 2.06-2.06.94z\"/><path d=\"M17.41 7.96l-1.37-1.37c-.4-.4-.92-.59-1.43-.59-.52 0-1.04.2-1.43.59L10.3 9.45l-7.72 7.72c-.78.78-.78 2.05 0 2.83L4 21.41c.39.39.9.59 1.41.59.51 0 1.02-.2 1.41-.59l7.78-7.78 2.81-2.81c.8-.78.8-2.07 0-2.86zM5.41 20L4 18.59l7.72-7.72 1.47 1.35L5.41 20z\"/>\n",
              "  </svg>\n",
              "      </button>\n",
              "      \n",
              "  <style>\n",
              "    .colab-df-container {\n",
              "      display:flex;\n",
              "      flex-wrap:wrap;\n",
              "      gap: 12px;\n",
              "    }\n",
              "\n",
              "    .colab-df-convert {\n",
              "      background-color: #E8F0FE;\n",
              "      border: none;\n",
              "      border-radius: 50%;\n",
              "      cursor: pointer;\n",
              "      display: none;\n",
              "      fill: #1967D2;\n",
              "      height: 32px;\n",
              "      padding: 0 0 0 0;\n",
              "      width: 32px;\n",
              "    }\n",
              "\n",
              "    .colab-df-convert:hover {\n",
              "      background-color: #E2EBFA;\n",
              "      box-shadow: 0px 1px 2px rgba(60, 64, 67, 0.3), 0px 1px 3px 1px rgba(60, 64, 67, 0.15);\n",
              "      fill: #174EA6;\n",
              "    }\n",
              "\n",
              "    [theme=dark] .colab-df-convert {\n",
              "      background-color: #3B4455;\n",
              "      fill: #D2E3FC;\n",
              "    }\n",
              "\n",
              "    [theme=dark] .colab-df-convert:hover {\n",
              "      background-color: #434B5C;\n",
              "      box-shadow: 0px 1px 3px 1px rgba(0, 0, 0, 0.15);\n",
              "      filter: drop-shadow(0px 1px 2px rgba(0, 0, 0, 0.3));\n",
              "      fill: #FFFFFF;\n",
              "    }\n",
              "  </style>\n",
              "\n",
              "      <script>\n",
              "        const buttonEl =\n",
              "          document.querySelector('#df-ca2db2c2-c2c0-45dc-9088-f8d7f4ab2c64 button.colab-df-convert');\n",
              "        buttonEl.style.display =\n",
              "          google.colab.kernel.accessAllowed ? 'block' : 'none';\n",
              "\n",
              "        async function convertToInteractive(key) {\n",
              "          const element = document.querySelector('#df-ca2db2c2-c2c0-45dc-9088-f8d7f4ab2c64');\n",
              "          const dataTable =\n",
              "            await google.colab.kernel.invokeFunction('convertToInteractive',\n",
              "                                                     [key], {});\n",
              "          if (!dataTable) return;\n",
              "\n",
              "          const docLinkHtml = 'Like what you see? Visit the ' +\n",
              "            '<a target=\"_blank\" href=https://colab.research.google.com/notebooks/data_table.ipynb>data table notebook</a>'\n",
              "            + ' to learn more about interactive tables.';\n",
              "          element.innerHTML = '';\n",
              "          dataTable['output_type'] = 'display_data';\n",
              "          await google.colab.output.renderOutput(dataTable, element);\n",
              "          const docLink = document.createElement('div');\n",
              "          docLink.innerHTML = docLinkHtml;\n",
              "          element.appendChild(docLink);\n",
              "        }\n",
              "      </script>\n",
              "    </div>\n",
              "  </div>\n",
              "  "
            ]
          },
          "metadata": {},
          "execution_count": 8
        }
      ]
    },
    {
      "cell_type": "markdown",
      "metadata": {
        "id": "v-0gSOVFH5Cz"
      },
      "source": [
        "**Hint**: You can sort the values by using the `sort_values()` function."
      ]
    },
    {
      "cell_type": "markdown",
      "metadata": {
        "id": "Eipd1aBBpNve"
      },
      "source": [
        "---"
      ]
    },
    {
      "cell_type": "markdown",
      "metadata": {
        "id": "Szh550y0pOWL"
      },
      "source": [
        "#### 6. Add More Features\n",
        "\n",
        "Get the year, month, day, day name, hours and minutes values from the `datetime` values and create new columns for the same."
      ]
    },
    {
      "cell_type": "code",
      "metadata": {
        "id": "YESR-mc8TLYW"
      },
      "source": [
        "# Create new columns for year, month, day, day name, hours and minutes values and add to the DataFrame.\n",
        "from datetime import datetime as dt\n",
        "df['year']=df['noted_date'].dt.year\n",
        "df['month']=df['noted_date'].dt.month\n",
        "df['day']=df['noted_date'].dt.day\n",
        "df['day_name']=df['noted_date'].dt.day_name()\n",
        "df['hours']=df['noted_date'].dt.hour\n",
        "df['minutes']=df['noted_date'].dt.minute\n",
        "\n"
      ],
      "execution_count": null,
      "outputs": []
    },
    {
      "cell_type": "code",
      "metadata": {
        "id": "Fw5rt9R_TW5i",
        "colab": {
          "base_uri": "https://localhost:8080/",
          "height": 206
        },
        "outputId": "5c1c0d3b-cd59-4bcf-8b45-6150ff81196d"
      },
      "source": [
        "# Display the first five rows of the DataFrame.\n",
        "df.head()"
      ],
      "execution_count": null,
      "outputs": [
        {
          "output_type": "execute_result",
          "data": {
            "text/plain": [
              "                                        id  room_id/id          noted_date  \\\n",
              "16218  __export__.temp_log_126924_cb744837  Room Admin 2018-01-11 00:06:00   \n",
              "16217  __export__.temp_log_146101_e61c18d4  Room Admin 2018-01-11 00:07:00   \n",
              "16216  __export__.temp_log_111262_7b3ed086  Room Admin 2018-01-11 00:09:00   \n",
              "16215  __export__.temp_log_147650_344507e9  Room Admin 2018-01-11 00:13:00   \n",
              "16214  __export__.temp_log_139505_cd77d7f9  Room Admin 2018-01-11 00:23:00   \n",
              "\n",
              "       temp out/in  year  month  day  day_name  hours  minutes  \n",
              "16218    32     In  2018      1   11  Thursday      0        6  \n",
              "16217    40    Out  2018      1   11  Thursday      0        7  \n",
              "16216    39    Out  2018      1   11  Thursday      0        9  \n",
              "16215    40    Out  2018      1   11  Thursday      0       13  \n",
              "16214    40    Out  2018      1   11  Thursday      0       23  "
            ],
            "text/html": [
              "\n",
              "  <div id=\"df-7744f898-d824-4555-aad2-ab01df923a2e\">\n",
              "    <div class=\"colab-df-container\">\n",
              "      <div>\n",
              "<style scoped>\n",
              "    .dataframe tbody tr th:only-of-type {\n",
              "        vertical-align: middle;\n",
              "    }\n",
              "\n",
              "    .dataframe tbody tr th {\n",
              "        vertical-align: top;\n",
              "    }\n",
              "\n",
              "    .dataframe thead th {\n",
              "        text-align: right;\n",
              "    }\n",
              "</style>\n",
              "<table border=\"1\" class=\"dataframe\">\n",
              "  <thead>\n",
              "    <tr style=\"text-align: right;\">\n",
              "      <th></th>\n",
              "      <th>id</th>\n",
              "      <th>room_id/id</th>\n",
              "      <th>noted_date</th>\n",
              "      <th>temp</th>\n",
              "      <th>out/in</th>\n",
              "      <th>year</th>\n",
              "      <th>month</th>\n",
              "      <th>day</th>\n",
              "      <th>day_name</th>\n",
              "      <th>hours</th>\n",
              "      <th>minutes</th>\n",
              "    </tr>\n",
              "  </thead>\n",
              "  <tbody>\n",
              "    <tr>\n",
              "      <th>16218</th>\n",
              "      <td>__export__.temp_log_126924_cb744837</td>\n",
              "      <td>Room Admin</td>\n",
              "      <td>2018-01-11 00:06:00</td>\n",
              "      <td>32</td>\n",
              "      <td>In</td>\n",
              "      <td>2018</td>\n",
              "      <td>1</td>\n",
              "      <td>11</td>\n",
              "      <td>Thursday</td>\n",
              "      <td>0</td>\n",
              "      <td>6</td>\n",
              "    </tr>\n",
              "    <tr>\n",
              "      <th>16217</th>\n",
              "      <td>__export__.temp_log_146101_e61c18d4</td>\n",
              "      <td>Room Admin</td>\n",
              "      <td>2018-01-11 00:07:00</td>\n",
              "      <td>40</td>\n",
              "      <td>Out</td>\n",
              "      <td>2018</td>\n",
              "      <td>1</td>\n",
              "      <td>11</td>\n",
              "      <td>Thursday</td>\n",
              "      <td>0</td>\n",
              "      <td>7</td>\n",
              "    </tr>\n",
              "    <tr>\n",
              "      <th>16216</th>\n",
              "      <td>__export__.temp_log_111262_7b3ed086</td>\n",
              "      <td>Room Admin</td>\n",
              "      <td>2018-01-11 00:09:00</td>\n",
              "      <td>39</td>\n",
              "      <td>Out</td>\n",
              "      <td>2018</td>\n",
              "      <td>1</td>\n",
              "      <td>11</td>\n",
              "      <td>Thursday</td>\n",
              "      <td>0</td>\n",
              "      <td>9</td>\n",
              "    </tr>\n",
              "    <tr>\n",
              "      <th>16215</th>\n",
              "      <td>__export__.temp_log_147650_344507e9</td>\n",
              "      <td>Room Admin</td>\n",
              "      <td>2018-01-11 00:13:00</td>\n",
              "      <td>40</td>\n",
              "      <td>Out</td>\n",
              "      <td>2018</td>\n",
              "      <td>1</td>\n",
              "      <td>11</td>\n",
              "      <td>Thursday</td>\n",
              "      <td>0</td>\n",
              "      <td>13</td>\n",
              "    </tr>\n",
              "    <tr>\n",
              "      <th>16214</th>\n",
              "      <td>__export__.temp_log_139505_cd77d7f9</td>\n",
              "      <td>Room Admin</td>\n",
              "      <td>2018-01-11 00:23:00</td>\n",
              "      <td>40</td>\n",
              "      <td>Out</td>\n",
              "      <td>2018</td>\n",
              "      <td>1</td>\n",
              "      <td>11</td>\n",
              "      <td>Thursday</td>\n",
              "      <td>0</td>\n",
              "      <td>23</td>\n",
              "    </tr>\n",
              "  </tbody>\n",
              "</table>\n",
              "</div>\n",
              "      <button class=\"colab-df-convert\" onclick=\"convertToInteractive('df-7744f898-d824-4555-aad2-ab01df923a2e')\"\n",
              "              title=\"Convert this dataframe to an interactive table.\"\n",
              "              style=\"display:none;\">\n",
              "        \n",
              "  <svg xmlns=\"http://www.w3.org/2000/svg\" height=\"24px\"viewBox=\"0 0 24 24\"\n",
              "       width=\"24px\">\n",
              "    <path d=\"M0 0h24v24H0V0z\" fill=\"none\"/>\n",
              "    <path d=\"M18.56 5.44l.94 2.06.94-2.06 2.06-.94-2.06-.94-.94-2.06-.94 2.06-2.06.94zm-11 1L8.5 8.5l.94-2.06 2.06-.94-2.06-.94L8.5 2.5l-.94 2.06-2.06.94zm10 10l.94 2.06.94-2.06 2.06-.94-2.06-.94-.94-2.06-.94 2.06-2.06.94z\"/><path d=\"M17.41 7.96l-1.37-1.37c-.4-.4-.92-.59-1.43-.59-.52 0-1.04.2-1.43.59L10.3 9.45l-7.72 7.72c-.78.78-.78 2.05 0 2.83L4 21.41c.39.39.9.59 1.41.59.51 0 1.02-.2 1.41-.59l7.78-7.78 2.81-2.81c.8-.78.8-2.07 0-2.86zM5.41 20L4 18.59l7.72-7.72 1.47 1.35L5.41 20z\"/>\n",
              "  </svg>\n",
              "      </button>\n",
              "      \n",
              "  <style>\n",
              "    .colab-df-container {\n",
              "      display:flex;\n",
              "      flex-wrap:wrap;\n",
              "      gap: 12px;\n",
              "    }\n",
              "\n",
              "    .colab-df-convert {\n",
              "      background-color: #E8F0FE;\n",
              "      border: none;\n",
              "      border-radius: 50%;\n",
              "      cursor: pointer;\n",
              "      display: none;\n",
              "      fill: #1967D2;\n",
              "      height: 32px;\n",
              "      padding: 0 0 0 0;\n",
              "      width: 32px;\n",
              "    }\n",
              "\n",
              "    .colab-df-convert:hover {\n",
              "      background-color: #E2EBFA;\n",
              "      box-shadow: 0px 1px 2px rgba(60, 64, 67, 0.3), 0px 1px 3px 1px rgba(60, 64, 67, 0.15);\n",
              "      fill: #174EA6;\n",
              "    }\n",
              "\n",
              "    [theme=dark] .colab-df-convert {\n",
              "      background-color: #3B4455;\n",
              "      fill: #D2E3FC;\n",
              "    }\n",
              "\n",
              "    [theme=dark] .colab-df-convert:hover {\n",
              "      background-color: #434B5C;\n",
              "      box-shadow: 0px 1px 3px 1px rgba(0, 0, 0, 0.15);\n",
              "      filter: drop-shadow(0px 1px 2px rgba(0, 0, 0, 0.3));\n",
              "      fill: #FFFFFF;\n",
              "    }\n",
              "  </style>\n",
              "\n",
              "      <script>\n",
              "        const buttonEl =\n",
              "          document.querySelector('#df-7744f898-d824-4555-aad2-ab01df923a2e button.colab-df-convert');\n",
              "        buttonEl.style.display =\n",
              "          google.colab.kernel.accessAllowed ? 'block' : 'none';\n",
              "\n",
              "        async function convertToInteractive(key) {\n",
              "          const element = document.querySelector('#df-7744f898-d824-4555-aad2-ab01df923a2e');\n",
              "          const dataTable =\n",
              "            await google.colab.kernel.invokeFunction('convertToInteractive',\n",
              "                                                     [key], {});\n",
              "          if (!dataTable) return;\n",
              "\n",
              "          const docLinkHtml = 'Like what you see? Visit the ' +\n",
              "            '<a target=\"_blank\" href=https://colab.research.google.com/notebooks/data_table.ipynb>data table notebook</a>'\n",
              "            + ' to learn more about interactive tables.';\n",
              "          element.innerHTML = '';\n",
              "          dataTable['output_type'] = 'display_data';\n",
              "          await google.colab.output.renderOutput(dataTable, element);\n",
              "          const docLink = document.createElement('div');\n",
              "          docLink.innerHTML = docLinkHtml;\n",
              "          element.appendChild(docLink);\n",
              "        }\n",
              "      </script>\n",
              "    </div>\n",
              "  </div>\n",
              "  "
            ]
          },
          "metadata": {},
          "execution_count": 10
        }
      ]
    },
    {
      "cell_type": "markdown",
      "metadata": {
        "id": "hrkRuMQ7tbEd"
      },
      "source": [
        "---"
      ]
    },
    {
      "cell_type": "markdown",
      "metadata": {
        "id": "4mxjGIHQtkl4"
      },
      "source": [
        "#### 7. Line Plots & Box Plots\n",
        "\n",
        "Create line plots and box plots for the temperature recorded in the indoor and outdoor settings."
      ]
    },
    {
      "cell_type": "code",
      "metadata": {
        "id": "v4WEDxIbZjcW",
        "colab": {
          "base_uri": "https://localhost:8080/",
          "height": 206
        },
        "outputId": "d9c620c5-8e14-4ba3-d84c-9415a056033d"
      },
      "source": [
        "# Create a DataFrame for the indoor temperature records using 'df[df['out/in'] == 'In']'.\n",
        "indoor_df=df[df['out/in']=='In']\n",
        "indoor_df.head()"
      ],
      "execution_count": null,
      "outputs": [
        {
          "output_type": "execute_result",
          "data": {
            "text/plain": [
              "                                        id  room_id/id          noted_date  \\\n",
              "16218  __export__.temp_log_126924_cb744837  Room Admin 2018-01-11 00:06:00   \n",
              "16186  __export__.temp_log_128828_1f2ca69c  Room Admin 2018-01-11 02:12:00   \n",
              "16176  __export__.temp_log_142141_12bd7384  Room Admin 2018-01-11 02:44:00   \n",
              "16174  __export__.temp_log_106858_cdf61926  Room Admin 2018-01-11 02:46:00   \n",
              "16167  __export__.temp_log_120068_a0fc57cc  Room Admin 2018-01-11 02:58:00   \n",
              "\n",
              "       temp out/in  year  month  day  day_name  hours  minutes  \n",
              "16218    32     In  2018      1   11  Thursday      0        6  \n",
              "16186    32     In  2018      1   11  Thursday      2       12  \n",
              "16176    32     In  2018      1   11  Thursday      2       44  \n",
              "16174    32     In  2018      1   11  Thursday      2       46  \n",
              "16167    31     In  2018      1   11  Thursday      2       58  "
            ],
            "text/html": [
              "\n",
              "  <div id=\"df-653bebc2-0c32-44c1-8599-65b4ba3b8b45\">\n",
              "    <div class=\"colab-df-container\">\n",
              "      <div>\n",
              "<style scoped>\n",
              "    .dataframe tbody tr th:only-of-type {\n",
              "        vertical-align: middle;\n",
              "    }\n",
              "\n",
              "    .dataframe tbody tr th {\n",
              "        vertical-align: top;\n",
              "    }\n",
              "\n",
              "    .dataframe thead th {\n",
              "        text-align: right;\n",
              "    }\n",
              "</style>\n",
              "<table border=\"1\" class=\"dataframe\">\n",
              "  <thead>\n",
              "    <tr style=\"text-align: right;\">\n",
              "      <th></th>\n",
              "      <th>id</th>\n",
              "      <th>room_id/id</th>\n",
              "      <th>noted_date</th>\n",
              "      <th>temp</th>\n",
              "      <th>out/in</th>\n",
              "      <th>year</th>\n",
              "      <th>month</th>\n",
              "      <th>day</th>\n",
              "      <th>day_name</th>\n",
              "      <th>hours</th>\n",
              "      <th>minutes</th>\n",
              "    </tr>\n",
              "  </thead>\n",
              "  <tbody>\n",
              "    <tr>\n",
              "      <th>16218</th>\n",
              "      <td>__export__.temp_log_126924_cb744837</td>\n",
              "      <td>Room Admin</td>\n",
              "      <td>2018-01-11 00:06:00</td>\n",
              "      <td>32</td>\n",
              "      <td>In</td>\n",
              "      <td>2018</td>\n",
              "      <td>1</td>\n",
              "      <td>11</td>\n",
              "      <td>Thursday</td>\n",
              "      <td>0</td>\n",
              "      <td>6</td>\n",
              "    </tr>\n",
              "    <tr>\n",
              "      <th>16186</th>\n",
              "      <td>__export__.temp_log_128828_1f2ca69c</td>\n",
              "      <td>Room Admin</td>\n",
              "      <td>2018-01-11 02:12:00</td>\n",
              "      <td>32</td>\n",
              "      <td>In</td>\n",
              "      <td>2018</td>\n",
              "      <td>1</td>\n",
              "      <td>11</td>\n",
              "      <td>Thursday</td>\n",
              "      <td>2</td>\n",
              "      <td>12</td>\n",
              "    </tr>\n",
              "    <tr>\n",
              "      <th>16176</th>\n",
              "      <td>__export__.temp_log_142141_12bd7384</td>\n",
              "      <td>Room Admin</td>\n",
              "      <td>2018-01-11 02:44:00</td>\n",
              "      <td>32</td>\n",
              "      <td>In</td>\n",
              "      <td>2018</td>\n",
              "      <td>1</td>\n",
              "      <td>11</td>\n",
              "      <td>Thursday</td>\n",
              "      <td>2</td>\n",
              "      <td>44</td>\n",
              "    </tr>\n",
              "    <tr>\n",
              "      <th>16174</th>\n",
              "      <td>__export__.temp_log_106858_cdf61926</td>\n",
              "      <td>Room Admin</td>\n",
              "      <td>2018-01-11 02:46:00</td>\n",
              "      <td>32</td>\n",
              "      <td>In</td>\n",
              "      <td>2018</td>\n",
              "      <td>1</td>\n",
              "      <td>11</td>\n",
              "      <td>Thursday</td>\n",
              "      <td>2</td>\n",
              "      <td>46</td>\n",
              "    </tr>\n",
              "    <tr>\n",
              "      <th>16167</th>\n",
              "      <td>__export__.temp_log_120068_a0fc57cc</td>\n",
              "      <td>Room Admin</td>\n",
              "      <td>2018-01-11 02:58:00</td>\n",
              "      <td>31</td>\n",
              "      <td>In</td>\n",
              "      <td>2018</td>\n",
              "      <td>1</td>\n",
              "      <td>11</td>\n",
              "      <td>Thursday</td>\n",
              "      <td>2</td>\n",
              "      <td>58</td>\n",
              "    </tr>\n",
              "  </tbody>\n",
              "</table>\n",
              "</div>\n",
              "      <button class=\"colab-df-convert\" onclick=\"convertToInteractive('df-653bebc2-0c32-44c1-8599-65b4ba3b8b45')\"\n",
              "              title=\"Convert this dataframe to an interactive table.\"\n",
              "              style=\"display:none;\">\n",
              "        \n",
              "  <svg xmlns=\"http://www.w3.org/2000/svg\" height=\"24px\"viewBox=\"0 0 24 24\"\n",
              "       width=\"24px\">\n",
              "    <path d=\"M0 0h24v24H0V0z\" fill=\"none\"/>\n",
              "    <path d=\"M18.56 5.44l.94 2.06.94-2.06 2.06-.94-2.06-.94-.94-2.06-.94 2.06-2.06.94zm-11 1L8.5 8.5l.94-2.06 2.06-.94-2.06-.94L8.5 2.5l-.94 2.06-2.06.94zm10 10l.94 2.06.94-2.06 2.06-.94-2.06-.94-.94-2.06-.94 2.06-2.06.94z\"/><path d=\"M17.41 7.96l-1.37-1.37c-.4-.4-.92-.59-1.43-.59-.52 0-1.04.2-1.43.59L10.3 9.45l-7.72 7.72c-.78.78-.78 2.05 0 2.83L4 21.41c.39.39.9.59 1.41.59.51 0 1.02-.2 1.41-.59l7.78-7.78 2.81-2.81c.8-.78.8-2.07 0-2.86zM5.41 20L4 18.59l7.72-7.72 1.47 1.35L5.41 20z\"/>\n",
              "  </svg>\n",
              "      </button>\n",
              "      \n",
              "  <style>\n",
              "    .colab-df-container {\n",
              "      display:flex;\n",
              "      flex-wrap:wrap;\n",
              "      gap: 12px;\n",
              "    }\n",
              "\n",
              "    .colab-df-convert {\n",
              "      background-color: #E8F0FE;\n",
              "      border: none;\n",
              "      border-radius: 50%;\n",
              "      cursor: pointer;\n",
              "      display: none;\n",
              "      fill: #1967D2;\n",
              "      height: 32px;\n",
              "      padding: 0 0 0 0;\n",
              "      width: 32px;\n",
              "    }\n",
              "\n",
              "    .colab-df-convert:hover {\n",
              "      background-color: #E2EBFA;\n",
              "      box-shadow: 0px 1px 2px rgba(60, 64, 67, 0.3), 0px 1px 3px 1px rgba(60, 64, 67, 0.15);\n",
              "      fill: #174EA6;\n",
              "    }\n",
              "\n",
              "    [theme=dark] .colab-df-convert {\n",
              "      background-color: #3B4455;\n",
              "      fill: #D2E3FC;\n",
              "    }\n",
              "\n",
              "    [theme=dark] .colab-df-convert:hover {\n",
              "      background-color: #434B5C;\n",
              "      box-shadow: 0px 1px 3px 1px rgba(0, 0, 0, 0.15);\n",
              "      filter: drop-shadow(0px 1px 2px rgba(0, 0, 0, 0.3));\n",
              "      fill: #FFFFFF;\n",
              "    }\n",
              "  </style>\n",
              "\n",
              "      <script>\n",
              "        const buttonEl =\n",
              "          document.querySelector('#df-653bebc2-0c32-44c1-8599-65b4ba3b8b45 button.colab-df-convert');\n",
              "        buttonEl.style.display =\n",
              "          google.colab.kernel.accessAllowed ? 'block' : 'none';\n",
              "\n",
              "        async function convertToInteractive(key) {\n",
              "          const element = document.querySelector('#df-653bebc2-0c32-44c1-8599-65b4ba3b8b45');\n",
              "          const dataTable =\n",
              "            await google.colab.kernel.invokeFunction('convertToInteractive',\n",
              "                                                     [key], {});\n",
              "          if (!dataTable) return;\n",
              "\n",
              "          const docLinkHtml = 'Like what you see? Visit the ' +\n",
              "            '<a target=\"_blank\" href=https://colab.research.google.com/notebooks/data_table.ipynb>data table notebook</a>'\n",
              "            + ' to learn more about interactive tables.';\n",
              "          element.innerHTML = '';\n",
              "          dataTable['output_type'] = 'display_data';\n",
              "          await google.colab.output.renderOutput(dataTable, element);\n",
              "          const docLink = document.createElement('div');\n",
              "          docLink.innerHTML = docLinkHtml;\n",
              "          element.appendChild(docLink);\n",
              "        }\n",
              "      </script>\n",
              "    </div>\n",
              "  </div>\n",
              "  "
            ]
          },
          "metadata": {},
          "execution_count": 42
        }
      ]
    },
    {
      "cell_type": "code",
      "metadata": {
        "id": "yEnfbJ5fZ3gq",
        "colab": {
          "base_uri": "https://localhost:8080/",
          "height": 345
        },
        "outputId": "1b38bbaf-2940-48a1-997a-18c0f01199c0"
      },
      "source": [
        "# Create a time series line plot for the indoor temperature records.\n",
        "plt.style.use('seaborn-dark')\n",
        "plt.figure(figsize=(18,5))\n",
        "plt.plot(indoor_df['noted_date'],indoor_df['temp'])\n",
        "plt.xlabel('DATE')\n",
        "plt.ylabel('Temperature')\n",
        "plt.title('Indoor Temprature Records')\n",
        "plt.grid()\n",
        "plt.show()\n",
        "\n",
        "# pass the 'noted_date' and 'temp' columns of the indoor temperature Dataframe inside the plot() function. \n"
      ],
      "execution_count": null,
      "outputs": [
        {
          "output_type": "display_data",
          "data": {
            "text/plain": [
              "<Figure size 1296x360 with 1 Axes>"
            ],
            "image/png": "[encoded data removed]"
          },
          "metadata": {}
        }
      ]
    },
    {
      "cell_type": "markdown",
      "metadata": {
        "id": "zNTFGBYQIFWG"
      },
      "source": [
        "**Hint**: You can create a time series line plot for the indoor temperature records by passing the `noted_date` and `temp` columns of the `in_temp_df` (DataFrame for the indoor temperature records) as parameters inside the `plot()` function."
      ]
    },
    {
      "cell_type": "code",
      "metadata": {
        "id": "XYXRcAN6axgX",
        "colab": {
          "base_uri": "https://localhost:8080/",
          "height": 206
        },
        "outputId": "4fda1b2c-df55-4c9d-811d-64dec19f0329"
      },
      "source": [
        "# Create a DataFrame for the outdoor temperature records.\n",
        "outdoor_df=df[df['out/in']=='Out']\n",
        "outdoor_df.head()"
      ],
      "execution_count": null,
      "outputs": [
        {
          "output_type": "execute_result",
          "data": {
            "text/plain": [
              "                                        id  room_id/id          noted_date  \\\n",
              "16217  __export__.temp_log_146101_e61c18d4  Room Admin 2018-01-11 00:07:00   \n",
              "16216  __export__.temp_log_111262_7b3ed086  Room Admin 2018-01-11 00:09:00   \n",
              "16215  __export__.temp_log_147650_344507e9  Room Admin 2018-01-11 00:13:00   \n",
              "16214  __export__.temp_log_139505_cd77d7f9  Room Admin 2018-01-11 00:23:00   \n",
              "16213  __export__.temp_log_127981_32c85db7  Room Admin 2018-01-11 00:25:00   \n",
              "\n",
              "       temp out/in  year  month  day  day_name  hours  minutes  \n",
              "16217    40    Out  2018      1   11  Thursday      0        7  \n",
              "16216    39    Out  2018      1   11  Thursday      0        9  \n",
              "16215    40    Out  2018      1   11  Thursday      0       13  \n",
              "16214    40    Out  2018      1   11  Thursday      0       23  \n",
              "16213    40    Out  2018      1   11  Thursday      0       25  "
            ],
            "text/html": [
              "\n",
              "  <div id=\"df-d9e784cf-951a-4c58-94ed-6f0c346b4b83\">\n",
              "    <div class=\"colab-df-container\">\n",
              "      <div>\n",
              "<style scoped>\n",
              "    .dataframe tbody tr th:only-of-type {\n",
              "        vertical-align: middle;\n",
              "    }\n",
              "\n",
              "    .dataframe tbody tr th {\n",
              "        vertical-align: top;\n",
              "    }\n",
              "\n",
              "    .dataframe thead th {\n",
              "        text-align: right;\n",
              "    }\n",
              "</style>\n",
              "<table border=\"1\" class=\"dataframe\">\n",
              "  <thead>\n",
              "    <tr style=\"text-align: right;\">\n",
              "      <th></th>\n",
              "      <th>id</th>\n",
              "      <th>room_id/id</th>\n",
              "      <th>noted_date</th>\n",
              "      <th>temp</th>\n",
              "      <th>out/in</th>\n",
              "      <th>year</th>\n",
              "      <th>month</th>\n",
              "      <th>day</th>\n",
              "      <th>day_name</th>\n",
              "      <th>hours</th>\n",
              "      <th>minutes</th>\n",
              "    </tr>\n",
              "  </thead>\n",
              "  <tbody>\n",
              "    <tr>\n",
              "      <th>16217</th>\n",
              "      <td>__export__.temp_log_146101_e61c18d4</td>\n",
              "      <td>Room Admin</td>\n",
              "      <td>2018-01-11 00:07:00</td>\n",
              "      <td>40</td>\n",
              "      <td>Out</td>\n",
              "      <td>2018</td>\n",
              "      <td>1</td>\n",
              "      <td>11</td>\n",
              "      <td>Thursday</td>\n",
              "      <td>0</td>\n",
              "      <td>7</td>\n",
              "    </tr>\n",
              "    <tr>\n",
              "      <th>16216</th>\n",
              "      <td>__export__.temp_log_111262_7b3ed086</td>\n",
              "      <td>Room Admin</td>\n",
              "      <td>2018-01-11 00:09:00</td>\n",
              "      <td>39</td>\n",
              "      <td>Out</td>\n",
              "      <td>2018</td>\n",
              "      <td>1</td>\n",
              "      <td>11</td>\n",
              "      <td>Thursday</td>\n",
              "      <td>0</td>\n",
              "      <td>9</td>\n",
              "    </tr>\n",
              "    <tr>\n",
              "      <th>16215</th>\n",
              "      <td>__export__.temp_log_147650_344507e9</td>\n",
              "      <td>Room Admin</td>\n",
              "      <td>2018-01-11 00:13:00</td>\n",
              "      <td>40</td>\n",
              "      <td>Out</td>\n",
              "      <td>2018</td>\n",
              "      <td>1</td>\n",
              "      <td>11</td>\n",
              "      <td>Thursday</td>\n",
              "      <td>0</td>\n",
              "      <td>13</td>\n",
              "    </tr>\n",
              "    <tr>\n",
              "      <th>16214</th>\n",
              "      <td>__export__.temp_log_139505_cd77d7f9</td>\n",
              "      <td>Room Admin</td>\n",
              "      <td>2018-01-11 00:23:00</td>\n",
              "      <td>40</td>\n",
              "      <td>Out</td>\n",
              "      <td>2018</td>\n",
              "      <td>1</td>\n",
              "      <td>11</td>\n",
              "      <td>Thursday</td>\n",
              "      <td>0</td>\n",
              "      <td>23</td>\n",
              "    </tr>\n",
              "    <tr>\n",
              "      <th>16213</th>\n",
              "      <td>__export__.temp_log_127981_32c85db7</td>\n",
              "      <td>Room Admin</td>\n",
              "      <td>2018-01-11 00:25:00</td>\n",
              "      <td>40</td>\n",
              "      <td>Out</td>\n",
              "      <td>2018</td>\n",
              "      <td>1</td>\n",
              "      <td>11</td>\n",
              "      <td>Thursday</td>\n",
              "      <td>0</td>\n",
              "      <td>25</td>\n",
              "    </tr>\n",
              "  </tbody>\n",
              "</table>\n",
              "</div>\n",
              "      <button class=\"colab-df-convert\" onclick=\"convertToInteractive('df-d9e784cf-951a-4c58-94ed-6f0c346b4b83')\"\n",
              "              title=\"Convert this dataframe to an interactive table.\"\n",
              "              style=\"display:none;\">\n",
              "        \n",
              "  <svg xmlns=\"http://www.w3.org/2000/svg\" height=\"24px\"viewBox=\"0 0 24 24\"\n",
              "       width=\"24px\">\n",
              "    <path d=\"M0 0h24v24H0V0z\" fill=\"none\"/>\n",
              "    <path d=\"M18.56 5.44l.94 2.06.94-2.06 2.06-.94-2.06-.94-.94-2.06-.94 2.06-2.06.94zm-11 1L8.5 8.5l.94-2.06 2.06-.94-2.06-.94L8.5 2.5l-.94 2.06-2.06.94zm10 10l.94 2.06.94-2.06 2.06-.94-2.06-.94-.94-2.06-.94 2.06-2.06.94z\"/><path d=\"M17.41 7.96l-1.37-1.37c-.4-.4-.92-.59-1.43-.59-.52 0-1.04.2-1.43.59L10.3 9.45l-7.72 7.72c-.78.78-.78 2.05 0 2.83L4 21.41c.39.39.9.59 1.41.59.51 0 1.02-.2 1.41-.59l7.78-7.78 2.81-2.81c.8-.78.8-2.07 0-2.86zM5.41 20L4 18.59l7.72-7.72 1.47 1.35L5.41 20z\"/>\n",
              "  </svg>\n",
              "      </button>\n",
              "      \n",
              "  <style>\n",
              "    .colab-df-container {\n",
              "      display:flex;\n",
              "      flex-wrap:wrap;\n",
              "      gap: 12px;\n",
              "    }\n",
              "\n",
              "    .colab-df-convert {\n",
              "      background-color: #E8F0FE;\n",
              "      border: none;\n",
              "      border-radius: 50%;\n",
              "      cursor: pointer;\n",
              "      display: none;\n",
              "      fill: #1967D2;\n",
              "      height: 32px;\n",
              "      padding: 0 0 0 0;\n",
              "      width: 32px;\n",
              "    }\n",
              "\n",
              "    .colab-df-convert:hover {\n",
              "      background-color: #E2EBFA;\n",
              "      box-shadow: 0px 1px 2px rgba(60, 64, 67, 0.3), 0px 1px 3px 1px rgba(60, 64, 67, 0.15);\n",
              "      fill: #174EA6;\n",
              "    }\n",
              "\n",
              "    [theme=dark] .colab-df-convert {\n",
              "      background-color: #3B4455;\n",
              "      fill: #D2E3FC;\n",
              "    }\n",
              "\n",
              "    [theme=dark] .colab-df-convert:hover {\n",
              "      background-color: #434B5C;\n",
              "      box-shadow: 0px 1px 3px 1px rgba(0, 0, 0, 0.15);\n",
              "      filter: drop-shadow(0px 1px 2px rgba(0, 0, 0, 0.3));\n",
              "      fill: #FFFFFF;\n",
              "    }\n",
              "  </style>\n",
              "\n",
              "      <script>\n",
              "        const buttonEl =\n",
              "          document.querySelector('#df-d9e784cf-951a-4c58-94ed-6f0c346b4b83 button.colab-df-convert');\n",
              "        buttonEl.style.display =\n",
              "          google.colab.kernel.accessAllowed ? 'block' : 'none';\n",
              "\n",
              "        async function convertToInteractive(key) {\n",
              "          const element = document.querySelector('#df-d9e784cf-951a-4c58-94ed-6f0c346b4b83');\n",
              "          const dataTable =\n",
              "            await google.colab.kernel.invokeFunction('convertToInteractive',\n",
              "                                                     [key], {});\n",
              "          if (!dataTable) return;\n",
              "\n",
              "          const docLinkHtml = 'Like what you see? Visit the ' +\n",
              "            '<a target=\"_blank\" href=https://colab.research.google.com/notebooks/data_table.ipynb>data table notebook</a>'\n",
              "            + ' to learn more about interactive tables.';\n",
              "          element.innerHTML = '';\n",
              "          dataTable['output_type'] = 'display_data';\n",
              "          await google.colab.output.renderOutput(dataTable, element);\n",
              "          const docLink = document.createElement('div');\n",
              "          docLink.innerHTML = docLinkHtml;\n",
              "          element.appendChild(docLink);\n",
              "        }\n",
              "      </script>\n",
              "    </div>\n",
              "  </div>\n",
              "  "
            ]
          },
          "metadata": {},
          "execution_count": 46
        }
      ]
    },
    {
      "cell_type": "code",
      "metadata": {
        "id": "n7ZcEf6Ja2Xo",
        "colab": {
          "base_uri": "https://localhost:8080/",
          "height": 397
        },
        "outputId": "e01a6a7a-91b3-4342-d6b1-18785211f0c4"
      },
      "source": [
        "# Create a time series line plot for the outdoor temperature records.\n",
        "plt.style.use('seaborn-dark')\n",
        "plt.figure(figsize=(18,5))\n",
        "plt.plot(outdoor_df['noted_date'],outdoor_df['temp'],'c')\n",
        "plt.xlabel('DATE')\n",
        "plt.ylabel('Temprature')\n",
        "plt.title('Outdoor Temprature Records')\n",
        "plt.grid()\n",
        "plt.show()"
      ],
      "execution_count": null,
      "outputs": [
        {
          "output_type": "stream",
          "name": "stderr",
          "text": [
            "WARNING:matplotlib.legend:No handles with labels found to put in legend.\n"
          ]
        },
        {
          "output_type": "display_data",
          "data": {
            "text/plain": [
              "<Figure size 1296x360 with 1 Axes>"
            ],
            "image/png": "[encoded data removed]"
          },
          "metadata": {}
        }
      ]
    },
    {
      "cell_type": "code",
      "metadata": {
        "id": "Ocq-kgdQbIcq",
        "colab": {
          "base_uri": "https://localhost:8080/",
          "height": 380
        },
        "outputId": "8259c12c-5c1b-4add-a7b4-8fc10da8e787"
      },
      "source": [
        "# Compare the time series line plots for both the indoor and outdoor temperature records.\n",
        "plt.style.use('seaborn-dark')\n",
        "plt.figure(figsize=(10,5))\n",
        "plt.plot(indoor_df['noted_date'],indoor_df['temp'])\n",
        "plt.plot(outdoor_df['noted_date'],outdoor_df['temp'])\n",
        "plt.title('Comparing Indoor and Outdoor Temp. Records')\n",
        "plt.xlabel('Date')\n",
        "plt.ylabel('Temprature')\n",
        "plt.grid()\n",
        "plt.show()"
      ],
      "execution_count": null,
      "outputs": [
        {
          "output_type": "display_data",
          "data": {
            "text/plain": [
              "<Figure size 720x360 with 1 Axes>"
            ],
            "image/png": "[encoded data removed]"
          },
          "metadata": {}
        }
      ]
    },
    {
      "cell_type": "code",
      "metadata": {
        "id": "iYmjbmvsod5d",
        "colab": {
          "base_uri": "https://localhost:8080/",
          "height": 358
        },
        "outputId": "10d0b169-239b-42da-f184-ac40bef5f1ca"
      },
      "source": [
        "# Create a box plot to represent the distribution of indoor and outdoor temperatures for the whole year.\n",
        "data=[indoor_df['temp'],outdoor_df['temp']]\n",
        "plt.title('comparison of indoor and outdoor temp')\n",
        "plt.boxplot(data,patch_artist=True,labels=['indoor temp','outdoor temp'])\n",
        "plt.show()"
      ],
      "execution_count": null,
      "outputs": [
        {
          "output_type": "stream",
          "name": "stderr",
          "text": [
            "/usr/local/lib/python3.7/dist-packages/matplotlib/cbook/__init__.py:1376: VisibleDeprecationWarning: Creating an ndarray from ragged nested sequences (which is a list-or-tuple of lists-or-tuples-or ndarrays with different lengths or shapes) is deprecated. If you meant to do this, you must specify 'dtype=object' when creating the ndarray.\n",
            "  X = np.atleast_1d(X.T if isinstance(X, np.ndarray) else np.asarray(X))\n"
          ]
        },
        {
          "output_type": "display_data",
          "data": {
            "text/plain": [
              "<Figure size 432x288 with 1 Axes>"
            ],
            "image/png": "[encoded data removed]"
          },
          "metadata": {}
        }
      ]
    },
    {
      "cell_type": "markdown",
      "metadata": {
        "id": "t8KpqnWzwipX"
      },
      "source": [
        "---"
      ]
    },
    {
      "cell_type": "markdown",
      "metadata": {
        "id": "iDocSROFw6w-"
      },
      "source": [
        "#### 8. Grouping, Aggregation & More Plots\n",
        "\n",
        "Group the data by the indoor and outdoor temperatures. Also, get monthly mean, standard deviation, median, minimum and maximum values for both the indoor and outdoor groups.\n"
      ]
    },
    {
      "cell_type": "code",
      "metadata": {
        "id": "GRUIeXRTTXyT",
        "colab": {
          "base_uri": "https://localhost:8080/",
          "height": 486
        },
        "outputId": "5c69f326-e867-479a-9aee-bd5ca1a5340c"
      },
      "source": [
        "# Get the maximum and minimum temperatures for each day in each month.\n",
        "min_max_temp=df.groupby([df['month'],df['day']])\n",
        "min_max_temp\n",
        "\n",
        "min_max_temp.agg(func=('min','max','median'))"
      ],
      "execution_count": null,
      "outputs": [
        {
          "output_type": "execute_result",
          "data": {
            "text/plain": [
              "                   noted_date                                         temp  \\\n",
              "                          min                 max              median  min   \n",
              "month day                                                                    \n",
              "1     11  2018-01-11 00:06:00 2018-01-11 23:59:00 2018-01-11 12:07:00   29   \n",
              "      12  2018-01-12 00:00:00 2018-01-12 23:54:00 2018-01-12 13:19:00   34   \n",
              "2     8   2018-02-08 06:42:00 2018-02-08 06:45:00 2018-02-08 06:43:00   31   \n",
              "      11  2018-02-11 00:01:00 2018-02-11 23:59:00 2018-02-11 10:53:00   30   \n",
              "      12  2018-02-12 00:04:00 2018-02-12 23:58:00 2018-02-12 12:07:00   32   \n",
              "...                       ...                 ...                 ...  ...   \n",
              "11    28  2018-11-28 00:02:00 2018-11-28 23:59:00 2018-11-28 11:37:00   25   \n",
              "      29  2018-11-29 00:01:00 2018-11-29 23:54:00 2018-11-29 10:09:00   33   \n",
              "      30  2018-11-30 00:08:00 2018-11-30 23:58:00 2018-11-30 11:10:00   34   \n",
              "12    9   2018-12-09 00:00:00 2018-12-09 19:56:00 2018-12-09 03:37:00   26   \n",
              "      10  2018-12-10 00:01:00 2018-12-10 23:55:00 2018-12-10 09:02:00   30   \n",
              "\n",
              "                      year               hours            minutes             \n",
              "          max median   min   max  median   min max median     min max median  \n",
              "month day                                                                     \n",
              "1     11   48   43.0  2018  2018  2018.0     0  23   12.0       0  59   30.0  \n",
              "      12   43   37.0  2018  2018  2018.0     0  23   13.0       0  59   30.0  \n",
              "2     8    35   32.0  2018  2018  2018.0     6   6    6.0      42  45   43.0  \n",
              "      11   48   42.0  2018  2018  2018.0     0  23   10.0       0  59   31.0  \n",
              "      12   42   38.0  2018  2018  2018.0     0  23   12.0       0  59   28.0  \n",
              "...        ..    ...   ...   ...     ...   ...  ..    ...     ...  ..    ...  \n",
              "11    28   43   38.0  2018  2018  2018.0     0  23   11.0       0  59   28.0  \n",
              "      29   43   38.0  2018  2018  2018.0     0  23   10.0       0  59   28.0  \n",
              "      30   44   38.0  2018  2018  2018.0     0  23   11.0       0  59   29.5  \n",
              "12    9    35   29.0  2018  2018  2018.0     0  19    3.0       0  59   26.0  \n",
              "      10   49   45.0  2018  2018  2018.0     0  23    9.0       0  59   27.0  \n",
              "\n",
              "[86 rows x 15 columns]"
            ],
            "text/html": [
              "\n",
              "  <div id=\"df-72c152e0-3aa0-4e09-843d-490c74a6b760\">\n",
              "    <div class=\"colab-df-container\">\n",
              "      <div>\n",
              "<style scoped>\n",
              "    .dataframe tbody tr th:only-of-type {\n",
              "        vertical-align: middle;\n",
              "    }\n",
              "\n",
              "    .dataframe tbody tr th {\n",
              "        vertical-align: top;\n",
              "    }\n",
              "\n",
              "    .dataframe thead tr th {\n",
              "        text-align: left;\n",
              "    }\n",
              "\n",
              "    .dataframe thead tr:last-of-type th {\n",
              "        text-align: right;\n",
              "    }\n",
              "</style>\n",
              "<table border=\"1\" class=\"dataframe\">\n",
              "  <thead>\n",
              "    <tr>\n",
              "      <th></th>\n",
              "      <th></th>\n",
              "      <th colspan=\"3\" halign=\"left\">noted_date</th>\n",
              "      <th colspan=\"3\" halign=\"left\">temp</th>\n",
              "      <th colspan=\"3\" halign=\"left\">year</th>\n",
              "      <th colspan=\"3\" halign=\"left\">hours</th>\n",
              "      <th colspan=\"3\" halign=\"left\">minutes</th>\n",
              "    </tr>\n",
              "    <tr>\n",
              "      <th></th>\n",
              "      <th></th>\n",
              "      <th>min</th>\n",
              "      <th>max</th>\n",
              "      <th>median</th>\n",
              "      <th>min</th>\n",
              "      <th>max</th>\n",
              "      <th>median</th>\n",
              "      <th>min</th>\n",
              "      <th>max</th>\n",
              "      <th>median</th>\n",
              "      <th>min</th>\n",
              "      <th>max</th>\n",
              "      <th>median</th>\n",
              "      <th>min</th>\n",
              "      <th>max</th>\n",
              "      <th>median</th>\n",
              "    </tr>\n",
              "    <tr>\n",
              "      <th>month</th>\n",
              "      <th>day</th>\n",
              "      <th></th>\n",
              "      <th></th>\n",
              "      <th></th>\n",
              "      <th></th>\n",
              "      <th></th>\n",
              "      <th></th>\n",
              "      <th></th>\n",
              "      <th></th>\n",
              "      <th></th>\n",
              "      <th></th>\n",
              "      <th></th>\n",
              "      <th></th>\n",
              "      <th></th>\n",
              "      <th></th>\n",
              "      <th></th>\n",
              "    </tr>\n",
              "  </thead>\n",
              "  <tbody>\n",
              "    <tr>\n",
              "      <th rowspan=\"2\" valign=\"top\">1</th>\n",
              "      <th>11</th>\n",
              "      <td>2018-01-11 00:06:00</td>\n",
              "      <td>2018-01-11 23:59:00</td>\n",
              "      <td>2018-01-11 12:07:00</td>\n",
              "      <td>29</td>\n",
              "      <td>48</td>\n",
              "      <td>43.0</td>\n",
              "      <td>2018</td>\n",
              "      <td>2018</td>\n",
              "      <td>2018.0</td>\n",
              "      <td>0</td>\n",
              "      <td>23</td>\n",
              "      <td>12.0</td>\n",
              "      <td>0</td>\n",
              "      <td>59</td>\n",
              "      <td>30.0</td>\n",
              "    </tr>\n",
              "    <tr>\n",
              "      <th>12</th>\n",
              "      <td>2018-01-12 00:00:00</td>\n",
              "      <td>2018-01-12 23:54:00</td>\n",
              "      <td>2018-01-12 13:19:00</td>\n",
              "      <td>34</td>\n",
              "      <td>43</td>\n",
              "      <td>37.0</td>\n",
              "      <td>2018</td>\n",
              "      <td>2018</td>\n",
              "      <td>2018.0</td>\n",
              "      <td>0</td>\n",
              "      <td>23</td>\n",
              "      <td>13.0</td>\n",
              "      <td>0</td>\n",
              "      <td>59</td>\n",
              "      <td>30.0</td>\n",
              "    </tr>\n",
              "    <tr>\n",
              "      <th rowspan=\"3\" valign=\"top\">2</th>\n",
              "      <th>8</th>\n",
              "      <td>2018-02-08 06:42:00</td>\n",
              "      <td>2018-02-08 06:45:00</td>\n",
              "      <td>2018-02-08 06:43:00</td>\n",
              "      <td>31</td>\n",
              "      <td>35</td>\n",
              "      <td>32.0</td>\n",
              "      <td>2018</td>\n",
              "      <td>2018</td>\n",
              "      <td>2018.0</td>\n",
              "      <td>6</td>\n",
              "      <td>6</td>\n",
              "      <td>6.0</td>\n",
              "      <td>42</td>\n",
              "      <td>45</td>\n",
              "      <td>43.0</td>\n",
              "    </tr>\n",
              "    <tr>\n",
              "      <th>11</th>\n",
              "      <td>2018-02-11 00:01:00</td>\n",
              "      <td>2018-02-11 23:59:00</td>\n",
              "      <td>2018-02-11 10:53:00</td>\n",
              "      <td>30</td>\n",
              "      <td>48</td>\n",
              "      <td>42.0</td>\n",
              "      <td>2018</td>\n",
              "      <td>2018</td>\n",
              "      <td>2018.0</td>\n",
              "      <td>0</td>\n",
              "      <td>23</td>\n",
              "      <td>10.0</td>\n",
              "      <td>0</td>\n",
              "      <td>59</td>\n",
              "      <td>31.0</td>\n",
              "    </tr>\n",
              "    <tr>\n",
              "      <th>12</th>\n",
              "      <td>2018-02-12 00:04:00</td>\n",
              "      <td>2018-02-12 23:58:00</td>\n",
              "      <td>2018-02-12 12:07:00</td>\n",
              "      <td>32</td>\n",
              "      <td>42</td>\n",
              "      <td>38.0</td>\n",
              "      <td>2018</td>\n",
              "      <td>2018</td>\n",
              "      <td>2018.0</td>\n",
              "      <td>0</td>\n",
              "      <td>23</td>\n",
              "      <td>12.0</td>\n",
              "      <td>0</td>\n",
              "      <td>59</td>\n",
              "      <td>28.0</td>\n",
              "    </tr>\n",
              "    <tr>\n",
              "      <th>...</th>\n",
              "      <th>...</th>\n",
              "      <td>...</td>\n",
              "      <td>...</td>\n",
              "      <td>...</td>\n",
              "      <td>...</td>\n",
              "      <td>...</td>\n",
              "      <td>...</td>\n",
              "      <td>...</td>\n",
              "      <td>...</td>\n",
              "      <td>...</td>\n",
              "      <td>...</td>\n",
              "      <td>...</td>\n",
              "      <td>...</td>\n",
              "      <td>...</td>\n",
              "      <td>...</td>\n",
              "      <td>...</td>\n",
              "    </tr>\n",
              "    <tr>\n",
              "      <th rowspan=\"3\" valign=\"top\">11</th>\n",
              "      <th>28</th>\n",
              "      <td>2018-11-28 00:02:00</td>\n",
              "      <td>2018-11-28 23:59:00</td>\n",
              "      <td>2018-11-28 11:37:00</td>\n",
              "      <td>25</td>\n",
              "      <td>43</td>\n",
              "      <td>38.0</td>\n",
              "      <td>2018</td>\n",
              "      <td>2018</td>\n",
              "      <td>2018.0</td>\n",
              "      <td>0</td>\n",
              "      <td>23</td>\n",
              "      <td>11.0</td>\n",
              "      <td>0</td>\n",
              "      <td>59</td>\n",
              "      <td>28.0</td>\n",
              "    </tr>\n",
              "    <tr>\n",
              "      <th>29</th>\n",
              "      <td>2018-11-29 00:01:00</td>\n",
              "      <td>2018-11-29 23:54:00</td>\n",
              "      <td>2018-11-29 10:09:00</td>\n",
              "      <td>33</td>\n",
              "      <td>43</td>\n",
              "      <td>38.0</td>\n",
              "      <td>2018</td>\n",
              "      <td>2018</td>\n",
              "      <td>2018.0</td>\n",
              "      <td>0</td>\n",
              "      <td>23</td>\n",
              "      <td>10.0</td>\n",
              "      <td>0</td>\n",
              "      <td>59</td>\n",
              "      <td>28.0</td>\n",
              "    </tr>\n",
              "    <tr>\n",
              "      <th>30</th>\n",
              "      <td>2018-11-30 00:08:00</td>\n",
              "      <td>2018-11-30 23:58:00</td>\n",
              "      <td>2018-11-30 11:10:00</td>\n",
              "      <td>34</td>\n",
              "      <td>44</td>\n",
              "      <td>38.0</td>\n",
              "      <td>2018</td>\n",
              "      <td>2018</td>\n",
              "      <td>2018.0</td>\n",
              "      <td>0</td>\n",
              "      <td>23</td>\n",
              "      <td>11.0</td>\n",
              "      <td>0</td>\n",
              "      <td>59</td>\n",
              "      <td>29.5</td>\n",
              "    </tr>\n",
              "    <tr>\n",
              "      <th rowspan=\"2\" valign=\"top\">12</th>\n",
              "      <th>9</th>\n",
              "      <td>2018-12-09 00:00:00</td>\n",
              "      <td>2018-12-09 19:56:00</td>\n",
              "      <td>2018-12-09 03:37:00</td>\n",
              "      <td>26</td>\n",
              "      <td>35</td>\n",
              "      <td>29.0</td>\n",
              "      <td>2018</td>\n",
              "      <td>2018</td>\n",
              "      <td>2018.0</td>\n",
              "      <td>0</td>\n",
              "      <td>19</td>\n",
              "      <td>3.0</td>\n",
              "      <td>0</td>\n",
              "      <td>59</td>\n",
              "      <td>26.0</td>\n",
              "    </tr>\n",
              "    <tr>\n",
              "      <th>10</th>\n",
              "      <td>2018-12-10 00:01:00</td>\n",
              "      <td>2018-12-10 23:55:00</td>\n",
              "      <td>2018-12-10 09:02:00</td>\n",
              "      <td>30</td>\n",
              "      <td>49</td>\n",
              "      <td>45.0</td>\n",
              "      <td>2018</td>\n",
              "      <td>2018</td>\n",
              "      <td>2018.0</td>\n",
              "      <td>0</td>\n",
              "      <td>23</td>\n",
              "      <td>9.0</td>\n",
              "      <td>0</td>\n",
              "      <td>59</td>\n",
              "      <td>27.0</td>\n",
              "    </tr>\n",
              "  </tbody>\n",
              "</table>\n",
              "<p>86 rows × 15 columns</p>\n",
              "</div>\n",
              "      <button class=\"colab-df-convert\" onclick=\"convertToInteractive('df-72c152e0-3aa0-4e09-843d-490c74a6b760')\"\n",
              "              title=\"Convert this dataframe to an interactive table.\"\n",
              "              style=\"display:none;\">\n",
              "        \n",
              "  <svg xmlns=\"http://www.w3.org/2000/svg\" height=\"24px\"viewBox=\"0 0 24 24\"\n",
              "       width=\"24px\">\n",
              "    <path d=\"M0 0h24v24H0V0z\" fill=\"none\"/>\n",
              "    <path d=\"M18.56 5.44l.94 2.06.94-2.06 2.06-.94-2.06-.94-.94-2.06-.94 2.06-2.06.94zm-11 1L8.5 8.5l.94-2.06 2.06-.94-2.06-.94L8.5 2.5l-.94 2.06-2.06.94zm10 10l.94 2.06.94-2.06 2.06-.94-2.06-.94-.94-2.06-.94 2.06-2.06.94z\"/><path d=\"M17.41 7.96l-1.37-1.37c-.4-.4-.92-.59-1.43-.59-.52 0-1.04.2-1.43.59L10.3 9.45l-7.72 7.72c-.78.78-.78 2.05 0 2.83L4 21.41c.39.39.9.59 1.41.59.51 0 1.02-.2 1.41-.59l7.78-7.78 2.81-2.81c.8-.78.8-2.07 0-2.86zM5.41 20L4 18.59l7.72-7.72 1.47 1.35L5.41 20z\"/>\n",
              "  </svg>\n",
              "      </button>\n",
              "      \n",
              "  <style>\n",
              "    .colab-df-container {\n",
              "      display:flex;\n",
              "      flex-wrap:wrap;\n",
              "      gap: 12px;\n",
              "    }\n",
              "\n",
              "    .colab-df-convert {\n",
              "      background-color: #E8F0FE;\n",
              "      border: none;\n",
              "      border-radius: 50%;\n",
              "      cursor: pointer;\n",
              "      display: none;\n",
              "      fill: #1967D2;\n",
              "      height: 32px;\n",
              "      padding: 0 0 0 0;\n",
              "      width: 32px;\n",
              "    }\n",
              "\n",
              "    .colab-df-convert:hover {\n",
              "      background-color: #E2EBFA;\n",
              "      box-shadow: 0px 1px 2px rgba(60, 64, 67, 0.3), 0px 1px 3px 1px rgba(60, 64, 67, 0.15);\n",
              "      fill: #174EA6;\n",
              "    }\n",
              "\n",
              "    [theme=dark] .colab-df-convert {\n",
              "      background-color: #3B4455;\n",
              "      fill: #D2E3FC;\n",
              "    }\n",
              "\n",
              "    [theme=dark] .colab-df-convert:hover {\n",
              "      background-color: #434B5C;\n",
              "      box-shadow: 0px 1px 3px 1px rgba(0, 0, 0, 0.15);\n",
              "      filter: drop-shadow(0px 1px 2px rgba(0, 0, 0, 0.3));\n",
              "      fill: #FFFFFF;\n",
              "    }\n",
              "  </style>\n",
              "\n",
              "      <script>\n",
              "        const buttonEl =\n",
              "          document.querySelector('#df-72c152e0-3aa0-4e09-843d-490c74a6b760 button.colab-df-convert');\n",
              "        buttonEl.style.display =\n",
              "          google.colab.kernel.accessAllowed ? 'block' : 'none';\n",
              "\n",
              "        async function convertToInteractive(key) {\n",
              "          const element = document.querySelector('#df-72c152e0-3aa0-4e09-843d-490c74a6b760');\n",
              "          const dataTable =\n",
              "            await google.colab.kernel.invokeFunction('convertToInteractive',\n",
              "                                                     [key], {});\n",
              "          if (!dataTable) return;\n",
              "\n",
              "          const docLinkHtml = 'Like what you see? Visit the ' +\n",
              "            '<a target=\"_blank\" href=https://colab.research.google.com/notebooks/data_table.ipynb>data table notebook</a>'\n",
              "            + ' to learn more about interactive tables.';\n",
              "          element.innerHTML = '';\n",
              "          dataTable['output_type'] = 'display_data';\n",
              "          await google.colab.output.renderOutput(dataTable, element);\n",
              "          const docLink = document.createElement('div');\n",
              "          docLink.innerHTML = docLinkHtml;\n",
              "          element.appendChild(docLink);\n",
              "        }\n",
              "      </script>\n",
              "    </div>\n",
              "  </div>\n",
              "  "
            ]
          },
          "metadata": {},
          "execution_count": 99
        }
      ]
    },
    {
      "cell_type": "code",
      "metadata": {
        "id": "-6-bcg9gT49F",
        "colab": {
          "base_uri": "https://localhost:8080/",
          "height": 372
        },
        "outputId": "d871f1b6-b7e2-418a-90b6-dee138b0889a"
      },
      "source": [
        "# Create a bar plot for the monthly median indoor & outdoor temperatures in a single bar chart.\n",
        "plt.figure(figsize=(20,5))\n",
        "plt.title('Monthly median indoor and outdoor temperatures')\n",
        "sns.barplot(x='month',y='temp',hue='out/in',estimator=np.median,data=df)\n",
        "plt.show()"
      ],
      "execution_count": null,
      "outputs": [
        {
          "output_type": "display_data",
          "data": {
            "text/plain": [
              "<Figure size 1440x360 with 1 Axes>"
            ],
            "image/png": "[encoded data removed]"
          },
          "metadata": {}
        }
      ]
    },
    {
      "cell_type": "code",
      "metadata": {
        "id": "xE1B0jP6V-WI",
        "colab": {
          "base_uri": "https://localhost:8080/",
          "height": 337
        },
        "outputId": "d3610674-4acd-4919-8518-5b6e807832eb"
      },
      "source": [
        "# Create a line plot for the monthly median outdoor temperatures.\n",
        "plt.figure(figsize=(20,5))\n",
        "plt.style.use('seaborn-dark')\n",
        "plt.plot(outdoor_df['month'],outdoor_df['temp'])\n",
        "plt.grid()\n",
        "plt.show()"
      ],
      "execution_count": null,
      "outputs": [
        {
          "output_type": "display_data",
          "data": {
            "text/plain": [
              "<Figure size 1440x360 with 1 Axes>"
            ],
            "image/png": "[encoded data removed]"
          },
          "metadata": {}
        }
      ]
    },
    {
      "cell_type": "markdown",
      "metadata": {
        "id": "_Oh253fuAooa"
      },
      "source": [
        "---"
      ]
    }
  ]
}