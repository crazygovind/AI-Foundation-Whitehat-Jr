{
  "nbformat": 4,
  "nbformat_minor": 0,
  "metadata": {
    "colab": {
      "provenance": [],
      "include_colab_link": true
    },
    "kernelspec": {
      "name": "python3",
      "display_name": "Python 3"
    }
  },
  "cells": [
    {
      "cell_type": "markdown",
      "metadata": {
        "id": "view-in-github",
        "colab_type": "text"
      },
      "source": [
        "<a href=\"https://colab.research.google.com/github/crazygovind/AI-Foundation-Whitehat-Jr/blob/master/44_Project_EXPECTED_VALUE_%26_CONTINUOUS_PROBABILITY_26_1_22.ipynb\" target=\"_parent\"><img src=\"https://colab.research.google.com/assets/colab-badge.svg\" alt=\"Open In Colab\"/></a>"
      ]
    },
    {
      "cell_type": "markdown",
      "metadata": {
        "id": "YZnBY81YDCCr"
      },
      "source": [
        "### Instructions"
      ]
    },
    {
      "cell_type": "markdown",
      "metadata": {
        "id": "fIKnY8occu37"
      },
      "source": [
        "#### Goal of the Project\n",
        "\n",
        "This project is designed for you to practice and solve the activities that are based on the concepts covered in the following lessons:\n",
        "\n",
        "1. Probability Calculation For Gambling"
      ]
    },
    {
      "cell_type": "markdown",
      "metadata": {
        "id": "9oVvUZZCPxxl"
      },
      "source": [
        "---"
      ]
    },
    {
      "cell_type": "markdown",
      "metadata": {
        "id": "H0P9F3DUf8x2"
      },
      "source": [
        "### Activities\n",
        "\n",
        "\n",
        "  "
      ]
    },
    {
      "cell_type": "markdown",
      "metadata": {
        "id": "0dG-Pm9-UpYh"
      },
      "source": [
        "#### Activity 1: Calculate the Probability of a Random Variable\n",
        "\n",
        "Calculate the probability of solving 35 questions correctly by fluke in an MCQ test having 250 questions (each question have 4 options)."
      ]
    },
    {
      "cell_type": "markdown",
      "metadata": {
        "id": "lbkpfsH90fmX"
      },
      "source": [
        "**Steps to follow:**\n",
        "\n",
        "1. Create a function to calculate the factorial of a number. It takes an integer as an input for which the factorial value needs to be calculated.\n",
        "\n",
        "2. Create a function to calculate the probability of a random variable. It takes the total number of trials `num_trials`, a random variable `random_var` and the probability of success `prob_success` as inputs.\n",
        "\n",
        "   - First, calculate the value of ${}^nC_{r} = \\frac{n!}{(n - r)! \\times r!}$ and store in the `num_trials_choose_random_var` variable.\n",
        "\n",
        "   - Then calculate the probability of random variable $P(X = r) = {}^nC_r \\times s^r \\times f^{n - r}$ and store in the `prob_random_var` variable.\n",
        "\n",
        "   - The function returns the value of `prob_random_var`. \n",
        "\n",
        "   - Note that the probability of failure is `1 - prob_success`.\n",
        "\n"
      ]
    },
    {
      "cell_type": "code",
      "metadata": {
        "id": "yYlWfTFxUx8C"
      },
      "source": [
        "# Write your solution here\n",
        "# Function to calculate the factorial value of a number 'n'.\n",
        "def factorial(n):\n",
        "  factorial = 1\n",
        "  if n < 0:\n",
        "    return \"Undefined.\"\n",
        "  else:\n",
        "    while n> 0:\n",
        "      factorial *= n\n",
        "      n -= 1\n",
        "    return factorial\n",
        "\n",
        "# Function to calculate the probability of a random variable X = r.\n",
        "def prob_random_var(num_trials, random_var, prob_success):\n",
        "  num_trials_choose_random_var = factorial(num_trials) / ((factorial(num_trials - random_var)) * (factorial(random_var))) # nCr \n",
        "  prob_random_var = num_trials_choose_random_var * (prob_success ** random_var) * ((1 - prob_success) ** (num_trials - random_var))\n",
        "  return prob_random_var"
      ],
      "execution_count": 1,
      "outputs": []
    },
    {
      "cell_type": "code",
      "metadata": {
        "id": "UH49gwH01d6y",
        "outputId": "5f06d575-53dd-46e2-cb82-6e4887d8a507",
        "colab": {
          "base_uri": "https://localhost:8080/"
        }
      },
      "source": [
        "# The probability of solving say 35 questions correctly by fluke in an MCQ test having 250 questions\n",
        "prob_random_var(250,35,1/4)"
      ],
      "execution_count": 2,
      "outputs": [
        {
          "output_type": "execute_result",
          "data": {
            "text/plain": [
              "7.852228190689143e-06"
            ]
          },
          "metadata": {},
          "execution_count": 2
        }
      ]
    },
    {
      "cell_type": "markdown",
      "metadata": {
        "id": "IFCRnH0R7qxr"
      },
      "source": [
        "**Question**: What is the probability of solving say 35 questions correctly by fluke in an MCQ test having 250 questions?\n",
        "\n",
        "**Answers**: "
      ]
    },
    {
      "cell_type": "markdown",
      "metadata": {
        "id": "ftOXrP5NUzsZ"
      },
      "source": [
        "---"
      ]
    },
    {
      "cell_type": "markdown",
      "metadata": {
        "id": "BVT9G_baB1aq"
      },
      "source": [
        "#### Activity 2: Calculate the Expected Value\n",
        "\n",
        "Find out the average number of questions that can be solved correctly by fluke in an MCQ test having 300 questions."
      ]
    },
    {
      "cell_type": "code",
      "metadata": {
        "id": "0pIGxKG9B3mb",
        "outputId": "8f81cfa7-2ef3-43b3-ab50-477bfd36b6c6",
        "colab": {
          "base_uri": "https://localhost:8080/"
        }
      },
      "source": [
        "# Find the average number of questions that can be solved correctly by fluke in an MCQ test having 300 questions.\n",
        "import numpy as np\n",
        "rand_var=np.arange(0,301)\n",
        "prob_list=[prob_random_var(300,i,1/4)for i in range(0,301)]\n",
        "prob_array=np.array(prob_list)\n",
        "exp_value=np.sum(rand_var*prob_array)\n",
        "exp_value"
      ],
      "execution_count": null,
      "outputs": [
        {
          "output_type": "execute_result",
          "data": {
            "text/plain": [
              "75.0"
            ]
          },
          "metadata": {},
          "execution_count": 4
        }
      ]
    },
    {
      "cell_type": "markdown",
      "metadata": {
        "id": "vs0_a78w403t"
      },
      "source": [
        "**Question**: How many average number questions can be solved correctly by fluke in an MCQ test having 300 questions?\n",
        "\n",
        "**Answers**: "
      ]
    },
    {
      "cell_type": "markdown",
      "metadata": {
        "id": "5toUGCya4OR_"
      },
      "source": [
        "**Hints**:\n",
        "\n",
        "1. Use the concept of expected value. The expected value is the sum of the product of the random variables with their corresponding probabilities.\n",
        "\n",
        "2. Let $X$ be a random variable denoting $N$ events $x_1, x_2, x_3 \\dots x_N$ and let $p(x_1), p(x_2), p(x_3) \\dots p(x_N)$ be their corresponding probabilities, then the expected value $E(X)$ is given by \n",
        "\n",
        "$$E(X) = x_1 p(x_1) + x_2 p(x_2) + x_3 p(x_3) + \\dots + x_N p(x_N)$$\n"
      ]
    },
    {
      "cell_type": "markdown",
      "metadata": {
        "id": "IJIZASayCpEW"
      },
      "source": [
        "---"
      ]
    }
  ]
}