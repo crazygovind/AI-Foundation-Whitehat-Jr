{
  "nbformat": 4,
  "nbformat_minor": 0,
  "metadata": {
    "colab": {
      "provenance": [],
      "collapsed_sections": [],
      "include_colab_link": true
    },
    "kernelspec": {
      "name": "python3",
      "display_name": "Python 3"
    }
  },
  "cells": [
    {
      "cell_type": "markdown",
      "metadata": {
        "id": "view-in-github",
        "colab_type": "text"
      },
      "source": [
        "<a href=\"https://colab.research.google.com/github/crazygovind/AI-Foundation-Whitehat-Jr/blob/master/09_project_missing_num2021_10_26_govind.ipynb\" target=\"_parent\"><img src=\"https://colab.research.google.com/assets/colab-badge.svg\" alt=\"Open In Colab\"/></a>"
      ]
    },
    {
      "cell_type": "markdown",
      "metadata": {
        "id": "YZnBY81YDCCr"
      },
      "source": [
        "### Instructions"
      ]
    },
    {
      "cell_type": "markdown",
      "metadata": {
        "id": "bEyBzxYRhrLG"
      },
      "source": [
        "#### Goal of the Project\n",
        "\n",
        "This project is designed for you to practice and solve the activities that are based on the concepts covered in the following lessons:\n",
        "\n",
        "1. While Loop, Data-Type Conversion and Conditional Statements.\n",
        "\n",
        "2. Python Lists II.\n"
      ]
    },
    {
      "cell_type": "markdown",
      "metadata": {
        "id": "QXQquY5XHddZ"
      },
      "source": [
        "---"
      ]
    },
    {
      "cell_type": "markdown",
      "metadata": {
        "id": "K-elDvhbnJsG"
      },
      "source": [
        "### Activities"
      ]
    },
    {
      "cell_type": "markdown",
      "metadata": {
        "id": "q4fH06mIjuK3"
      },
      "source": [
        "#### Activity 1: Print the series\n",
        "\n",
        "Write a function to print the following series of a number:\n",
        "\n",
        "Series of numbers: 0, 1, 1, 2, 3, 5, 8, 13, 21, 34, ...\n",
        "\n",
        "In this series:\n",
        "\n",
        "  - The next number is found by adding the two numbers before it.\n",
        "\n",
        "  For example: Number '2'  is obtained by adding the two numbers before it i.e.1+1.\n",
        "Similarly, Number '3'  is obtained by adding the two numbers before it i.e.1+2.\n",
        "And Number '5' is obtained after adding 2+3, and so on.\n",
        "\n",
        "**Example**:\n",
        "\n",
        "  - series of 3: 0, 1, 1. Here 3 is considered as the length of the series.  \n",
        "\n",
        "  - series of 7: 0, 1, 1, 2, 3, 5, 8. Here 7 is considered as the length of the series.  \n"
      ]
    },
    {
      "cell_type": "markdown",
      "metadata": {
        "id": "8BF4prSow1C2"
      },
      "source": [
        "#### **Steps to obtain the above series:**\n",
        "\n",
        "- **Step 1:** Create a function `series()` and pass `n` as a parameter. Here `n` represents the length of the series.\n",
        "\n",
        "- **Step 2**: Initialize the first two values of the series in the variables `n1` and `n2`.\n",
        "\n",
        "- **Step 3**: Initialize the `count` variable with a value of `0` which gets incremented further in the `while` loop till the length of the series. \n",
        "\n",
        "- **Step 4**: If `n` is less than or equal to `0` then prompt a message saying **Please enter a positive integer**. \n",
        "\n",
        "- **Step 5**: If the number `n` is greater than 0, run a `while` loop such that the loop iterates until the condition `count < n` is `True`.\n",
        "\n",
        "- **Step 6**: Inside this `while` loop, perform the following tasks:\n",
        "\n",
        "    1.  Print the value stored in variable `n1`.\n",
        "    2.  Create a temporary variable `nth`. Store the addition of `n1` and `n2` in `nth` i.e. `nth=n1+n2`.\n",
        "    3.  Assign the value of `n2` to `n1` and `nth` to `n2`.\n",
        "    4.  Update the value of `count` variable by incrementing it by `1`.\n",
        "\n",
        "- **Step 7:** Call the `series()` function and pass a number as the parameter. This number indicates the length of the series."
      ]
    },
    {
      "cell_type": "code",
      "metadata": {
        "id": "4EAoTskqg041",
        "colab": {
          "base_uri": "https://localhost:8080/"
        },
        "outputId": "cb1cbc55-4bdf-4b28-c362-43206e9be1c9"
      },
      "source": [
        "# Write your solution here\n",
        "# Step 1: Create a function 'series(n)'\n",
        "def series(n):\n",
        "  # Step 2: Initialize 'n1' and 'n2' variables\n",
        "  n1=0\n",
        "  n2=1\n",
        "  # Step 3: Initialize 'count' variable\n",
        "  count=0\n",
        "  # Step 4: Check whether 'n'<=0\n",
        "  if n<=0 :  \n",
        "    print('please enter a positive number')\n",
        "    # Step 5: Run a while loop till 'count' < 'n'\n",
        "  else :\n",
        "    while count<0:\n",
        "    # Perform Step 6 \n",
        "      print(n1)\n",
        "      nth=n1+n2\n",
        "      n1=n2\n",
        "      n2=nth\n",
        "      count=count+1\n",
        "    print(count)\n",
        "# Step 7: Call 'series()' function\n",
        "series(5)"
      ],
      "execution_count": null,
      "outputs": [
        {
          "output_type": "stream",
          "name": "stdout",
          "text": [
            "0\n"
          ]
        }
      ]
    },
    {
      "cell_type": "markdown",
      "metadata": {
        "id": "xJlPs9X9oeRw"
      },
      "source": [
        "---"
      ]
    },
    {
      "cell_type": "markdown",
      "metadata": {
        "id": "qA-b1CdeofKc"
      },
      "source": [
        "#### Activity 2: Find the missing number\n",
        "\n",
        "Create a function that takes a list of numbers between `1` and `10` (excluding one number) and returns the missing number.\n",
        "\n",
        "**Notes:**\n",
        "\n",
        "- The list of numbers will be unsorted (not in order).\n",
        "\n",
        "- Only one number will be missing.\n",
        "\n",
        "Examples\n",
        "```\n",
        "missing_num([1, 2, 3, 4, 6, 7, 8, 9, 10]) ➞ 5\n",
        "\n",
        "missing_num([7, 2, 3, 6, 5, 9, 1, 4, 8]) ➞ 10\n",
        "\n",
        "missing_num([10, 5, 1, 2, 4, 6, 8, 3, 9]) ➞ 7\n",
        "```\n",
        "\n"
      ]
    },
    {
      "cell_type": "markdown",
      "metadata": {
        "id": "j394zDxR0gem"
      },
      "source": [
        "#### Steps to solve the above problem\n",
        "\n",
        "- **Step 1:** Create a function `missing_num()` and pass `lst` as a parameter inside this function, where `lst` is the list of numbers from `1 - 10` with one missing number.  \n",
        "\n",
        "- **Step 2**: Run a `for` loop in range `1 - 11` i.e. from 1 to 10. Inside the `for` loop, check whether the number `n` is present in the list `lst` using an `if` condition.\n",
        "\n",
        "- **Step 3**: Inside the `for` loop, check whether each number is present in list `lst` using an `if` condition and `in` and `not in` operator. If the number is not present in the list `lst[]`, then print that number in the output."
      ]
    },
    {
      "cell_type": "code",
      "metadata": {
        "id": "AtvPTG3kpBoS",
        "colab": {
          "base_uri": "https://localhost:8080/"
        },
        "outputId": "e7789c98-3b37-4dee-ecb6-a1c61ec7852d"
      },
      "source": [
        "# Write a program to find the missing number in the list\n",
        "def missing_num():\n",
        "  lst=[1,2,3,4,5,6,7,9]\n",
        "  for n in range(1,11):\n",
        "    if n not in lst :\n",
        "      print(n)\n",
        "missing_num()"
      ],
      "execution_count": null,
      "outputs": [
        {
          "output_type": "stream",
          "name": "stdout",
          "text": [
            "8\n",
            "10\n"
          ]
        }
      ]
    },
    {
      "cell_type": "markdown",
      "metadata": {
        "id": "KOVBiUSMzut1"
      },
      "source": [
        "---"
      ]
    }
  ]
}