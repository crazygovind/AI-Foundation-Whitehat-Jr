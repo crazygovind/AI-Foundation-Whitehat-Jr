{
  "nbformat": 4,
  "nbformat_minor": 0,
  "metadata": {
    "colab": {
      "provenance": [],
      "include_colab_link": true
    },
    "kernelspec": {
      "name": "python3",
      "display_name": "Python 3"
    }
  },
  "cells": [
    {
      "cell_type": "markdown",
      "metadata": {
        "id": "view-in-github",
        "colab_type": "text"
      },
      "source": [
        "<a href=\"https://colab.research.google.com/github/crazygovind/AI-Foundation-Whitehat-Jr/blob/master/43_Project_BINOMIAL_DISTRIBUTION_04_02_2022.ipynb\" target=\"_parent\"><img src=\"https://colab.research.google.com/assets/colab-badge.svg\" alt=\"Open In Colab\"/></a>"
      ]
    },
    {
      "cell_type": "markdown",
      "metadata": {
        "id": "YZnBY81YDCCr"
      },
      "source": [
        "### Instructions"
      ]
    },
    {
      "cell_type": "markdown",
      "metadata": {
        "id": "fIKnY8occu37"
      },
      "source": [
        "#### Goal of the Project\n",
        "\n",
        "This project is designed for you to practice and solve the activities that are based on the concepts covered in the following lesson:\n",
        "\n",
        "1. Random Variable & Binomial Distribution\n"
      ]
    },
    {
      "cell_type": "markdown",
      "metadata": {
        "id": "BBqkpH4_Doqe"
      },
      "source": [
        "---"
      ]
    },
    {
      "cell_type": "markdown",
      "metadata": {
        "id": "H0P9F3DUf8x2"
      },
      "source": [
        "### Activities\n",
        "\n",
        "\n",
        "  "
      ]
    },
    {
      "cell_type": "markdown",
      "metadata": {
        "id": "BVT9G_baB1aq"
      },
      "source": [
        "#### Activity 1: Probability of Resolving 1 Crime Case\n",
        "\n",
        "Suppose, according to the latest police reports, 80% of all petty crimes are unresolved, and in your town, at least three of such petty crimes are committed. The three crimes are all independent of each other. \n",
        "\n",
        "From the given information, what is the **probability that one of the three crimes will be resolved**?"
      ]
    },
    {
      "cell_type": "code",
      "metadata": {
        "id": "sZvijSsU4Zvt",
        "colab": {
          "base_uri": "https://localhost:8080/"
        },
        "outputId": "5f66878a-e8c0-49d4-c567-18de70a5b801"
      },
      "source": [
        "# Calculate the probability that one of the three crimes will be resolved\n",
        "prob_solved=0.2\n",
        "prob_unsolved=0.8\n",
        "\n",
        "# Trial 1: Solved  1𝑠𝑡 , Unsolved  2𝑛𝑑 , and Unsolved  3𝑟𝑑 \n",
        "prob1=prob_solved*prob_unsolved*prob_unsolved\n",
        "\n",
        "# Trial 2: Unsolved  1𝑠𝑡 , Solved  2𝑛𝑑 , and Unsolved  3𝑟𝑑 \n",
        "prob2=prob_unsolved*prob_solved*prob_unsolved\n",
        "\n",
        "# Trial 3: Unsolved  1𝑠𝑡 , Unsolved  2𝑛𝑑 , and Solved  3𝑟𝑑 \n",
        "prob3=prob_unsolved*prob_unsolved*prob_solved\n",
        "\n",
        "# trial_1 + trial_2 + trial_3 is the probability that one of the three crimes will be resolved\n",
        "prob=(prob1+prob2+prob3)\n",
        "prob"
      ],
      "execution_count": 1,
      "outputs": [
        {
          "output_type": "execute_result",
          "data": {
            "text/plain": [
              "0.3840000000000001"
            ]
          },
          "metadata": {},
          "execution_count": 1
        }
      ]
    },
    {
      "cell_type": "markdown",
      "metadata": {
        "id": "WzKmiPWtRAwN"
      },
      "source": [
        "**Hints**: The probability of resolving one of the three crimes is, \n",
        "\n",
        "$$P(X = 1) = P(\\{1, 2', 3'\\}) + P(\\{2, 1', 3'\\}) + P(\\{3, 1', 2'\\})$$\n",
        "\n",
        "**Trial 1**: Solved $1^{st}$, Unsolved $2^{nd}$, and Unsolved $3^{rd}$\n",
        "\n",
        "**Trial 2**: Unsolved $1^{st}$, Solved $2^{nd}$, and Unsolved $3^{rd}$\n",
        "\n",
        "**Trial 3**: Unsolved $1^{st}$, Unsolved $2^{nd}$, and Solved $3^{rd}$\n",
        "\n",
        "The probability of resolving one one of the three crimes = $P(Trial 1) + P(Trial 2) + P(Trial 3)$."
      ]
    },
    {
      "cell_type": "markdown",
      "metadata": {
        "id": "s6pIT3UXWoqx"
      },
      "source": [
        "---"
      ]
    },
    {
      "cell_type": "markdown",
      "metadata": {
        "id": "Na5VLA3GuU4M"
      },
      "source": [
        "#### Activity 2: Probability of Resolving 2 Crime Cases\n",
        "\n",
        "From the information given in **Activity 1**, calculate the **probability that two of the three crimes will be resolved**?"
      ]
    },
    {
      "cell_type": "code",
      "metadata": {
        "id": "AQTbnSy9uwoh",
        "colab": {
          "base_uri": "https://localhost:8080/"
        },
        "outputId": "0e7784e3-a0c9-4879-9ddd-fe2c7cd47bac"
      },
      "source": [
        "# Calculate the probability that two of the three crimes will be resolved\n",
        "# Trial 1: Solved  1𝑠𝑡 , Solved  2𝑛𝑑 , and Unsolved  3𝑟𝑑 \n",
        "prob1=prob_solved*prob_solved*prob_unsolved\n",
        "# Trial 2: Unsolved  1𝑠𝑡 , Solved  2𝑛𝑑 , and Solved  3𝑟𝑑 \n",
        "prob2=prob_unsolved*prob_solved*prob_solved\n",
        "\n",
        "# Trial 3: Solved  1𝑠𝑡 , Unsolved  2𝑛𝑑 , and Solved  3𝑟𝑑 \n",
        "prob3=prob_solved*prob_unsolved*prob_solved\n",
        "\n",
        "# trial_1 + trial_2 + trial_3 is the probability that two of the three crimes will be resolved\n",
        "prob_total=(prob1+prob2+prob3)\n",
        "prob_total"
      ],
      "execution_count": 2,
      "outputs": [
        {
          "output_type": "execute_result",
          "data": {
            "text/plain": [
              "0.09600000000000003"
            ]
          },
          "metadata": {},
          "execution_count": 2
        }
      ]
    },
    {
      "cell_type": "markdown",
      "metadata": {
        "id": "JNmJve-ruqaO"
      },
      "source": [
        "**Hints**: The probability of resolving one of the three crimes is, \n",
        "\n",
        "$$P(X = 1) = P(\\{1, 2, 3'\\}) + P(\\{2, 1', 3\\}) + P(\\{3, 1, 2'\\})$$\n",
        "\n",
        "**Trial 1**: Solved $1^{st}$, Solved $2^{nd}$, and Unsolved $3^{rd}$\n",
        "\n",
        "**Trial 2**: Unsolved $1^{st}$, Solved $2^{nd}$, and Solved $3^{rd}$\n",
        "\n",
        "**Trial 3**: Solved $1^{st}$, Unsolved $2^{nd}$, and Solved $3^{rd}$\n",
        "\n",
        "The probability of resolving one one of the three crimes = $P(Trial 1) + P(Trial 2) + P(Trial 3)$."
      ]
    },
    {
      "cell_type": "markdown",
      "metadata": {
        "id": "IJIZASayCpEW"
      },
      "source": [
        "---"
      ]
    }
  ]
}