{
  "nbformat": 4,
  "nbformat_minor": 0,
  "metadata": {
    "colab": {
      "provenance": [],
      "include_colab_link": true
    },
    "kernelspec": {
      "name": "python3",
      "display_name": "Python 3"
    }
  },
  "cells": [
    {
      "cell_type": "markdown",
      "metadata": {
        "id": "view-in-github",
        "colab_type": "text"
      },
      "source": [
        "<a href=\"https://colab.research.google.com/github/crazygovind/AI-Foundation-Whitehat-Jr/blob/master/46_PROJECT_OOP_INHERITANCE_Govind_31_01_22.ipynb\" target=\"_parent\"><img src=\"https://colab.research.google.com/assets/colab-badge.svg\" alt=\"Open In Colab\"/></a>"
      ]
    },
    {
      "cell_type": "markdown",
      "metadata": {
        "id": "UYmMpXkNw9I6"
      },
      "source": [
        "### Instructions"
      ]
    },
    {
      "cell_type": "markdown",
      "metadata": {
        "id": "PaanjkTewd2U"
      },
      "source": [
        "---"
      ]
    },
    {
      "cell_type": "markdown",
      "metadata": {
        "id": "64Zy490qzVsZ"
      },
      "source": [
        "#### Goal of the Project\n",
        "\n",
        "This project is designed for you to practice and solve the activities that are based on the concepts covered in the following lessons:\n",
        "\n",
        " 1. Classes and Objects \n",
        "\n",
        " 2. Inheritance"
      ]
    },
    {
      "cell_type": "markdown",
      "metadata": {
        "id": "8BgExNKi1khe"
      },
      "source": [
        "---"
      ]
    },
    {
      "cell_type": "markdown",
      "metadata": {
        "id": "2i36Yv3-MPY5"
      },
      "source": [
        "### Problem Statement \n",
        "\n",
        "\n",
        "An **Atom** is the smallest unit of matter that retains all of the chemical properties. An **Element** is a substance that is made entirely from one type of atom. For example, the element hydrogen is made from atoms containing a single proton and a single electron. \n",
        "\n",
        "\n",
        "In this project, illustrate this hierarchical relationship of Atoms and  Elements using the concept of **Single-level Inheritance**.\n",
        "\n",
        "  "
      ]
    },
    {
      "cell_type": "markdown",
      "metadata": {
        "id": "vYChcL-WMRFV"
      },
      "source": [
        "---"
      ]
    },
    {
      "cell_type": "markdown",
      "metadata": {
        "id": "toeLx5LJpIV-"
      },
      "source": [
        "### List of Activities\n",
        "\n",
        "**Activity 1:** Create a parent class `Atom`.\n",
        "\n",
        "  \n",
        "**Activity 2:** Create an object of `Atom` class\n",
        "\n",
        "**Activity 3:** Create a child class `Element` which inherits from the parent class `Atom`.\n",
        "\n",
        "\n"
      ]
    },
    {
      "cell_type": "markdown",
      "metadata": {
        "id": "5JRlGIBRqCGl"
      },
      "source": [
        "---"
      ]
    },
    {
      "cell_type": "markdown",
      "metadata": {
        "id": "UCusTfW0tcxe"
      },
      "source": [
        "#### Activity 1: Create Parent class `Atom`\n",
        "\n",
        "The following are some of the common properties of an atom:\n",
        "\n",
        "|Property|Description|\n",
        "|-|-|\n",
        "|Name|Name of the atom|\n",
        "|Protons|Positively charged particles of an atom in the nucleus| \n",
        "|Electrons|Negatively charged particles of an atom in the outer shells|\n",
        "|Neutrons|Neutral or empty charged particles of an atom in the nucleus| \n",
        "|Electron Configuration|Distribution of electrons in the outer shells called orbits. For example: If there are 13 electrons, then the electron configuration will be [2, 8, 3].| \n",
        "|Atomic Mass| It is approximately equal to the sum of the number of protons and neutrons in an atom| \n",
        "|Net Charge|Difference in the number of protons and electrons.| \n"
      ]
    },
    {
      "cell_type": "markdown",
      "metadata": {
        "id": "j5RcICzZlJeZ"
      },
      "source": [
        "**Follow the steps given below:**\n",
        "\n",
        "1. Create a class `Atom`. The constructor of this class must initialise the following variables:\n",
        "\n",
        "- `name`: Name of the atom.\n",
        "\n",
        "- `electrons`: Number of electrons.\n",
        "\n",
        "- `protons`: Number of protons.\n",
        "\n",
        "- `neutrons`: Number of neutrons.\n",
        "\n",
        "- `electron_config`: A list representing distribution of electrons. \n",
        "\n",
        "   \n",
        "2. Add the following functions:\n",
        "\n",
        "- `calculate_atomic_mass()`: Inside this function, calculate the value of `atomic_mass` variable by adding the number of protons and neutrons.\n",
        "\n",
        "- `calculate_charge()`: Find the value of `net_charge` variable. Also, find out whether the atom is an anion, cation or neutral.\n",
        "\n",
        "**Note:** The net charge of an atom is always **zero** as the number of protons and neutrons is equal in an atom. If the atom gains an extra electron, it becomes negatively charged and is known as an **anion**. If it loses an electron, it becomes positively charged and is known as a **cation**. Thus, `net_charge` is calculated as:\n",
        "\n",
        "  `net_charge` = `protons` - `electrons`\n",
        "\n"
      ]
    },
    {
      "cell_type": "code",
      "metadata": {
        "id": "6RL71w3ntzcH"
      },
      "source": [
        "#  Create class 'Atom'. Add constructor and functions\n",
        "class Atom:\n",
        "  def __init__(self,name,electrons,protons,neutrons,electron_config):\n",
        "    self.name=name\n",
        "    self.electrons=electrons\n",
        "    self.protons=protons\n",
        "    self.neutrons=neutrons\n",
        "    self.electron_config=electron_config\n",
        "  def calculate_atomic_mass(self):\n",
        "    return self.protons+self.neutrons\n",
        "  def calculate_charge(self):\n",
        "    return self.protons-self.electrons\n"
      ],
      "execution_count": 1,
      "outputs": []
    },
    {
      "cell_type": "markdown",
      "metadata": {
        "id": "RETr5Tv1JBls"
      },
      "source": [
        "---"
      ]
    },
    {
      "cell_type": "markdown",
      "metadata": {
        "id": "z1v1uCgTXOj0"
      },
      "source": [
        "#### Activity 2: Create an Object of `Atom` Class\n",
        "\n",
        "Create an object of `Atom` class having following properties:\n",
        "\n",
        "|Property|Value|\n",
        "|-|-|\n",
        "|name|Aluminium|\n",
        "|protons|13| \n",
        "|electrons|13|\n",
        "|neutrons|14| \n",
        "|electron configuration|[2, 8, 3]| \n",
        "\n",
        "Call the functions to calculate the atomic mass and find out whether it is an anion, cation or neutral.\n",
        "\n"
      ]
    },
    {
      "cell_type": "code",
      "metadata": {
        "id": "cHEBBL8JOymV",
        "outputId": "279b2543-035e-4b3f-9aff-e9721c0873aa",
        "colab": {
          "base_uri": "https://localhost:8080/"
        }
      },
      "source": [
        "# Create an object of 'Atom' class and call the functions\n",
        "alum=Atom('Aluminium',13,13,14,[2,8,3])\n",
        "print(alum.calculate_atomic_mass())\n",
        "alum.calculate_charge()"
      ],
      "execution_count": 2,
      "outputs": [
        {
          "output_type": "stream",
          "name": "stdout",
          "text": [
            "27\n"
          ]
        },
        {
          "output_type": "execute_result",
          "data": {
            "text/plain": [
              "0"
            ]
          },
          "metadata": {},
          "execution_count": 2
        }
      ]
    },
    {
      "cell_type": "markdown",
      "metadata": {
        "id": "TjVfq3s_G8Z8"
      },
      "source": [
        "---"
      ]
    },
    {
      "cell_type": "markdown",
      "metadata": {
        "id": "J2x0URlDJrZH"
      },
      "source": [
        "#### Activity 3: Create a Child Class `Element`\n",
        "\n",
        "\n",
        "1. Create a child class `Element` which inherits from the parent class `Atom`. In addition to the properties of the parent class, the constructor of this class must initialise the following properties:\n",
        "\n",
        "  - `mass`: Mass of the element.\n",
        "\n",
        "  - `volume`: Volume of the element.\n",
        "\n",
        "  - `melting_point`:  Melting point of the element.\n",
        "\n",
        "  - `boiling_point`: Boiling point of the element.\n",
        "\n",
        "2. After creating the child class, create its object and pass the attribute values of your choice. You can also use the following example:\n",
        "\n",
        "\n",
        "|Property|Value|\n",
        "|-|-|\n",
        "|name|Aluminium|\n",
        "|protons|13| \n",
        "|electrons|10|\n",
        "|neutrons|14| \n",
        "|electron configuration|[2, 8]| \n",
        "|mass|10800 kg| \n",
        "|volume|4  $m^{3}$|\n",
        "|boiling_point|2,743 K| \n",
        "|melting_point|933.5K| \n",
        "\n",
        "3. Call the functions to calculate the atomic mass and find out whether it is an anion, cation or neutral.\n",
        "\n",
        "\n",
        "\n",
        "\n",
        "\n",
        "\n",
        "\n",
        "\n",
        "\n"
      ]
    },
    {
      "cell_type": "code",
      "metadata": {
        "id": "IjwoVwylMHpY",
        "outputId": "1438499d-e94c-4cca-e09c-8bf00ef309ba",
        "colab": {
          "base_uri": "https://localhost:8080/"
        }
      },
      "source": [
        "# Create child class 'Element' and call the functions using the object of 'Element' class\n",
        "class Element(Atom):\n",
        "  def __init__(self,name,electrons,protons,neutrons,electron_config,mass,volume,melting_point,boiling_point):\n",
        "    super().__init__(name,electrons,protons,neutrons,electron_config)\n",
        "    self.mass=mass\n",
        "    self.volume=volume\n",
        "    self.melting_point=melting_point\n",
        "    self.boiling_point=boiling_point\n",
        "\n",
        "aluminium=Element('Aluminium',10,13,14,[2,8],10800,4,933.5,2743)\n",
        "\n",
        "print(aluminium.calculate_atomic_mass(),aluminium.calculate_charge())\n"
      ],
      "execution_count": 4,
      "outputs": [
        {
          "output_type": "stream",
          "name": "stdout",
          "text": [
            "27 3\n"
          ]
        }
      ]
    },
    {
      "cell_type": "markdown",
      "metadata": {
        "id": "lBZS4GAudWGJ"
      },
      "source": [
        "---"
      ]
    }
  ]
}