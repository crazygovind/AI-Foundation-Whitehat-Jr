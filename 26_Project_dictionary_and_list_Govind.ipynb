{
  "nbformat": 4,
  "nbformat_minor": 0,
  "metadata": {
    "colab": {
      "provenance": [],
      "collapsed_sections": [],
      "include_colab_link": true
    },
    "kernelspec": {
      "name": "python3",
      "display_name": "Python 3"
    }
  },
  "cells": [
    {
      "cell_type": "markdown",
      "metadata": {
        "id": "view-in-github",
        "colab_type": "text"
      },
      "source": [
        "<a href=\"https://colab.research.google.com/github/crazygovind/AI-Foundation-Whitehat-Jr/blob/master/26_Project_dictionary_and_list_Govind.ipynb\" target=\"_parent\"><img src=\"https://colab.research.google.com/assets/colab-badge.svg\" alt=\"Open In Colab\"/></a>"
      ]
    },
    {
      "cell_type": "markdown",
      "metadata": {
        "id": "YZnBY81YDCCr"
      },
      "source": [
        "### Instructions"
      ]
    },
    {
      "cell_type": "markdown",
      "metadata": {
        "id": "fIKnY8occu37"
      },
      "source": [
        "#### Goal of the Project\n",
        "\n",
        "This project is designed for you to practice and solve the activities that are based on the concepts covered in the following lessons:\n",
        "\n",
        "1. Python Lists.\n",
        "\n",
        "2. Introduction to Python Dictionaries.\n",
        "\n",
        "\n"
      ]
    },
    {
      "cell_type": "markdown",
      "metadata": {
        "id": "y0PYG7lvA5P-"
      },
      "source": [
        "---"
      ]
    },
    {
      "cell_type": "markdown",
      "metadata": {
        "id": "H0P9F3DUf8x2"
      },
      "source": [
        "### Activities\n",
        "\n",
        "\n",
        "  "
      ]
    },
    {
      "cell_type": "markdown",
      "metadata": {
        "id": "BVT9G_baB1aq"
      },
      "source": [
        "#### Activity 1: Create a Python Dictionary\n",
        "\n",
        "Create a python dictionary which holds your friend's (minimum 5 friends) favourite hobby and their favourite sport.\n",
        "\n",
        "**Note** : Use the `name` of your friend as the `key` whose `value` will be another dictionary holding their favourite hobby and favourite sport. \n",
        "\n"
      ]
    },
    {
      "cell_type": "code",
      "metadata": {
        "id": "0pIGxKG9B3mb",
        "outputId": "5b2bdc99-7979-434f-cd65-6b91a593f192",
        "colab": {
          "base_uri": "https://localhost:8080/"
        }
      },
      "source": [
        "# Create a python dictionary holding your friend's favourite hobby and sport\n",
        "friends_hobbies={'Govind':{'hobby':'playing Chess','sport':'cricket'},\n",
        "                 'Tushar':{'hooby':'music','sport':\"cricket\"},\n",
        "                 'Abhishek':{'hobby':'reading','sport':'Football'},\n",
        "                 'Diksha':{'hobby':'television','sports':\"badminton\"},\n",
        "                 'Rutuja':{'hobby':'collections','sports':'Travelling'}}\n",
        "friends_hobbies"
      ],
      "execution_count": null,
      "outputs": [
        {
          "output_type": "execute_result",
          "data": {
            "text/plain": [
              "{'Abhishek': {'hobby': 'reading', 'sport': 'Football'},\n",
              " 'Diksha': {'hobby': 'television', 'sports': 'badminton'},\n",
              " 'Govind': {'hobby': 'playing Chess', 'sport': 'cricket'},\n",
              " 'Rutuja': {'hobby': 'collections', 'sports': 'Travelling'},\n",
              " 'Tushar': {'hooby': 'music', 'sport': 'cricket'}}"
            ]
          },
          "metadata": {},
          "execution_count": 1
        }
      ]
    },
    {
      "cell_type": "markdown",
      "metadata": {
        "id": "IJIZASayCpEW"
      },
      "source": [
        "---"
      ]
    },
    {
      "cell_type": "markdown",
      "metadata": {
        "id": "5kBinzKxn3hd"
      },
      "source": [
        "#### Activity 2: Create Beginning and End Pairs\n",
        "\n",
        "Write a function that pairs the first number in the list with the last number of the list, the second number with the second last number, and so on.\n",
        "\n",
        "**Constraints:**\n",
        "\n",
        "1. If the list has an odd length, repeat the middle number twice for the last pair.\n",
        "\n",
        "2. Return an empty list if the input is an empty list.\n",
        "\n",
        "**Examples:**\n",
        "```\n",
        "1. pair_numbers([1, 2, 3, 4, 5, 6, 7]) ➞ [[1, 7], [2, 6], [3, 5], [4, 4]]\n",
        "\n",
        "2. pair_numbers([1, 2, 3, 4, 5, 6]) ➞ [[1, 6], [2, 5], [3, 4]]\n",
        "\n",
        "3. pair_numbers([5, 9, 8, 1, 2]) ➞ [[5, 2], [9, 1], [8, 8]]\n",
        "\n",
        "4. pair_numbers([]) ➞ []\n",
        "```\n",
        "\n",
        "**Hint:** Find the middle number. Also, use `for` loop and `append()` function."
      ]
    },
    {
      "cell_type": "code",
      "metadata": {
        "id": "4gjDvOhzn6TL",
        "colab": {
          "base_uri": "https://localhost:8080/"
        },
        "outputId": "3c602023-02bd-456b-9b0d-d442756bea13"
      },
      "source": [
        "# Create beginning and end pairs\n",
        "def pairs(list1):\n",
        "  pairs=[]\n",
        "  mid=len(list1)//2\n",
        "  for i in range(mid):\n",
        "    pairs.append([list1[i],list1[-i-1]])\n",
        "  if len(list1)%2!=0:\n",
        "    pairs.append([list1[mid],list1[mid]])\n",
        "  return pairs\n",
        "pairs([1, 2, 3, 4, 5, 6, 7])\n"
      ],
      "execution_count": 8,
      "outputs": [
        {
          "output_type": "execute_result",
          "data": {
            "text/plain": [
              "[[1, 7], [2, 6], [3, 5], [4, 4]]"
            ]
          },
          "metadata": {},
          "execution_count": 8
        }
      ]
    },
    {
      "cell_type": "markdown",
      "metadata": {
        "id": "yzevp_Q_BZ4I"
      },
      "source": [
        "---"
      ]
    }
  ]
}