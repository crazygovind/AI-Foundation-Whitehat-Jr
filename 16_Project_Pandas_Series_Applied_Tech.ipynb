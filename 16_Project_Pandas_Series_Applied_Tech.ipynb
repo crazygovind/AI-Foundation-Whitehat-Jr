{
  "nbformat": 4,
  "nbformat_minor": 0,
  "metadata": {
    "colab": {
      "provenance": [],
      "collapsed_sections": [],
      "include_colab_link": true
    },
    "kernelspec": {
      "name": "python3",
      "display_name": "Python 3"
    }
  },
  "cells": [
    {
      "cell_type": "markdown",
      "metadata": {
        "id": "view-in-github",
        "colab_type": "text"
      },
      "source": [
        "<a href=\"https://colab.research.google.com/github/crazygovind/AI-Foundation-Whitehat-Jr/blob/master/16_Project_Pandas_Series_Applied_Tech.ipynb\" target=\"_parent\"><img src=\"https://colab.research.google.com/assets/colab-badge.svg\" alt=\"Open In Colab\"/></a>"
      ]
    },
    {
      "cell_type": "markdown",
      "metadata": {
        "id": "YZnBY81YDCCr"
      },
      "source": [
        "### Instructions"
      ]
    },
    {
      "cell_type": "markdown",
      "metadata": {
        "id": "bEyBzxYRhrLG"
      },
      "source": [
        "#### Goal of the Project\n",
        "\n",
        "This project is designed for you to practice and solve the activities that are based on the concepts covered in the following lessons:\n",
        "\n",
        "  1.  Python List II\n",
        "  3.  Pandas Series"
      ]
    },
    {
      "cell_type": "markdown",
      "metadata": {
        "id": "DPOFIO3EHncO"
      },
      "source": [
        "---"
      ]
    },
    {
      "cell_type": "markdown",
      "metadata": {
        "id": "8f6-uc0r9Q4h"
      },
      "source": [
        "### Activities"
      ]
    },
    {
      "cell_type": "markdown",
      "metadata": {
        "id": "q4fH06mIjuK3"
      },
      "source": [
        "#### Activity 1.1: Pandas Series containing Random Integers\n",
        "\n",
        "Create a Pandas series containing 40 random integers between 130 and 145. Print this series."
      ]
    },
    {
      "cell_type": "code",
      "metadata": {
        "id": "4EAoTskqg041",
        "colab": {
          "base_uri": "https://localhost:8080/"
        },
        "outputId": "e1dcd306-cc7e-4e4a-f766-f09d118cfcc7"
      },
      "source": [
        "# Create Pandas series\n",
        "import pandas as pd\n",
        "import random\n",
        "temp=pd.Series([random.randint(130,145)for i in range(40)])\n",
        "temp"
      ],
      "execution_count": 6,
      "outputs": [
        {
          "output_type": "execute_result",
          "data": {
            "text/plain": [
              "0     145\n",
              "1     132\n",
              "2     140\n",
              "3     144\n",
              "4     140\n",
              "5     133\n",
              "6     143\n",
              "7     143\n",
              "8     138\n",
              "9     136\n",
              "10    133\n",
              "11    140\n",
              "12    143\n",
              "13    139\n",
              "14    140\n",
              "15    138\n",
              "16    140\n",
              "17    131\n",
              "18    136\n",
              "19    140\n",
              "20    140\n",
              "21    135\n",
              "22    134\n",
              "23    145\n",
              "24    130\n",
              "25    137\n",
              "26    131\n",
              "27    138\n",
              "28    141\n",
              "29    142\n",
              "30    136\n",
              "31    144\n",
              "32    144\n",
              "33    144\n",
              "34    139\n",
              "35    139\n",
              "36    131\n",
              "37    134\n",
              "38    143\n",
              "39    134\n",
              "dtype: int64"
            ]
          },
          "metadata": {},
          "execution_count": 6
        }
      ]
    },
    {
      "cell_type": "markdown",
      "metadata": {
        "id": "H4JT7cLU21lW"
      },
      "source": [
        "---"
      ]
    },
    {
      "cell_type": "markdown",
      "metadata": {
        "id": "GaClyPgg0QAN"
      },
      "source": [
        "#### Activity 1.2: Calculate Mean and Median\n",
        "\n",
        "Calculate the mean value and median value of the above Pandas series."
      ]
    },
    {
      "cell_type": "code",
      "metadata": {
        "id": "2g8Itdkx0ZX5",
        "colab": {
          "base_uri": "https://localhost:8080/"
        },
        "outputId": "6e5213a3-bd09-48b8-9e9e-d56654dea1c9"
      },
      "source": [
        "# Calculate the mean and median value\n",
        "print(temp.mean())\n",
        "print(temp.median())"
      ],
      "execution_count": 8,
      "outputs": [
        {
          "output_type": "stream",
          "name": "stdout",
          "text": [
            "138.375\n",
            "139.0\n"
          ]
        }
      ]
    },
    {
      "cell_type": "markdown",
      "metadata": {
        "id": "2x82_lCI2yzK"
      },
      "source": [
        "---"
      ]
    },
    {
      "cell_type": "markdown",
      "metadata": {
        "id": "GzfCSkUq18qe"
      },
      "source": [
        "#### Activity 1.3: Find Minimum and Maximum\n",
        "\n",
        "Find the minimum and maximum value in the above Pandas series."
      ]
    },
    {
      "cell_type": "code",
      "metadata": {
        "id": "GOnSoo392Bmu",
        "colab": {
          "base_uri": "https://localhost:8080/"
        },
        "outputId": "9157ce1a-bdf5-429e-c1d8-250ec03e5dcc"
      },
      "source": [
        "# Find minimum and maximum value in the above Pandas series\n",
        "print(temp.min())\n",
        "print(temp.max())"
      ],
      "execution_count": 9,
      "outputs": [
        {
          "output_type": "stream",
          "name": "stdout",
          "text": [
            "130\n",
            "145\n"
          ]
        }
      ]
    },
    {
      "cell_type": "markdown",
      "metadata": {
        "id": "--MY5L-z2wFu"
      },
      "source": [
        "---"
      ]
    },
    {
      "cell_type": "markdown",
      "metadata": {
        "id": "yqhCzutD2WQ-"
      },
      "source": [
        "#### Activity 1.4: Arrange in Descending Order\n",
        "\n",
        "Arrange the values in descending order and print the last five rows of the series."
      ]
    },
    {
      "cell_type": "code",
      "metadata": {
        "id": "4c70mF7Y2dID",
        "colab": {
          "base_uri": "https://localhost:8080/"
        },
        "outputId": "71041e43-a11f-4426-deb9-2b14ab33fecd"
      },
      "source": [
        "# Arrange the values in descending order and print the last five rows\n",
        "temp.sort_values(ascending=False)"
      ],
      "execution_count": 10,
      "outputs": [
        {
          "output_type": "execute_result",
          "data": {
            "text/plain": [
              "0     145\n",
              "23    145\n",
              "3     144\n",
              "33    144\n",
              "32    144\n",
              "31    144\n",
              "38    143\n",
              "6     143\n",
              "7     143\n",
              "12    143\n",
              "29    142\n",
              "28    141\n",
              "16    140\n",
              "19    140\n",
              "20    140\n",
              "14    140\n",
              "2     140\n",
              "4     140\n",
              "11    140\n",
              "35    139\n",
              "13    139\n",
              "34    139\n",
              "15    138\n",
              "8     138\n",
              "27    138\n",
              "25    137\n",
              "9     136\n",
              "30    136\n",
              "18    136\n",
              "21    135\n",
              "22    134\n",
              "37    134\n",
              "39    134\n",
              "10    133\n",
              "5     133\n",
              "1     132\n",
              "26    131\n",
              "36    131\n",
              "17    131\n",
              "24    130\n",
              "dtype: int64"
            ]
          },
          "metadata": {},
          "execution_count": 10
        }
      ]
    },
    {
      "cell_type": "markdown",
      "metadata": {
        "id": "xJlPs9X9oeRw"
      },
      "source": [
        "---"
      ]
    },
    {
      "cell_type": "markdown",
      "metadata": {
        "id": "b4aeCDi0pkJz"
      },
      "source": [
        "#### Activity 2: Find whether Two Lines are Parallel\n",
        "\n",
        "Given two lines, determine whether they are parallel or not.\n",
        "Lines are represented using a list [a, b, c] which corresponds to the straight line $ax+by=c$.\n",
        "\n",
        "\n",
        "\n",
        "**Hints:**\n",
        "- Two lines are parallel if their slopes are equal. \n",
        "\n",
        "- A line in the form of $ax+by=c$ has slope $\\frac {-a}{b}$. \n",
        "- Ignore the minus $(-)$ sign. Just calculate $\\frac {a}{b}$ for both lines and find out whether they are equal or not.\n",
        "\n",
        "\n",
        "**Example:**\n",
        "```\n",
        "line1 = [2,3,4] \n",
        "line2 = [4,6,8]\n",
        "\n",
        "Are lines parallel?\n",
        "True\n",
        "```\n",
        " "
      ]
    },
    {
      "cell_type": "code",
      "metadata": {
        "id": "d5ufKLNYzsIl",
        "colab": {
          "base_uri": "https://localhost:8080/"
        },
        "outputId": "a19389be-485d-4a5e-dd54-ce24ae720bbf"
      },
      "source": [
        "# Two lines are parallel or not\n",
        "line1 = [2,3,4] \n",
        "line2 = [4,6,8]\n",
        "\n",
        "\n",
        "if line1[0]/line2[0] == line1[2]/line2[2]:\n",
        "  print('Line is Parallel')\n",
        "else :\n",
        "  print('Line is not Parallel')\n",
        "\n"
      ],
      "execution_count": 11,
      "outputs": [
        {
          "output_type": "stream",
          "name": "stdout",
          "text": [
            "Line is Parallel\n"
          ]
        }
      ]
    },
    {
      "cell_type": "markdown",
      "metadata": {
        "id": "HSz7jRSlGxIO"
      },
      "source": [
        "---"
      ]
    }
  ]
}